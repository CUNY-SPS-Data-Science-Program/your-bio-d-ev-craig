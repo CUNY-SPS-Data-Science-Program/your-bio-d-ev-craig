{
 "cells": [
  {
   "cell_type": "markdown",
   "id": "0cf8ec77",
   "metadata": {},
   "source": [
    "I used the following:\n",
    "rate-type: crude\n",
    "rate_breakdown: by state\n",
    "time period: 12 months ending with quarter\n",
    "After that, tidy up data from wide to long format - 3 columns:\n",
    "Year\n",
    "State\n",
    "Mortality\n",
    "Good luck! (edited) \n"
   ]
  },
  {
   "cell_type": "code",
   "execution_count": 2,
   "id": "4a1649ea",
   "metadata": {},
   "outputs": [
    {
     "data": {
      "text/html": [
       "<div>\n",
       "<style scoped>\n",
       "    .dataframe tbody tr th:only-of-type {\n",
       "        vertical-align: middle;\n",
       "    }\n",
       "\n",
       "    .dataframe tbody tr th {\n",
       "        vertical-align: top;\n",
       "    }\n",
       "\n",
       "    .dataframe thead th {\n",
       "        text-align: right;\n",
       "    }\n",
       "</style>\n",
       "<table border=\"1\" class=\"dataframe\">\n",
       "  <thead>\n",
       "    <tr style=\"text-align: right;\">\n",
       "      <th></th>\n",
       "      <th>year_and_quarter</th>\n",
       "      <th>time_period</th>\n",
       "      <th>cause_of_death</th>\n",
       "      <th>rate_type</th>\n",
       "      <th>unit</th>\n",
       "      <th>rate_overall</th>\n",
       "      <th>rate_sex_female</th>\n",
       "      <th>rate_sex_male</th>\n",
       "      <th>rate_age_1_4</th>\n",
       "      <th>rate_age_5_14</th>\n",
       "      <th>...</th>\n",
       "      <th>rate_south_dakota</th>\n",
       "      <th>rate_tennessee</th>\n",
       "      <th>rate_texas</th>\n",
       "      <th>rate_utah</th>\n",
       "      <th>rate_virginia</th>\n",
       "      <th>rate_vermont</th>\n",
       "      <th>rate_washington</th>\n",
       "      <th>rate_wisconsin</th>\n",
       "      <th>rate_west_virginia</th>\n",
       "      <th>rate_wyoming</th>\n",
       "    </tr>\n",
       "  </thead>\n",
       "  <tbody>\n",
       "    <tr>\n",
       "      <th>0</th>\n",
       "      <td>2020 Q1</td>\n",
       "      <td>12 months ending with quarter</td>\n",
       "      <td>Firearm-related injury</td>\n",
       "      <td>Crude</td>\n",
       "      <td>Deaths per 100,000</td>\n",
       "      <td>12.3</td>\n",
       "      <td>3.4</td>\n",
       "      <td>21.5</td>\n",
       "      <td>0.5</td>\n",
       "      <td>1</td>\n",
       "      <td>...</td>\n",
       "      <td>12</td>\n",
       "      <td>19</td>\n",
       "      <td>12.9</td>\n",
       "      <td>12.1</td>\n",
       "      <td>12.7</td>\n",
       "      <td>11.2</td>\n",
       "      <td>11.1</td>\n",
       "      <td>10.7</td>\n",
       "      <td>17.7</td>\n",
       "      <td>25</td>\n",
       "    </tr>\n",
       "    <tr>\n",
       "      <th>1</th>\n",
       "      <td>2020 Q2</td>\n",
       "      <td>12 months ending with quarter</td>\n",
       "      <td>Firearm-related injury</td>\n",
       "      <td>Crude</td>\n",
       "      <td>Deaths per 100,000</td>\n",
       "      <td>12.6</td>\n",
       "      <td>3.5</td>\n",
       "      <td>21.9</td>\n",
       "      <td>0.6</td>\n",
       "      <td>1.1</td>\n",
       "      <td>...</td>\n",
       "      <td>11.9</td>\n",
       "      <td>19</td>\n",
       "      <td>13.3</td>\n",
       "      <td>12.8</td>\n",
       "      <td>12.5</td>\n",
       "      <td>11.5</td>\n",
       "      <td>11.2</td>\n",
       "      <td>10.9</td>\n",
       "      <td>17.5</td>\n",
       "      <td>26</td>\n",
       "    </tr>\n",
       "    <tr>\n",
       "      <th>2</th>\n",
       "      <td>2020 Q3</td>\n",
       "      <td>12 months ending with quarter</td>\n",
       "      <td>Firearm-related injury</td>\n",
       "      <td>Crude</td>\n",
       "      <td>Deaths per 100,000</td>\n",
       "      <td>13.1</td>\n",
       "      <td>3.6</td>\n",
       "      <td>23</td>\n",
       "      <td>0.7</td>\n",
       "      <td>1.3</td>\n",
       "      <td>...</td>\n",
       "      <td>12.3</td>\n",
       "      <td>20</td>\n",
       "      <td>13.6</td>\n",
       "      <td>12.9</td>\n",
       "      <td>13.1</td>\n",
       "      <td>11.5</td>\n",
       "      <td>11.3</td>\n",
       "      <td>11.8</td>\n",
       "      <td>16.3</td>\n",
       "      <td>28.7</td>\n",
       "    </tr>\n",
       "    <tr>\n",
       "      <th>3</th>\n",
       "      <td>2020 Q4</td>\n",
       "      <td>12 months ending with quarter</td>\n",
       "      <td>Firearm-related injury</td>\n",
       "      <td>Crude</td>\n",
       "      <td>Deaths per 100,000</td>\n",
       "      <td>13.7</td>\n",
       "      <td>3.7</td>\n",
       "      <td>24</td>\n",
       "      <td>0.8</td>\n",
       "      <td>1.5</td>\n",
       "      <td>...</td>\n",
       "      <td>13.4</td>\n",
       "      <td>21.4</td>\n",
       "      <td>14.2</td>\n",
       "      <td>13.2</td>\n",
       "      <td>13.7</td>\n",
       "      <td>12.2</td>\n",
       "      <td>11.2</td>\n",
       "      <td>12.3</td>\n",
       "      <td>18.2</td>\n",
       "      <td>26.4</td>\n",
       "    </tr>\n",
       "    <tr>\n",
       "      <th>4</th>\n",
       "      <td>2021 Q1</td>\n",
       "      <td>12 months ending with quarter</td>\n",
       "      <td>Firearm-related injury</td>\n",
       "      <td>Crude</td>\n",
       "      <td>Deaths per 100,000</td>\n",
       "      <td>14.1</td>\n",
       "      <td>3.9</td>\n",
       "      <td>24.5</td>\n",
       "      <td>0.8</td>\n",
       "      <td>1.7</td>\n",
       "      <td>...</td>\n",
       "      <td>15.2</td>\n",
       "      <td>22.2</td>\n",
       "      <td>14.5</td>\n",
       "      <td>13.4</td>\n",
       "      <td>13.4</td>\n",
       "      <td>12.5</td>\n",
       "      <td>11</td>\n",
       "      <td>12.3</td>\n",
       "      <td>17.8</td>\n",
       "      <td>25.2</td>\n",
       "    </tr>\n",
       "    <tr>\n",
       "      <th>5</th>\n",
       "      <td>2021 Q2</td>\n",
       "      <td>12 months ending with quarter</td>\n",
       "      <td>Firearm-related injury</td>\n",
       "      <td>Crude</td>\n",
       "      <td>Deaths per 100,000</td>\n",
       "      <td>14.4</td>\n",
       "      <td>4</td>\n",
       "      <td>25</td>\n",
       "      <td>0.8</td>\n",
       "      <td>1.7</td>\n",
       "      <td>...</td>\n",
       "      <td>15.4</td>\n",
       "      <td>22.6</td>\n",
       "      <td>15.1</td>\n",
       "      <td>13.6</td>\n",
       "      <td>13.9</td>\n",
       "      <td>12</td>\n",
       "      <td>10.7</td>\n",
       "      <td>12.8</td>\n",
       "      <td>18.2</td>\n",
       "      <td>24.7</td>\n",
       "    </tr>\n",
       "    <tr>\n",
       "      <th>6</th>\n",
       "      <td>2021 Q3</td>\n",
       "      <td>12 months ending with quarter</td>\n",
       "      <td>Firearm-related injury</td>\n",
       "      <td>Crude</td>\n",
       "      <td>Deaths per 100,000</td>\n",
       "      <td>14.6</td>\n",
       "      <td>4.1</td>\n",
       "      <td>25.3</td>\n",
       "      <td>0.8</td>\n",
       "      <td>1.7</td>\n",
       "      <td>...</td>\n",
       "      <td>14.1</td>\n",
       "      <td>22.7</td>\n",
       "      <td>15.3</td>\n",
       "      <td>14.3</td>\n",
       "      <td>13.7</td>\n",
       "      <td>12.7</td>\n",
       "      <td>11.2</td>\n",
       "      <td>13.1</td>\n",
       "      <td>18.4</td>\n",
       "      <td>23.9</td>\n",
       "    </tr>\n",
       "    <tr>\n",
       "      <th>7</th>\n",
       "      <td>2021 Q4</td>\n",
       "      <td>12 months ending with quarter</td>\n",
       "      <td>Firearm-related injury</td>\n",
       "      <td>Crude</td>\n",
       "      <td>Deaths per 100,000</td>\n",
       "      <td>14.7</td>\n",
       "      <td>4.2</td>\n",
       "      <td>25.5</td>\n",
       "      <td>0.9</td>\n",
       "      <td>1.6</td>\n",
       "      <td>...</td>\n",
       "      <td>14.3</td>\n",
       "      <td>22.5</td>\n",
       "      <td>15.6</td>\n",
       "      <td>13.5</td>\n",
       "      <td>14.4</td>\n",
       "      <td>12.9</td>\n",
       "      <td>11.6</td>\n",
       "      <td>13.5</td>\n",
       "      <td>17.9</td>\n",
       "      <td>26.8</td>\n",
       "    </tr>\n",
       "    <tr>\n",
       "      <th>8</th>\n",
       "      <td>2022 Q1</td>\n",
       "      <td>12 months ending with quarter</td>\n",
       "      <td>Firearm-related injury</td>\n",
       "      <td>Crude</td>\n",
       "      <td>Deaths per 100,000</td>\n",
       "      <td>14.8</td>\n",
       "      <td>4.1</td>\n",
       "      <td>25.6</td>\n",
       "      <td>1</td>\n",
       "      <td>1.6</td>\n",
       "      <td>...</td>\n",
       "      <td>14.7</td>\n",
       "      <td>22.2</td>\n",
       "      <td>15.9</td>\n",
       "      <td>12.9</td>\n",
       "      <td>15</td>\n",
       "      <td>13</td>\n",
       "      <td>12.3</td>\n",
       "      <td>14.5</td>\n",
       "      <td>17.4</td>\n",
       "      <td>27.1</td>\n",
       "    </tr>\n",
       "    <tr>\n",
       "      <th>9</th>\n",
       "      <td>2022 Q2</td>\n",
       "      <td>12 months ending with quarter</td>\n",
       "      <td>Firearm-related injury</td>\n",
       "      <td>Crude</td>\n",
       "      <td>Deaths per 100,000</td>\n",
       "      <td>14.8</td>\n",
       "      <td>4.2</td>\n",
       "      <td>25.7</td>\n",
       "      <td>1</td>\n",
       "      <td>1.6</td>\n",
       "      <td>...</td>\n",
       "      <td>14.9</td>\n",
       "      <td>22.4</td>\n",
       "      <td>16.1</td>\n",
       "      <td>12.5</td>\n",
       "      <td>15.2</td>\n",
       "      <td>14.1</td>\n",
       "      <td>12.9</td>\n",
       "      <td>14.5</td>\n",
       "      <td>17.7</td>\n",
       "      <td>27.1</td>\n",
       "    </tr>\n",
       "    <tr>\n",
       "      <th>10</th>\n",
       "      <td>2022 Q3</td>\n",
       "      <td>12 months ending with quarter</td>\n",
       "      <td>Firearm-related injury</td>\n",
       "      <td>Crude</td>\n",
       "      <td>Deaths per 100,000</td>\n",
       "      <td>14.7</td>\n",
       "      <td>4.2</td>\n",
       "      <td>25.4</td>\n",
       "      <td>0.9</td>\n",
       "      <td>1.5</td>\n",
       "      <td>...</td>\n",
       "      <td>16.7</td>\n",
       "      <td>21.6</td>\n",
       "      <td>16.1</td>\n",
       "      <td>12.4</td>\n",
       "      <td>15.3</td>\n",
       "      <td>13.4</td>\n",
       "      <td>13</td>\n",
       "      <td>14.5</td>\n",
       "      <td>17.9</td>\n",
       "      <td>23.6</td>\n",
       "    </tr>\n",
       "    <tr>\n",
       "      <th>11</th>\n",
       "      <td>2022 Q4</td>\n",
       "      <td>12 months ending with quarter</td>\n",
       "      <td>Firearm-related injury</td>\n",
       "      <td>Crude</td>\n",
       "      <td>Deaths per 100,000</td>\n",
       "      <td>NaN</td>\n",
       "      <td>NaN</td>\n",
       "      <td>NaN</td>\n",
       "      <td>NaN</td>\n",
       "      <td>NaN</td>\n",
       "      <td>...</td>\n",
       "      <td>NaN</td>\n",
       "      <td>NaN</td>\n",
       "      <td>NaN</td>\n",
       "      <td>NaN</td>\n",
       "      <td>NaN</td>\n",
       "      <td>NaN</td>\n",
       "      <td>NaN</td>\n",
       "      <td>NaN</td>\n",
       "      <td>NaN</td>\n",
       "      <td>NaN</td>\n",
       "    </tr>\n",
       "  </tbody>\n",
       "</table>\n",
       "<p>12 rows × 69 columns</p>\n",
       "</div>"
      ],
      "text/plain": [
       "   year_and_quarter                    time_period          cause_of_death  \\\n",
       "0           2020 Q1  12 months ending with quarter  Firearm-related injury   \n",
       "1           2020 Q2  12 months ending with quarter  Firearm-related injury   \n",
       "2           2020 Q3  12 months ending with quarter  Firearm-related injury   \n",
       "3           2020 Q4  12 months ending with quarter  Firearm-related injury   \n",
       "4           2021 Q1  12 months ending with quarter  Firearm-related injury   \n",
       "5           2021 Q2  12 months ending with quarter  Firearm-related injury   \n",
       "6           2021 Q3  12 months ending with quarter  Firearm-related injury   \n",
       "7           2021 Q4  12 months ending with quarter  Firearm-related injury   \n",
       "8           2022 Q1  12 months ending with quarter  Firearm-related injury   \n",
       "9           2022 Q2  12 months ending with quarter  Firearm-related injury   \n",
       "10          2022 Q3  12 months ending with quarter  Firearm-related injury   \n",
       "11          2022 Q4  12 months ending with quarter  Firearm-related injury   \n",
       "\n",
       "   rate_type                unit rate_overall rate_sex_female rate_sex_male  \\\n",
       "0      Crude  Deaths per 100,000         12.3             3.4          21.5   \n",
       "1      Crude  Deaths per 100,000         12.6             3.5          21.9   \n",
       "2      Crude  Deaths per 100,000         13.1             3.6            23   \n",
       "3      Crude  Deaths per 100,000         13.7             3.7            24   \n",
       "4      Crude  Deaths per 100,000         14.1             3.9          24.5   \n",
       "5      Crude  Deaths per 100,000         14.4               4            25   \n",
       "6      Crude  Deaths per 100,000         14.6             4.1          25.3   \n",
       "7      Crude  Deaths per 100,000         14.7             4.2          25.5   \n",
       "8      Crude  Deaths per 100,000         14.8             4.1          25.6   \n",
       "9      Crude  Deaths per 100,000         14.8             4.2          25.7   \n",
       "10     Crude  Deaths per 100,000         14.7             4.2          25.4   \n",
       "11     Crude  Deaths per 100,000          NaN             NaN           NaN   \n",
       "\n",
       "   rate_age_1_4 rate_age_5_14  ... rate_south_dakota rate_tennessee  \\\n",
       "0           0.5             1  ...                12             19   \n",
       "1           0.6           1.1  ...              11.9             19   \n",
       "2           0.7           1.3  ...              12.3             20   \n",
       "3           0.8           1.5  ...              13.4           21.4   \n",
       "4           0.8           1.7  ...              15.2           22.2   \n",
       "5           0.8           1.7  ...              15.4           22.6   \n",
       "6           0.8           1.7  ...              14.1           22.7   \n",
       "7           0.9           1.6  ...              14.3           22.5   \n",
       "8             1           1.6  ...              14.7           22.2   \n",
       "9             1           1.6  ...              14.9           22.4   \n",
       "10          0.9           1.5  ...              16.7           21.6   \n",
       "11          NaN           NaN  ...               NaN            NaN   \n",
       "\n",
       "   rate_texas rate_utah rate_virginia rate_vermont rate_washington  \\\n",
       "0        12.9      12.1          12.7         11.2            11.1   \n",
       "1        13.3      12.8          12.5         11.5            11.2   \n",
       "2        13.6      12.9          13.1         11.5            11.3   \n",
       "3        14.2      13.2          13.7         12.2            11.2   \n",
       "4        14.5      13.4          13.4         12.5              11   \n",
       "5        15.1      13.6          13.9           12            10.7   \n",
       "6        15.3      14.3          13.7         12.7            11.2   \n",
       "7        15.6      13.5          14.4         12.9            11.6   \n",
       "8        15.9      12.9            15           13            12.3   \n",
       "9        16.1      12.5          15.2         14.1            12.9   \n",
       "10       16.1      12.4          15.3         13.4              13   \n",
       "11        NaN       NaN           NaN          NaN             NaN   \n",
       "\n",
       "   rate_wisconsin rate_west_virginia rate_wyoming  \n",
       "0            10.7               17.7           25  \n",
       "1            10.9               17.5           26  \n",
       "2            11.8               16.3         28.7  \n",
       "3            12.3               18.2         26.4  \n",
       "4            12.3               17.8         25.2  \n",
       "5            12.8               18.2         24.7  \n",
       "6            13.1               18.4         23.9  \n",
       "7            13.5               17.9         26.8  \n",
       "8            14.5               17.4         27.1  \n",
       "9            14.5               17.7         27.1  \n",
       "10           14.5               17.9         23.6  \n",
       "11            NaN                NaN          NaN  \n",
       "\n",
       "[12 rows x 69 columns]"
      ]
     },
     "execution_count": 2,
     "metadata": {},
     "output_type": "execute_result"
    }
   ],
   "source": [
    "from sodapy import Socrata\n",
    "import pandas as pd\n",
    "\n",
    "app_token = 'MNrVi6ETBNGwqPcnVXv8nmzaX'\n",
    "\n",
    "client = Socrata('data.cdc.gov',\n",
    "                  app_token,\n",
    "                  username=\"dcraig4991@gmail.com\",\n",
    "                  password=\"SuperB!ounce340\")\n",
    "\n",
    "# Firearm-related injury\n",
    "#https://data.cdc.gov/NCHS/NCHS-VSRR-Quarterly-provisional-estimates-for-sele/489q-934x\n",
    "\n",
    "results = client.get(\"489q-934x\", cause_of_death=\"Firearm-related injury\", time_period = '12 months ending with quarter',rate_type = 'Crude')\n",
    "\n",
    "# Convert to pandas DataFrame\n",
    "results_df = pd.DataFrame.from_records(results)\n",
    "results_df"
   ]
  },
  {
   "cell_type": "code",
   "execution_count": 3,
   "id": "afa1333a",
   "metadata": {},
   "outputs": [],
   "source": [
    "#results_df.to_csv('filtered_raw_data.csv', index=False)"
   ]
  },
  {
   "cell_type": "code",
   "execution_count": 4,
   "id": "f4f4f8d1",
   "metadata": {},
   "outputs": [],
   "source": [
    "results_df = results_df.drop(columns = ['unit','rate_sex_female','rate_sex_male','rate_type','cause_of_death','time_period','rate_65_74'])"
   ]
  },
  {
   "cell_type": "code",
   "execution_count": 5,
   "id": "321d0d67",
   "metadata": {},
   "outputs": [],
   "source": [
    "results_df.drop(list(results_df.filter(regex='^rate_age_.*')),axis = 1, inplace = True)\n",
    "#results_df.drop(columns = ['rate_65_74'], axis = 1, inplace = True)"
   ]
  },
  {
   "cell_type": "code",
   "execution_count": 6,
   "id": "c013b465",
   "metadata": {},
   "outputs": [
    {
     "data": {
      "text/html": [
       "<div>\n",
       "<style scoped>\n",
       "    .dataframe tbody tr th:only-of-type {\n",
       "        vertical-align: middle;\n",
       "    }\n",
       "\n",
       "    .dataframe tbody tr th {\n",
       "        vertical-align: top;\n",
       "    }\n",
       "\n",
       "    .dataframe thead th {\n",
       "        text-align: right;\n",
       "    }\n",
       "</style>\n",
       "<table border=\"1\" class=\"dataframe\">\n",
       "  <thead>\n",
       "    <tr style=\"text-align: right;\">\n",
       "      <th></th>\n",
       "      <th>year_and_quarter</th>\n",
       "      <th>rate_overall</th>\n",
       "      <th>rate_alaska</th>\n",
       "      <th>rate_alabama</th>\n",
       "      <th>rate_arkansas</th>\n",
       "      <th>rate_arizona</th>\n",
       "      <th>rate_california</th>\n",
       "      <th>rate_colorado</th>\n",
       "      <th>rate_connecticut</th>\n",
       "      <th>rate_district_of_columbia</th>\n",
       "      <th>...</th>\n",
       "      <th>rate_south_dakota</th>\n",
       "      <th>rate_tennessee</th>\n",
       "      <th>rate_texas</th>\n",
       "      <th>rate_utah</th>\n",
       "      <th>rate_virginia</th>\n",
       "      <th>rate_vermont</th>\n",
       "      <th>rate_washington</th>\n",
       "      <th>rate_wisconsin</th>\n",
       "      <th>rate_west_virginia</th>\n",
       "      <th>rate_wyoming</th>\n",
       "    </tr>\n",
       "  </thead>\n",
       "  <tbody>\n",
       "    <tr>\n",
       "      <th>0</th>\n",
       "      <td>False</td>\n",
       "      <td>False</td>\n",
       "      <td>False</td>\n",
       "      <td>False</td>\n",
       "      <td>False</td>\n",
       "      <td>False</td>\n",
       "      <td>False</td>\n",
       "      <td>False</td>\n",
       "      <td>False</td>\n",
       "      <td>False</td>\n",
       "      <td>...</td>\n",
       "      <td>False</td>\n",
       "      <td>False</td>\n",
       "      <td>False</td>\n",
       "      <td>False</td>\n",
       "      <td>False</td>\n",
       "      <td>False</td>\n",
       "      <td>False</td>\n",
       "      <td>False</td>\n",
       "      <td>False</td>\n",
       "      <td>False</td>\n",
       "    </tr>\n",
       "    <tr>\n",
       "      <th>1</th>\n",
       "      <td>False</td>\n",
       "      <td>False</td>\n",
       "      <td>False</td>\n",
       "      <td>False</td>\n",
       "      <td>False</td>\n",
       "      <td>False</td>\n",
       "      <td>False</td>\n",
       "      <td>False</td>\n",
       "      <td>False</td>\n",
       "      <td>False</td>\n",
       "      <td>...</td>\n",
       "      <td>False</td>\n",
       "      <td>False</td>\n",
       "      <td>False</td>\n",
       "      <td>False</td>\n",
       "      <td>False</td>\n",
       "      <td>False</td>\n",
       "      <td>False</td>\n",
       "      <td>False</td>\n",
       "      <td>False</td>\n",
       "      <td>False</td>\n",
       "    </tr>\n",
       "    <tr>\n",
       "      <th>2</th>\n",
       "      <td>False</td>\n",
       "      <td>False</td>\n",
       "      <td>False</td>\n",
       "      <td>False</td>\n",
       "      <td>False</td>\n",
       "      <td>False</td>\n",
       "      <td>False</td>\n",
       "      <td>False</td>\n",
       "      <td>False</td>\n",
       "      <td>False</td>\n",
       "      <td>...</td>\n",
       "      <td>False</td>\n",
       "      <td>False</td>\n",
       "      <td>False</td>\n",
       "      <td>False</td>\n",
       "      <td>False</td>\n",
       "      <td>False</td>\n",
       "      <td>False</td>\n",
       "      <td>False</td>\n",
       "      <td>False</td>\n",
       "      <td>False</td>\n",
       "    </tr>\n",
       "    <tr>\n",
       "      <th>3</th>\n",
       "      <td>False</td>\n",
       "      <td>False</td>\n",
       "      <td>False</td>\n",
       "      <td>False</td>\n",
       "      <td>False</td>\n",
       "      <td>False</td>\n",
       "      <td>False</td>\n",
       "      <td>False</td>\n",
       "      <td>False</td>\n",
       "      <td>False</td>\n",
       "      <td>...</td>\n",
       "      <td>False</td>\n",
       "      <td>False</td>\n",
       "      <td>False</td>\n",
       "      <td>False</td>\n",
       "      <td>False</td>\n",
       "      <td>False</td>\n",
       "      <td>False</td>\n",
       "      <td>False</td>\n",
       "      <td>False</td>\n",
       "      <td>False</td>\n",
       "    </tr>\n",
       "    <tr>\n",
       "      <th>4</th>\n",
       "      <td>False</td>\n",
       "      <td>False</td>\n",
       "      <td>False</td>\n",
       "      <td>False</td>\n",
       "      <td>False</td>\n",
       "      <td>False</td>\n",
       "      <td>False</td>\n",
       "      <td>False</td>\n",
       "      <td>False</td>\n",
       "      <td>False</td>\n",
       "      <td>...</td>\n",
       "      <td>False</td>\n",
       "      <td>False</td>\n",
       "      <td>False</td>\n",
       "      <td>False</td>\n",
       "      <td>False</td>\n",
       "      <td>False</td>\n",
       "      <td>False</td>\n",
       "      <td>False</td>\n",
       "      <td>False</td>\n",
       "      <td>False</td>\n",
       "    </tr>\n",
       "    <tr>\n",
       "      <th>5</th>\n",
       "      <td>False</td>\n",
       "      <td>False</td>\n",
       "      <td>False</td>\n",
       "      <td>False</td>\n",
       "      <td>False</td>\n",
       "      <td>False</td>\n",
       "      <td>False</td>\n",
       "      <td>False</td>\n",
       "      <td>False</td>\n",
       "      <td>False</td>\n",
       "      <td>...</td>\n",
       "      <td>False</td>\n",
       "      <td>False</td>\n",
       "      <td>False</td>\n",
       "      <td>False</td>\n",
       "      <td>False</td>\n",
       "      <td>False</td>\n",
       "      <td>False</td>\n",
       "      <td>False</td>\n",
       "      <td>False</td>\n",
       "      <td>False</td>\n",
       "    </tr>\n",
       "    <tr>\n",
       "      <th>6</th>\n",
       "      <td>False</td>\n",
       "      <td>False</td>\n",
       "      <td>False</td>\n",
       "      <td>False</td>\n",
       "      <td>False</td>\n",
       "      <td>False</td>\n",
       "      <td>False</td>\n",
       "      <td>False</td>\n",
       "      <td>False</td>\n",
       "      <td>False</td>\n",
       "      <td>...</td>\n",
       "      <td>False</td>\n",
       "      <td>False</td>\n",
       "      <td>False</td>\n",
       "      <td>False</td>\n",
       "      <td>False</td>\n",
       "      <td>False</td>\n",
       "      <td>False</td>\n",
       "      <td>False</td>\n",
       "      <td>False</td>\n",
       "      <td>False</td>\n",
       "    </tr>\n",
       "    <tr>\n",
       "      <th>7</th>\n",
       "      <td>False</td>\n",
       "      <td>False</td>\n",
       "      <td>False</td>\n",
       "      <td>False</td>\n",
       "      <td>False</td>\n",
       "      <td>False</td>\n",
       "      <td>False</td>\n",
       "      <td>False</td>\n",
       "      <td>False</td>\n",
       "      <td>False</td>\n",
       "      <td>...</td>\n",
       "      <td>False</td>\n",
       "      <td>False</td>\n",
       "      <td>False</td>\n",
       "      <td>False</td>\n",
       "      <td>False</td>\n",
       "      <td>False</td>\n",
       "      <td>False</td>\n",
       "      <td>False</td>\n",
       "      <td>False</td>\n",
       "      <td>False</td>\n",
       "    </tr>\n",
       "    <tr>\n",
       "      <th>8</th>\n",
       "      <td>False</td>\n",
       "      <td>False</td>\n",
       "      <td>False</td>\n",
       "      <td>False</td>\n",
       "      <td>False</td>\n",
       "      <td>False</td>\n",
       "      <td>False</td>\n",
       "      <td>False</td>\n",
       "      <td>False</td>\n",
       "      <td>False</td>\n",
       "      <td>...</td>\n",
       "      <td>False</td>\n",
       "      <td>False</td>\n",
       "      <td>False</td>\n",
       "      <td>False</td>\n",
       "      <td>False</td>\n",
       "      <td>False</td>\n",
       "      <td>False</td>\n",
       "      <td>False</td>\n",
       "      <td>False</td>\n",
       "      <td>False</td>\n",
       "    </tr>\n",
       "    <tr>\n",
       "      <th>9</th>\n",
       "      <td>False</td>\n",
       "      <td>False</td>\n",
       "      <td>False</td>\n",
       "      <td>False</td>\n",
       "      <td>False</td>\n",
       "      <td>False</td>\n",
       "      <td>False</td>\n",
       "      <td>False</td>\n",
       "      <td>False</td>\n",
       "      <td>False</td>\n",
       "      <td>...</td>\n",
       "      <td>False</td>\n",
       "      <td>False</td>\n",
       "      <td>False</td>\n",
       "      <td>False</td>\n",
       "      <td>False</td>\n",
       "      <td>False</td>\n",
       "      <td>False</td>\n",
       "      <td>False</td>\n",
       "      <td>False</td>\n",
       "      <td>False</td>\n",
       "    </tr>\n",
       "    <tr>\n",
       "      <th>10</th>\n",
       "      <td>False</td>\n",
       "      <td>False</td>\n",
       "      <td>False</td>\n",
       "      <td>False</td>\n",
       "      <td>False</td>\n",
       "      <td>False</td>\n",
       "      <td>False</td>\n",
       "      <td>False</td>\n",
       "      <td>False</td>\n",
       "      <td>False</td>\n",
       "      <td>...</td>\n",
       "      <td>False</td>\n",
       "      <td>False</td>\n",
       "      <td>False</td>\n",
       "      <td>False</td>\n",
       "      <td>False</td>\n",
       "      <td>False</td>\n",
       "      <td>False</td>\n",
       "      <td>False</td>\n",
       "      <td>False</td>\n",
       "      <td>False</td>\n",
       "    </tr>\n",
       "    <tr>\n",
       "      <th>11</th>\n",
       "      <td>False</td>\n",
       "      <td>True</td>\n",
       "      <td>True</td>\n",
       "      <td>True</td>\n",
       "      <td>True</td>\n",
       "      <td>True</td>\n",
       "      <td>True</td>\n",
       "      <td>True</td>\n",
       "      <td>True</td>\n",
       "      <td>True</td>\n",
       "      <td>...</td>\n",
       "      <td>True</td>\n",
       "      <td>True</td>\n",
       "      <td>True</td>\n",
       "      <td>True</td>\n",
       "      <td>True</td>\n",
       "      <td>True</td>\n",
       "      <td>True</td>\n",
       "      <td>True</td>\n",
       "      <td>True</td>\n",
       "      <td>True</td>\n",
       "    </tr>\n",
       "  </tbody>\n",
       "</table>\n",
       "<p>12 rows × 53 columns</p>\n",
       "</div>"
      ],
      "text/plain": [
       "    year_and_quarter  rate_overall  rate_alaska  rate_alabama  rate_arkansas  \\\n",
       "0              False         False        False         False          False   \n",
       "1              False         False        False         False          False   \n",
       "2              False         False        False         False          False   \n",
       "3              False         False        False         False          False   \n",
       "4              False         False        False         False          False   \n",
       "5              False         False        False         False          False   \n",
       "6              False         False        False         False          False   \n",
       "7              False         False        False         False          False   \n",
       "8              False         False        False         False          False   \n",
       "9              False         False        False         False          False   \n",
       "10             False         False        False         False          False   \n",
       "11             False          True         True          True           True   \n",
       "\n",
       "    rate_arizona  rate_california  rate_colorado  rate_connecticut  \\\n",
       "0          False            False          False             False   \n",
       "1          False            False          False             False   \n",
       "2          False            False          False             False   \n",
       "3          False            False          False             False   \n",
       "4          False            False          False             False   \n",
       "5          False            False          False             False   \n",
       "6          False            False          False             False   \n",
       "7          False            False          False             False   \n",
       "8          False            False          False             False   \n",
       "9          False            False          False             False   \n",
       "10         False            False          False             False   \n",
       "11          True             True           True              True   \n",
       "\n",
       "    rate_district_of_columbia  ...  rate_south_dakota  rate_tennessee  \\\n",
       "0                       False  ...              False           False   \n",
       "1                       False  ...              False           False   \n",
       "2                       False  ...              False           False   \n",
       "3                       False  ...              False           False   \n",
       "4                       False  ...              False           False   \n",
       "5                       False  ...              False           False   \n",
       "6                       False  ...              False           False   \n",
       "7                       False  ...              False           False   \n",
       "8                       False  ...              False           False   \n",
       "9                       False  ...              False           False   \n",
       "10                      False  ...              False           False   \n",
       "11                       True  ...               True            True   \n",
       "\n",
       "    rate_texas  rate_utah  rate_virginia  rate_vermont  rate_washington  \\\n",
       "0        False      False          False         False            False   \n",
       "1        False      False          False         False            False   \n",
       "2        False      False          False         False            False   \n",
       "3        False      False          False         False            False   \n",
       "4        False      False          False         False            False   \n",
       "5        False      False          False         False            False   \n",
       "6        False      False          False         False            False   \n",
       "7        False      False          False         False            False   \n",
       "8        False      False          False         False            False   \n",
       "9        False      False          False         False            False   \n",
       "10       False      False          False         False            False   \n",
       "11        True       True           True          True             True   \n",
       "\n",
       "    rate_wisconsin  rate_west_virginia  rate_wyoming  \n",
       "0            False               False         False  \n",
       "1            False               False         False  \n",
       "2            False               False         False  \n",
       "3            False               False         False  \n",
       "4            False               False         False  \n",
       "5            False               False         False  \n",
       "6            False               False         False  \n",
       "7            False               False         False  \n",
       "8            False               False         False  \n",
       "9            False               False         False  \n",
       "10           False               False         False  \n",
       "11            True                True          True  \n",
       "\n",
       "[12 rows x 53 columns]"
      ]
     },
     "execution_count": 6,
     "metadata": {},
     "output_type": "execute_result"
    }
   ],
   "source": [
    "#check for NA's\n",
    "results_df.isna()"
   ]
  },
  {
   "cell_type": "code",
   "execution_count": 7,
   "id": "163b9c46",
   "metadata": {},
   "outputs": [],
   "source": [
    "results_df = results_df.drop([11],axis=0)"
   ]
  },
  {
   "cell_type": "code",
   "execution_count": 8,
   "id": "f3073f8d",
   "metadata": {},
   "outputs": [
    {
     "data": {
      "text/html": [
       "<div>\n",
       "<style scoped>\n",
       "    .dataframe tbody tr th:only-of-type {\n",
       "        vertical-align: middle;\n",
       "    }\n",
       "\n",
       "    .dataframe tbody tr th {\n",
       "        vertical-align: top;\n",
       "    }\n",
       "\n",
       "    .dataframe thead th {\n",
       "        text-align: right;\n",
       "    }\n",
       "</style>\n",
       "<table border=\"1\" class=\"dataframe\">\n",
       "  <thead>\n",
       "    <tr style=\"text-align: right;\">\n",
       "      <th></th>\n",
       "      <th>year_and_quarter</th>\n",
       "      <th>rate_overall</th>\n",
       "      <th>rate_alaska</th>\n",
       "      <th>rate_alabama</th>\n",
       "      <th>rate_arkansas</th>\n",
       "      <th>rate_arizona</th>\n",
       "      <th>rate_california</th>\n",
       "      <th>rate_colorado</th>\n",
       "      <th>rate_connecticut</th>\n",
       "      <th>rate_district_of_columbia</th>\n",
       "      <th>...</th>\n",
       "      <th>rate_south_dakota</th>\n",
       "      <th>rate_tennessee</th>\n",
       "      <th>rate_texas</th>\n",
       "      <th>rate_utah</th>\n",
       "      <th>rate_virginia</th>\n",
       "      <th>rate_vermont</th>\n",
       "      <th>rate_washington</th>\n",
       "      <th>rate_wisconsin</th>\n",
       "      <th>rate_west_virginia</th>\n",
       "      <th>rate_wyoming</th>\n",
       "    </tr>\n",
       "  </thead>\n",
       "  <tbody>\n",
       "    <tr>\n",
       "      <th>0</th>\n",
       "      <td>2020 Q1</td>\n",
       "      <td>12.3</td>\n",
       "      <td>23.4</td>\n",
       "      <td>21.6</td>\n",
       "      <td>19.5</td>\n",
       "      <td>15.7</td>\n",
       "      <td>7.6</td>\n",
       "      <td>14.8</td>\n",
       "      <td>5.5</td>\n",
       "      <td>20.6</td>\n",
       "      <td>...</td>\n",
       "      <td>12</td>\n",
       "      <td>19</td>\n",
       "      <td>12.9</td>\n",
       "      <td>12.1</td>\n",
       "      <td>12.7</td>\n",
       "      <td>11.2</td>\n",
       "      <td>11.1</td>\n",
       "      <td>10.7</td>\n",
       "      <td>17.7</td>\n",
       "      <td>25</td>\n",
       "    </tr>\n",
       "    <tr>\n",
       "      <th>1</th>\n",
       "      <td>2020 Q2</td>\n",
       "      <td>12.6</td>\n",
       "      <td>23.3</td>\n",
       "      <td>22.5</td>\n",
       "      <td>21.7</td>\n",
       "      <td>15.2</td>\n",
       "      <td>7.7</td>\n",
       "      <td>15.2</td>\n",
       "      <td>5.4</td>\n",
       "      <td>21.5</td>\n",
       "      <td>...</td>\n",
       "      <td>11.9</td>\n",
       "      <td>19</td>\n",
       "      <td>13.3</td>\n",
       "      <td>12.8</td>\n",
       "      <td>12.5</td>\n",
       "      <td>11.5</td>\n",
       "      <td>11.2</td>\n",
       "      <td>10.9</td>\n",
       "      <td>17.5</td>\n",
       "      <td>26</td>\n",
       "    </tr>\n",
       "    <tr>\n",
       "      <th>2</th>\n",
       "      <td>2020 Q3</td>\n",
       "      <td>13.1</td>\n",
       "      <td>25.3</td>\n",
       "      <td>22.8</td>\n",
       "      <td>21.2</td>\n",
       "      <td>16.2</td>\n",
       "      <td>8</td>\n",
       "      <td>16</td>\n",
       "      <td>5.7</td>\n",
       "      <td>21.9</td>\n",
       "      <td>...</td>\n",
       "      <td>12.3</td>\n",
       "      <td>20</td>\n",
       "      <td>13.6</td>\n",
       "      <td>12.9</td>\n",
       "      <td>13.1</td>\n",
       "      <td>11.5</td>\n",
       "      <td>11.3</td>\n",
       "      <td>11.8</td>\n",
       "      <td>16.3</td>\n",
       "      <td>28.7</td>\n",
       "    </tr>\n",
       "    <tr>\n",
       "      <th>3</th>\n",
       "      <td>2020 Q4</td>\n",
       "      <td>13.7</td>\n",
       "      <td>23.9</td>\n",
       "      <td>23.2</td>\n",
       "      <td>22.2</td>\n",
       "      <td>17</td>\n",
       "      <td>8.8</td>\n",
       "      <td>15.9</td>\n",
       "      <td>6.2</td>\n",
       "      <td>23.4</td>\n",
       "      <td>...</td>\n",
       "      <td>13.4</td>\n",
       "      <td>21.4</td>\n",
       "      <td>14.2</td>\n",
       "      <td>13.2</td>\n",
       "      <td>13.7</td>\n",
       "      <td>12.2</td>\n",
       "      <td>11.2</td>\n",
       "      <td>12.3</td>\n",
       "      <td>18.2</td>\n",
       "      <td>26.4</td>\n",
       "    </tr>\n",
       "    <tr>\n",
       "      <th>4</th>\n",
       "      <td>2021 Q1</td>\n",
       "      <td>14.1</td>\n",
       "      <td>23.1</td>\n",
       "      <td>24.2</td>\n",
       "      <td>22.6</td>\n",
       "      <td>17.1</td>\n",
       "      <td>9</td>\n",
       "      <td>16.7</td>\n",
       "      <td>6.3</td>\n",
       "      <td>23.7</td>\n",
       "      <td>...</td>\n",
       "      <td>15.2</td>\n",
       "      <td>22.2</td>\n",
       "      <td>14.5</td>\n",
       "      <td>13.4</td>\n",
       "      <td>13.4</td>\n",
       "      <td>12.5</td>\n",
       "      <td>11</td>\n",
       "      <td>12.3</td>\n",
       "      <td>17.8</td>\n",
       "      <td>25.2</td>\n",
       "    </tr>\n",
       "    <tr>\n",
       "      <th>5</th>\n",
       "      <td>2021 Q2</td>\n",
       "      <td>14.4</td>\n",
       "      <td>25.1</td>\n",
       "      <td>24.8</td>\n",
       "      <td>22.9</td>\n",
       "      <td>18.3</td>\n",
       "      <td>9.3</td>\n",
       "      <td>17.3</td>\n",
       "      <td>7</td>\n",
       "      <td>24.7</td>\n",
       "      <td>...</td>\n",
       "      <td>15.4</td>\n",
       "      <td>22.6</td>\n",
       "      <td>15.1</td>\n",
       "      <td>13.6</td>\n",
       "      <td>13.9</td>\n",
       "      <td>12</td>\n",
       "      <td>10.7</td>\n",
       "      <td>12.8</td>\n",
       "      <td>18.2</td>\n",
       "      <td>24.7</td>\n",
       "    </tr>\n",
       "    <tr>\n",
       "      <th>6</th>\n",
       "      <td>2021 Q3</td>\n",
       "      <td>14.6</td>\n",
       "      <td>24.4</td>\n",
       "      <td>25.4</td>\n",
       "      <td>22.7</td>\n",
       "      <td>18.4</td>\n",
       "      <td>9.3</td>\n",
       "      <td>16.7</td>\n",
       "      <td>7.3</td>\n",
       "      <td>26.5</td>\n",
       "      <td>...</td>\n",
       "      <td>14.1</td>\n",
       "      <td>22.7</td>\n",
       "      <td>15.3</td>\n",
       "      <td>14.3</td>\n",
       "      <td>13.7</td>\n",
       "      <td>12.7</td>\n",
       "      <td>11.2</td>\n",
       "      <td>13.1</td>\n",
       "      <td>18.4</td>\n",
       "      <td>23.9</td>\n",
       "    </tr>\n",
       "    <tr>\n",
       "      <th>7</th>\n",
       "      <td>2021 Q4</td>\n",
       "      <td>14.7</td>\n",
       "      <td>24.8</td>\n",
       "      <td>26.1</td>\n",
       "      <td>23.1</td>\n",
       "      <td>18.8</td>\n",
       "      <td>9.1</td>\n",
       "      <td>18.3</td>\n",
       "      <td>6.9</td>\n",
       "      <td>27.6</td>\n",
       "      <td>...</td>\n",
       "      <td>14.3</td>\n",
       "      <td>22.5</td>\n",
       "      <td>15.6</td>\n",
       "      <td>13.5</td>\n",
       "      <td>14.4</td>\n",
       "      <td>12.9</td>\n",
       "      <td>11.6</td>\n",
       "      <td>13.5</td>\n",
       "      <td>17.9</td>\n",
       "      <td>26.8</td>\n",
       "    </tr>\n",
       "    <tr>\n",
       "      <th>8</th>\n",
       "      <td>2022 Q1</td>\n",
       "      <td>14.8</td>\n",
       "      <td>25.7</td>\n",
       "      <td>25.3</td>\n",
       "      <td>22.1</td>\n",
       "      <td>19.3</td>\n",
       "      <td>9.1</td>\n",
       "      <td>17.6</td>\n",
       "      <td>7.3</td>\n",
       "      <td>26.7</td>\n",
       "      <td>...</td>\n",
       "      <td>14.7</td>\n",
       "      <td>22.2</td>\n",
       "      <td>15.9</td>\n",
       "      <td>12.9</td>\n",
       "      <td>15</td>\n",
       "      <td>13</td>\n",
       "      <td>12.3</td>\n",
       "      <td>14.5</td>\n",
       "      <td>17.4</td>\n",
       "      <td>27.1</td>\n",
       "    </tr>\n",
       "    <tr>\n",
       "      <th>9</th>\n",
       "      <td>2022 Q2</td>\n",
       "      <td>14.8</td>\n",
       "      <td>23.6</td>\n",
       "      <td>25.2</td>\n",
       "      <td>21.7</td>\n",
       "      <td>20.5</td>\n",
       "      <td>9</td>\n",
       "      <td>17.3</td>\n",
       "      <td>7.1</td>\n",
       "      <td>28.5</td>\n",
       "      <td>...</td>\n",
       "      <td>14.9</td>\n",
       "      <td>22.4</td>\n",
       "      <td>16.1</td>\n",
       "      <td>12.5</td>\n",
       "      <td>15.2</td>\n",
       "      <td>14.1</td>\n",
       "      <td>12.9</td>\n",
       "      <td>14.5</td>\n",
       "      <td>17.7</td>\n",
       "      <td>27.1</td>\n",
       "    </tr>\n",
       "    <tr>\n",
       "      <th>10</th>\n",
       "      <td>2022 Q3</td>\n",
       "      <td>14.7</td>\n",
       "      <td>23.3</td>\n",
       "      <td>25.6</td>\n",
       "      <td>22.4</td>\n",
       "      <td>20.9</td>\n",
       "      <td>9.1</td>\n",
       "      <td>17.8</td>\n",
       "      <td>6.8</td>\n",
       "      <td>26.9</td>\n",
       "      <td>...</td>\n",
       "      <td>16.7</td>\n",
       "      <td>21.6</td>\n",
       "      <td>16.1</td>\n",
       "      <td>12.4</td>\n",
       "      <td>15.3</td>\n",
       "      <td>13.4</td>\n",
       "      <td>13</td>\n",
       "      <td>14.5</td>\n",
       "      <td>17.9</td>\n",
       "      <td>23.6</td>\n",
       "    </tr>\n",
       "  </tbody>\n",
       "</table>\n",
       "<p>11 rows × 53 columns</p>\n",
       "</div>"
      ],
      "text/plain": [
       "   year_and_quarter rate_overall rate_alaska rate_alabama rate_arkansas  \\\n",
       "0           2020 Q1         12.3        23.4         21.6          19.5   \n",
       "1           2020 Q2         12.6        23.3         22.5          21.7   \n",
       "2           2020 Q3         13.1        25.3         22.8          21.2   \n",
       "3           2020 Q4         13.7        23.9         23.2          22.2   \n",
       "4           2021 Q1         14.1        23.1         24.2          22.6   \n",
       "5           2021 Q2         14.4        25.1         24.8          22.9   \n",
       "6           2021 Q3         14.6        24.4         25.4          22.7   \n",
       "7           2021 Q4         14.7        24.8         26.1          23.1   \n",
       "8           2022 Q1         14.8        25.7         25.3          22.1   \n",
       "9           2022 Q2         14.8        23.6         25.2          21.7   \n",
       "10          2022 Q3         14.7        23.3         25.6          22.4   \n",
       "\n",
       "   rate_arizona rate_california rate_colorado rate_connecticut  \\\n",
       "0          15.7             7.6          14.8              5.5   \n",
       "1          15.2             7.7          15.2              5.4   \n",
       "2          16.2               8            16              5.7   \n",
       "3            17             8.8          15.9              6.2   \n",
       "4          17.1               9          16.7              6.3   \n",
       "5          18.3             9.3          17.3                7   \n",
       "6          18.4             9.3          16.7              7.3   \n",
       "7          18.8             9.1          18.3              6.9   \n",
       "8          19.3             9.1          17.6              7.3   \n",
       "9          20.5               9          17.3              7.1   \n",
       "10         20.9             9.1          17.8              6.8   \n",
       "\n",
       "   rate_district_of_columbia  ... rate_south_dakota rate_tennessee rate_texas  \\\n",
       "0                       20.6  ...                12             19       12.9   \n",
       "1                       21.5  ...              11.9             19       13.3   \n",
       "2                       21.9  ...              12.3             20       13.6   \n",
       "3                       23.4  ...              13.4           21.4       14.2   \n",
       "4                       23.7  ...              15.2           22.2       14.5   \n",
       "5                       24.7  ...              15.4           22.6       15.1   \n",
       "6                       26.5  ...              14.1           22.7       15.3   \n",
       "7                       27.6  ...              14.3           22.5       15.6   \n",
       "8                       26.7  ...              14.7           22.2       15.9   \n",
       "9                       28.5  ...              14.9           22.4       16.1   \n",
       "10                      26.9  ...              16.7           21.6       16.1   \n",
       "\n",
       "   rate_utah rate_virginia rate_vermont rate_washington rate_wisconsin  \\\n",
       "0       12.1          12.7         11.2            11.1           10.7   \n",
       "1       12.8          12.5         11.5            11.2           10.9   \n",
       "2       12.9          13.1         11.5            11.3           11.8   \n",
       "3       13.2          13.7         12.2            11.2           12.3   \n",
       "4       13.4          13.4         12.5              11           12.3   \n",
       "5       13.6          13.9           12            10.7           12.8   \n",
       "6       14.3          13.7         12.7            11.2           13.1   \n",
       "7       13.5          14.4         12.9            11.6           13.5   \n",
       "8       12.9            15           13            12.3           14.5   \n",
       "9       12.5          15.2         14.1            12.9           14.5   \n",
       "10      12.4          15.3         13.4              13           14.5   \n",
       "\n",
       "   rate_west_virginia rate_wyoming  \n",
       "0                17.7           25  \n",
       "1                17.5           26  \n",
       "2                16.3         28.7  \n",
       "3                18.2         26.4  \n",
       "4                17.8         25.2  \n",
       "5                18.2         24.7  \n",
       "6                18.4         23.9  \n",
       "7                17.9         26.8  \n",
       "8                17.4         27.1  \n",
       "9                17.7         27.1  \n",
       "10               17.9         23.6  \n",
       "\n",
       "[11 rows x 53 columns]"
      ]
     },
     "execution_count": 8,
     "metadata": {},
     "output_type": "execute_result"
    }
   ],
   "source": [
    "results_df"
   ]
  },
  {
   "cell_type": "code",
   "execution_count": 9,
   "id": "038c28da",
   "metadata": {},
   "outputs": [
    {
     "data": {
      "text/plain": [
       "0     12.3\n",
       "1     12.6\n",
       "2     13.1\n",
       "3     13.7\n",
       "4     14.1\n",
       "5     14.4\n",
       "6     14.6\n",
       "7     14.7\n",
       "8     14.8\n",
       "9     14.8\n",
       "10    14.7\n",
       "Name: rate_overall, dtype: object"
      ]
     },
     "execution_count": 9,
     "metadata": {},
     "output_type": "execute_result"
    }
   ],
   "source": [
    "#remove and save the rate_overall column with year_and_quarter \n",
    "#we save these to refer to later to ensure our averaging is equivalent\n",
    "\n",
    "time_rate_avg = results_df.iloc[:,:2]\n",
    "results_df.pop('rate_overall')"
   ]
  },
  {
   "cell_type": "code",
   "execution_count": 10,
   "id": "76461cae",
   "metadata": {},
   "outputs": [],
   "source": [
    "\n",
    "#Melt the dataframe, keeping 'year_and_quarter', melting all other columns\n",
    "#    melt converts column names into variable values\n",
    "#    typically, columns are variables and each row entry denotes the category value for that variable\n",
    "#    in wide formats, the variable categories are labeled as columns\n",
    "\n",
    "\n",
    "#    id_vars denotes columns that need to be repeated\n",
    "#    var_name denotes the new column that will store the old column names\n",
    "#    value_name denotes the new column that will store the cell values\n",
    "#    value_vars denotes the \n",
    "melted_df = pd.melt(results_df, id_vars=['year_and_quarter'], var_name='state', value_name='rate')\n",
    "\n",
    "# Remove the 'rate_' prefix from the 'state' column\n",
    "melted_df['state'] = melted_df['state'].str.replace('rate_', '')"
   ]
  },
  {
   "cell_type": "code",
   "execution_count": 11,
   "id": "54e4b244",
   "metadata": {},
   "outputs": [
    {
     "data": {
      "text/html": [
       "<div>\n",
       "<style scoped>\n",
       "    .dataframe tbody tr th:only-of-type {\n",
       "        vertical-align: middle;\n",
       "    }\n",
       "\n",
       "    .dataframe tbody tr th {\n",
       "        vertical-align: top;\n",
       "    }\n",
       "\n",
       "    .dataframe thead th {\n",
       "        text-align: right;\n",
       "    }\n",
       "</style>\n",
       "<table border=\"1\" class=\"dataframe\">\n",
       "  <thead>\n",
       "    <tr style=\"text-align: right;\">\n",
       "      <th></th>\n",
       "      <th>year_and_quarter</th>\n",
       "      <th>state</th>\n",
       "      <th>rate</th>\n",
       "    </tr>\n",
       "  </thead>\n",
       "  <tbody>\n",
       "    <tr>\n",
       "      <th>0</th>\n",
       "      <td>2020 Q1</td>\n",
       "      <td>alaska</td>\n",
       "      <td>23.4</td>\n",
       "    </tr>\n",
       "    <tr>\n",
       "      <th>1</th>\n",
       "      <td>2020 Q2</td>\n",
       "      <td>alaska</td>\n",
       "      <td>23.3</td>\n",
       "    </tr>\n",
       "    <tr>\n",
       "      <th>2</th>\n",
       "      <td>2020 Q3</td>\n",
       "      <td>alaska</td>\n",
       "      <td>25.3</td>\n",
       "    </tr>\n",
       "    <tr>\n",
       "      <th>3</th>\n",
       "      <td>2020 Q4</td>\n",
       "      <td>alaska</td>\n",
       "      <td>23.9</td>\n",
       "    </tr>\n",
       "    <tr>\n",
       "      <th>4</th>\n",
       "      <td>2021 Q1</td>\n",
       "      <td>alaska</td>\n",
       "      <td>23.1</td>\n",
       "    </tr>\n",
       "    <tr>\n",
       "      <th>...</th>\n",
       "      <td>...</td>\n",
       "      <td>...</td>\n",
       "      <td>...</td>\n",
       "    </tr>\n",
       "    <tr>\n",
       "      <th>556</th>\n",
       "      <td>2021 Q3</td>\n",
       "      <td>wyoming</td>\n",
       "      <td>23.9</td>\n",
       "    </tr>\n",
       "    <tr>\n",
       "      <th>557</th>\n",
       "      <td>2021 Q4</td>\n",
       "      <td>wyoming</td>\n",
       "      <td>26.8</td>\n",
       "    </tr>\n",
       "    <tr>\n",
       "      <th>558</th>\n",
       "      <td>2022 Q1</td>\n",
       "      <td>wyoming</td>\n",
       "      <td>27.1</td>\n",
       "    </tr>\n",
       "    <tr>\n",
       "      <th>559</th>\n",
       "      <td>2022 Q2</td>\n",
       "      <td>wyoming</td>\n",
       "      <td>27.1</td>\n",
       "    </tr>\n",
       "    <tr>\n",
       "      <th>560</th>\n",
       "      <td>2022 Q3</td>\n",
       "      <td>wyoming</td>\n",
       "      <td>23.6</td>\n",
       "    </tr>\n",
       "  </tbody>\n",
       "</table>\n",
       "<p>561 rows × 3 columns</p>\n",
       "</div>"
      ],
      "text/plain": [
       "    year_and_quarter    state  rate\n",
       "0            2020 Q1   alaska  23.4\n",
       "1            2020 Q2   alaska  23.3\n",
       "2            2020 Q3   alaska  25.3\n",
       "3            2020 Q4   alaska  23.9\n",
       "4            2021 Q1   alaska  23.1\n",
       "..               ...      ...   ...\n",
       "556          2021 Q3  wyoming  23.9\n",
       "557          2021 Q4  wyoming  26.8\n",
       "558          2022 Q1  wyoming  27.1\n",
       "559          2022 Q2  wyoming  27.1\n",
       "560          2022 Q3  wyoming  23.6\n",
       "\n",
       "[561 rows x 3 columns]"
      ]
     },
     "execution_count": 11,
     "metadata": {},
     "output_type": "execute_result"
    }
   ],
   "source": [
    "melted_df"
   ]
  },
  {
   "cell_type": "code",
   "execution_count": 12,
   "id": "a017e6bc",
   "metadata": {},
   "outputs": [],
   "source": [
    "# Create mapping for the 52 states\n",
    "\n",
    "state_mapping = {\n",
    "    'alabama': 'AL',\n",
    "    'alaska': 'AK',\n",
    "    'arizona': 'AZ',\n",
    "    'arkansas': 'AR',\n",
    "    'california': 'CA',\n",
    "    'colorado': 'CO',\n",
    "    'connecticut': 'CT',\n",
    "    'delaware': 'DE',\n",
    "    'district_of_columbia': 'DC',\n",
    "    'florida': 'FL',\n",
    "    'georgia': 'GA',\n",
    "    'hawaii': 'HI',\n",
    "    'idaho': 'ID',\n",
    "    'illinois': 'IL',\n",
    "    'indiana': 'IN',\n",
    "    'iowa': 'IA',\n",
    "    'kansas': 'KS',\n",
    "    'kentucky': 'KY',\n",
    "    'louisiana': 'LA',\n",
    "    'maine': 'ME',\n",
    "    'maryland': 'MD',\n",
    "    'massachusetts': 'MA',\n",
    "    'michigan': 'MI',\n",
    "    'minnesota': 'MN',\n",
    "    'mississippi': 'MS',\n",
    "    'missouri': 'MO',\n",
    "    'montana': 'MT',\n",
    "    'nebraska': 'NE',\n",
    "    'nevada': 'NV',\n",
    "    'new_hampshire': 'NH',\n",
    "    'new_jersey': 'NJ',\n",
    "    'new_mexico': 'NM',\n",
    "    'new_york': 'NY',\n",
    "    'north_carolina': 'NC',\n",
    "    'north_dakota': 'ND',\n",
    "    'ohio': 'OH',\n",
    "    'oklahoma': 'OK',\n",
    "    'oregon': 'OR',\n",
    "    'pennsylvania': 'PA',\n",
    "    'rhode_island': 'RI',\n",
    "    'south_carolina': 'SC',\n",
    "    'south_dakota': 'SD',\n",
    "    'tennessee': 'TN',\n",
    "    'texas': 'TX',\n",
    "    'utah': 'UT',\n",
    "    'vermont': 'VT',\n",
    "    'virginia': 'VA',\n",
    "    'washington': 'WA',\n",
    "    'west_virginia': 'WV',\n",
    "    'wisconsin': 'WI',\n",
    "    'wyoming': 'WY'\n",
    "}\n"
   ]
  },
  {
   "cell_type": "code",
   "execution_count": 238,
   "id": "2074cd46",
   "metadata": {},
   "outputs": [],
   "source": [
    "# replace the state values with their abbreviations\n",
    "melted_df['state'] = melted_df['state'].replace(state_mapping)\n",
    "\n",
    "#replace rate column names\n",
    "melted_df = melted_df.rename(columns={'rate': 'Death_Rate'})\n",
    "\n",
    "# extract year and quarter separately\n",
    "melted_df['year'] = melted_df['year_and_quarter'].str.split(' ').str[0]\n"
   ]
  },
  {
   "cell_type": "code",
   "execution_count": 14,
   "id": "22ca4557",
   "metadata": {},
   "outputs": [
    {
     "data": {
      "text/plain": [
       "year_and_quarter    False\n",
       "state               False\n",
       "rate                False\n",
       "dtype: bool"
      ]
     },
     "execution_count": 14,
     "metadata": {},
     "output_type": "execute_result"
    }
   ],
   "source": [
    "#check for any introduced NAs\n",
    "melted_df.isna().any()"
   ]
  },
  {
   "cell_type": "code",
   "execution_count": 131,
   "id": "b3fa6739",
   "metadata": {},
   "outputs": [
    {
     "data": {
      "text/plain": [
       "8      25.7\n",
       "9      23.6\n",
       "10     23.3\n",
       "19     25.3\n",
       "20     25.2\n",
       "       ... \n",
       "548    17.7\n",
       "549    17.9\n",
       "558    27.1\n",
       "559    27.1\n",
       "560    23.6\n",
       "Name: rate, Length: 153, dtype: object"
      ]
     },
     "execution_count": 131,
     "metadata": {},
     "output_type": "execute_result"
    }
   ],
   "source": [
    "melted_2022.iloc[:,2]"
   ]
  },
  {
   "cell_type": "code",
   "execution_count": 240,
   "id": "95e34f66",
   "metadata": {
    "scrolled": true
   },
   "outputs": [
    {
     "name": "stderr",
     "output_type": "stream",
     "text": [
      "C:\\Users\\dcrai\\AppData\\Local\\Temp\\ipykernel_28440\\3549252245.py:2: SettingWithCopyWarning:\n",
      "\n",
      "\n",
      "A value is trying to be set on a copy of a slice from a DataFrame.\n",
      "Try using .loc[row_indexer,col_indexer] = value instead\n",
      "\n",
      "See the caveats in the documentation: https://pandas.pydata.org/pandas-docs/stable/user_guide/indexing.html#returning-a-view-versus-a-copy\n",
      "\n"
     ]
    }
   ],
   "source": [
    "melted_2022 = melted_df[melted_df['year'].str.contains('2022')]\n",
    "melted_2022['Death_Rate'] = melted_2022['Death_Rate'].astype('float').round(2)"
   ]
  },
  {
   "cell_type": "code",
   "execution_count": 241,
   "id": "c9624d16",
   "metadata": {},
   "outputs": [],
   "source": [
    "# Calculate the average rate for each state and year\n",
    "avg_2022 = melted_2022.groupby('state')['Death_Rate'].mean().reset_index().round(2)\n",
    "compress_avg = pd.concat([avg_2022.head(5),avg_2022.tail(5)])"
   ]
  },
  {
   "cell_type": "code",
   "execution_count": null,
   "id": "c7386933",
   "metadata": {},
   "outputs": [],
   "source": [
    "state_scores\n",
    "avg_2022"
   ]
  },
  {
   "cell_type": "code",
   "execution_count": 242,
   "id": "98b0f1f8",
   "metadata": {},
   "outputs": [],
   "source": [
    "#Gun Control Scores Dataframe\n",
    "#       creating new column with likert value\n",
    "\n",
    "state_scores = pd.read_csv(r\"C:\\Users\\dcrai\\source\\repos\\DATA608\\Major Assignments\\Story 3\\State_Scoring.csv\")\n",
    "state_scores = state_scores.fillna(0)\n",
    "state_scores['Control_Score'] = state_scores.iloc[:, 2:53].sum(axis=1)\n",
    "state_scores['BG_Check_or_Permit'] = state_scores['BG_Check_or_Permit'].astype(float)\n",
    "state_scores = state_scores.sort_values(by = 'Control_Score',ascending = False)\n",
    "\n",
    "# Define the cut-off points and categories\n",
    "cut_points = [-1, 20, 40, 60, 80, 103]\n",
    "categories = ['VW', 'Weak', 'Mod', 'Str', 'VS']\n",
    "\n",
    "# Create a new column for the Likert scale categories\n",
    "state_scores['Likert_Scale'] = pd.cut(state_scores['Control_Score'], bins=cut_points, labels=categories)\n",
    "\n",
    "\n",
    "compress_scores = pd.concat([state_scores.head(5),state_scores.tail(5)],axis=0)"
   ]
  },
  {
   "cell_type": "code",
   "execution_count": null,
   "id": "35af2176",
   "metadata": {},
   "outputs": [],
   "source": [
    "#exporting 0.0 filled in for NaNs\n",
    "state_scores.to_csv(\"State_Scoring.csv\")"
   ]
  },
  {
   "cell_type": "code",
   "execution_count": 254,
   "id": "9e5fd1e5",
   "metadata": {},
   "outputs": [],
   "source": [
    "#joining likert value to melted\n",
    "master_2022 = avg_2022.merge(state_scores[['STUSAB','Likert_Scale','Control_Score']], left_on=['state'], right_on=['STUSAB'], how = 'left').dropna()\n",
    "\n",
    "master_2022 = master_2022.sort_values(by = 'Death_Rate',ascending = False)"
   ]
  },
  {
   "cell_type": "code",
   "execution_count": 255,
   "id": "bd37c3e6",
   "metadata": {},
   "outputs": [
    {
     "data": {
      "text/html": [
       "<div>\n",
       "<style scoped>\n",
       "    .dataframe tbody tr th:only-of-type {\n",
       "        vertical-align: middle;\n",
       "    }\n",
       "\n",
       "    .dataframe tbody tr th {\n",
       "        vertical-align: top;\n",
       "    }\n",
       "\n",
       "    .dataframe thead th {\n",
       "        text-align: right;\n",
       "    }\n",
       "</style>\n",
       "<table border=\"1\" class=\"dataframe\">\n",
       "  <thead>\n",
       "    <tr style=\"text-align: right;\">\n",
       "      <th></th>\n",
       "      <th>state</th>\n",
       "      <th>Death_Rate</th>\n",
       "      <th>Likert_Scale</th>\n",
       "      <th>Control_Score</th>\n",
       "    </tr>\n",
       "  </thead>\n",
       "  <tbody>\n",
       "    <tr>\n",
       "      <th>25</th>\n",
       "      <td>MS</td>\n",
       "      <td>30.60</td>\n",
       "      <td>VW</td>\n",
       "      <td>3.5</td>\n",
       "    </tr>\n",
       "    <tr>\n",
       "      <th>18</th>\n",
       "      <td>LA</td>\n",
       "      <td>28.23</td>\n",
       "      <td>Weak</td>\n",
       "      <td>24.0</td>\n",
       "    </tr>\n",
       "    <tr>\n",
       "      <th>32</th>\n",
       "      <td>NM</td>\n",
       "      <td>27.50</td>\n",
       "      <td>Mod</td>\n",
       "      <td>51.0</td>\n",
       "    </tr>\n",
       "    <tr>\n",
       "      <th>50</th>\n",
       "      <td>WY</td>\n",
       "      <td>25.93</td>\n",
       "      <td>VW</td>\n",
       "      <td>5.5</td>\n",
       "    </tr>\n",
       "    <tr>\n",
       "      <th>1</th>\n",
       "      <td>AL</td>\n",
       "      <td>25.37</td>\n",
       "      <td>VW</td>\n",
       "      <td>16.5</td>\n",
       "    </tr>\n",
       "    <tr>\n",
       "      <th>34</th>\n",
       "      <td>NY</td>\n",
       "      <td>5.57</td>\n",
       "      <td>VS</td>\n",
       "      <td>85.5</td>\n",
       "    </tr>\n",
       "    <tr>\n",
       "      <th>31</th>\n",
       "      <td>NJ</td>\n",
       "      <td>5.40</td>\n",
       "      <td>VS</td>\n",
       "      <td>83.0</td>\n",
       "    </tr>\n",
       "    <tr>\n",
       "      <th>11</th>\n",
       "      <td>HI</td>\n",
       "      <td>4.67</td>\n",
       "      <td>VS</td>\n",
       "      <td>89.0</td>\n",
       "    </tr>\n",
       "    <tr>\n",
       "      <th>39</th>\n",
       "      <td>RI</td>\n",
       "      <td>4.60</td>\n",
       "      <td>Str</td>\n",
       "      <td>67.0</td>\n",
       "    </tr>\n",
       "    <tr>\n",
       "      <th>19</th>\n",
       "      <td>MA</td>\n",
       "      <td>3.80</td>\n",
       "      <td>VS</td>\n",
       "      <td>86.0</td>\n",
       "    </tr>\n",
       "  </tbody>\n",
       "</table>\n",
       "</div>"
      ],
      "text/plain": [
       "   state  Death_Rate Likert_Scale  Control_Score\n",
       "25    MS       30.60           VW            3.5\n",
       "18    LA       28.23         Weak           24.0\n",
       "32    NM       27.50          Mod           51.0\n",
       "50    WY       25.93           VW            5.5\n",
       "1     AL       25.37           VW           16.5\n",
       "34    NY        5.57           VS           85.5\n",
       "31    NJ        5.40           VS           83.0\n",
       "11    HI        4.67           VS           89.0\n",
       "39    RI        4.60          Str           67.0\n",
       "19    MA        3.80           VS           86.0"
      ]
     },
     "execution_count": 255,
     "metadata": {},
     "output_type": "execute_result"
    }
   ],
   "source": [
    "#import plotly.express as px\n",
    "#\n",
    "#fig = px.choropleth(melted_df, locations='state', color='rate',locationmode ='USA-states',\n",
    "#                           scope = 'usa',\n",
    "#                           range_color=(0, 30 ),\n",
    "#                           labels={'rate':'Firearm-Related Injry Rate'}\n",
    "#                          )\n",
    "#\n",
    "#fig.show()\n",
    "top_bot_df = pd.concat([master_2022.head(5), master_2022.tail(5)], axis=0)\n",
    "top_bot_df.pop('STUSAB')\n",
    "top_bot_df"
   ]
  },
  {
   "cell_type": "code",
   "execution_count": 257,
   "id": "141d3a63",
   "metadata": {},
   "outputs": [
    {
     "data": {
      "application/vnd.plotly.v1+json": {
       "config": {
        "plotlyServerURL": "https://plot.ly"
       },
       "data": [
        {
         "colorbar": {
          "title": {
           "text": "Death Rate by 100k People"
          }
         },
         "colorscale": [
          [
           0,
           "#440154"
          ],
          [
           0.1111111111111111,
           "#482878"
          ],
          [
           0.2222222222222222,
           "#3e4989"
          ],
          [
           0.3333333333333333,
           "#31688e"
          ],
          [
           0.4444444444444444,
           "#26828e"
          ],
          [
           0.5555555555555556,
           "#1f9e89"
          ],
          [
           0.6666666666666666,
           "#35b779"
          ],
          [
           0.7777777777777778,
           "#6ece58"
          ],
          [
           0.8888888888888888,
           "#b5de2b"
          ],
          [
           1,
           "#fde725"
          ]
         ],
         "locationmode": "USA-states",
         "locations": [
          "AK",
          "AL",
          "AR",
          "AZ",
          "CA",
          "CO",
          "CT",
          "DC",
          "DE",
          "FL",
          "GA",
          "HI",
          "IA",
          "ID",
          "IL",
          "IN",
          "KS",
          "KY",
          "LA",
          "MA",
          "MD",
          "ME",
          "MI",
          "MN",
          "MO",
          "MS",
          "MT",
          "NC",
          "ND",
          "NE",
          "NH",
          "NJ",
          "NM",
          "NV",
          "NY",
          "OH",
          "OK",
          "OR",
          "PA",
          "RI",
          "SC",
          "SD",
          "TN",
          "TX",
          "UT",
          "VA",
          "VT",
          "WA",
          "WI",
          "WV",
          "WY"
         ],
         "type": "choropleth",
         "z": [
          24.2,
          25.37,
          22.07,
          20.23,
          9.07,
          17.57,
          7.07,
          27.37,
          14.13,
          14.57,
          20.3,
          4.67,
          11.1,
          16.8,
          15.23,
          18.13,
          17.9,
          19.63,
          28.23,
          3.8,
          14.07,
          12.3,
          15.37,
          10.3,
          23.6,
          30.6,
          24.6,
          17.3,
          16.03,
          11.37,
          9.43,
          5.4,
          27.5,
          19.5,
          5.57,
          16.13,
          20.17,
          15.67,
          15.4,
          4.6,
          21.47,
          15.43,
          22.07,
          16.03,
          12.6,
          15.17,
          13.5,
          12.73,
          14.5,
          17.67,
          25.93
         ]
        },
        {
         "locationmode": "USA-states",
         "locations": [
          "AK",
          "AL",
          "AR",
          "AZ",
          "CA",
          "CO",
          "CT",
          "DC",
          "DE",
          "FL",
          "GA",
          "HI",
          "IA",
          "ID",
          "IL",
          "IN",
          "KS",
          "KY",
          "LA",
          "MA",
          "MD",
          "ME",
          "MI",
          "MN",
          "MO",
          "MS",
          "MT",
          "NC",
          "ND",
          "NE",
          "NH",
          "NJ",
          "NM",
          "NV",
          "NY",
          "OH",
          "OK",
          "OR",
          "PA",
          "RI",
          "SC",
          "SD",
          "TN",
          "TX",
          "UT",
          "VA",
          "VT",
          "WA",
          "WI",
          "WV",
          "WY"
         ],
         "mode": "text",
         "text": [
          24.2,
          25.37,
          22.07,
          20.23,
          9.07,
          17.57,
          7.07,
          27.37,
          14.13,
          14.57,
          20.3,
          4.67,
          11.1,
          16.8,
          15.23,
          18.13,
          17.9,
          19.63,
          28.23,
          3.8,
          14.07,
          12.3,
          15.37,
          10.3,
          23.6,
          30.6,
          24.6,
          17.3,
          16.03,
          11.37,
          9.43,
          5.4,
          27.5,
          19.5,
          5.57,
          16.13,
          20.17,
          15.67,
          15.4,
          4.6,
          21.47,
          15.43,
          22.07,
          16.03,
          12.6,
          15.17,
          13.5,
          12.73,
          14.5,
          17.67,
          25.93
         ],
         "textfont": {
          "color": "red"
         },
         "type": "scattergeo"
        }
       ],
       "layout": {
        "font": {
         "color": "red",
         "family": "Arial Black",
         "size": 10
        },
        "geo": {
         "scope": "usa"
        },
        "template": {
         "data": {
          "bar": [
           {
            "error_x": {
             "color": "#2a3f5f"
            },
            "error_y": {
             "color": "#2a3f5f"
            },
            "marker": {
             "line": {
              "color": "#E5ECF6",
              "width": 0.5
             },
             "pattern": {
              "fillmode": "overlay",
              "size": 10,
              "solidity": 0.2
             }
            },
            "type": "bar"
           }
          ],
          "barpolar": [
           {
            "marker": {
             "line": {
              "color": "#E5ECF6",
              "width": 0.5
             },
             "pattern": {
              "fillmode": "overlay",
              "size": 10,
              "solidity": 0.2
             }
            },
            "type": "barpolar"
           }
          ],
          "carpet": [
           {
            "aaxis": {
             "endlinecolor": "#2a3f5f",
             "gridcolor": "white",
             "linecolor": "white",
             "minorgridcolor": "white",
             "startlinecolor": "#2a3f5f"
            },
            "baxis": {
             "endlinecolor": "#2a3f5f",
             "gridcolor": "white",
             "linecolor": "white",
             "minorgridcolor": "white",
             "startlinecolor": "#2a3f5f"
            },
            "type": "carpet"
           }
          ],
          "choropleth": [
           {
            "colorbar": {
             "outlinewidth": 0,
             "ticks": ""
            },
            "type": "choropleth"
           }
          ],
          "contour": [
           {
            "colorbar": {
             "outlinewidth": 0,
             "ticks": ""
            },
            "colorscale": [
             [
              0,
              "#0d0887"
             ],
             [
              0.1111111111111111,
              "#46039f"
             ],
             [
              0.2222222222222222,
              "#7201a8"
             ],
             [
              0.3333333333333333,
              "#9c179e"
             ],
             [
              0.4444444444444444,
              "#bd3786"
             ],
             [
              0.5555555555555556,
              "#d8576b"
             ],
             [
              0.6666666666666666,
              "#ed7953"
             ],
             [
              0.7777777777777778,
              "#fb9f3a"
             ],
             [
              0.8888888888888888,
              "#fdca26"
             ],
             [
              1,
              "#f0f921"
             ]
            ],
            "type": "contour"
           }
          ],
          "contourcarpet": [
           {
            "colorbar": {
             "outlinewidth": 0,
             "ticks": ""
            },
            "type": "contourcarpet"
           }
          ],
          "heatmap": [
           {
            "colorbar": {
             "outlinewidth": 0,
             "ticks": ""
            },
            "colorscale": [
             [
              0,
              "#0d0887"
             ],
             [
              0.1111111111111111,
              "#46039f"
             ],
             [
              0.2222222222222222,
              "#7201a8"
             ],
             [
              0.3333333333333333,
              "#9c179e"
             ],
             [
              0.4444444444444444,
              "#bd3786"
             ],
             [
              0.5555555555555556,
              "#d8576b"
             ],
             [
              0.6666666666666666,
              "#ed7953"
             ],
             [
              0.7777777777777778,
              "#fb9f3a"
             ],
             [
              0.8888888888888888,
              "#fdca26"
             ],
             [
              1,
              "#f0f921"
             ]
            ],
            "type": "heatmap"
           }
          ],
          "heatmapgl": [
           {
            "colorbar": {
             "outlinewidth": 0,
             "ticks": ""
            },
            "colorscale": [
             [
              0,
              "#0d0887"
             ],
             [
              0.1111111111111111,
              "#46039f"
             ],
             [
              0.2222222222222222,
              "#7201a8"
             ],
             [
              0.3333333333333333,
              "#9c179e"
             ],
             [
              0.4444444444444444,
              "#bd3786"
             ],
             [
              0.5555555555555556,
              "#d8576b"
             ],
             [
              0.6666666666666666,
              "#ed7953"
             ],
             [
              0.7777777777777778,
              "#fb9f3a"
             ],
             [
              0.8888888888888888,
              "#fdca26"
             ],
             [
              1,
              "#f0f921"
             ]
            ],
            "type": "heatmapgl"
           }
          ],
          "histogram": [
           {
            "marker": {
             "pattern": {
              "fillmode": "overlay",
              "size": 10,
              "solidity": 0.2
             }
            },
            "type": "histogram"
           }
          ],
          "histogram2d": [
           {
            "colorbar": {
             "outlinewidth": 0,
             "ticks": ""
            },
            "colorscale": [
             [
              0,
              "#0d0887"
             ],
             [
              0.1111111111111111,
              "#46039f"
             ],
             [
              0.2222222222222222,
              "#7201a8"
             ],
             [
              0.3333333333333333,
              "#9c179e"
             ],
             [
              0.4444444444444444,
              "#bd3786"
             ],
             [
              0.5555555555555556,
              "#d8576b"
             ],
             [
              0.6666666666666666,
              "#ed7953"
             ],
             [
              0.7777777777777778,
              "#fb9f3a"
             ],
             [
              0.8888888888888888,
              "#fdca26"
             ],
             [
              1,
              "#f0f921"
             ]
            ],
            "type": "histogram2d"
           }
          ],
          "histogram2dcontour": [
           {
            "colorbar": {
             "outlinewidth": 0,
             "ticks": ""
            },
            "colorscale": [
             [
              0,
              "#0d0887"
             ],
             [
              0.1111111111111111,
              "#46039f"
             ],
             [
              0.2222222222222222,
              "#7201a8"
             ],
             [
              0.3333333333333333,
              "#9c179e"
             ],
             [
              0.4444444444444444,
              "#bd3786"
             ],
             [
              0.5555555555555556,
              "#d8576b"
             ],
             [
              0.6666666666666666,
              "#ed7953"
             ],
             [
              0.7777777777777778,
              "#fb9f3a"
             ],
             [
              0.8888888888888888,
              "#fdca26"
             ],
             [
              1,
              "#f0f921"
             ]
            ],
            "type": "histogram2dcontour"
           }
          ],
          "mesh3d": [
           {
            "colorbar": {
             "outlinewidth": 0,
             "ticks": ""
            },
            "type": "mesh3d"
           }
          ],
          "parcoords": [
           {
            "line": {
             "colorbar": {
              "outlinewidth": 0,
              "ticks": ""
             }
            },
            "type": "parcoords"
           }
          ],
          "pie": [
           {
            "automargin": true,
            "type": "pie"
           }
          ],
          "scatter": [
           {
            "fillpattern": {
             "fillmode": "overlay",
             "size": 10,
             "solidity": 0.2
            },
            "type": "scatter"
           }
          ],
          "scatter3d": [
           {
            "line": {
             "colorbar": {
              "outlinewidth": 0,
              "ticks": ""
             }
            },
            "marker": {
             "colorbar": {
              "outlinewidth": 0,
              "ticks": ""
             }
            },
            "type": "scatter3d"
           }
          ],
          "scattercarpet": [
           {
            "marker": {
             "colorbar": {
              "outlinewidth": 0,
              "ticks": ""
             }
            },
            "type": "scattercarpet"
           }
          ],
          "scattergeo": [
           {
            "marker": {
             "colorbar": {
              "outlinewidth": 0,
              "ticks": ""
             }
            },
            "type": "scattergeo"
           }
          ],
          "scattergl": [
           {
            "marker": {
             "colorbar": {
              "outlinewidth": 0,
              "ticks": ""
             }
            },
            "type": "scattergl"
           }
          ],
          "scattermapbox": [
           {
            "marker": {
             "colorbar": {
              "outlinewidth": 0,
              "ticks": ""
             }
            },
            "type": "scattermapbox"
           }
          ],
          "scatterpolar": [
           {
            "marker": {
             "colorbar": {
              "outlinewidth": 0,
              "ticks": ""
             }
            },
            "type": "scatterpolar"
           }
          ],
          "scatterpolargl": [
           {
            "marker": {
             "colorbar": {
              "outlinewidth": 0,
              "ticks": ""
             }
            },
            "type": "scatterpolargl"
           }
          ],
          "scatterternary": [
           {
            "marker": {
             "colorbar": {
              "outlinewidth": 0,
              "ticks": ""
             }
            },
            "type": "scatterternary"
           }
          ],
          "surface": [
           {
            "colorbar": {
             "outlinewidth": 0,
             "ticks": ""
            },
            "colorscale": [
             [
              0,
              "#0d0887"
             ],
             [
              0.1111111111111111,
              "#46039f"
             ],
             [
              0.2222222222222222,
              "#7201a8"
             ],
             [
              0.3333333333333333,
              "#9c179e"
             ],
             [
              0.4444444444444444,
              "#bd3786"
             ],
             [
              0.5555555555555556,
              "#d8576b"
             ],
             [
              0.6666666666666666,
              "#ed7953"
             ],
             [
              0.7777777777777778,
              "#fb9f3a"
             ],
             [
              0.8888888888888888,
              "#fdca26"
             ],
             [
              1,
              "#f0f921"
             ]
            ],
            "type": "surface"
           }
          ],
          "table": [
           {
            "cells": {
             "fill": {
              "color": "#EBF0F8"
             },
             "line": {
              "color": "white"
             }
            },
            "header": {
             "fill": {
              "color": "#C8D4E3"
             },
             "line": {
              "color": "white"
             }
            },
            "type": "table"
           }
          ]
         },
         "layout": {
          "annotationdefaults": {
           "arrowcolor": "#2a3f5f",
           "arrowhead": 0,
           "arrowwidth": 1
          },
          "autotypenumbers": "strict",
          "coloraxis": {
           "colorbar": {
            "outlinewidth": 0,
            "ticks": ""
           }
          },
          "colorscale": {
           "diverging": [
            [
             0,
             "#8e0152"
            ],
            [
             0.1,
             "#c51b7d"
            ],
            [
             0.2,
             "#de77ae"
            ],
            [
             0.3,
             "#f1b6da"
            ],
            [
             0.4,
             "#fde0ef"
            ],
            [
             0.5,
             "#f7f7f7"
            ],
            [
             0.6,
             "#e6f5d0"
            ],
            [
             0.7,
             "#b8e186"
            ],
            [
             0.8,
             "#7fbc41"
            ],
            [
             0.9,
             "#4d9221"
            ],
            [
             1,
             "#276419"
            ]
           ],
           "sequential": [
            [
             0,
             "#0d0887"
            ],
            [
             0.1111111111111111,
             "#46039f"
            ],
            [
             0.2222222222222222,
             "#7201a8"
            ],
            [
             0.3333333333333333,
             "#9c179e"
            ],
            [
             0.4444444444444444,
             "#bd3786"
            ],
            [
             0.5555555555555556,
             "#d8576b"
            ],
            [
             0.6666666666666666,
             "#ed7953"
            ],
            [
             0.7777777777777778,
             "#fb9f3a"
            ],
            [
             0.8888888888888888,
             "#fdca26"
            ],
            [
             1,
             "#f0f921"
            ]
           ],
           "sequentialminus": [
            [
             0,
             "#0d0887"
            ],
            [
             0.1111111111111111,
             "#46039f"
            ],
            [
             0.2222222222222222,
             "#7201a8"
            ],
            [
             0.3333333333333333,
             "#9c179e"
            ],
            [
             0.4444444444444444,
             "#bd3786"
            ],
            [
             0.5555555555555556,
             "#d8576b"
            ],
            [
             0.6666666666666666,
             "#ed7953"
            ],
            [
             0.7777777777777778,
             "#fb9f3a"
            ],
            [
             0.8888888888888888,
             "#fdca26"
            ],
            [
             1,
             "#f0f921"
            ]
           ]
          },
          "colorway": [
           "#636efa",
           "#EF553B",
           "#00cc96",
           "#ab63fa",
           "#FFA15A",
           "#19d3f3",
           "#FF6692",
           "#B6E880",
           "#FF97FF",
           "#FECB52"
          ],
          "font": {
           "color": "#2a3f5f"
          },
          "geo": {
           "bgcolor": "white",
           "lakecolor": "white",
           "landcolor": "#E5ECF6",
           "showlakes": true,
           "showland": true,
           "subunitcolor": "white"
          },
          "hoverlabel": {
           "align": "left"
          },
          "hovermode": "closest",
          "mapbox": {
           "style": "light"
          },
          "paper_bgcolor": "white",
          "plot_bgcolor": "#E5ECF6",
          "polar": {
           "angularaxis": {
            "gridcolor": "white",
            "linecolor": "white",
            "ticks": ""
           },
           "bgcolor": "#E5ECF6",
           "radialaxis": {
            "gridcolor": "white",
            "linecolor": "white",
            "ticks": ""
           }
          },
          "scene": {
           "xaxis": {
            "backgroundcolor": "#E5ECF6",
            "gridcolor": "white",
            "gridwidth": 2,
            "linecolor": "white",
            "showbackground": true,
            "ticks": "",
            "zerolinecolor": "white"
           },
           "yaxis": {
            "backgroundcolor": "#E5ECF6",
            "gridcolor": "white",
            "gridwidth": 2,
            "linecolor": "white",
            "showbackground": true,
            "ticks": "",
            "zerolinecolor": "white"
           },
           "zaxis": {
            "backgroundcolor": "#E5ECF6",
            "gridcolor": "white",
            "gridwidth": 2,
            "linecolor": "white",
            "showbackground": true,
            "ticks": "",
            "zerolinecolor": "white"
           }
          },
          "shapedefaults": {
           "line": {
            "color": "#2a3f5f"
           }
          },
          "ternary": {
           "aaxis": {
            "gridcolor": "white",
            "linecolor": "white",
            "ticks": ""
           },
           "baxis": {
            "gridcolor": "white",
            "linecolor": "white",
            "ticks": ""
           },
           "bgcolor": "#E5ECF6",
           "caxis": {
            "gridcolor": "white",
            "linecolor": "white",
            "ticks": ""
           }
          },
          "title": {
           "x": 0.05
          },
          "xaxis": {
           "automargin": true,
           "gridcolor": "white",
           "linecolor": "white",
           "ticks": "",
           "title": {
            "standoff": 15
           },
           "zerolinecolor": "white",
           "zerolinewidth": 2
          },
          "yaxis": {
           "automargin": true,
           "gridcolor": "white",
           "linecolor": "white",
           "ticks": "",
           "title": {
            "standoff": 15
           },
           "zerolinecolor": "white",
           "zerolinewidth": 2
          }
         }
        },
        "title": {
         "text": "State Death Rate by Firearm-Related Injury"
        }
       }
      },
      "text/html": [
       "<div>                            <div id=\"b20a19a3-4806-4eeb-85a2-0f173d3abc19\" class=\"plotly-graph-div\" style=\"height:525px; width:100%;\"></div>            <script type=\"text/javascript\">                require([\"plotly\"], function(Plotly) {                    window.PLOTLYENV=window.PLOTLYENV || {};                                    if (document.getElementById(\"b20a19a3-4806-4eeb-85a2-0f173d3abc19\")) {                    Plotly.newPlot(                        \"b20a19a3-4806-4eeb-85a2-0f173d3abc19\",                        [{\"colorbar\":{\"title\":{\"text\":\"Death Rate by 100k People\"}},\"colorscale\":[[0.0,\"#440154\"],[0.1111111111111111,\"#482878\"],[0.2222222222222222,\"#3e4989\"],[0.3333333333333333,\"#31688e\"],[0.4444444444444444,\"#26828e\"],[0.5555555555555556,\"#1f9e89\"],[0.6666666666666666,\"#35b779\"],[0.7777777777777778,\"#6ece58\"],[0.8888888888888888,\"#b5de2b\"],[1.0,\"#fde725\"]],\"locationmode\":\"USA-states\",\"locations\":[\"AK\",\"AL\",\"AR\",\"AZ\",\"CA\",\"CO\",\"CT\",\"DC\",\"DE\",\"FL\",\"GA\",\"HI\",\"IA\",\"ID\",\"IL\",\"IN\",\"KS\",\"KY\",\"LA\",\"MA\",\"MD\",\"ME\",\"MI\",\"MN\",\"MO\",\"MS\",\"MT\",\"NC\",\"ND\",\"NE\",\"NH\",\"NJ\",\"NM\",\"NV\",\"NY\",\"OH\",\"OK\",\"OR\",\"PA\",\"RI\",\"SC\",\"SD\",\"TN\",\"TX\",\"UT\",\"VA\",\"VT\",\"WA\",\"WI\",\"WV\",\"WY\"],\"z\":[24.2,25.37,22.07,20.23,9.07,17.57,7.07,27.37,14.13,14.57,20.3,4.67,11.1,16.8,15.23,18.13,17.9,19.63,28.23,3.8,14.07,12.3,15.37,10.3,23.6,30.6,24.6,17.3,16.03,11.37,9.43,5.4,27.5,19.5,5.57,16.13,20.17,15.67,15.4,4.6,21.47,15.43,22.07,16.03,12.6,15.17,13.5,12.73,14.5,17.67,25.93],\"type\":\"choropleth\"},{\"locationmode\":\"USA-states\",\"locations\":[\"AK\",\"AL\",\"AR\",\"AZ\",\"CA\",\"CO\",\"CT\",\"DC\",\"DE\",\"FL\",\"GA\",\"HI\",\"IA\",\"ID\",\"IL\",\"IN\",\"KS\",\"KY\",\"LA\",\"MA\",\"MD\",\"ME\",\"MI\",\"MN\",\"MO\",\"MS\",\"MT\",\"NC\",\"ND\",\"NE\",\"NH\",\"NJ\",\"NM\",\"NV\",\"NY\",\"OH\",\"OK\",\"OR\",\"PA\",\"RI\",\"SC\",\"SD\",\"TN\",\"TX\",\"UT\",\"VA\",\"VT\",\"WA\",\"WI\",\"WV\",\"WY\"],\"mode\":\"text\",\"text\":[24.2,25.37,22.07,20.23,9.07,17.57,7.07,27.37,14.13,14.57,20.3,4.67,11.1,16.8,15.23,18.13,17.9,19.63,28.23,3.8,14.07,12.3,15.37,10.3,23.6,30.6,24.6,17.3,16.03,11.37,9.43,5.4,27.5,19.5,5.57,16.13,20.17,15.67,15.4,4.6,21.47,15.43,22.07,16.03,12.6,15.17,13.5,12.73,14.5,17.67,25.93],\"textfont\":{\"color\":\"red\"},\"type\":\"scattergeo\"}],                        {\"template\":{\"data\":{\"histogram2dcontour\":[{\"type\":\"histogram2dcontour\",\"colorbar\":{\"outlinewidth\":0,\"ticks\":\"\"},\"colorscale\":[[0.0,\"#0d0887\"],[0.1111111111111111,\"#46039f\"],[0.2222222222222222,\"#7201a8\"],[0.3333333333333333,\"#9c179e\"],[0.4444444444444444,\"#bd3786\"],[0.5555555555555556,\"#d8576b\"],[0.6666666666666666,\"#ed7953\"],[0.7777777777777778,\"#fb9f3a\"],[0.8888888888888888,\"#fdca26\"],[1.0,\"#f0f921\"]]}],\"choropleth\":[{\"type\":\"choropleth\",\"colorbar\":{\"outlinewidth\":0,\"ticks\":\"\"}}],\"histogram2d\":[{\"type\":\"histogram2d\",\"colorbar\":{\"outlinewidth\":0,\"ticks\":\"\"},\"colorscale\":[[0.0,\"#0d0887\"],[0.1111111111111111,\"#46039f\"],[0.2222222222222222,\"#7201a8\"],[0.3333333333333333,\"#9c179e\"],[0.4444444444444444,\"#bd3786\"],[0.5555555555555556,\"#d8576b\"],[0.6666666666666666,\"#ed7953\"],[0.7777777777777778,\"#fb9f3a\"],[0.8888888888888888,\"#fdca26\"],[1.0,\"#f0f921\"]]}],\"heatmap\":[{\"type\":\"heatmap\",\"colorbar\":{\"outlinewidth\":0,\"ticks\":\"\"},\"colorscale\":[[0.0,\"#0d0887\"],[0.1111111111111111,\"#46039f\"],[0.2222222222222222,\"#7201a8\"],[0.3333333333333333,\"#9c179e\"],[0.4444444444444444,\"#bd3786\"],[0.5555555555555556,\"#d8576b\"],[0.6666666666666666,\"#ed7953\"],[0.7777777777777778,\"#fb9f3a\"],[0.8888888888888888,\"#fdca26\"],[1.0,\"#f0f921\"]]}],\"heatmapgl\":[{\"type\":\"heatmapgl\",\"colorbar\":{\"outlinewidth\":0,\"ticks\":\"\"},\"colorscale\":[[0.0,\"#0d0887\"],[0.1111111111111111,\"#46039f\"],[0.2222222222222222,\"#7201a8\"],[0.3333333333333333,\"#9c179e\"],[0.4444444444444444,\"#bd3786\"],[0.5555555555555556,\"#d8576b\"],[0.6666666666666666,\"#ed7953\"],[0.7777777777777778,\"#fb9f3a\"],[0.8888888888888888,\"#fdca26\"],[1.0,\"#f0f921\"]]}],\"contourcarpet\":[{\"type\":\"contourcarpet\",\"colorbar\":{\"outlinewidth\":0,\"ticks\":\"\"}}],\"contour\":[{\"type\":\"contour\",\"colorbar\":{\"outlinewidth\":0,\"ticks\":\"\"},\"colorscale\":[[0.0,\"#0d0887\"],[0.1111111111111111,\"#46039f\"],[0.2222222222222222,\"#7201a8\"],[0.3333333333333333,\"#9c179e\"],[0.4444444444444444,\"#bd3786\"],[0.5555555555555556,\"#d8576b\"],[0.6666666666666666,\"#ed7953\"],[0.7777777777777778,\"#fb9f3a\"],[0.8888888888888888,\"#fdca26\"],[1.0,\"#f0f921\"]]}],\"surface\":[{\"type\":\"surface\",\"colorbar\":{\"outlinewidth\":0,\"ticks\":\"\"},\"colorscale\":[[0.0,\"#0d0887\"],[0.1111111111111111,\"#46039f\"],[0.2222222222222222,\"#7201a8\"],[0.3333333333333333,\"#9c179e\"],[0.4444444444444444,\"#bd3786\"],[0.5555555555555556,\"#d8576b\"],[0.6666666666666666,\"#ed7953\"],[0.7777777777777778,\"#fb9f3a\"],[0.8888888888888888,\"#fdca26\"],[1.0,\"#f0f921\"]]}],\"mesh3d\":[{\"type\":\"mesh3d\",\"colorbar\":{\"outlinewidth\":0,\"ticks\":\"\"}}],\"scatter\":[{\"fillpattern\":{\"fillmode\":\"overlay\",\"size\":10,\"solidity\":0.2},\"type\":\"scatter\"}],\"parcoords\":[{\"type\":\"parcoords\",\"line\":{\"colorbar\":{\"outlinewidth\":0,\"ticks\":\"\"}}}],\"scatterpolargl\":[{\"type\":\"scatterpolargl\",\"marker\":{\"colorbar\":{\"outlinewidth\":0,\"ticks\":\"\"}}}],\"bar\":[{\"error_x\":{\"color\":\"#2a3f5f\"},\"error_y\":{\"color\":\"#2a3f5f\"},\"marker\":{\"line\":{\"color\":\"#E5ECF6\",\"width\":0.5},\"pattern\":{\"fillmode\":\"overlay\",\"size\":10,\"solidity\":0.2}},\"type\":\"bar\"}],\"scattergeo\":[{\"type\":\"scattergeo\",\"marker\":{\"colorbar\":{\"outlinewidth\":0,\"ticks\":\"\"}}}],\"scatterpolar\":[{\"type\":\"scatterpolar\",\"marker\":{\"colorbar\":{\"outlinewidth\":0,\"ticks\":\"\"}}}],\"histogram\":[{\"marker\":{\"pattern\":{\"fillmode\":\"overlay\",\"size\":10,\"solidity\":0.2}},\"type\":\"histogram\"}],\"scattergl\":[{\"type\":\"scattergl\",\"marker\":{\"colorbar\":{\"outlinewidth\":0,\"ticks\":\"\"}}}],\"scatter3d\":[{\"type\":\"scatter3d\",\"line\":{\"colorbar\":{\"outlinewidth\":0,\"ticks\":\"\"}},\"marker\":{\"colorbar\":{\"outlinewidth\":0,\"ticks\":\"\"}}}],\"scattermapbox\":[{\"type\":\"scattermapbox\",\"marker\":{\"colorbar\":{\"outlinewidth\":0,\"ticks\":\"\"}}}],\"scatterternary\":[{\"type\":\"scatterternary\",\"marker\":{\"colorbar\":{\"outlinewidth\":0,\"ticks\":\"\"}}}],\"scattercarpet\":[{\"type\":\"scattercarpet\",\"marker\":{\"colorbar\":{\"outlinewidth\":0,\"ticks\":\"\"}}}],\"carpet\":[{\"aaxis\":{\"endlinecolor\":\"#2a3f5f\",\"gridcolor\":\"white\",\"linecolor\":\"white\",\"minorgridcolor\":\"white\",\"startlinecolor\":\"#2a3f5f\"},\"baxis\":{\"endlinecolor\":\"#2a3f5f\",\"gridcolor\":\"white\",\"linecolor\":\"white\",\"minorgridcolor\":\"white\",\"startlinecolor\":\"#2a3f5f\"},\"type\":\"carpet\"}],\"table\":[{\"cells\":{\"fill\":{\"color\":\"#EBF0F8\"},\"line\":{\"color\":\"white\"}},\"header\":{\"fill\":{\"color\":\"#C8D4E3\"},\"line\":{\"color\":\"white\"}},\"type\":\"table\"}],\"barpolar\":[{\"marker\":{\"line\":{\"color\":\"#E5ECF6\",\"width\":0.5},\"pattern\":{\"fillmode\":\"overlay\",\"size\":10,\"solidity\":0.2}},\"type\":\"barpolar\"}],\"pie\":[{\"automargin\":true,\"type\":\"pie\"}]},\"layout\":{\"autotypenumbers\":\"strict\",\"colorway\":[\"#636efa\",\"#EF553B\",\"#00cc96\",\"#ab63fa\",\"#FFA15A\",\"#19d3f3\",\"#FF6692\",\"#B6E880\",\"#FF97FF\",\"#FECB52\"],\"font\":{\"color\":\"#2a3f5f\"},\"hovermode\":\"closest\",\"hoverlabel\":{\"align\":\"left\"},\"paper_bgcolor\":\"white\",\"plot_bgcolor\":\"#E5ECF6\",\"polar\":{\"bgcolor\":\"#E5ECF6\",\"angularaxis\":{\"gridcolor\":\"white\",\"linecolor\":\"white\",\"ticks\":\"\"},\"radialaxis\":{\"gridcolor\":\"white\",\"linecolor\":\"white\",\"ticks\":\"\"}},\"ternary\":{\"bgcolor\":\"#E5ECF6\",\"aaxis\":{\"gridcolor\":\"white\",\"linecolor\":\"white\",\"ticks\":\"\"},\"baxis\":{\"gridcolor\":\"white\",\"linecolor\":\"white\",\"ticks\":\"\"},\"caxis\":{\"gridcolor\":\"white\",\"linecolor\":\"white\",\"ticks\":\"\"}},\"coloraxis\":{\"colorbar\":{\"outlinewidth\":0,\"ticks\":\"\"}},\"colorscale\":{\"sequential\":[[0.0,\"#0d0887\"],[0.1111111111111111,\"#46039f\"],[0.2222222222222222,\"#7201a8\"],[0.3333333333333333,\"#9c179e\"],[0.4444444444444444,\"#bd3786\"],[0.5555555555555556,\"#d8576b\"],[0.6666666666666666,\"#ed7953\"],[0.7777777777777778,\"#fb9f3a\"],[0.8888888888888888,\"#fdca26\"],[1.0,\"#f0f921\"]],\"sequentialminus\":[[0.0,\"#0d0887\"],[0.1111111111111111,\"#46039f\"],[0.2222222222222222,\"#7201a8\"],[0.3333333333333333,\"#9c179e\"],[0.4444444444444444,\"#bd3786\"],[0.5555555555555556,\"#d8576b\"],[0.6666666666666666,\"#ed7953\"],[0.7777777777777778,\"#fb9f3a\"],[0.8888888888888888,\"#fdca26\"],[1.0,\"#f0f921\"]],\"diverging\":[[0,\"#8e0152\"],[0.1,\"#c51b7d\"],[0.2,\"#de77ae\"],[0.3,\"#f1b6da\"],[0.4,\"#fde0ef\"],[0.5,\"#f7f7f7\"],[0.6,\"#e6f5d0\"],[0.7,\"#b8e186\"],[0.8,\"#7fbc41\"],[0.9,\"#4d9221\"],[1,\"#276419\"]]},\"xaxis\":{\"gridcolor\":\"white\",\"linecolor\":\"white\",\"ticks\":\"\",\"title\":{\"standoff\":15},\"zerolinecolor\":\"white\",\"automargin\":true,\"zerolinewidth\":2},\"yaxis\":{\"gridcolor\":\"white\",\"linecolor\":\"white\",\"ticks\":\"\",\"title\":{\"standoff\":15},\"zerolinecolor\":\"white\",\"automargin\":true,\"zerolinewidth\":2},\"scene\":{\"xaxis\":{\"backgroundcolor\":\"#E5ECF6\",\"gridcolor\":\"white\",\"linecolor\":\"white\",\"showbackground\":true,\"ticks\":\"\",\"zerolinecolor\":\"white\",\"gridwidth\":2},\"yaxis\":{\"backgroundcolor\":\"#E5ECF6\",\"gridcolor\":\"white\",\"linecolor\":\"white\",\"showbackground\":true,\"ticks\":\"\",\"zerolinecolor\":\"white\",\"gridwidth\":2},\"zaxis\":{\"backgroundcolor\":\"#E5ECF6\",\"gridcolor\":\"white\",\"linecolor\":\"white\",\"showbackground\":true,\"ticks\":\"\",\"zerolinecolor\":\"white\",\"gridwidth\":2}},\"shapedefaults\":{\"line\":{\"color\":\"#2a3f5f\"}},\"annotationdefaults\":{\"arrowcolor\":\"#2a3f5f\",\"arrowhead\":0,\"arrowwidth\":1},\"geo\":{\"bgcolor\":\"white\",\"landcolor\":\"#E5ECF6\",\"subunitcolor\":\"white\",\"showland\":true,\"showlakes\":true,\"lakecolor\":\"white\"},\"title\":{\"x\":0.05},\"mapbox\":{\"style\":\"light\"}}},\"title\":{\"text\":\"State Death Rate by Firearm-Related Injury\"},\"geo\":{\"scope\":\"usa\"},\"font\":{\"color\":\"red\",\"size\":10,\"family\":\"Arial Black\"}},                        {\"responsive\": true}                    ).then(function(){\n",
       "                            \n",
       "var gd = document.getElementById('b20a19a3-4806-4eeb-85a2-0f173d3abc19');\n",
       "var x = new MutationObserver(function (mutations, observer) {{\n",
       "        var display = window.getComputedStyle(gd).display;\n",
       "        if (!display || display === 'none') {{\n",
       "            console.log([gd, 'removed!']);\n",
       "            Plotly.purge(gd);\n",
       "            observer.disconnect();\n",
       "        }}\n",
       "}});\n",
       "\n",
       "// Listen for the removal of the full notebook cells\n",
       "var notebookContainer = gd.closest('#notebook-container');\n",
       "if (notebookContainer) {{\n",
       "    x.observe(notebookContainer, {childList: true});\n",
       "}}\n",
       "\n",
       "// Listen for the clearing of the current output cell\n",
       "var outputEl = gd.closest('.output');\n",
       "if (outputEl) {{\n",
       "    x.observe(outputEl, {childList: true});\n",
       "}}\n",
       "\n",
       "                        })                };                });            </script>        </div>"
      ]
     },
     "metadata": {},
     "output_type": "display_data"
    }
   ],
   "source": [
    "import plotly.graph_objects as go\n",
    "\n",
    "fig = go.Figure(data=go.Choropleth(\n",
    "    locations=avg_2022['state'], # Spatial coordinates\n",
    "    z = avg_2022['Death_Rate'].astype(float), # Data to be color-coded\n",
    "    locationmode = 'USA-states', # set of locations match entries in `locations`\n",
    "    colorscale = 'Viridis',\n",
    "    colorbar_title = \"Death Rate by 100k People\"\n",
    "))\n",
    "\n",
    "fig.add_scattergeo(\n",
    "    locations=avg_2022['state'],\n",
    "    locationmode=\"USA-states\", \n",
    "    text=avg_2022['Death_Rate'],\n",
    "    mode='text',\n",
    "    textfont=dict(color='red')\n",
    ")\n",
    "\n",
    "fig.update_layout(\n",
    "    title_text = 'State Death Rate by Firearm-Related Injury',\n",
    "    geo_scope='usa', # limite map scope to USA\n",
    "    font = dict(color='red',size = 10,family = 'Arial Black')\n",
    ")\n",
    "\n",
    "fig.show()\n",
    "\n",
    "\n"
   ]
  },
  {
   "cell_type": "code",
   "execution_count": 264,
   "id": "d55d6f88",
   "metadata": {},
   "outputs": [
    {
     "data": {
      "application/vnd.plotly.v1+json": {
       "config": {
        "plotlyServerURL": "https://plot.ly"
       },
       "data": [
        {
         "colorbar": {
          "title": {
           "text": "Death Rate by 100k People"
          }
         },
         "colorscale": [
          [
           0,
           "#440154"
          ],
          [
           0.1111111111111111,
           "#482878"
          ],
          [
           0.2222222222222222,
           "#3e4989"
          ],
          [
           0.3333333333333333,
           "#31688e"
          ],
          [
           0.4444444444444444,
           "#26828e"
          ],
          [
           0.5555555555555556,
           "#1f9e89"
          ],
          [
           0.6666666666666666,
           "#35b779"
          ],
          [
           0.7777777777777778,
           "#6ece58"
          ],
          [
           0.8888888888888888,
           "#b5de2b"
          ],
          [
           1,
           "#fde725"
          ]
         ],
         "locationmode": "USA-states",
         "locations": [
          "AK",
          "AL",
          "AR",
          "AZ",
          "CA",
          "CO",
          "CT",
          "DC",
          "DE",
          "FL",
          "GA",
          "HI",
          "IA",
          "ID",
          "IL",
          "IN",
          "KS",
          "KY",
          "LA",
          "MA",
          "MD",
          "ME",
          "MI",
          "MN",
          "MO",
          "MS",
          "MT",
          "NC",
          "ND",
          "NE",
          "NH",
          "NJ",
          "NM",
          "NV",
          "NY",
          "OH",
          "OK",
          "OR",
          "PA",
          "RI",
          "SC",
          "SD",
          "TN",
          "TX",
          "UT",
          "VA",
          "VT",
          "WA",
          "WI",
          "WV",
          "WY"
         ],
         "type": "choropleth",
         "z": [
          24.2,
          25.37,
          22.07,
          20.23,
          9.07,
          17.57,
          7.07,
          27.37,
          14.13,
          14.57,
          20.3,
          4.67,
          11.1,
          16.8,
          15.23,
          18.13,
          17.9,
          19.63,
          28.23,
          3.8,
          14.07,
          12.3,
          15.37,
          10.3,
          23.6,
          30.6,
          24.6,
          17.3,
          16.03,
          11.37,
          9.43,
          5.4,
          27.5,
          19.5,
          5.57,
          16.13,
          20.17,
          15.67,
          15.4,
          4.6,
          21.47,
          15.43,
          22.07,
          16.03,
          12.6,
          15.17,
          13.5,
          12.73,
          14.5,
          17.67,
          25.93
         ]
        }
       ],
       "layout": {
        "font": {
         "color": "red",
         "family": "Arial Black",
         "size": 10
        },
        "geo": {
         "scope": "usa"
        },
        "template": {
         "data": {
          "bar": [
           {
            "error_x": {
             "color": "#2a3f5f"
            },
            "error_y": {
             "color": "#2a3f5f"
            },
            "marker": {
             "line": {
              "color": "#E5ECF6",
              "width": 0.5
             },
             "pattern": {
              "fillmode": "overlay",
              "size": 10,
              "solidity": 0.2
             }
            },
            "type": "bar"
           }
          ],
          "barpolar": [
           {
            "marker": {
             "line": {
              "color": "#E5ECF6",
              "width": 0.5
             },
             "pattern": {
              "fillmode": "overlay",
              "size": 10,
              "solidity": 0.2
             }
            },
            "type": "barpolar"
           }
          ],
          "carpet": [
           {
            "aaxis": {
             "endlinecolor": "#2a3f5f",
             "gridcolor": "white",
             "linecolor": "white",
             "minorgridcolor": "white",
             "startlinecolor": "#2a3f5f"
            },
            "baxis": {
             "endlinecolor": "#2a3f5f",
             "gridcolor": "white",
             "linecolor": "white",
             "minorgridcolor": "white",
             "startlinecolor": "#2a3f5f"
            },
            "type": "carpet"
           }
          ],
          "choropleth": [
           {
            "colorbar": {
             "outlinewidth": 0,
             "ticks": ""
            },
            "type": "choropleth"
           }
          ],
          "contour": [
           {
            "colorbar": {
             "outlinewidth": 0,
             "ticks": ""
            },
            "colorscale": [
             [
              0,
              "#0d0887"
             ],
             [
              0.1111111111111111,
              "#46039f"
             ],
             [
              0.2222222222222222,
              "#7201a8"
             ],
             [
              0.3333333333333333,
              "#9c179e"
             ],
             [
              0.4444444444444444,
              "#bd3786"
             ],
             [
              0.5555555555555556,
              "#d8576b"
             ],
             [
              0.6666666666666666,
              "#ed7953"
             ],
             [
              0.7777777777777778,
              "#fb9f3a"
             ],
             [
              0.8888888888888888,
              "#fdca26"
             ],
             [
              1,
              "#f0f921"
             ]
            ],
            "type": "contour"
           }
          ],
          "contourcarpet": [
           {
            "colorbar": {
             "outlinewidth": 0,
             "ticks": ""
            },
            "type": "contourcarpet"
           }
          ],
          "heatmap": [
           {
            "colorbar": {
             "outlinewidth": 0,
             "ticks": ""
            },
            "colorscale": [
             [
              0,
              "#0d0887"
             ],
             [
              0.1111111111111111,
              "#46039f"
             ],
             [
              0.2222222222222222,
              "#7201a8"
             ],
             [
              0.3333333333333333,
              "#9c179e"
             ],
             [
              0.4444444444444444,
              "#bd3786"
             ],
             [
              0.5555555555555556,
              "#d8576b"
             ],
             [
              0.6666666666666666,
              "#ed7953"
             ],
             [
              0.7777777777777778,
              "#fb9f3a"
             ],
             [
              0.8888888888888888,
              "#fdca26"
             ],
             [
              1,
              "#f0f921"
             ]
            ],
            "type": "heatmap"
           }
          ],
          "heatmapgl": [
           {
            "colorbar": {
             "outlinewidth": 0,
             "ticks": ""
            },
            "colorscale": [
             [
              0,
              "#0d0887"
             ],
             [
              0.1111111111111111,
              "#46039f"
             ],
             [
              0.2222222222222222,
              "#7201a8"
             ],
             [
              0.3333333333333333,
              "#9c179e"
             ],
             [
              0.4444444444444444,
              "#bd3786"
             ],
             [
              0.5555555555555556,
              "#d8576b"
             ],
             [
              0.6666666666666666,
              "#ed7953"
             ],
             [
              0.7777777777777778,
              "#fb9f3a"
             ],
             [
              0.8888888888888888,
              "#fdca26"
             ],
             [
              1,
              "#f0f921"
             ]
            ],
            "type": "heatmapgl"
           }
          ],
          "histogram": [
           {
            "marker": {
             "pattern": {
              "fillmode": "overlay",
              "size": 10,
              "solidity": 0.2
             }
            },
            "type": "histogram"
           }
          ],
          "histogram2d": [
           {
            "colorbar": {
             "outlinewidth": 0,
             "ticks": ""
            },
            "colorscale": [
             [
              0,
              "#0d0887"
             ],
             [
              0.1111111111111111,
              "#46039f"
             ],
             [
              0.2222222222222222,
              "#7201a8"
             ],
             [
              0.3333333333333333,
              "#9c179e"
             ],
             [
              0.4444444444444444,
              "#bd3786"
             ],
             [
              0.5555555555555556,
              "#d8576b"
             ],
             [
              0.6666666666666666,
              "#ed7953"
             ],
             [
              0.7777777777777778,
              "#fb9f3a"
             ],
             [
              0.8888888888888888,
              "#fdca26"
             ],
             [
              1,
              "#f0f921"
             ]
            ],
            "type": "histogram2d"
           }
          ],
          "histogram2dcontour": [
           {
            "colorbar": {
             "outlinewidth": 0,
             "ticks": ""
            },
            "colorscale": [
             [
              0,
              "#0d0887"
             ],
             [
              0.1111111111111111,
              "#46039f"
             ],
             [
              0.2222222222222222,
              "#7201a8"
             ],
             [
              0.3333333333333333,
              "#9c179e"
             ],
             [
              0.4444444444444444,
              "#bd3786"
             ],
             [
              0.5555555555555556,
              "#d8576b"
             ],
             [
              0.6666666666666666,
              "#ed7953"
             ],
             [
              0.7777777777777778,
              "#fb9f3a"
             ],
             [
              0.8888888888888888,
              "#fdca26"
             ],
             [
              1,
              "#f0f921"
             ]
            ],
            "type": "histogram2dcontour"
           }
          ],
          "mesh3d": [
           {
            "colorbar": {
             "outlinewidth": 0,
             "ticks": ""
            },
            "type": "mesh3d"
           }
          ],
          "parcoords": [
           {
            "line": {
             "colorbar": {
              "outlinewidth": 0,
              "ticks": ""
             }
            },
            "type": "parcoords"
           }
          ],
          "pie": [
           {
            "automargin": true,
            "type": "pie"
           }
          ],
          "scatter": [
           {
            "fillpattern": {
             "fillmode": "overlay",
             "size": 10,
             "solidity": 0.2
            },
            "type": "scatter"
           }
          ],
          "scatter3d": [
           {
            "line": {
             "colorbar": {
              "outlinewidth": 0,
              "ticks": ""
             }
            },
            "marker": {
             "colorbar": {
              "outlinewidth": 0,
              "ticks": ""
             }
            },
            "type": "scatter3d"
           }
          ],
          "scattercarpet": [
           {
            "marker": {
             "colorbar": {
              "outlinewidth": 0,
              "ticks": ""
             }
            },
            "type": "scattercarpet"
           }
          ],
          "scattergeo": [
           {
            "marker": {
             "colorbar": {
              "outlinewidth": 0,
              "ticks": ""
             }
            },
            "type": "scattergeo"
           }
          ],
          "scattergl": [
           {
            "marker": {
             "colorbar": {
              "outlinewidth": 0,
              "ticks": ""
             }
            },
            "type": "scattergl"
           }
          ],
          "scattermapbox": [
           {
            "marker": {
             "colorbar": {
              "outlinewidth": 0,
              "ticks": ""
             }
            },
            "type": "scattermapbox"
           }
          ],
          "scatterpolar": [
           {
            "marker": {
             "colorbar": {
              "outlinewidth": 0,
              "ticks": ""
             }
            },
            "type": "scatterpolar"
           }
          ],
          "scatterpolargl": [
           {
            "marker": {
             "colorbar": {
              "outlinewidth": 0,
              "ticks": ""
             }
            },
            "type": "scatterpolargl"
           }
          ],
          "scatterternary": [
           {
            "marker": {
             "colorbar": {
              "outlinewidth": 0,
              "ticks": ""
             }
            },
            "type": "scatterternary"
           }
          ],
          "surface": [
           {
            "colorbar": {
             "outlinewidth": 0,
             "ticks": ""
            },
            "colorscale": [
             [
              0,
              "#0d0887"
             ],
             [
              0.1111111111111111,
              "#46039f"
             ],
             [
              0.2222222222222222,
              "#7201a8"
             ],
             [
              0.3333333333333333,
              "#9c179e"
             ],
             [
              0.4444444444444444,
              "#bd3786"
             ],
             [
              0.5555555555555556,
              "#d8576b"
             ],
             [
              0.6666666666666666,
              "#ed7953"
             ],
             [
              0.7777777777777778,
              "#fb9f3a"
             ],
             [
              0.8888888888888888,
              "#fdca26"
             ],
             [
              1,
              "#f0f921"
             ]
            ],
            "type": "surface"
           }
          ],
          "table": [
           {
            "cells": {
             "fill": {
              "color": "#EBF0F8"
             },
             "line": {
              "color": "white"
             }
            },
            "header": {
             "fill": {
              "color": "#C8D4E3"
             },
             "line": {
              "color": "white"
             }
            },
            "type": "table"
           }
          ]
         },
         "layout": {
          "annotationdefaults": {
           "arrowcolor": "#2a3f5f",
           "arrowhead": 0,
           "arrowwidth": 1
          },
          "autotypenumbers": "strict",
          "coloraxis": {
           "colorbar": {
            "outlinewidth": 0,
            "ticks": ""
           }
          },
          "colorscale": {
           "diverging": [
            [
             0,
             "#8e0152"
            ],
            [
             0.1,
             "#c51b7d"
            ],
            [
             0.2,
             "#de77ae"
            ],
            [
             0.3,
             "#f1b6da"
            ],
            [
             0.4,
             "#fde0ef"
            ],
            [
             0.5,
             "#f7f7f7"
            ],
            [
             0.6,
             "#e6f5d0"
            ],
            [
             0.7,
             "#b8e186"
            ],
            [
             0.8,
             "#7fbc41"
            ],
            [
             0.9,
             "#4d9221"
            ],
            [
             1,
             "#276419"
            ]
           ],
           "sequential": [
            [
             0,
             "#0d0887"
            ],
            [
             0.1111111111111111,
             "#46039f"
            ],
            [
             0.2222222222222222,
             "#7201a8"
            ],
            [
             0.3333333333333333,
             "#9c179e"
            ],
            [
             0.4444444444444444,
             "#bd3786"
            ],
            [
             0.5555555555555556,
             "#d8576b"
            ],
            [
             0.6666666666666666,
             "#ed7953"
            ],
            [
             0.7777777777777778,
             "#fb9f3a"
            ],
            [
             0.8888888888888888,
             "#fdca26"
            ],
            [
             1,
             "#f0f921"
            ]
           ],
           "sequentialminus": [
            [
             0,
             "#0d0887"
            ],
            [
             0.1111111111111111,
             "#46039f"
            ],
            [
             0.2222222222222222,
             "#7201a8"
            ],
            [
             0.3333333333333333,
             "#9c179e"
            ],
            [
             0.4444444444444444,
             "#bd3786"
            ],
            [
             0.5555555555555556,
             "#d8576b"
            ],
            [
             0.6666666666666666,
             "#ed7953"
            ],
            [
             0.7777777777777778,
             "#fb9f3a"
            ],
            [
             0.8888888888888888,
             "#fdca26"
            ],
            [
             1,
             "#f0f921"
            ]
           ]
          },
          "colorway": [
           "#636efa",
           "#EF553B",
           "#00cc96",
           "#ab63fa",
           "#FFA15A",
           "#19d3f3",
           "#FF6692",
           "#B6E880",
           "#FF97FF",
           "#FECB52"
          ],
          "font": {
           "color": "#2a3f5f"
          },
          "geo": {
           "bgcolor": "white",
           "lakecolor": "white",
           "landcolor": "#E5ECF6",
           "showlakes": true,
           "showland": true,
           "subunitcolor": "white"
          },
          "hoverlabel": {
           "align": "left"
          },
          "hovermode": "closest",
          "mapbox": {
           "style": "light"
          },
          "paper_bgcolor": "white",
          "plot_bgcolor": "#E5ECF6",
          "polar": {
           "angularaxis": {
            "gridcolor": "white",
            "linecolor": "white",
            "ticks": ""
           },
           "bgcolor": "#E5ECF6",
           "radialaxis": {
            "gridcolor": "white",
            "linecolor": "white",
            "ticks": ""
           }
          },
          "scene": {
           "xaxis": {
            "backgroundcolor": "#E5ECF6",
            "gridcolor": "white",
            "gridwidth": 2,
            "linecolor": "white",
            "showbackground": true,
            "ticks": "",
            "zerolinecolor": "white"
           },
           "yaxis": {
            "backgroundcolor": "#E5ECF6",
            "gridcolor": "white",
            "gridwidth": 2,
            "linecolor": "white",
            "showbackground": true,
            "ticks": "",
            "zerolinecolor": "white"
           },
           "zaxis": {
            "backgroundcolor": "#E5ECF6",
            "gridcolor": "white",
            "gridwidth": 2,
            "linecolor": "white",
            "showbackground": true,
            "ticks": "",
            "zerolinecolor": "white"
           }
          },
          "shapedefaults": {
           "line": {
            "color": "#2a3f5f"
           }
          },
          "ternary": {
           "aaxis": {
            "gridcolor": "white",
            "linecolor": "white",
            "ticks": ""
           },
           "baxis": {
            "gridcolor": "white",
            "linecolor": "white",
            "ticks": ""
           },
           "bgcolor": "#E5ECF6",
           "caxis": {
            "gridcolor": "white",
            "linecolor": "white",
            "ticks": ""
           }
          },
          "title": {
           "x": 0.05
          },
          "xaxis": {
           "automargin": true,
           "gridcolor": "white",
           "linecolor": "white",
           "ticks": "",
           "title": {
            "standoff": 15
           },
           "zerolinecolor": "white",
           "zerolinewidth": 2
          },
          "yaxis": {
           "automargin": true,
           "gridcolor": "white",
           "linecolor": "white",
           "ticks": "",
           "title": {
            "standoff": 15
           },
           "zerolinecolor": "white",
           "zerolinewidth": 2
          }
         }
        },
        "title": {
         "text": "State Death Rate by Firearm-Related Injury"
        }
       }
      },
      "text/html": [
       "<div>                            <div id=\"f4ce96f0-d2ed-449a-809f-7f2c2a622ff7\" class=\"plotly-graph-div\" style=\"height:525px; width:100%;\"></div>            <script type=\"text/javascript\">                require([\"plotly\"], function(Plotly) {                    window.PLOTLYENV=window.PLOTLYENV || {};                                    if (document.getElementById(\"f4ce96f0-d2ed-449a-809f-7f2c2a622ff7\")) {                    Plotly.newPlot(                        \"f4ce96f0-d2ed-449a-809f-7f2c2a622ff7\",                        [{\"colorbar\":{\"title\":{\"text\":\"Death Rate by 100k People\"}},\"colorscale\":[[0.0,\"#440154\"],[0.1111111111111111,\"#482878\"],[0.2222222222222222,\"#3e4989\"],[0.3333333333333333,\"#31688e\"],[0.4444444444444444,\"#26828e\"],[0.5555555555555556,\"#1f9e89\"],[0.6666666666666666,\"#35b779\"],[0.7777777777777778,\"#6ece58\"],[0.8888888888888888,\"#b5de2b\"],[1.0,\"#fde725\"]],\"locationmode\":\"USA-states\",\"locations\":[\"AK\",\"AL\",\"AR\",\"AZ\",\"CA\",\"CO\",\"CT\",\"DC\",\"DE\",\"FL\",\"GA\",\"HI\",\"IA\",\"ID\",\"IL\",\"IN\",\"KS\",\"KY\",\"LA\",\"MA\",\"MD\",\"ME\",\"MI\",\"MN\",\"MO\",\"MS\",\"MT\",\"NC\",\"ND\",\"NE\",\"NH\",\"NJ\",\"NM\",\"NV\",\"NY\",\"OH\",\"OK\",\"OR\",\"PA\",\"RI\",\"SC\",\"SD\",\"TN\",\"TX\",\"UT\",\"VA\",\"VT\",\"WA\",\"WI\",\"WV\",\"WY\"],\"z\":[24.2,25.37,22.07,20.23,9.07,17.57,7.07,27.37,14.13,14.57,20.3,4.67,11.1,16.8,15.23,18.13,17.9,19.63,28.23,3.8,14.07,12.3,15.37,10.3,23.6,30.6,24.6,17.3,16.03,11.37,9.43,5.4,27.5,19.5,5.57,16.13,20.17,15.67,15.4,4.6,21.47,15.43,22.07,16.03,12.6,15.17,13.5,12.73,14.5,17.67,25.93],\"type\":\"choropleth\"}],                        {\"template\":{\"data\":{\"histogram2dcontour\":[{\"type\":\"histogram2dcontour\",\"colorbar\":{\"outlinewidth\":0,\"ticks\":\"\"},\"colorscale\":[[0.0,\"#0d0887\"],[0.1111111111111111,\"#46039f\"],[0.2222222222222222,\"#7201a8\"],[0.3333333333333333,\"#9c179e\"],[0.4444444444444444,\"#bd3786\"],[0.5555555555555556,\"#d8576b\"],[0.6666666666666666,\"#ed7953\"],[0.7777777777777778,\"#fb9f3a\"],[0.8888888888888888,\"#fdca26\"],[1.0,\"#f0f921\"]]}],\"choropleth\":[{\"type\":\"choropleth\",\"colorbar\":{\"outlinewidth\":0,\"ticks\":\"\"}}],\"histogram2d\":[{\"type\":\"histogram2d\",\"colorbar\":{\"outlinewidth\":0,\"ticks\":\"\"},\"colorscale\":[[0.0,\"#0d0887\"],[0.1111111111111111,\"#46039f\"],[0.2222222222222222,\"#7201a8\"],[0.3333333333333333,\"#9c179e\"],[0.4444444444444444,\"#bd3786\"],[0.5555555555555556,\"#d8576b\"],[0.6666666666666666,\"#ed7953\"],[0.7777777777777778,\"#fb9f3a\"],[0.8888888888888888,\"#fdca26\"],[1.0,\"#f0f921\"]]}],\"heatmap\":[{\"type\":\"heatmap\",\"colorbar\":{\"outlinewidth\":0,\"ticks\":\"\"},\"colorscale\":[[0.0,\"#0d0887\"],[0.1111111111111111,\"#46039f\"],[0.2222222222222222,\"#7201a8\"],[0.3333333333333333,\"#9c179e\"],[0.4444444444444444,\"#bd3786\"],[0.5555555555555556,\"#d8576b\"],[0.6666666666666666,\"#ed7953\"],[0.7777777777777778,\"#fb9f3a\"],[0.8888888888888888,\"#fdca26\"],[1.0,\"#f0f921\"]]}],\"heatmapgl\":[{\"type\":\"heatmapgl\",\"colorbar\":{\"outlinewidth\":0,\"ticks\":\"\"},\"colorscale\":[[0.0,\"#0d0887\"],[0.1111111111111111,\"#46039f\"],[0.2222222222222222,\"#7201a8\"],[0.3333333333333333,\"#9c179e\"],[0.4444444444444444,\"#bd3786\"],[0.5555555555555556,\"#d8576b\"],[0.6666666666666666,\"#ed7953\"],[0.7777777777777778,\"#fb9f3a\"],[0.8888888888888888,\"#fdca26\"],[1.0,\"#f0f921\"]]}],\"contourcarpet\":[{\"type\":\"contourcarpet\",\"colorbar\":{\"outlinewidth\":0,\"ticks\":\"\"}}],\"contour\":[{\"type\":\"contour\",\"colorbar\":{\"outlinewidth\":0,\"ticks\":\"\"},\"colorscale\":[[0.0,\"#0d0887\"],[0.1111111111111111,\"#46039f\"],[0.2222222222222222,\"#7201a8\"],[0.3333333333333333,\"#9c179e\"],[0.4444444444444444,\"#bd3786\"],[0.5555555555555556,\"#d8576b\"],[0.6666666666666666,\"#ed7953\"],[0.7777777777777778,\"#fb9f3a\"],[0.8888888888888888,\"#fdca26\"],[1.0,\"#f0f921\"]]}],\"surface\":[{\"type\":\"surface\",\"colorbar\":{\"outlinewidth\":0,\"ticks\":\"\"},\"colorscale\":[[0.0,\"#0d0887\"],[0.1111111111111111,\"#46039f\"],[0.2222222222222222,\"#7201a8\"],[0.3333333333333333,\"#9c179e\"],[0.4444444444444444,\"#bd3786\"],[0.5555555555555556,\"#d8576b\"],[0.6666666666666666,\"#ed7953\"],[0.7777777777777778,\"#fb9f3a\"],[0.8888888888888888,\"#fdca26\"],[1.0,\"#f0f921\"]]}],\"mesh3d\":[{\"type\":\"mesh3d\",\"colorbar\":{\"outlinewidth\":0,\"ticks\":\"\"}}],\"scatter\":[{\"fillpattern\":{\"fillmode\":\"overlay\",\"size\":10,\"solidity\":0.2},\"type\":\"scatter\"}],\"parcoords\":[{\"type\":\"parcoords\",\"line\":{\"colorbar\":{\"outlinewidth\":0,\"ticks\":\"\"}}}],\"scatterpolargl\":[{\"type\":\"scatterpolargl\",\"marker\":{\"colorbar\":{\"outlinewidth\":0,\"ticks\":\"\"}}}],\"bar\":[{\"error_x\":{\"color\":\"#2a3f5f\"},\"error_y\":{\"color\":\"#2a3f5f\"},\"marker\":{\"line\":{\"color\":\"#E5ECF6\",\"width\":0.5},\"pattern\":{\"fillmode\":\"overlay\",\"size\":10,\"solidity\":0.2}},\"type\":\"bar\"}],\"scattergeo\":[{\"type\":\"scattergeo\",\"marker\":{\"colorbar\":{\"outlinewidth\":0,\"ticks\":\"\"}}}],\"scatterpolar\":[{\"type\":\"scatterpolar\",\"marker\":{\"colorbar\":{\"outlinewidth\":0,\"ticks\":\"\"}}}],\"histogram\":[{\"marker\":{\"pattern\":{\"fillmode\":\"overlay\",\"size\":10,\"solidity\":0.2}},\"type\":\"histogram\"}],\"scattergl\":[{\"type\":\"scattergl\",\"marker\":{\"colorbar\":{\"outlinewidth\":0,\"ticks\":\"\"}}}],\"scatter3d\":[{\"type\":\"scatter3d\",\"line\":{\"colorbar\":{\"outlinewidth\":0,\"ticks\":\"\"}},\"marker\":{\"colorbar\":{\"outlinewidth\":0,\"ticks\":\"\"}}}],\"scattermapbox\":[{\"type\":\"scattermapbox\",\"marker\":{\"colorbar\":{\"outlinewidth\":0,\"ticks\":\"\"}}}],\"scatterternary\":[{\"type\":\"scatterternary\",\"marker\":{\"colorbar\":{\"outlinewidth\":0,\"ticks\":\"\"}}}],\"scattercarpet\":[{\"type\":\"scattercarpet\",\"marker\":{\"colorbar\":{\"outlinewidth\":0,\"ticks\":\"\"}}}],\"carpet\":[{\"aaxis\":{\"endlinecolor\":\"#2a3f5f\",\"gridcolor\":\"white\",\"linecolor\":\"white\",\"minorgridcolor\":\"white\",\"startlinecolor\":\"#2a3f5f\"},\"baxis\":{\"endlinecolor\":\"#2a3f5f\",\"gridcolor\":\"white\",\"linecolor\":\"white\",\"minorgridcolor\":\"white\",\"startlinecolor\":\"#2a3f5f\"},\"type\":\"carpet\"}],\"table\":[{\"cells\":{\"fill\":{\"color\":\"#EBF0F8\"},\"line\":{\"color\":\"white\"}},\"header\":{\"fill\":{\"color\":\"#C8D4E3\"},\"line\":{\"color\":\"white\"}},\"type\":\"table\"}],\"barpolar\":[{\"marker\":{\"line\":{\"color\":\"#E5ECF6\",\"width\":0.5},\"pattern\":{\"fillmode\":\"overlay\",\"size\":10,\"solidity\":0.2}},\"type\":\"barpolar\"}],\"pie\":[{\"automargin\":true,\"type\":\"pie\"}]},\"layout\":{\"autotypenumbers\":\"strict\",\"colorway\":[\"#636efa\",\"#EF553B\",\"#00cc96\",\"#ab63fa\",\"#FFA15A\",\"#19d3f3\",\"#FF6692\",\"#B6E880\",\"#FF97FF\",\"#FECB52\"],\"font\":{\"color\":\"#2a3f5f\"},\"hovermode\":\"closest\",\"hoverlabel\":{\"align\":\"left\"},\"paper_bgcolor\":\"white\",\"plot_bgcolor\":\"#E5ECF6\",\"polar\":{\"bgcolor\":\"#E5ECF6\",\"angularaxis\":{\"gridcolor\":\"white\",\"linecolor\":\"white\",\"ticks\":\"\"},\"radialaxis\":{\"gridcolor\":\"white\",\"linecolor\":\"white\",\"ticks\":\"\"}},\"ternary\":{\"bgcolor\":\"#E5ECF6\",\"aaxis\":{\"gridcolor\":\"white\",\"linecolor\":\"white\",\"ticks\":\"\"},\"baxis\":{\"gridcolor\":\"white\",\"linecolor\":\"white\",\"ticks\":\"\"},\"caxis\":{\"gridcolor\":\"white\",\"linecolor\":\"white\",\"ticks\":\"\"}},\"coloraxis\":{\"colorbar\":{\"outlinewidth\":0,\"ticks\":\"\"}},\"colorscale\":{\"sequential\":[[0.0,\"#0d0887\"],[0.1111111111111111,\"#46039f\"],[0.2222222222222222,\"#7201a8\"],[0.3333333333333333,\"#9c179e\"],[0.4444444444444444,\"#bd3786\"],[0.5555555555555556,\"#d8576b\"],[0.6666666666666666,\"#ed7953\"],[0.7777777777777778,\"#fb9f3a\"],[0.8888888888888888,\"#fdca26\"],[1.0,\"#f0f921\"]],\"sequentialminus\":[[0.0,\"#0d0887\"],[0.1111111111111111,\"#46039f\"],[0.2222222222222222,\"#7201a8\"],[0.3333333333333333,\"#9c179e\"],[0.4444444444444444,\"#bd3786\"],[0.5555555555555556,\"#d8576b\"],[0.6666666666666666,\"#ed7953\"],[0.7777777777777778,\"#fb9f3a\"],[0.8888888888888888,\"#fdca26\"],[1.0,\"#f0f921\"]],\"diverging\":[[0,\"#8e0152\"],[0.1,\"#c51b7d\"],[0.2,\"#de77ae\"],[0.3,\"#f1b6da\"],[0.4,\"#fde0ef\"],[0.5,\"#f7f7f7\"],[0.6,\"#e6f5d0\"],[0.7,\"#b8e186\"],[0.8,\"#7fbc41\"],[0.9,\"#4d9221\"],[1,\"#276419\"]]},\"xaxis\":{\"gridcolor\":\"white\",\"linecolor\":\"white\",\"ticks\":\"\",\"title\":{\"standoff\":15},\"zerolinecolor\":\"white\",\"automargin\":true,\"zerolinewidth\":2},\"yaxis\":{\"gridcolor\":\"white\",\"linecolor\":\"white\",\"ticks\":\"\",\"title\":{\"standoff\":15},\"zerolinecolor\":\"white\",\"automargin\":true,\"zerolinewidth\":2},\"scene\":{\"xaxis\":{\"backgroundcolor\":\"#E5ECF6\",\"gridcolor\":\"white\",\"linecolor\":\"white\",\"showbackground\":true,\"ticks\":\"\",\"zerolinecolor\":\"white\",\"gridwidth\":2},\"yaxis\":{\"backgroundcolor\":\"#E5ECF6\",\"gridcolor\":\"white\",\"linecolor\":\"white\",\"showbackground\":true,\"ticks\":\"\",\"zerolinecolor\":\"white\",\"gridwidth\":2},\"zaxis\":{\"backgroundcolor\":\"#E5ECF6\",\"gridcolor\":\"white\",\"linecolor\":\"white\",\"showbackground\":true,\"ticks\":\"\",\"zerolinecolor\":\"white\",\"gridwidth\":2}},\"shapedefaults\":{\"line\":{\"color\":\"#2a3f5f\"}},\"annotationdefaults\":{\"arrowcolor\":\"#2a3f5f\",\"arrowhead\":0,\"arrowwidth\":1},\"geo\":{\"bgcolor\":\"white\",\"landcolor\":\"#E5ECF6\",\"subunitcolor\":\"white\",\"showland\":true,\"showlakes\":true,\"lakecolor\":\"white\"},\"title\":{\"x\":0.05},\"mapbox\":{\"style\":\"light\"}}},\"title\":{\"text\":\"State Death Rate by Firearm-Related Injury\"},\"geo\":{\"scope\":\"usa\"},\"font\":{\"color\":\"red\",\"size\":10,\"family\":\"Arial Black\"}},                        {\"responsive\": true}                    ).then(function(){\n",
       "                            \n",
       "var gd = document.getElementById('f4ce96f0-d2ed-449a-809f-7f2c2a622ff7');\n",
       "var x = new MutationObserver(function (mutations, observer) {{\n",
       "        var display = window.getComputedStyle(gd).display;\n",
       "        if (!display || display === 'none') {{\n",
       "            console.log([gd, 'removed!']);\n",
       "            Plotly.purge(gd);\n",
       "            observer.disconnect();\n",
       "        }}\n",
       "}});\n",
       "\n",
       "// Listen for the removal of the full notebook cells\n",
       "var notebookContainer = gd.closest('#notebook-container');\n",
       "if (notebookContainer) {{\n",
       "    x.observe(notebookContainer, {childList: true});\n",
       "}}\n",
       "\n",
       "// Listen for the clearing of the current output cell\n",
       "var outputEl = gd.closest('.output');\n",
       "if (outputEl) {{\n",
       "    x.observe(outputEl, {childList: true});\n",
       "}}\n",
       "\n",
       "                        })                };                });            </script>        </div>"
      ]
     },
     "metadata": {},
     "output_type": "display_data"
    }
   ],
   "source": [
    "#Death Rate plot without text\n",
    "fig = go.Figure(data=go.Choropleth(\n",
    "    locations=avg_2022['state'], # Spatial coordinates\n",
    "    z = avg_2022['Death_Rate'].astype(float), # Data to be color-coded\n",
    "    locationmode = 'USA-states', # set of locations match entries in `locations`\n",
    "    colorscale = 'Viridis',\n",
    "    colorbar_title = \"Death Rate by 100k People\"\n",
    "))\n",
    "\n",
    "fig.update_layout(\n",
    "    title_text = 'State Death Rate by Firearm-Related Injury',\n",
    "    geo_scope='usa', # limite map scope to USA\n",
    "    font = dict(color='red',size = 10,family = 'Arial Black')\n",
    ")\n",
    "\n",
    "fig.show()\n"
   ]
  },
  {
   "cell_type": "code",
   "execution_count": 258,
   "id": "e061f6f3",
   "metadata": {},
   "outputs": [
    {
     "data": {
      "application/vnd.plotly.v1+json": {
       "config": {
        "plotlyServerURL": "https://plot.ly"
       },
       "data": [
        {
         "colorbar": {
          "title": {
           "text": "Rate of Death per 100k People"
          }
         },
         "colorscale": [
          [
           0,
           "#440154"
          ],
          [
           0.1111111111111111,
           "#482878"
          ],
          [
           0.2222222222222222,
           "#3e4989"
          ],
          [
           0.3333333333333333,
           "#31688e"
          ],
          [
           0.4444444444444444,
           "#26828e"
          ],
          [
           0.5555555555555556,
           "#1f9e89"
          ],
          [
           0.6666666666666666,
           "#35b779"
          ],
          [
           0.7777777777777778,
           "#6ece58"
          ],
          [
           0.8888888888888888,
           "#b5de2b"
          ],
          [
           1,
           "#fde725"
          ]
         ],
         "locationmode": "USA-states",
         "locations": [
          "MS",
          "LA",
          "NM",
          "WY",
          "AL",
          "NY",
          "NJ",
          "HI",
          "RI",
          "MA"
         ],
         "type": "choropleth",
         "z": [
          30.6,
          28.23,
          27.5,
          25.93,
          25.37,
          5.57,
          5.4,
          4.67,
          4.6,
          3.8
         ]
        },
        {
         "locationmode": "USA-states",
         "locations": [
          "MS",
          "LA",
          "NM",
          "WY",
          "AL",
          "NY",
          "NJ",
          "HI",
          "RI",
          "MA"
         ],
         "mode": "text",
         "text": [
          30.6,
          28.23,
          27.5,
          25.93,
          25.37,
          5.57,
          5.4,
          4.67,
          4.6,
          3.8
         ],
         "textfont": {
          "color": "red"
         },
         "type": "scattergeo"
        }
       ],
       "layout": {
        "font": {
         "color": "red",
         "family": "Arial Black",
         "size": 10
        },
        "geo": {
         "scope": "usa"
        },
        "template": {
         "data": {
          "bar": [
           {
            "error_x": {
             "color": "#2a3f5f"
            },
            "error_y": {
             "color": "#2a3f5f"
            },
            "marker": {
             "line": {
              "color": "#E5ECF6",
              "width": 0.5
             },
             "pattern": {
              "fillmode": "overlay",
              "size": 10,
              "solidity": 0.2
             }
            },
            "type": "bar"
           }
          ],
          "barpolar": [
           {
            "marker": {
             "line": {
              "color": "#E5ECF6",
              "width": 0.5
             },
             "pattern": {
              "fillmode": "overlay",
              "size": 10,
              "solidity": 0.2
             }
            },
            "type": "barpolar"
           }
          ],
          "carpet": [
           {
            "aaxis": {
             "endlinecolor": "#2a3f5f",
             "gridcolor": "white",
             "linecolor": "white",
             "minorgridcolor": "white",
             "startlinecolor": "#2a3f5f"
            },
            "baxis": {
             "endlinecolor": "#2a3f5f",
             "gridcolor": "white",
             "linecolor": "white",
             "minorgridcolor": "white",
             "startlinecolor": "#2a3f5f"
            },
            "type": "carpet"
           }
          ],
          "choropleth": [
           {
            "colorbar": {
             "outlinewidth": 0,
             "ticks": ""
            },
            "type": "choropleth"
           }
          ],
          "contour": [
           {
            "colorbar": {
             "outlinewidth": 0,
             "ticks": ""
            },
            "colorscale": [
             [
              0,
              "#0d0887"
             ],
             [
              0.1111111111111111,
              "#46039f"
             ],
             [
              0.2222222222222222,
              "#7201a8"
             ],
             [
              0.3333333333333333,
              "#9c179e"
             ],
             [
              0.4444444444444444,
              "#bd3786"
             ],
             [
              0.5555555555555556,
              "#d8576b"
             ],
             [
              0.6666666666666666,
              "#ed7953"
             ],
             [
              0.7777777777777778,
              "#fb9f3a"
             ],
             [
              0.8888888888888888,
              "#fdca26"
             ],
             [
              1,
              "#f0f921"
             ]
            ],
            "type": "contour"
           }
          ],
          "contourcarpet": [
           {
            "colorbar": {
             "outlinewidth": 0,
             "ticks": ""
            },
            "type": "contourcarpet"
           }
          ],
          "heatmap": [
           {
            "colorbar": {
             "outlinewidth": 0,
             "ticks": ""
            },
            "colorscale": [
             [
              0,
              "#0d0887"
             ],
             [
              0.1111111111111111,
              "#46039f"
             ],
             [
              0.2222222222222222,
              "#7201a8"
             ],
             [
              0.3333333333333333,
              "#9c179e"
             ],
             [
              0.4444444444444444,
              "#bd3786"
             ],
             [
              0.5555555555555556,
              "#d8576b"
             ],
             [
              0.6666666666666666,
              "#ed7953"
             ],
             [
              0.7777777777777778,
              "#fb9f3a"
             ],
             [
              0.8888888888888888,
              "#fdca26"
             ],
             [
              1,
              "#f0f921"
             ]
            ],
            "type": "heatmap"
           }
          ],
          "heatmapgl": [
           {
            "colorbar": {
             "outlinewidth": 0,
             "ticks": ""
            },
            "colorscale": [
             [
              0,
              "#0d0887"
             ],
             [
              0.1111111111111111,
              "#46039f"
             ],
             [
              0.2222222222222222,
              "#7201a8"
             ],
             [
              0.3333333333333333,
              "#9c179e"
             ],
             [
              0.4444444444444444,
              "#bd3786"
             ],
             [
              0.5555555555555556,
              "#d8576b"
             ],
             [
              0.6666666666666666,
              "#ed7953"
             ],
             [
              0.7777777777777778,
              "#fb9f3a"
             ],
             [
              0.8888888888888888,
              "#fdca26"
             ],
             [
              1,
              "#f0f921"
             ]
            ],
            "type": "heatmapgl"
           }
          ],
          "histogram": [
           {
            "marker": {
             "pattern": {
              "fillmode": "overlay",
              "size": 10,
              "solidity": 0.2
             }
            },
            "type": "histogram"
           }
          ],
          "histogram2d": [
           {
            "colorbar": {
             "outlinewidth": 0,
             "ticks": ""
            },
            "colorscale": [
             [
              0,
              "#0d0887"
             ],
             [
              0.1111111111111111,
              "#46039f"
             ],
             [
              0.2222222222222222,
              "#7201a8"
             ],
             [
              0.3333333333333333,
              "#9c179e"
             ],
             [
              0.4444444444444444,
              "#bd3786"
             ],
             [
              0.5555555555555556,
              "#d8576b"
             ],
             [
              0.6666666666666666,
              "#ed7953"
             ],
             [
              0.7777777777777778,
              "#fb9f3a"
             ],
             [
              0.8888888888888888,
              "#fdca26"
             ],
             [
              1,
              "#f0f921"
             ]
            ],
            "type": "histogram2d"
           }
          ],
          "histogram2dcontour": [
           {
            "colorbar": {
             "outlinewidth": 0,
             "ticks": ""
            },
            "colorscale": [
             [
              0,
              "#0d0887"
             ],
             [
              0.1111111111111111,
              "#46039f"
             ],
             [
              0.2222222222222222,
              "#7201a8"
             ],
             [
              0.3333333333333333,
              "#9c179e"
             ],
             [
              0.4444444444444444,
              "#bd3786"
             ],
             [
              0.5555555555555556,
              "#d8576b"
             ],
             [
              0.6666666666666666,
              "#ed7953"
             ],
             [
              0.7777777777777778,
              "#fb9f3a"
             ],
             [
              0.8888888888888888,
              "#fdca26"
             ],
             [
              1,
              "#f0f921"
             ]
            ],
            "type": "histogram2dcontour"
           }
          ],
          "mesh3d": [
           {
            "colorbar": {
             "outlinewidth": 0,
             "ticks": ""
            },
            "type": "mesh3d"
           }
          ],
          "parcoords": [
           {
            "line": {
             "colorbar": {
              "outlinewidth": 0,
              "ticks": ""
             }
            },
            "type": "parcoords"
           }
          ],
          "pie": [
           {
            "automargin": true,
            "type": "pie"
           }
          ],
          "scatter": [
           {
            "fillpattern": {
             "fillmode": "overlay",
             "size": 10,
             "solidity": 0.2
            },
            "type": "scatter"
           }
          ],
          "scatter3d": [
           {
            "line": {
             "colorbar": {
              "outlinewidth": 0,
              "ticks": ""
             }
            },
            "marker": {
             "colorbar": {
              "outlinewidth": 0,
              "ticks": ""
             }
            },
            "type": "scatter3d"
           }
          ],
          "scattercarpet": [
           {
            "marker": {
             "colorbar": {
              "outlinewidth": 0,
              "ticks": ""
             }
            },
            "type": "scattercarpet"
           }
          ],
          "scattergeo": [
           {
            "marker": {
             "colorbar": {
              "outlinewidth": 0,
              "ticks": ""
             }
            },
            "type": "scattergeo"
           }
          ],
          "scattergl": [
           {
            "marker": {
             "colorbar": {
              "outlinewidth": 0,
              "ticks": ""
             }
            },
            "type": "scattergl"
           }
          ],
          "scattermapbox": [
           {
            "marker": {
             "colorbar": {
              "outlinewidth": 0,
              "ticks": ""
             }
            },
            "type": "scattermapbox"
           }
          ],
          "scatterpolar": [
           {
            "marker": {
             "colorbar": {
              "outlinewidth": 0,
              "ticks": ""
             }
            },
            "type": "scatterpolar"
           }
          ],
          "scatterpolargl": [
           {
            "marker": {
             "colorbar": {
              "outlinewidth": 0,
              "ticks": ""
             }
            },
            "type": "scatterpolargl"
           }
          ],
          "scatterternary": [
           {
            "marker": {
             "colorbar": {
              "outlinewidth": 0,
              "ticks": ""
             }
            },
            "type": "scatterternary"
           }
          ],
          "surface": [
           {
            "colorbar": {
             "outlinewidth": 0,
             "ticks": ""
            },
            "colorscale": [
             [
              0,
              "#0d0887"
             ],
             [
              0.1111111111111111,
              "#46039f"
             ],
             [
              0.2222222222222222,
              "#7201a8"
             ],
             [
              0.3333333333333333,
              "#9c179e"
             ],
             [
              0.4444444444444444,
              "#bd3786"
             ],
             [
              0.5555555555555556,
              "#d8576b"
             ],
             [
              0.6666666666666666,
              "#ed7953"
             ],
             [
              0.7777777777777778,
              "#fb9f3a"
             ],
             [
              0.8888888888888888,
              "#fdca26"
             ],
             [
              1,
              "#f0f921"
             ]
            ],
            "type": "surface"
           }
          ],
          "table": [
           {
            "cells": {
             "fill": {
              "color": "#EBF0F8"
             },
             "line": {
              "color": "white"
             }
            },
            "header": {
             "fill": {
              "color": "#C8D4E3"
             },
             "line": {
              "color": "white"
             }
            },
            "type": "table"
           }
          ]
         },
         "layout": {
          "annotationdefaults": {
           "arrowcolor": "#2a3f5f",
           "arrowhead": 0,
           "arrowwidth": 1
          },
          "autotypenumbers": "strict",
          "coloraxis": {
           "colorbar": {
            "outlinewidth": 0,
            "ticks": ""
           }
          },
          "colorscale": {
           "diverging": [
            [
             0,
             "#8e0152"
            ],
            [
             0.1,
             "#c51b7d"
            ],
            [
             0.2,
             "#de77ae"
            ],
            [
             0.3,
             "#f1b6da"
            ],
            [
             0.4,
             "#fde0ef"
            ],
            [
             0.5,
             "#f7f7f7"
            ],
            [
             0.6,
             "#e6f5d0"
            ],
            [
             0.7,
             "#b8e186"
            ],
            [
             0.8,
             "#7fbc41"
            ],
            [
             0.9,
             "#4d9221"
            ],
            [
             1,
             "#276419"
            ]
           ],
           "sequential": [
            [
             0,
             "#0d0887"
            ],
            [
             0.1111111111111111,
             "#46039f"
            ],
            [
             0.2222222222222222,
             "#7201a8"
            ],
            [
             0.3333333333333333,
             "#9c179e"
            ],
            [
             0.4444444444444444,
             "#bd3786"
            ],
            [
             0.5555555555555556,
             "#d8576b"
            ],
            [
             0.6666666666666666,
             "#ed7953"
            ],
            [
             0.7777777777777778,
             "#fb9f3a"
            ],
            [
             0.8888888888888888,
             "#fdca26"
            ],
            [
             1,
             "#f0f921"
            ]
           ],
           "sequentialminus": [
            [
             0,
             "#0d0887"
            ],
            [
             0.1111111111111111,
             "#46039f"
            ],
            [
             0.2222222222222222,
             "#7201a8"
            ],
            [
             0.3333333333333333,
             "#9c179e"
            ],
            [
             0.4444444444444444,
             "#bd3786"
            ],
            [
             0.5555555555555556,
             "#d8576b"
            ],
            [
             0.6666666666666666,
             "#ed7953"
            ],
            [
             0.7777777777777778,
             "#fb9f3a"
            ],
            [
             0.8888888888888888,
             "#fdca26"
            ],
            [
             1,
             "#f0f921"
            ]
           ]
          },
          "colorway": [
           "#636efa",
           "#EF553B",
           "#00cc96",
           "#ab63fa",
           "#FFA15A",
           "#19d3f3",
           "#FF6692",
           "#B6E880",
           "#FF97FF",
           "#FECB52"
          ],
          "font": {
           "color": "#2a3f5f"
          },
          "geo": {
           "bgcolor": "white",
           "lakecolor": "white",
           "landcolor": "#E5ECF6",
           "showlakes": true,
           "showland": true,
           "subunitcolor": "white"
          },
          "hoverlabel": {
           "align": "left"
          },
          "hovermode": "closest",
          "mapbox": {
           "style": "light"
          },
          "paper_bgcolor": "white",
          "plot_bgcolor": "#E5ECF6",
          "polar": {
           "angularaxis": {
            "gridcolor": "white",
            "linecolor": "white",
            "ticks": ""
           },
           "bgcolor": "#E5ECF6",
           "radialaxis": {
            "gridcolor": "white",
            "linecolor": "white",
            "ticks": ""
           }
          },
          "scene": {
           "xaxis": {
            "backgroundcolor": "#E5ECF6",
            "gridcolor": "white",
            "gridwidth": 2,
            "linecolor": "white",
            "showbackground": true,
            "ticks": "",
            "zerolinecolor": "white"
           },
           "yaxis": {
            "backgroundcolor": "#E5ECF6",
            "gridcolor": "white",
            "gridwidth": 2,
            "linecolor": "white",
            "showbackground": true,
            "ticks": "",
            "zerolinecolor": "white"
           },
           "zaxis": {
            "backgroundcolor": "#E5ECF6",
            "gridcolor": "white",
            "gridwidth": 2,
            "linecolor": "white",
            "showbackground": true,
            "ticks": "",
            "zerolinecolor": "white"
           }
          },
          "shapedefaults": {
           "line": {
            "color": "#2a3f5f"
           }
          },
          "ternary": {
           "aaxis": {
            "gridcolor": "white",
            "linecolor": "white",
            "ticks": ""
           },
           "baxis": {
            "gridcolor": "white",
            "linecolor": "white",
            "ticks": ""
           },
           "bgcolor": "#E5ECF6",
           "caxis": {
            "gridcolor": "white",
            "linecolor": "white",
            "ticks": ""
           }
          },
          "title": {
           "x": 0.05
          },
          "xaxis": {
           "automargin": true,
           "gridcolor": "white",
           "linecolor": "white",
           "ticks": "",
           "title": {
            "standoff": 15
           },
           "zerolinecolor": "white",
           "zerolinewidth": 2
          },
          "yaxis": {
           "automargin": true,
           "gridcolor": "white",
           "linecolor": "white",
           "ticks": "",
           "title": {
            "standoff": 15
           },
           "zerolinecolor": "white",
           "zerolinewidth": 2
          }
         }
        },
        "title": {
         "text": "State Death Rate by Firearm-Related Injury(Top and Bottom 5)"
        }
       }
      },
      "text/html": [
       "<div>                            <div id=\"82b090a2-063c-4747-b8a2-312012158806\" class=\"plotly-graph-div\" style=\"height:525px; width:100%;\"></div>            <script type=\"text/javascript\">                require([\"plotly\"], function(Plotly) {                    window.PLOTLYENV=window.PLOTLYENV || {};                                    if (document.getElementById(\"82b090a2-063c-4747-b8a2-312012158806\")) {                    Plotly.newPlot(                        \"82b090a2-063c-4747-b8a2-312012158806\",                        [{\"colorbar\":{\"title\":{\"text\":\"Rate of Death per 100k People\"}},\"colorscale\":[[0.0,\"#440154\"],[0.1111111111111111,\"#482878\"],[0.2222222222222222,\"#3e4989\"],[0.3333333333333333,\"#31688e\"],[0.4444444444444444,\"#26828e\"],[0.5555555555555556,\"#1f9e89\"],[0.6666666666666666,\"#35b779\"],[0.7777777777777778,\"#6ece58\"],[0.8888888888888888,\"#b5de2b\"],[1.0,\"#fde725\"]],\"locationmode\":\"USA-states\",\"locations\":[\"MS\",\"LA\",\"NM\",\"WY\",\"AL\",\"NY\",\"NJ\",\"HI\",\"RI\",\"MA\"],\"z\":[30.6,28.23,27.5,25.93,25.37,5.57,5.4,4.67,4.6,3.8],\"type\":\"choropleth\"},{\"locationmode\":\"USA-states\",\"locations\":[\"MS\",\"LA\",\"NM\",\"WY\",\"AL\",\"NY\",\"NJ\",\"HI\",\"RI\",\"MA\"],\"mode\":\"text\",\"text\":[30.6,28.23,27.5,25.93,25.37,5.57,5.4,4.67,4.6,3.8],\"textfont\":{\"color\":\"red\"},\"type\":\"scattergeo\"}],                        {\"template\":{\"data\":{\"histogram2dcontour\":[{\"type\":\"histogram2dcontour\",\"colorbar\":{\"outlinewidth\":0,\"ticks\":\"\"},\"colorscale\":[[0.0,\"#0d0887\"],[0.1111111111111111,\"#46039f\"],[0.2222222222222222,\"#7201a8\"],[0.3333333333333333,\"#9c179e\"],[0.4444444444444444,\"#bd3786\"],[0.5555555555555556,\"#d8576b\"],[0.6666666666666666,\"#ed7953\"],[0.7777777777777778,\"#fb9f3a\"],[0.8888888888888888,\"#fdca26\"],[1.0,\"#f0f921\"]]}],\"choropleth\":[{\"type\":\"choropleth\",\"colorbar\":{\"outlinewidth\":0,\"ticks\":\"\"}}],\"histogram2d\":[{\"type\":\"histogram2d\",\"colorbar\":{\"outlinewidth\":0,\"ticks\":\"\"},\"colorscale\":[[0.0,\"#0d0887\"],[0.1111111111111111,\"#46039f\"],[0.2222222222222222,\"#7201a8\"],[0.3333333333333333,\"#9c179e\"],[0.4444444444444444,\"#bd3786\"],[0.5555555555555556,\"#d8576b\"],[0.6666666666666666,\"#ed7953\"],[0.7777777777777778,\"#fb9f3a\"],[0.8888888888888888,\"#fdca26\"],[1.0,\"#f0f921\"]]}],\"heatmap\":[{\"type\":\"heatmap\",\"colorbar\":{\"outlinewidth\":0,\"ticks\":\"\"},\"colorscale\":[[0.0,\"#0d0887\"],[0.1111111111111111,\"#46039f\"],[0.2222222222222222,\"#7201a8\"],[0.3333333333333333,\"#9c179e\"],[0.4444444444444444,\"#bd3786\"],[0.5555555555555556,\"#d8576b\"],[0.6666666666666666,\"#ed7953\"],[0.7777777777777778,\"#fb9f3a\"],[0.8888888888888888,\"#fdca26\"],[1.0,\"#f0f921\"]]}],\"heatmapgl\":[{\"type\":\"heatmapgl\",\"colorbar\":{\"outlinewidth\":0,\"ticks\":\"\"},\"colorscale\":[[0.0,\"#0d0887\"],[0.1111111111111111,\"#46039f\"],[0.2222222222222222,\"#7201a8\"],[0.3333333333333333,\"#9c179e\"],[0.4444444444444444,\"#bd3786\"],[0.5555555555555556,\"#d8576b\"],[0.6666666666666666,\"#ed7953\"],[0.7777777777777778,\"#fb9f3a\"],[0.8888888888888888,\"#fdca26\"],[1.0,\"#f0f921\"]]}],\"contourcarpet\":[{\"type\":\"contourcarpet\",\"colorbar\":{\"outlinewidth\":0,\"ticks\":\"\"}}],\"contour\":[{\"type\":\"contour\",\"colorbar\":{\"outlinewidth\":0,\"ticks\":\"\"},\"colorscale\":[[0.0,\"#0d0887\"],[0.1111111111111111,\"#46039f\"],[0.2222222222222222,\"#7201a8\"],[0.3333333333333333,\"#9c179e\"],[0.4444444444444444,\"#bd3786\"],[0.5555555555555556,\"#d8576b\"],[0.6666666666666666,\"#ed7953\"],[0.7777777777777778,\"#fb9f3a\"],[0.8888888888888888,\"#fdca26\"],[1.0,\"#f0f921\"]]}],\"surface\":[{\"type\":\"surface\",\"colorbar\":{\"outlinewidth\":0,\"ticks\":\"\"},\"colorscale\":[[0.0,\"#0d0887\"],[0.1111111111111111,\"#46039f\"],[0.2222222222222222,\"#7201a8\"],[0.3333333333333333,\"#9c179e\"],[0.4444444444444444,\"#bd3786\"],[0.5555555555555556,\"#d8576b\"],[0.6666666666666666,\"#ed7953\"],[0.7777777777777778,\"#fb9f3a\"],[0.8888888888888888,\"#fdca26\"],[1.0,\"#f0f921\"]]}],\"mesh3d\":[{\"type\":\"mesh3d\",\"colorbar\":{\"outlinewidth\":0,\"ticks\":\"\"}}],\"scatter\":[{\"fillpattern\":{\"fillmode\":\"overlay\",\"size\":10,\"solidity\":0.2},\"type\":\"scatter\"}],\"parcoords\":[{\"type\":\"parcoords\",\"line\":{\"colorbar\":{\"outlinewidth\":0,\"ticks\":\"\"}}}],\"scatterpolargl\":[{\"type\":\"scatterpolargl\",\"marker\":{\"colorbar\":{\"outlinewidth\":0,\"ticks\":\"\"}}}],\"bar\":[{\"error_x\":{\"color\":\"#2a3f5f\"},\"error_y\":{\"color\":\"#2a3f5f\"},\"marker\":{\"line\":{\"color\":\"#E5ECF6\",\"width\":0.5},\"pattern\":{\"fillmode\":\"overlay\",\"size\":10,\"solidity\":0.2}},\"type\":\"bar\"}],\"scattergeo\":[{\"type\":\"scattergeo\",\"marker\":{\"colorbar\":{\"outlinewidth\":0,\"ticks\":\"\"}}}],\"scatterpolar\":[{\"type\":\"scatterpolar\",\"marker\":{\"colorbar\":{\"outlinewidth\":0,\"ticks\":\"\"}}}],\"histogram\":[{\"marker\":{\"pattern\":{\"fillmode\":\"overlay\",\"size\":10,\"solidity\":0.2}},\"type\":\"histogram\"}],\"scattergl\":[{\"type\":\"scattergl\",\"marker\":{\"colorbar\":{\"outlinewidth\":0,\"ticks\":\"\"}}}],\"scatter3d\":[{\"type\":\"scatter3d\",\"line\":{\"colorbar\":{\"outlinewidth\":0,\"ticks\":\"\"}},\"marker\":{\"colorbar\":{\"outlinewidth\":0,\"ticks\":\"\"}}}],\"scattermapbox\":[{\"type\":\"scattermapbox\",\"marker\":{\"colorbar\":{\"outlinewidth\":0,\"ticks\":\"\"}}}],\"scatterternary\":[{\"type\":\"scatterternary\",\"marker\":{\"colorbar\":{\"outlinewidth\":0,\"ticks\":\"\"}}}],\"scattercarpet\":[{\"type\":\"scattercarpet\",\"marker\":{\"colorbar\":{\"outlinewidth\":0,\"ticks\":\"\"}}}],\"carpet\":[{\"aaxis\":{\"endlinecolor\":\"#2a3f5f\",\"gridcolor\":\"white\",\"linecolor\":\"white\",\"minorgridcolor\":\"white\",\"startlinecolor\":\"#2a3f5f\"},\"baxis\":{\"endlinecolor\":\"#2a3f5f\",\"gridcolor\":\"white\",\"linecolor\":\"white\",\"minorgridcolor\":\"white\",\"startlinecolor\":\"#2a3f5f\"},\"type\":\"carpet\"}],\"table\":[{\"cells\":{\"fill\":{\"color\":\"#EBF0F8\"},\"line\":{\"color\":\"white\"}},\"header\":{\"fill\":{\"color\":\"#C8D4E3\"},\"line\":{\"color\":\"white\"}},\"type\":\"table\"}],\"barpolar\":[{\"marker\":{\"line\":{\"color\":\"#E5ECF6\",\"width\":0.5},\"pattern\":{\"fillmode\":\"overlay\",\"size\":10,\"solidity\":0.2}},\"type\":\"barpolar\"}],\"pie\":[{\"automargin\":true,\"type\":\"pie\"}]},\"layout\":{\"autotypenumbers\":\"strict\",\"colorway\":[\"#636efa\",\"#EF553B\",\"#00cc96\",\"#ab63fa\",\"#FFA15A\",\"#19d3f3\",\"#FF6692\",\"#B6E880\",\"#FF97FF\",\"#FECB52\"],\"font\":{\"color\":\"#2a3f5f\"},\"hovermode\":\"closest\",\"hoverlabel\":{\"align\":\"left\"},\"paper_bgcolor\":\"white\",\"plot_bgcolor\":\"#E5ECF6\",\"polar\":{\"bgcolor\":\"#E5ECF6\",\"angularaxis\":{\"gridcolor\":\"white\",\"linecolor\":\"white\",\"ticks\":\"\"},\"radialaxis\":{\"gridcolor\":\"white\",\"linecolor\":\"white\",\"ticks\":\"\"}},\"ternary\":{\"bgcolor\":\"#E5ECF6\",\"aaxis\":{\"gridcolor\":\"white\",\"linecolor\":\"white\",\"ticks\":\"\"},\"baxis\":{\"gridcolor\":\"white\",\"linecolor\":\"white\",\"ticks\":\"\"},\"caxis\":{\"gridcolor\":\"white\",\"linecolor\":\"white\",\"ticks\":\"\"}},\"coloraxis\":{\"colorbar\":{\"outlinewidth\":0,\"ticks\":\"\"}},\"colorscale\":{\"sequential\":[[0.0,\"#0d0887\"],[0.1111111111111111,\"#46039f\"],[0.2222222222222222,\"#7201a8\"],[0.3333333333333333,\"#9c179e\"],[0.4444444444444444,\"#bd3786\"],[0.5555555555555556,\"#d8576b\"],[0.6666666666666666,\"#ed7953\"],[0.7777777777777778,\"#fb9f3a\"],[0.8888888888888888,\"#fdca26\"],[1.0,\"#f0f921\"]],\"sequentialminus\":[[0.0,\"#0d0887\"],[0.1111111111111111,\"#46039f\"],[0.2222222222222222,\"#7201a8\"],[0.3333333333333333,\"#9c179e\"],[0.4444444444444444,\"#bd3786\"],[0.5555555555555556,\"#d8576b\"],[0.6666666666666666,\"#ed7953\"],[0.7777777777777778,\"#fb9f3a\"],[0.8888888888888888,\"#fdca26\"],[1.0,\"#f0f921\"]],\"diverging\":[[0,\"#8e0152\"],[0.1,\"#c51b7d\"],[0.2,\"#de77ae\"],[0.3,\"#f1b6da\"],[0.4,\"#fde0ef\"],[0.5,\"#f7f7f7\"],[0.6,\"#e6f5d0\"],[0.7,\"#b8e186\"],[0.8,\"#7fbc41\"],[0.9,\"#4d9221\"],[1,\"#276419\"]]},\"xaxis\":{\"gridcolor\":\"white\",\"linecolor\":\"white\",\"ticks\":\"\",\"title\":{\"standoff\":15},\"zerolinecolor\":\"white\",\"automargin\":true,\"zerolinewidth\":2},\"yaxis\":{\"gridcolor\":\"white\",\"linecolor\":\"white\",\"ticks\":\"\",\"title\":{\"standoff\":15},\"zerolinecolor\":\"white\",\"automargin\":true,\"zerolinewidth\":2},\"scene\":{\"xaxis\":{\"backgroundcolor\":\"#E5ECF6\",\"gridcolor\":\"white\",\"linecolor\":\"white\",\"showbackground\":true,\"ticks\":\"\",\"zerolinecolor\":\"white\",\"gridwidth\":2},\"yaxis\":{\"backgroundcolor\":\"#E5ECF6\",\"gridcolor\":\"white\",\"linecolor\":\"white\",\"showbackground\":true,\"ticks\":\"\",\"zerolinecolor\":\"white\",\"gridwidth\":2},\"zaxis\":{\"backgroundcolor\":\"#E5ECF6\",\"gridcolor\":\"white\",\"linecolor\":\"white\",\"showbackground\":true,\"ticks\":\"\",\"zerolinecolor\":\"white\",\"gridwidth\":2}},\"shapedefaults\":{\"line\":{\"color\":\"#2a3f5f\"}},\"annotationdefaults\":{\"arrowcolor\":\"#2a3f5f\",\"arrowhead\":0,\"arrowwidth\":1},\"geo\":{\"bgcolor\":\"white\",\"landcolor\":\"#E5ECF6\",\"subunitcolor\":\"white\",\"showland\":true,\"showlakes\":true,\"lakecolor\":\"white\"},\"title\":{\"x\":0.05},\"mapbox\":{\"style\":\"light\"}}},\"title\":{\"text\":\"State Death Rate by Firearm-Related Injury(Top and Bottom 5)\"},\"geo\":{\"scope\":\"usa\"},\"font\":{\"color\":\"red\",\"size\":10,\"family\":\"Arial Black\"}},                        {\"responsive\": true}                    ).then(function(){\n",
       "                            \n",
       "var gd = document.getElementById('82b090a2-063c-4747-b8a2-312012158806');\n",
       "var x = new MutationObserver(function (mutations, observer) {{\n",
       "        var display = window.getComputedStyle(gd).display;\n",
       "        if (!display || display === 'none') {{\n",
       "            console.log([gd, 'removed!']);\n",
       "            Plotly.purge(gd);\n",
       "            observer.disconnect();\n",
       "        }}\n",
       "}});\n",
       "\n",
       "// Listen for the removal of the full notebook cells\n",
       "var notebookContainer = gd.closest('#notebook-container');\n",
       "if (notebookContainer) {{\n",
       "    x.observe(notebookContainer, {childList: true});\n",
       "}}\n",
       "\n",
       "// Listen for the clearing of the current output cell\n",
       "var outputEl = gd.closest('.output');\n",
       "if (outputEl) {{\n",
       "    x.observe(outputEl, {childList: true});\n",
       "}}\n",
       "\n",
       "                        })                };                });            </script>        </div>"
      ]
     },
     "metadata": {},
     "output_type": "display_data"
    }
   ],
   "source": [
    "fig = go.Figure(data=go.Choropleth(\n",
    "    locations=top_bot_df['state'], # Spatial coordinates\n",
    "    z = top_bot_df['Death_Rate'].astype(float), # Data to be color-coded\n",
    "    locationmode = 'USA-states', # set of locations match entries in `locations`\n",
    "    colorscale = 'Viridis',\n",
    "    colorbar_title = \"Rate of Death per 100k People\"\n",
    "))\n",
    "\n",
    "fig.add_scattergeo(\n",
    "    locations=top_bot_df['state'],\n",
    "    locationmode=\"USA-states\", \n",
    "    text=top_bot_df['Death_Rate'],\n",
    "    mode='text',\n",
    "    textfont=dict(color='red')\n",
    ")\n",
    "\n",
    "fig.update_layout(\n",
    "    title_text = 'State Death Rate by Firearm-Related Injury(Top and Bottom 5)',\n",
    "    geo_scope='usa', # limite map scope to USA\n",
    "    font = dict(color='red',size = 10,family = 'Arial Black')\n",
    ")\n",
    "\n",
    "fig.show()\n"
   ]
  },
  {
   "cell_type": "code",
   "execution_count": 189,
   "id": "2a79acbc",
   "metadata": {},
   "outputs": [
    {
     "data": {
      "text/html": [
       "<div>\n",
       "<style scoped>\n",
       "    .dataframe tbody tr th:only-of-type {\n",
       "        vertical-align: middle;\n",
       "    }\n",
       "\n",
       "    .dataframe tbody tr th {\n",
       "        vertical-align: top;\n",
       "    }\n",
       "\n",
       "    .dataframe thead th {\n",
       "        text-align: right;\n",
       "    }\n",
       "</style>\n",
       "<table border=\"1\" class=\"dataframe\">\n",
       "  <thead>\n",
       "    <tr style=\"text-align: right;\">\n",
       "      <th></th>\n",
       "      <th>rank</th>\n",
       "      <th>state</th>\n",
       "      <th>no_polc</th>\n",
       "    </tr>\n",
       "  </thead>\n",
       "  <tbody>\n",
       "    <tr>\n",
       "      <th>0</th>\n",
       "      <td>1</td>\n",
       "      <td>California</td>\n",
       "      <td>45</td>\n",
       "    </tr>\n",
       "    <tr>\n",
       "      <th>1</th>\n",
       "      <td>2</td>\n",
       "      <td>Illinois</td>\n",
       "      <td>42</td>\n",
       "    </tr>\n",
       "    <tr>\n",
       "      <th>2</th>\n",
       "      <td>2</td>\n",
       "      <td>New York</td>\n",
       "      <td>42</td>\n",
       "    </tr>\n",
       "    <tr>\n",
       "      <th>3</th>\n",
       "      <td>4</td>\n",
       "      <td>Connecticut</td>\n",
       "      <td>41</td>\n",
       "    </tr>\n",
       "    <tr>\n",
       "      <th>4</th>\n",
       "      <td>4</td>\n",
       "      <td>Hawaii</td>\n",
       "      <td>41</td>\n",
       "    </tr>\n",
       "  </tbody>\n",
       "</table>\n",
       "</div>"
      ],
      "text/plain": [
       "   rank        state  no_polc\n",
       "0     1   California       45\n",
       "1     2     Illinois       42\n",
       "2     2     New York       42\n",
       "3     4  Connecticut       41\n",
       "4     4       Hawaii       41"
      ]
     },
     "execution_count": 189,
     "metadata": {},
     "output_type": "execute_result"
    }
   ],
   "source": [
    "# Loading Likert Scale Data: https://sightmark.com/blogs/news/states-ranked-by-how-strict-their-gun-laws-are\n",
    "# There are 50 laws concerning gun control, making a likert scale easy to create\n",
    "# for states that accept 0 to 10 -> score of .0 to 1.0\n",
    "gun_control = pd.read_csv(r\"C:\\Users\\dcrai\\source\\repos\\DATA608\\Major Assignments\\Story 3\\Gun_Control_Ranking.csv\")\n",
    "gun_control.columns = ['rank','state','no_polc']\n",
    "gun_control.head(5)"
   ]
  },
  {
   "cell_type": "code",
   "execution_count": 261,
   "id": "97472e3a",
   "metadata": {},
   "outputs": [
    {
     "data": {
      "text/html": [
       "<div>\n",
       "<style scoped>\n",
       "    .dataframe tbody tr th:only-of-type {\n",
       "        vertical-align: middle;\n",
       "    }\n",
       "\n",
       "    .dataframe tbody tr th {\n",
       "        vertical-align: top;\n",
       "    }\n",
       "\n",
       "    .dataframe thead th {\n",
       "        text-align: right;\n",
       "    }\n",
       "</style>\n",
       "<table border=\"1\" class=\"dataframe\">\n",
       "  <thead>\n",
       "    <tr style=\"text-align: right;\">\n",
       "      <th></th>\n",
       "      <th>state</th>\n",
       "      <th>Death_Rate</th>\n",
       "      <th>Likert_Scale</th>\n",
       "      <th>Control_Score</th>\n",
       "    </tr>\n",
       "  </thead>\n",
       "  <tbody>\n",
       "    <tr>\n",
       "      <th>11</th>\n",
       "      <td>HI</td>\n",
       "      <td>4.67</td>\n",
       "      <td>VS</td>\n",
       "      <td>89.0</td>\n",
       "    </tr>\n",
       "    <tr>\n",
       "      <th>14</th>\n",
       "      <td>IL</td>\n",
       "      <td>15.23</td>\n",
       "      <td>VS</td>\n",
       "      <td>87.5</td>\n",
       "    </tr>\n",
       "    <tr>\n",
       "      <th>4</th>\n",
       "      <td>CA</td>\n",
       "      <td>9.07</td>\n",
       "      <td>VS</td>\n",
       "      <td>86.5</td>\n",
       "    </tr>\n",
       "    <tr>\n",
       "      <th>19</th>\n",
       "      <td>MA</td>\n",
       "      <td>3.80</td>\n",
       "      <td>VS</td>\n",
       "      <td>86.0</td>\n",
       "    </tr>\n",
       "    <tr>\n",
       "      <th>34</th>\n",
       "      <td>NY</td>\n",
       "      <td>5.57</td>\n",
       "      <td>VS</td>\n",
       "      <td>85.5</td>\n",
       "    </tr>\n",
       "    <tr>\n",
       "      <th>10</th>\n",
       "      <td>GA</td>\n",
       "      <td>20.30</td>\n",
       "      <td>VW</td>\n",
       "      <td>6.5</td>\n",
       "    </tr>\n",
       "    <tr>\n",
       "      <th>50</th>\n",
       "      <td>WY</td>\n",
       "      <td>25.93</td>\n",
       "      <td>VW</td>\n",
       "      <td>5.5</td>\n",
       "    </tr>\n",
       "    <tr>\n",
       "      <th>2</th>\n",
       "      <td>AR</td>\n",
       "      <td>22.07</td>\n",
       "      <td>VW</td>\n",
       "      <td>5.0</td>\n",
       "    </tr>\n",
       "    <tr>\n",
       "      <th>13</th>\n",
       "      <td>ID</td>\n",
       "      <td>16.80</td>\n",
       "      <td>VW</td>\n",
       "      <td>5.0</td>\n",
       "    </tr>\n",
       "    <tr>\n",
       "      <th>25</th>\n",
       "      <td>MS</td>\n",
       "      <td>30.60</td>\n",
       "      <td>VW</td>\n",
       "      <td>3.5</td>\n",
       "    </tr>\n",
       "  </tbody>\n",
       "</table>\n",
       "</div>"
      ],
      "text/plain": [
       "   state  Death_Rate Likert_Scale  Control_Score\n",
       "11    HI        4.67           VS           89.0\n",
       "14    IL       15.23           VS           87.5\n",
       "4     CA        9.07           VS           86.5\n",
       "19    MA        3.80           VS           86.0\n",
       "34    NY        5.57           VS           85.5\n",
       "10    GA       20.30           VW            6.5\n",
       "50    WY       25.93           VW            5.5\n",
       "2     AR       22.07           VW            5.0\n",
       "13    ID       16.80           VW            5.0\n",
       "25    MS       30.60           VW            3.5"
      ]
     },
     "execution_count": 261,
     "metadata": {},
     "output_type": "execute_result"
    }
   ],
   "source": [
    "master_2022_Score_Sort = master_2022.sort_values(by = 'Control_Score',ascending = False)\n",
    "snapshot_Score = pd.concat([master_2022_Score_Sort.head(5), master_2022_Score_Sort.tail(5)], axis=0)\n",
    "snapshot_Score.pop('STUSAB')\n",
    "snapshot_Score"
   ]
  },
  {
   "cell_type": "code",
   "execution_count": 262,
   "id": "344d9738",
   "metadata": {},
   "outputs": [
    {
     "data": {
      "application/vnd.plotly.v1+json": {
       "config": {
        "plotlyServerURL": "https://plot.ly"
       },
       "data": [
        {
         "colorbar": {
          "title": {
           "text": "Gun Control Laws Score"
          }
         },
         "colorscale": [
          [
           0,
           "#440154"
          ],
          [
           0.1111111111111111,
           "#482878"
          ],
          [
           0.2222222222222222,
           "#3e4989"
          ],
          [
           0.3333333333333333,
           "#31688e"
          ],
          [
           0.4444444444444444,
           "#26828e"
          ],
          [
           0.5555555555555556,
           "#1f9e89"
          ],
          [
           0.6666666666666666,
           "#35b779"
          ],
          [
           0.7777777777777778,
           "#6ece58"
          ],
          [
           0.8888888888888888,
           "#b5de2b"
          ],
          [
           1,
           "#fde725"
          ]
         ],
         "locationmode": "USA-states",
         "locations": [
          "HI",
          "IL",
          "CA",
          "MA",
          "NY",
          "MD",
          "NJ",
          "CT",
          "OR",
          "WA",
          "RI",
          "CO",
          "MN",
          "DE",
          "VA",
          "PA",
          "NM",
          "NV",
          "VT",
          "MI",
          "FL",
          "WI",
          "NC",
          "NE",
          "ME",
          "TN",
          "LA",
          "SC",
          "IA",
          "IN",
          "WV",
          "TX",
          "AL",
          "OH",
          "ND",
          "UT",
          "KS",
          "MO",
          "NH",
          "KY",
          "AK",
          "AZ",
          "OK",
          "MT",
          "SD",
          "GA",
          "WY",
          "ID",
          "AR",
          "MS"
         ],
         "type": "choropleth",
         "z": [
          89,
          87.5,
          86.5,
          86,
          85.5,
          84.5,
          83,
          81,
          72,
          67.5,
          67,
          63,
          61.5,
          61,
          53.5,
          52,
          51,
          42.5,
          40,
          38,
          34.5,
          33.5,
          33.5,
          31,
          25.5,
          24.5,
          24,
          22.5,
          21.5,
          19.5,
          19.5,
          17,
          16.5,
          16,
          15.5,
          15,
          12.5,
          11.5,
          11,
          11,
          10.5,
          9,
          8,
          6.5,
          6.5,
          6.5,
          5.5,
          5,
          5,
          3.5
         ]
        },
        {
         "locationmode": "USA-states",
         "locations": [
          "HI",
          "IL",
          "CA",
          "MA",
          "NY",
          "MD",
          "NJ",
          "CT",
          "OR",
          "WA",
          "RI",
          "CO",
          "MN",
          "DE",
          "VA",
          "PA",
          "NM",
          "NV",
          "VT",
          "MI",
          "FL",
          "WI",
          "NC",
          "NE",
          "ME",
          "TN",
          "LA",
          "SC",
          "IA",
          "IN",
          "WV",
          "TX",
          "AL",
          "OH",
          "ND",
          "UT",
          "KS",
          "MO",
          "NH",
          "KY",
          "AK",
          "AZ",
          "OK",
          "MT",
          "SD",
          "GA",
          "WY",
          "ID",
          "AR",
          "MS"
         ],
         "mode": "text",
         "text": [
          [
           89
          ],
          [
           87.5
          ],
          [
           86.5
          ],
          [
           86
          ],
          [
           85.5
          ],
          [
           84.5
          ],
          [
           83
          ],
          [
           81
          ],
          [
           72
          ],
          [
           67.5
          ],
          [
           67
          ],
          [
           63
          ],
          [
           61.5
          ],
          [
           61
          ],
          [
           53.5
          ],
          [
           52
          ],
          [
           51
          ],
          [
           42.5
          ],
          [
           40
          ],
          [
           38
          ],
          [
           34.5
          ],
          [
           33.5
          ],
          [
           33.5
          ],
          [
           31
          ],
          [
           25.5
          ],
          [
           24.5
          ],
          [
           24
          ],
          [
           22.5
          ],
          [
           21.5
          ],
          [
           19.5
          ],
          [
           19.5
          ],
          [
           17
          ],
          [
           16.5
          ],
          [
           16
          ],
          [
           15.5
          ],
          [
           15
          ],
          [
           12.5
          ],
          [
           11.5
          ],
          [
           11
          ],
          [
           11
          ],
          [
           10.5
          ],
          [
           9
          ],
          [
           8
          ],
          [
           6.5
          ],
          [
           6.5
          ],
          [
           6.5
          ],
          [
           5.5
          ],
          [
           5
          ],
          [
           5
          ],
          [
           3.5
          ]
         ],
         "textfont": {
          "color": "red"
         },
         "type": "scattergeo"
        }
       ],
       "layout": {
        "font": {
         "color": "red",
         "family": "Arial Black",
         "size": 10
        },
        "geo": {
         "scope": "usa"
        },
        "template": {
         "data": {
          "bar": [
           {
            "error_x": {
             "color": "#2a3f5f"
            },
            "error_y": {
             "color": "#2a3f5f"
            },
            "marker": {
             "line": {
              "color": "#E5ECF6",
              "width": 0.5
             },
             "pattern": {
              "fillmode": "overlay",
              "size": 10,
              "solidity": 0.2
             }
            },
            "type": "bar"
           }
          ],
          "barpolar": [
           {
            "marker": {
             "line": {
              "color": "#E5ECF6",
              "width": 0.5
             },
             "pattern": {
              "fillmode": "overlay",
              "size": 10,
              "solidity": 0.2
             }
            },
            "type": "barpolar"
           }
          ],
          "carpet": [
           {
            "aaxis": {
             "endlinecolor": "#2a3f5f",
             "gridcolor": "white",
             "linecolor": "white",
             "minorgridcolor": "white",
             "startlinecolor": "#2a3f5f"
            },
            "baxis": {
             "endlinecolor": "#2a3f5f",
             "gridcolor": "white",
             "linecolor": "white",
             "minorgridcolor": "white",
             "startlinecolor": "#2a3f5f"
            },
            "type": "carpet"
           }
          ],
          "choropleth": [
           {
            "colorbar": {
             "outlinewidth": 0,
             "ticks": ""
            },
            "type": "choropleth"
           }
          ],
          "contour": [
           {
            "colorbar": {
             "outlinewidth": 0,
             "ticks": ""
            },
            "colorscale": [
             [
              0,
              "#0d0887"
             ],
             [
              0.1111111111111111,
              "#46039f"
             ],
             [
              0.2222222222222222,
              "#7201a8"
             ],
             [
              0.3333333333333333,
              "#9c179e"
             ],
             [
              0.4444444444444444,
              "#bd3786"
             ],
             [
              0.5555555555555556,
              "#d8576b"
             ],
             [
              0.6666666666666666,
              "#ed7953"
             ],
             [
              0.7777777777777778,
              "#fb9f3a"
             ],
             [
              0.8888888888888888,
              "#fdca26"
             ],
             [
              1,
              "#f0f921"
             ]
            ],
            "type": "contour"
           }
          ],
          "contourcarpet": [
           {
            "colorbar": {
             "outlinewidth": 0,
             "ticks": ""
            },
            "type": "contourcarpet"
           }
          ],
          "heatmap": [
           {
            "colorbar": {
             "outlinewidth": 0,
             "ticks": ""
            },
            "colorscale": [
             [
              0,
              "#0d0887"
             ],
             [
              0.1111111111111111,
              "#46039f"
             ],
             [
              0.2222222222222222,
              "#7201a8"
             ],
             [
              0.3333333333333333,
              "#9c179e"
             ],
             [
              0.4444444444444444,
              "#bd3786"
             ],
             [
              0.5555555555555556,
              "#d8576b"
             ],
             [
              0.6666666666666666,
              "#ed7953"
             ],
             [
              0.7777777777777778,
              "#fb9f3a"
             ],
             [
              0.8888888888888888,
              "#fdca26"
             ],
             [
              1,
              "#f0f921"
             ]
            ],
            "type": "heatmap"
           }
          ],
          "heatmapgl": [
           {
            "colorbar": {
             "outlinewidth": 0,
             "ticks": ""
            },
            "colorscale": [
             [
              0,
              "#0d0887"
             ],
             [
              0.1111111111111111,
              "#46039f"
             ],
             [
              0.2222222222222222,
              "#7201a8"
             ],
             [
              0.3333333333333333,
              "#9c179e"
             ],
             [
              0.4444444444444444,
              "#bd3786"
             ],
             [
              0.5555555555555556,
              "#d8576b"
             ],
             [
              0.6666666666666666,
              "#ed7953"
             ],
             [
              0.7777777777777778,
              "#fb9f3a"
             ],
             [
              0.8888888888888888,
              "#fdca26"
             ],
             [
              1,
              "#f0f921"
             ]
            ],
            "type": "heatmapgl"
           }
          ],
          "histogram": [
           {
            "marker": {
             "pattern": {
              "fillmode": "overlay",
              "size": 10,
              "solidity": 0.2
             }
            },
            "type": "histogram"
           }
          ],
          "histogram2d": [
           {
            "colorbar": {
             "outlinewidth": 0,
             "ticks": ""
            },
            "colorscale": [
             [
              0,
              "#0d0887"
             ],
             [
              0.1111111111111111,
              "#46039f"
             ],
             [
              0.2222222222222222,
              "#7201a8"
             ],
             [
              0.3333333333333333,
              "#9c179e"
             ],
             [
              0.4444444444444444,
              "#bd3786"
             ],
             [
              0.5555555555555556,
              "#d8576b"
             ],
             [
              0.6666666666666666,
              "#ed7953"
             ],
             [
              0.7777777777777778,
              "#fb9f3a"
             ],
             [
              0.8888888888888888,
              "#fdca26"
             ],
             [
              1,
              "#f0f921"
             ]
            ],
            "type": "histogram2d"
           }
          ],
          "histogram2dcontour": [
           {
            "colorbar": {
             "outlinewidth": 0,
             "ticks": ""
            },
            "colorscale": [
             [
              0,
              "#0d0887"
             ],
             [
              0.1111111111111111,
              "#46039f"
             ],
             [
              0.2222222222222222,
              "#7201a8"
             ],
             [
              0.3333333333333333,
              "#9c179e"
             ],
             [
              0.4444444444444444,
              "#bd3786"
             ],
             [
              0.5555555555555556,
              "#d8576b"
             ],
             [
              0.6666666666666666,
              "#ed7953"
             ],
             [
              0.7777777777777778,
              "#fb9f3a"
             ],
             [
              0.8888888888888888,
              "#fdca26"
             ],
             [
              1,
              "#f0f921"
             ]
            ],
            "type": "histogram2dcontour"
           }
          ],
          "mesh3d": [
           {
            "colorbar": {
             "outlinewidth": 0,
             "ticks": ""
            },
            "type": "mesh3d"
           }
          ],
          "parcoords": [
           {
            "line": {
             "colorbar": {
              "outlinewidth": 0,
              "ticks": ""
             }
            },
            "type": "parcoords"
           }
          ],
          "pie": [
           {
            "automargin": true,
            "type": "pie"
           }
          ],
          "scatter": [
           {
            "fillpattern": {
             "fillmode": "overlay",
             "size": 10,
             "solidity": 0.2
            },
            "type": "scatter"
           }
          ],
          "scatter3d": [
           {
            "line": {
             "colorbar": {
              "outlinewidth": 0,
              "ticks": ""
             }
            },
            "marker": {
             "colorbar": {
              "outlinewidth": 0,
              "ticks": ""
             }
            },
            "type": "scatter3d"
           }
          ],
          "scattercarpet": [
           {
            "marker": {
             "colorbar": {
              "outlinewidth": 0,
              "ticks": ""
             }
            },
            "type": "scattercarpet"
           }
          ],
          "scattergeo": [
           {
            "marker": {
             "colorbar": {
              "outlinewidth": 0,
              "ticks": ""
             }
            },
            "type": "scattergeo"
           }
          ],
          "scattergl": [
           {
            "marker": {
             "colorbar": {
              "outlinewidth": 0,
              "ticks": ""
             }
            },
            "type": "scattergl"
           }
          ],
          "scattermapbox": [
           {
            "marker": {
             "colorbar": {
              "outlinewidth": 0,
              "ticks": ""
             }
            },
            "type": "scattermapbox"
           }
          ],
          "scatterpolar": [
           {
            "marker": {
             "colorbar": {
              "outlinewidth": 0,
              "ticks": ""
             }
            },
            "type": "scatterpolar"
           }
          ],
          "scatterpolargl": [
           {
            "marker": {
             "colorbar": {
              "outlinewidth": 0,
              "ticks": ""
             }
            },
            "type": "scatterpolargl"
           }
          ],
          "scatterternary": [
           {
            "marker": {
             "colorbar": {
              "outlinewidth": 0,
              "ticks": ""
             }
            },
            "type": "scatterternary"
           }
          ],
          "surface": [
           {
            "colorbar": {
             "outlinewidth": 0,
             "ticks": ""
            },
            "colorscale": [
             [
              0,
              "#0d0887"
             ],
             [
              0.1111111111111111,
              "#46039f"
             ],
             [
              0.2222222222222222,
              "#7201a8"
             ],
             [
              0.3333333333333333,
              "#9c179e"
             ],
             [
              0.4444444444444444,
              "#bd3786"
             ],
             [
              0.5555555555555556,
              "#d8576b"
             ],
             [
              0.6666666666666666,
              "#ed7953"
             ],
             [
              0.7777777777777778,
              "#fb9f3a"
             ],
             [
              0.8888888888888888,
              "#fdca26"
             ],
             [
              1,
              "#f0f921"
             ]
            ],
            "type": "surface"
           }
          ],
          "table": [
           {
            "cells": {
             "fill": {
              "color": "#EBF0F8"
             },
             "line": {
              "color": "white"
             }
            },
            "header": {
             "fill": {
              "color": "#C8D4E3"
             },
             "line": {
              "color": "white"
             }
            },
            "type": "table"
           }
          ]
         },
         "layout": {
          "annotationdefaults": {
           "arrowcolor": "#2a3f5f",
           "arrowhead": 0,
           "arrowwidth": 1
          },
          "autotypenumbers": "strict",
          "coloraxis": {
           "colorbar": {
            "outlinewidth": 0,
            "ticks": ""
           }
          },
          "colorscale": {
           "diverging": [
            [
             0,
             "#8e0152"
            ],
            [
             0.1,
             "#c51b7d"
            ],
            [
             0.2,
             "#de77ae"
            ],
            [
             0.3,
             "#f1b6da"
            ],
            [
             0.4,
             "#fde0ef"
            ],
            [
             0.5,
             "#f7f7f7"
            ],
            [
             0.6,
             "#e6f5d0"
            ],
            [
             0.7,
             "#b8e186"
            ],
            [
             0.8,
             "#7fbc41"
            ],
            [
             0.9,
             "#4d9221"
            ],
            [
             1,
             "#276419"
            ]
           ],
           "sequential": [
            [
             0,
             "#0d0887"
            ],
            [
             0.1111111111111111,
             "#46039f"
            ],
            [
             0.2222222222222222,
             "#7201a8"
            ],
            [
             0.3333333333333333,
             "#9c179e"
            ],
            [
             0.4444444444444444,
             "#bd3786"
            ],
            [
             0.5555555555555556,
             "#d8576b"
            ],
            [
             0.6666666666666666,
             "#ed7953"
            ],
            [
             0.7777777777777778,
             "#fb9f3a"
            ],
            [
             0.8888888888888888,
             "#fdca26"
            ],
            [
             1,
             "#f0f921"
            ]
           ],
           "sequentialminus": [
            [
             0,
             "#0d0887"
            ],
            [
             0.1111111111111111,
             "#46039f"
            ],
            [
             0.2222222222222222,
             "#7201a8"
            ],
            [
             0.3333333333333333,
             "#9c179e"
            ],
            [
             0.4444444444444444,
             "#bd3786"
            ],
            [
             0.5555555555555556,
             "#d8576b"
            ],
            [
             0.6666666666666666,
             "#ed7953"
            ],
            [
             0.7777777777777778,
             "#fb9f3a"
            ],
            [
             0.8888888888888888,
             "#fdca26"
            ],
            [
             1,
             "#f0f921"
            ]
           ]
          },
          "colorway": [
           "#636efa",
           "#EF553B",
           "#00cc96",
           "#ab63fa",
           "#FFA15A",
           "#19d3f3",
           "#FF6692",
           "#B6E880",
           "#FF97FF",
           "#FECB52"
          ],
          "font": {
           "color": "#2a3f5f"
          },
          "geo": {
           "bgcolor": "white",
           "lakecolor": "white",
           "landcolor": "#E5ECF6",
           "showlakes": true,
           "showland": true,
           "subunitcolor": "white"
          },
          "hoverlabel": {
           "align": "left"
          },
          "hovermode": "closest",
          "mapbox": {
           "style": "light"
          },
          "paper_bgcolor": "white",
          "plot_bgcolor": "#E5ECF6",
          "polar": {
           "angularaxis": {
            "gridcolor": "white",
            "linecolor": "white",
            "ticks": ""
           },
           "bgcolor": "#E5ECF6",
           "radialaxis": {
            "gridcolor": "white",
            "linecolor": "white",
            "ticks": ""
           }
          },
          "scene": {
           "xaxis": {
            "backgroundcolor": "#E5ECF6",
            "gridcolor": "white",
            "gridwidth": 2,
            "linecolor": "white",
            "showbackground": true,
            "ticks": "",
            "zerolinecolor": "white"
           },
           "yaxis": {
            "backgroundcolor": "#E5ECF6",
            "gridcolor": "white",
            "gridwidth": 2,
            "linecolor": "white",
            "showbackground": true,
            "ticks": "",
            "zerolinecolor": "white"
           },
           "zaxis": {
            "backgroundcolor": "#E5ECF6",
            "gridcolor": "white",
            "gridwidth": 2,
            "linecolor": "white",
            "showbackground": true,
            "ticks": "",
            "zerolinecolor": "white"
           }
          },
          "shapedefaults": {
           "line": {
            "color": "#2a3f5f"
           }
          },
          "ternary": {
           "aaxis": {
            "gridcolor": "white",
            "linecolor": "white",
            "ticks": ""
           },
           "baxis": {
            "gridcolor": "white",
            "linecolor": "white",
            "ticks": ""
           },
           "bgcolor": "#E5ECF6",
           "caxis": {
            "gridcolor": "white",
            "linecolor": "white",
            "ticks": ""
           }
          },
          "title": {
           "x": 0.05
          },
          "xaxis": {
           "automargin": true,
           "gridcolor": "white",
           "linecolor": "white",
           "ticks": "",
           "title": {
            "standoff": 15
           },
           "zerolinecolor": "white",
           "zerolinewidth": 2
          },
          "yaxis": {
           "automargin": true,
           "gridcolor": "white",
           "linecolor": "white",
           "ticks": "",
           "title": {
            "standoff": 15
           },
           "zerolinecolor": "white",
           "zerolinewidth": 2
          }
         }
        },
        "title": {
         "text": "State Gun Control Score"
        }
       }
      },
      "text/html": [
       "<div>                            <div id=\"0365d8b9-354f-4adf-bfe1-99eb1c532368\" class=\"plotly-graph-div\" style=\"height:525px; width:100%;\"></div>            <script type=\"text/javascript\">                require([\"plotly\"], function(Plotly) {                    window.PLOTLYENV=window.PLOTLYENV || {};                                    if (document.getElementById(\"0365d8b9-354f-4adf-bfe1-99eb1c532368\")) {                    Plotly.newPlot(                        \"0365d8b9-354f-4adf-bfe1-99eb1c532368\",                        [{\"colorbar\":{\"title\":{\"text\":\"Gun Control Laws Score\"}},\"colorscale\":[[0.0,\"#440154\"],[0.1111111111111111,\"#482878\"],[0.2222222222222222,\"#3e4989\"],[0.3333333333333333,\"#31688e\"],[0.4444444444444444,\"#26828e\"],[0.5555555555555556,\"#1f9e89\"],[0.6666666666666666,\"#35b779\"],[0.7777777777777778,\"#6ece58\"],[0.8888888888888888,\"#b5de2b\"],[1.0,\"#fde725\"]],\"locationmode\":\"USA-states\",\"locations\":[\"HI\",\"IL\",\"CA\",\"MA\",\"NY\",\"MD\",\"NJ\",\"CT\",\"OR\",\"WA\",\"RI\",\"CO\",\"MN\",\"DE\",\"VA\",\"PA\",\"NM\",\"NV\",\"VT\",\"MI\",\"FL\",\"WI\",\"NC\",\"NE\",\"ME\",\"TN\",\"LA\",\"SC\",\"IA\",\"IN\",\"WV\",\"TX\",\"AL\",\"OH\",\"ND\",\"UT\",\"KS\",\"MO\",\"NH\",\"KY\",\"AK\",\"AZ\",\"OK\",\"MT\",\"SD\",\"GA\",\"WY\",\"ID\",\"AR\",\"MS\"],\"z\":[89.0,87.5,86.5,86.0,85.5,84.5,83.0,81.0,72.0,67.5,67.0,63.0,61.5,61.0,53.5,52.0,51.0,42.5,40.0,38.0,34.5,33.5,33.5,31.0,25.5,24.5,24.0,22.5,21.5,19.5,19.5,17.0,16.5,16.0,15.5,15.0,12.5,11.5,11.0,11.0,10.5,9.0,8.0,6.5,6.5,6.5,5.5,5.0,5.0,3.5],\"type\":\"choropleth\"},{\"locationmode\":\"USA-states\",\"locations\":[\"HI\",\"IL\",\"CA\",\"MA\",\"NY\",\"MD\",\"NJ\",\"CT\",\"OR\",\"WA\",\"RI\",\"CO\",\"MN\",\"DE\",\"VA\",\"PA\",\"NM\",\"NV\",\"VT\",\"MI\",\"FL\",\"WI\",\"NC\",\"NE\",\"ME\",\"TN\",\"LA\",\"SC\",\"IA\",\"IN\",\"WV\",\"TX\",\"AL\",\"OH\",\"ND\",\"UT\",\"KS\",\"MO\",\"NH\",\"KY\",\"AK\",\"AZ\",\"OK\",\"MT\",\"SD\",\"GA\",\"WY\",\"ID\",\"AR\",\"MS\"],\"mode\":\"text\",\"text\":[[89.0],[87.5],[86.5],[86.0],[85.5],[84.5],[83.0],[81.0],[72.0],[67.5],[67.0],[63.0],[61.5],[61.0],[53.5],[52.0],[51.0],[42.5],[40.0],[38.0],[34.5],[33.5],[33.5],[31.0],[25.5],[24.5],[24.0],[22.5],[21.5],[19.5],[19.5],[17.0],[16.5],[16.0],[15.5],[15.0],[12.5],[11.5],[11.0],[11.0],[10.5],[9.0],[8.0],[6.5],[6.5],[6.5],[5.5],[5.0],[5.0],[3.5]],\"textfont\":{\"color\":\"red\"},\"type\":\"scattergeo\"}],                        {\"template\":{\"data\":{\"histogram2dcontour\":[{\"type\":\"histogram2dcontour\",\"colorbar\":{\"outlinewidth\":0,\"ticks\":\"\"},\"colorscale\":[[0.0,\"#0d0887\"],[0.1111111111111111,\"#46039f\"],[0.2222222222222222,\"#7201a8\"],[0.3333333333333333,\"#9c179e\"],[0.4444444444444444,\"#bd3786\"],[0.5555555555555556,\"#d8576b\"],[0.6666666666666666,\"#ed7953\"],[0.7777777777777778,\"#fb9f3a\"],[0.8888888888888888,\"#fdca26\"],[1.0,\"#f0f921\"]]}],\"choropleth\":[{\"type\":\"choropleth\",\"colorbar\":{\"outlinewidth\":0,\"ticks\":\"\"}}],\"histogram2d\":[{\"type\":\"histogram2d\",\"colorbar\":{\"outlinewidth\":0,\"ticks\":\"\"},\"colorscale\":[[0.0,\"#0d0887\"],[0.1111111111111111,\"#46039f\"],[0.2222222222222222,\"#7201a8\"],[0.3333333333333333,\"#9c179e\"],[0.4444444444444444,\"#bd3786\"],[0.5555555555555556,\"#d8576b\"],[0.6666666666666666,\"#ed7953\"],[0.7777777777777778,\"#fb9f3a\"],[0.8888888888888888,\"#fdca26\"],[1.0,\"#f0f921\"]]}],\"heatmap\":[{\"type\":\"heatmap\",\"colorbar\":{\"outlinewidth\":0,\"ticks\":\"\"},\"colorscale\":[[0.0,\"#0d0887\"],[0.1111111111111111,\"#46039f\"],[0.2222222222222222,\"#7201a8\"],[0.3333333333333333,\"#9c179e\"],[0.4444444444444444,\"#bd3786\"],[0.5555555555555556,\"#d8576b\"],[0.6666666666666666,\"#ed7953\"],[0.7777777777777778,\"#fb9f3a\"],[0.8888888888888888,\"#fdca26\"],[1.0,\"#f0f921\"]]}],\"heatmapgl\":[{\"type\":\"heatmapgl\",\"colorbar\":{\"outlinewidth\":0,\"ticks\":\"\"},\"colorscale\":[[0.0,\"#0d0887\"],[0.1111111111111111,\"#46039f\"],[0.2222222222222222,\"#7201a8\"],[0.3333333333333333,\"#9c179e\"],[0.4444444444444444,\"#bd3786\"],[0.5555555555555556,\"#d8576b\"],[0.6666666666666666,\"#ed7953\"],[0.7777777777777778,\"#fb9f3a\"],[0.8888888888888888,\"#fdca26\"],[1.0,\"#f0f921\"]]}],\"contourcarpet\":[{\"type\":\"contourcarpet\",\"colorbar\":{\"outlinewidth\":0,\"ticks\":\"\"}}],\"contour\":[{\"type\":\"contour\",\"colorbar\":{\"outlinewidth\":0,\"ticks\":\"\"},\"colorscale\":[[0.0,\"#0d0887\"],[0.1111111111111111,\"#46039f\"],[0.2222222222222222,\"#7201a8\"],[0.3333333333333333,\"#9c179e\"],[0.4444444444444444,\"#bd3786\"],[0.5555555555555556,\"#d8576b\"],[0.6666666666666666,\"#ed7953\"],[0.7777777777777778,\"#fb9f3a\"],[0.8888888888888888,\"#fdca26\"],[1.0,\"#f0f921\"]]}],\"surface\":[{\"type\":\"surface\",\"colorbar\":{\"outlinewidth\":0,\"ticks\":\"\"},\"colorscale\":[[0.0,\"#0d0887\"],[0.1111111111111111,\"#46039f\"],[0.2222222222222222,\"#7201a8\"],[0.3333333333333333,\"#9c179e\"],[0.4444444444444444,\"#bd3786\"],[0.5555555555555556,\"#d8576b\"],[0.6666666666666666,\"#ed7953\"],[0.7777777777777778,\"#fb9f3a\"],[0.8888888888888888,\"#fdca26\"],[1.0,\"#f0f921\"]]}],\"mesh3d\":[{\"type\":\"mesh3d\",\"colorbar\":{\"outlinewidth\":0,\"ticks\":\"\"}}],\"scatter\":[{\"fillpattern\":{\"fillmode\":\"overlay\",\"size\":10,\"solidity\":0.2},\"type\":\"scatter\"}],\"parcoords\":[{\"type\":\"parcoords\",\"line\":{\"colorbar\":{\"outlinewidth\":0,\"ticks\":\"\"}}}],\"scatterpolargl\":[{\"type\":\"scatterpolargl\",\"marker\":{\"colorbar\":{\"outlinewidth\":0,\"ticks\":\"\"}}}],\"bar\":[{\"error_x\":{\"color\":\"#2a3f5f\"},\"error_y\":{\"color\":\"#2a3f5f\"},\"marker\":{\"line\":{\"color\":\"#E5ECF6\",\"width\":0.5},\"pattern\":{\"fillmode\":\"overlay\",\"size\":10,\"solidity\":0.2}},\"type\":\"bar\"}],\"scattergeo\":[{\"type\":\"scattergeo\",\"marker\":{\"colorbar\":{\"outlinewidth\":0,\"ticks\":\"\"}}}],\"scatterpolar\":[{\"type\":\"scatterpolar\",\"marker\":{\"colorbar\":{\"outlinewidth\":0,\"ticks\":\"\"}}}],\"histogram\":[{\"marker\":{\"pattern\":{\"fillmode\":\"overlay\",\"size\":10,\"solidity\":0.2}},\"type\":\"histogram\"}],\"scattergl\":[{\"type\":\"scattergl\",\"marker\":{\"colorbar\":{\"outlinewidth\":0,\"ticks\":\"\"}}}],\"scatter3d\":[{\"type\":\"scatter3d\",\"line\":{\"colorbar\":{\"outlinewidth\":0,\"ticks\":\"\"}},\"marker\":{\"colorbar\":{\"outlinewidth\":0,\"ticks\":\"\"}}}],\"scattermapbox\":[{\"type\":\"scattermapbox\",\"marker\":{\"colorbar\":{\"outlinewidth\":0,\"ticks\":\"\"}}}],\"scatterternary\":[{\"type\":\"scatterternary\",\"marker\":{\"colorbar\":{\"outlinewidth\":0,\"ticks\":\"\"}}}],\"scattercarpet\":[{\"type\":\"scattercarpet\",\"marker\":{\"colorbar\":{\"outlinewidth\":0,\"ticks\":\"\"}}}],\"carpet\":[{\"aaxis\":{\"endlinecolor\":\"#2a3f5f\",\"gridcolor\":\"white\",\"linecolor\":\"white\",\"minorgridcolor\":\"white\",\"startlinecolor\":\"#2a3f5f\"},\"baxis\":{\"endlinecolor\":\"#2a3f5f\",\"gridcolor\":\"white\",\"linecolor\":\"white\",\"minorgridcolor\":\"white\",\"startlinecolor\":\"#2a3f5f\"},\"type\":\"carpet\"}],\"table\":[{\"cells\":{\"fill\":{\"color\":\"#EBF0F8\"},\"line\":{\"color\":\"white\"}},\"header\":{\"fill\":{\"color\":\"#C8D4E3\"},\"line\":{\"color\":\"white\"}},\"type\":\"table\"}],\"barpolar\":[{\"marker\":{\"line\":{\"color\":\"#E5ECF6\",\"width\":0.5},\"pattern\":{\"fillmode\":\"overlay\",\"size\":10,\"solidity\":0.2}},\"type\":\"barpolar\"}],\"pie\":[{\"automargin\":true,\"type\":\"pie\"}]},\"layout\":{\"autotypenumbers\":\"strict\",\"colorway\":[\"#636efa\",\"#EF553B\",\"#00cc96\",\"#ab63fa\",\"#FFA15A\",\"#19d3f3\",\"#FF6692\",\"#B6E880\",\"#FF97FF\",\"#FECB52\"],\"font\":{\"color\":\"#2a3f5f\"},\"hovermode\":\"closest\",\"hoverlabel\":{\"align\":\"left\"},\"paper_bgcolor\":\"white\",\"plot_bgcolor\":\"#E5ECF6\",\"polar\":{\"bgcolor\":\"#E5ECF6\",\"angularaxis\":{\"gridcolor\":\"white\",\"linecolor\":\"white\",\"ticks\":\"\"},\"radialaxis\":{\"gridcolor\":\"white\",\"linecolor\":\"white\",\"ticks\":\"\"}},\"ternary\":{\"bgcolor\":\"#E5ECF6\",\"aaxis\":{\"gridcolor\":\"white\",\"linecolor\":\"white\",\"ticks\":\"\"},\"baxis\":{\"gridcolor\":\"white\",\"linecolor\":\"white\",\"ticks\":\"\"},\"caxis\":{\"gridcolor\":\"white\",\"linecolor\":\"white\",\"ticks\":\"\"}},\"coloraxis\":{\"colorbar\":{\"outlinewidth\":0,\"ticks\":\"\"}},\"colorscale\":{\"sequential\":[[0.0,\"#0d0887\"],[0.1111111111111111,\"#46039f\"],[0.2222222222222222,\"#7201a8\"],[0.3333333333333333,\"#9c179e\"],[0.4444444444444444,\"#bd3786\"],[0.5555555555555556,\"#d8576b\"],[0.6666666666666666,\"#ed7953\"],[0.7777777777777778,\"#fb9f3a\"],[0.8888888888888888,\"#fdca26\"],[1.0,\"#f0f921\"]],\"sequentialminus\":[[0.0,\"#0d0887\"],[0.1111111111111111,\"#46039f\"],[0.2222222222222222,\"#7201a8\"],[0.3333333333333333,\"#9c179e\"],[0.4444444444444444,\"#bd3786\"],[0.5555555555555556,\"#d8576b\"],[0.6666666666666666,\"#ed7953\"],[0.7777777777777778,\"#fb9f3a\"],[0.8888888888888888,\"#fdca26\"],[1.0,\"#f0f921\"]],\"diverging\":[[0,\"#8e0152\"],[0.1,\"#c51b7d\"],[0.2,\"#de77ae\"],[0.3,\"#f1b6da\"],[0.4,\"#fde0ef\"],[0.5,\"#f7f7f7\"],[0.6,\"#e6f5d0\"],[0.7,\"#b8e186\"],[0.8,\"#7fbc41\"],[0.9,\"#4d9221\"],[1,\"#276419\"]]},\"xaxis\":{\"gridcolor\":\"white\",\"linecolor\":\"white\",\"ticks\":\"\",\"title\":{\"standoff\":15},\"zerolinecolor\":\"white\",\"automargin\":true,\"zerolinewidth\":2},\"yaxis\":{\"gridcolor\":\"white\",\"linecolor\":\"white\",\"ticks\":\"\",\"title\":{\"standoff\":15},\"zerolinecolor\":\"white\",\"automargin\":true,\"zerolinewidth\":2},\"scene\":{\"xaxis\":{\"backgroundcolor\":\"#E5ECF6\",\"gridcolor\":\"white\",\"linecolor\":\"white\",\"showbackground\":true,\"ticks\":\"\",\"zerolinecolor\":\"white\",\"gridwidth\":2},\"yaxis\":{\"backgroundcolor\":\"#E5ECF6\",\"gridcolor\":\"white\",\"linecolor\":\"white\",\"showbackground\":true,\"ticks\":\"\",\"zerolinecolor\":\"white\",\"gridwidth\":2},\"zaxis\":{\"backgroundcolor\":\"#E5ECF6\",\"gridcolor\":\"white\",\"linecolor\":\"white\",\"showbackground\":true,\"ticks\":\"\",\"zerolinecolor\":\"white\",\"gridwidth\":2}},\"shapedefaults\":{\"line\":{\"color\":\"#2a3f5f\"}},\"annotationdefaults\":{\"arrowcolor\":\"#2a3f5f\",\"arrowhead\":0,\"arrowwidth\":1},\"geo\":{\"bgcolor\":\"white\",\"landcolor\":\"#E5ECF6\",\"subunitcolor\":\"white\",\"showland\":true,\"showlakes\":true,\"lakecolor\":\"white\"},\"title\":{\"x\":0.05},\"mapbox\":{\"style\":\"light\"}}},\"title\":{\"text\":\"State Gun Control Score\"},\"geo\":{\"scope\":\"usa\"},\"font\":{\"color\":\"red\",\"size\":10,\"family\":\"Arial Black\"}},                        {\"responsive\": true}                    ).then(function(){\n",
       "                            \n",
       "var gd = document.getElementById('0365d8b9-354f-4adf-bfe1-99eb1c532368');\n",
       "var x = new MutationObserver(function (mutations, observer) {{\n",
       "        var display = window.getComputedStyle(gd).display;\n",
       "        if (!display || display === 'none') {{\n",
       "            console.log([gd, 'removed!']);\n",
       "            Plotly.purge(gd);\n",
       "            observer.disconnect();\n",
       "        }}\n",
       "}});\n",
       "\n",
       "// Listen for the removal of the full notebook cells\n",
       "var notebookContainer = gd.closest('#notebook-container');\n",
       "if (notebookContainer) {{\n",
       "    x.observe(notebookContainer, {childList: true});\n",
       "}}\n",
       "\n",
       "// Listen for the clearing of the current output cell\n",
       "var outputEl = gd.closest('.output');\n",
       "if (outputEl) {{\n",
       "    x.observe(outputEl, {childList: true});\n",
       "}}\n",
       "\n",
       "                        })                };                });            </script>        </div>"
      ]
     },
     "metadata": {},
     "output_type": "display_data"
    }
   ],
   "source": [
    "#State Gun Control Score plot\n",
    "fig = go.Figure(data=go.Choropleth(\n",
    "    locations=state_scores['STUSAB'], # Spatial coordinates\n",
    "    z = state_scores['Control_Score'], # Data to be color-coded\n",
    "    locationmode = 'USA-states', # set of locations match entries in `locations`\n",
    "    colorscale = 'Viridis',\n",
    "    colorbar_title = \"Gun Control Laws Score\"\n",
    "))\n",
    "\n",
    "fig.add_scattergeo(\n",
    "    locations=state_scores['STUSAB'],\n",
    "    locationmode=\"USA-states\", \n",
    "    text=state_scores[['Control_Score']],\n",
    "    mode='text',\n",
    "    textfont=dict(color='red',)\n",
    ")\n",
    "fig.update_layout(\n",
    "    title_text = 'State Gun Control Score',\n",
    "    geo_scope='usa', # limite map scope to USA\n",
    "    font = dict(color='red',size = 10,family = 'Arial Black')\n",
    ")\n",
    "\n",
    "fig.show()"
   ]
  },
  {
   "cell_type": "code",
   "execution_count": 263,
   "id": "50c53517",
   "metadata": {},
   "outputs": [
    {
     "data": {
      "application/vnd.plotly.v1+json": {
       "config": {
        "plotlyServerURL": "https://plot.ly"
       },
       "data": [
        {
         "colorbar": {
          "title": {
           "text": "Gun Control Laws Score"
          }
         },
         "colorscale": [
          [
           0,
           "#440154"
          ],
          [
           0.1111111111111111,
           "#482878"
          ],
          [
           0.2222222222222222,
           "#3e4989"
          ],
          [
           0.3333333333333333,
           "#31688e"
          ],
          [
           0.4444444444444444,
           "#26828e"
          ],
          [
           0.5555555555555556,
           "#1f9e89"
          ],
          [
           0.6666666666666666,
           "#35b779"
          ],
          [
           0.7777777777777778,
           "#6ece58"
          ],
          [
           0.8888888888888888,
           "#b5de2b"
          ],
          [
           1,
           "#fde725"
          ]
         ],
         "locationmode": "USA-states",
         "locations": [
          "HI",
          "IL",
          "CA",
          "MA",
          "NY",
          "MD",
          "NJ",
          "CT",
          "OR",
          "WA",
          "RI",
          "CO",
          "MN",
          "DE",
          "VA",
          "PA",
          "NM",
          "NV",
          "VT",
          "MI",
          "FL",
          "WI",
          "NC",
          "NE",
          "ME",
          "TN",
          "LA",
          "SC",
          "IA",
          "IN",
          "WV",
          "TX",
          "AL",
          "OH",
          "ND",
          "UT",
          "KS",
          "MO",
          "NH",
          "KY",
          "AK",
          "AZ",
          "OK",
          "MT",
          "SD",
          "GA",
          "WY",
          "ID",
          "AR",
          "MS"
         ],
         "type": "choropleth",
         "z": [
          89,
          87.5,
          86.5,
          86,
          85.5,
          84.5,
          83,
          81,
          72,
          67.5,
          67,
          63,
          61.5,
          61,
          53.5,
          52,
          51,
          42.5,
          40,
          38,
          34.5,
          33.5,
          33.5,
          31,
          25.5,
          24.5,
          24,
          22.5,
          21.5,
          19.5,
          19.5,
          17,
          16.5,
          16,
          15.5,
          15,
          12.5,
          11.5,
          11,
          11,
          10.5,
          9,
          8,
          6.5,
          6.5,
          6.5,
          5.5,
          5,
          5,
          3.5
         ]
        }
       ],
       "layout": {
        "font": {
         "color": "red",
         "family": "Arial Black",
         "size": 10
        },
        "geo": {
         "scope": "usa"
        },
        "template": {
         "data": {
          "bar": [
           {
            "error_x": {
             "color": "#2a3f5f"
            },
            "error_y": {
             "color": "#2a3f5f"
            },
            "marker": {
             "line": {
              "color": "#E5ECF6",
              "width": 0.5
             },
             "pattern": {
              "fillmode": "overlay",
              "size": 10,
              "solidity": 0.2
             }
            },
            "type": "bar"
           }
          ],
          "barpolar": [
           {
            "marker": {
             "line": {
              "color": "#E5ECF6",
              "width": 0.5
             },
             "pattern": {
              "fillmode": "overlay",
              "size": 10,
              "solidity": 0.2
             }
            },
            "type": "barpolar"
           }
          ],
          "carpet": [
           {
            "aaxis": {
             "endlinecolor": "#2a3f5f",
             "gridcolor": "white",
             "linecolor": "white",
             "minorgridcolor": "white",
             "startlinecolor": "#2a3f5f"
            },
            "baxis": {
             "endlinecolor": "#2a3f5f",
             "gridcolor": "white",
             "linecolor": "white",
             "minorgridcolor": "white",
             "startlinecolor": "#2a3f5f"
            },
            "type": "carpet"
           }
          ],
          "choropleth": [
           {
            "colorbar": {
             "outlinewidth": 0,
             "ticks": ""
            },
            "type": "choropleth"
           }
          ],
          "contour": [
           {
            "colorbar": {
             "outlinewidth": 0,
             "ticks": ""
            },
            "colorscale": [
             [
              0,
              "#0d0887"
             ],
             [
              0.1111111111111111,
              "#46039f"
             ],
             [
              0.2222222222222222,
              "#7201a8"
             ],
             [
              0.3333333333333333,
              "#9c179e"
             ],
             [
              0.4444444444444444,
              "#bd3786"
             ],
             [
              0.5555555555555556,
              "#d8576b"
             ],
             [
              0.6666666666666666,
              "#ed7953"
             ],
             [
              0.7777777777777778,
              "#fb9f3a"
             ],
             [
              0.8888888888888888,
              "#fdca26"
             ],
             [
              1,
              "#f0f921"
             ]
            ],
            "type": "contour"
           }
          ],
          "contourcarpet": [
           {
            "colorbar": {
             "outlinewidth": 0,
             "ticks": ""
            },
            "type": "contourcarpet"
           }
          ],
          "heatmap": [
           {
            "colorbar": {
             "outlinewidth": 0,
             "ticks": ""
            },
            "colorscale": [
             [
              0,
              "#0d0887"
             ],
             [
              0.1111111111111111,
              "#46039f"
             ],
             [
              0.2222222222222222,
              "#7201a8"
             ],
             [
              0.3333333333333333,
              "#9c179e"
             ],
             [
              0.4444444444444444,
              "#bd3786"
             ],
             [
              0.5555555555555556,
              "#d8576b"
             ],
             [
              0.6666666666666666,
              "#ed7953"
             ],
             [
              0.7777777777777778,
              "#fb9f3a"
             ],
             [
              0.8888888888888888,
              "#fdca26"
             ],
             [
              1,
              "#f0f921"
             ]
            ],
            "type": "heatmap"
           }
          ],
          "heatmapgl": [
           {
            "colorbar": {
             "outlinewidth": 0,
             "ticks": ""
            },
            "colorscale": [
             [
              0,
              "#0d0887"
             ],
             [
              0.1111111111111111,
              "#46039f"
             ],
             [
              0.2222222222222222,
              "#7201a8"
             ],
             [
              0.3333333333333333,
              "#9c179e"
             ],
             [
              0.4444444444444444,
              "#bd3786"
             ],
             [
              0.5555555555555556,
              "#d8576b"
             ],
             [
              0.6666666666666666,
              "#ed7953"
             ],
             [
              0.7777777777777778,
              "#fb9f3a"
             ],
             [
              0.8888888888888888,
              "#fdca26"
             ],
             [
              1,
              "#f0f921"
             ]
            ],
            "type": "heatmapgl"
           }
          ],
          "histogram": [
           {
            "marker": {
             "pattern": {
              "fillmode": "overlay",
              "size": 10,
              "solidity": 0.2
             }
            },
            "type": "histogram"
           }
          ],
          "histogram2d": [
           {
            "colorbar": {
             "outlinewidth": 0,
             "ticks": ""
            },
            "colorscale": [
             [
              0,
              "#0d0887"
             ],
             [
              0.1111111111111111,
              "#46039f"
             ],
             [
              0.2222222222222222,
              "#7201a8"
             ],
             [
              0.3333333333333333,
              "#9c179e"
             ],
             [
              0.4444444444444444,
              "#bd3786"
             ],
             [
              0.5555555555555556,
              "#d8576b"
             ],
             [
              0.6666666666666666,
              "#ed7953"
             ],
             [
              0.7777777777777778,
              "#fb9f3a"
             ],
             [
              0.8888888888888888,
              "#fdca26"
             ],
             [
              1,
              "#f0f921"
             ]
            ],
            "type": "histogram2d"
           }
          ],
          "histogram2dcontour": [
           {
            "colorbar": {
             "outlinewidth": 0,
             "ticks": ""
            },
            "colorscale": [
             [
              0,
              "#0d0887"
             ],
             [
              0.1111111111111111,
              "#46039f"
             ],
             [
              0.2222222222222222,
              "#7201a8"
             ],
             [
              0.3333333333333333,
              "#9c179e"
             ],
             [
              0.4444444444444444,
              "#bd3786"
             ],
             [
              0.5555555555555556,
              "#d8576b"
             ],
             [
              0.6666666666666666,
              "#ed7953"
             ],
             [
              0.7777777777777778,
              "#fb9f3a"
             ],
             [
              0.8888888888888888,
              "#fdca26"
             ],
             [
              1,
              "#f0f921"
             ]
            ],
            "type": "histogram2dcontour"
           }
          ],
          "mesh3d": [
           {
            "colorbar": {
             "outlinewidth": 0,
             "ticks": ""
            },
            "type": "mesh3d"
           }
          ],
          "parcoords": [
           {
            "line": {
             "colorbar": {
              "outlinewidth": 0,
              "ticks": ""
             }
            },
            "type": "parcoords"
           }
          ],
          "pie": [
           {
            "automargin": true,
            "type": "pie"
           }
          ],
          "scatter": [
           {
            "fillpattern": {
             "fillmode": "overlay",
             "size": 10,
             "solidity": 0.2
            },
            "type": "scatter"
           }
          ],
          "scatter3d": [
           {
            "line": {
             "colorbar": {
              "outlinewidth": 0,
              "ticks": ""
             }
            },
            "marker": {
             "colorbar": {
              "outlinewidth": 0,
              "ticks": ""
             }
            },
            "type": "scatter3d"
           }
          ],
          "scattercarpet": [
           {
            "marker": {
             "colorbar": {
              "outlinewidth": 0,
              "ticks": ""
             }
            },
            "type": "scattercarpet"
           }
          ],
          "scattergeo": [
           {
            "marker": {
             "colorbar": {
              "outlinewidth": 0,
              "ticks": ""
             }
            },
            "type": "scattergeo"
           }
          ],
          "scattergl": [
           {
            "marker": {
             "colorbar": {
              "outlinewidth": 0,
              "ticks": ""
             }
            },
            "type": "scattergl"
           }
          ],
          "scattermapbox": [
           {
            "marker": {
             "colorbar": {
              "outlinewidth": 0,
              "ticks": ""
             }
            },
            "type": "scattermapbox"
           }
          ],
          "scatterpolar": [
           {
            "marker": {
             "colorbar": {
              "outlinewidth": 0,
              "ticks": ""
             }
            },
            "type": "scatterpolar"
           }
          ],
          "scatterpolargl": [
           {
            "marker": {
             "colorbar": {
              "outlinewidth": 0,
              "ticks": ""
             }
            },
            "type": "scatterpolargl"
           }
          ],
          "scatterternary": [
           {
            "marker": {
             "colorbar": {
              "outlinewidth": 0,
              "ticks": ""
             }
            },
            "type": "scatterternary"
           }
          ],
          "surface": [
           {
            "colorbar": {
             "outlinewidth": 0,
             "ticks": ""
            },
            "colorscale": [
             [
              0,
              "#0d0887"
             ],
             [
              0.1111111111111111,
              "#46039f"
             ],
             [
              0.2222222222222222,
              "#7201a8"
             ],
             [
              0.3333333333333333,
              "#9c179e"
             ],
             [
              0.4444444444444444,
              "#bd3786"
             ],
             [
              0.5555555555555556,
              "#d8576b"
             ],
             [
              0.6666666666666666,
              "#ed7953"
             ],
             [
              0.7777777777777778,
              "#fb9f3a"
             ],
             [
              0.8888888888888888,
              "#fdca26"
             ],
             [
              1,
              "#f0f921"
             ]
            ],
            "type": "surface"
           }
          ],
          "table": [
           {
            "cells": {
             "fill": {
              "color": "#EBF0F8"
             },
             "line": {
              "color": "white"
             }
            },
            "header": {
             "fill": {
              "color": "#C8D4E3"
             },
             "line": {
              "color": "white"
             }
            },
            "type": "table"
           }
          ]
         },
         "layout": {
          "annotationdefaults": {
           "arrowcolor": "#2a3f5f",
           "arrowhead": 0,
           "arrowwidth": 1
          },
          "autotypenumbers": "strict",
          "coloraxis": {
           "colorbar": {
            "outlinewidth": 0,
            "ticks": ""
           }
          },
          "colorscale": {
           "diverging": [
            [
             0,
             "#8e0152"
            ],
            [
             0.1,
             "#c51b7d"
            ],
            [
             0.2,
             "#de77ae"
            ],
            [
             0.3,
             "#f1b6da"
            ],
            [
             0.4,
             "#fde0ef"
            ],
            [
             0.5,
             "#f7f7f7"
            ],
            [
             0.6,
             "#e6f5d0"
            ],
            [
             0.7,
             "#b8e186"
            ],
            [
             0.8,
             "#7fbc41"
            ],
            [
             0.9,
             "#4d9221"
            ],
            [
             1,
             "#276419"
            ]
           ],
           "sequential": [
            [
             0,
             "#0d0887"
            ],
            [
             0.1111111111111111,
             "#46039f"
            ],
            [
             0.2222222222222222,
             "#7201a8"
            ],
            [
             0.3333333333333333,
             "#9c179e"
            ],
            [
             0.4444444444444444,
             "#bd3786"
            ],
            [
             0.5555555555555556,
             "#d8576b"
            ],
            [
             0.6666666666666666,
             "#ed7953"
            ],
            [
             0.7777777777777778,
             "#fb9f3a"
            ],
            [
             0.8888888888888888,
             "#fdca26"
            ],
            [
             1,
             "#f0f921"
            ]
           ],
           "sequentialminus": [
            [
             0,
             "#0d0887"
            ],
            [
             0.1111111111111111,
             "#46039f"
            ],
            [
             0.2222222222222222,
             "#7201a8"
            ],
            [
             0.3333333333333333,
             "#9c179e"
            ],
            [
             0.4444444444444444,
             "#bd3786"
            ],
            [
             0.5555555555555556,
             "#d8576b"
            ],
            [
             0.6666666666666666,
             "#ed7953"
            ],
            [
             0.7777777777777778,
             "#fb9f3a"
            ],
            [
             0.8888888888888888,
             "#fdca26"
            ],
            [
             1,
             "#f0f921"
            ]
           ]
          },
          "colorway": [
           "#636efa",
           "#EF553B",
           "#00cc96",
           "#ab63fa",
           "#FFA15A",
           "#19d3f3",
           "#FF6692",
           "#B6E880",
           "#FF97FF",
           "#FECB52"
          ],
          "font": {
           "color": "#2a3f5f"
          },
          "geo": {
           "bgcolor": "white",
           "lakecolor": "white",
           "landcolor": "#E5ECF6",
           "showlakes": true,
           "showland": true,
           "subunitcolor": "white"
          },
          "hoverlabel": {
           "align": "left"
          },
          "hovermode": "closest",
          "mapbox": {
           "style": "light"
          },
          "paper_bgcolor": "white",
          "plot_bgcolor": "#E5ECF6",
          "polar": {
           "angularaxis": {
            "gridcolor": "white",
            "linecolor": "white",
            "ticks": ""
           },
           "bgcolor": "#E5ECF6",
           "radialaxis": {
            "gridcolor": "white",
            "linecolor": "white",
            "ticks": ""
           }
          },
          "scene": {
           "xaxis": {
            "backgroundcolor": "#E5ECF6",
            "gridcolor": "white",
            "gridwidth": 2,
            "linecolor": "white",
            "showbackground": true,
            "ticks": "",
            "zerolinecolor": "white"
           },
           "yaxis": {
            "backgroundcolor": "#E5ECF6",
            "gridcolor": "white",
            "gridwidth": 2,
            "linecolor": "white",
            "showbackground": true,
            "ticks": "",
            "zerolinecolor": "white"
           },
           "zaxis": {
            "backgroundcolor": "#E5ECF6",
            "gridcolor": "white",
            "gridwidth": 2,
            "linecolor": "white",
            "showbackground": true,
            "ticks": "",
            "zerolinecolor": "white"
           }
          },
          "shapedefaults": {
           "line": {
            "color": "#2a3f5f"
           }
          },
          "ternary": {
           "aaxis": {
            "gridcolor": "white",
            "linecolor": "white",
            "ticks": ""
           },
           "baxis": {
            "gridcolor": "white",
            "linecolor": "white",
            "ticks": ""
           },
           "bgcolor": "#E5ECF6",
           "caxis": {
            "gridcolor": "white",
            "linecolor": "white",
            "ticks": ""
           }
          },
          "title": {
           "x": 0.05
          },
          "xaxis": {
           "automargin": true,
           "gridcolor": "white",
           "linecolor": "white",
           "ticks": "",
           "title": {
            "standoff": 15
           },
           "zerolinecolor": "white",
           "zerolinewidth": 2
          },
          "yaxis": {
           "automargin": true,
           "gridcolor": "white",
           "linecolor": "white",
           "ticks": "",
           "title": {
            "standoff": 15
           },
           "zerolinecolor": "white",
           "zerolinewidth": 2
          }
         }
        },
        "title": {
         "text": "State Gun Control Score"
        }
       }
      },
      "text/html": [
       "<div>                            <div id=\"ed8729b3-538f-42d5-ab5e-247253be744d\" class=\"plotly-graph-div\" style=\"height:525px; width:100%;\"></div>            <script type=\"text/javascript\">                require([\"plotly\"], function(Plotly) {                    window.PLOTLYENV=window.PLOTLYENV || {};                                    if (document.getElementById(\"ed8729b3-538f-42d5-ab5e-247253be744d\")) {                    Plotly.newPlot(                        \"ed8729b3-538f-42d5-ab5e-247253be744d\",                        [{\"colorbar\":{\"title\":{\"text\":\"Gun Control Laws Score\"}},\"colorscale\":[[0.0,\"#440154\"],[0.1111111111111111,\"#482878\"],[0.2222222222222222,\"#3e4989\"],[0.3333333333333333,\"#31688e\"],[0.4444444444444444,\"#26828e\"],[0.5555555555555556,\"#1f9e89\"],[0.6666666666666666,\"#35b779\"],[0.7777777777777778,\"#6ece58\"],[0.8888888888888888,\"#b5de2b\"],[1.0,\"#fde725\"]],\"locationmode\":\"USA-states\",\"locations\":[\"HI\",\"IL\",\"CA\",\"MA\",\"NY\",\"MD\",\"NJ\",\"CT\",\"OR\",\"WA\",\"RI\",\"CO\",\"MN\",\"DE\",\"VA\",\"PA\",\"NM\",\"NV\",\"VT\",\"MI\",\"FL\",\"WI\",\"NC\",\"NE\",\"ME\",\"TN\",\"LA\",\"SC\",\"IA\",\"IN\",\"WV\",\"TX\",\"AL\",\"OH\",\"ND\",\"UT\",\"KS\",\"MO\",\"NH\",\"KY\",\"AK\",\"AZ\",\"OK\",\"MT\",\"SD\",\"GA\",\"WY\",\"ID\",\"AR\",\"MS\"],\"z\":[89.0,87.5,86.5,86.0,85.5,84.5,83.0,81.0,72.0,67.5,67.0,63.0,61.5,61.0,53.5,52.0,51.0,42.5,40.0,38.0,34.5,33.5,33.5,31.0,25.5,24.5,24.0,22.5,21.5,19.5,19.5,17.0,16.5,16.0,15.5,15.0,12.5,11.5,11.0,11.0,10.5,9.0,8.0,6.5,6.5,6.5,5.5,5.0,5.0,3.5],\"type\":\"choropleth\"}],                        {\"template\":{\"data\":{\"histogram2dcontour\":[{\"type\":\"histogram2dcontour\",\"colorbar\":{\"outlinewidth\":0,\"ticks\":\"\"},\"colorscale\":[[0.0,\"#0d0887\"],[0.1111111111111111,\"#46039f\"],[0.2222222222222222,\"#7201a8\"],[0.3333333333333333,\"#9c179e\"],[0.4444444444444444,\"#bd3786\"],[0.5555555555555556,\"#d8576b\"],[0.6666666666666666,\"#ed7953\"],[0.7777777777777778,\"#fb9f3a\"],[0.8888888888888888,\"#fdca26\"],[1.0,\"#f0f921\"]]}],\"choropleth\":[{\"type\":\"choropleth\",\"colorbar\":{\"outlinewidth\":0,\"ticks\":\"\"}}],\"histogram2d\":[{\"type\":\"histogram2d\",\"colorbar\":{\"outlinewidth\":0,\"ticks\":\"\"},\"colorscale\":[[0.0,\"#0d0887\"],[0.1111111111111111,\"#46039f\"],[0.2222222222222222,\"#7201a8\"],[0.3333333333333333,\"#9c179e\"],[0.4444444444444444,\"#bd3786\"],[0.5555555555555556,\"#d8576b\"],[0.6666666666666666,\"#ed7953\"],[0.7777777777777778,\"#fb9f3a\"],[0.8888888888888888,\"#fdca26\"],[1.0,\"#f0f921\"]]}],\"heatmap\":[{\"type\":\"heatmap\",\"colorbar\":{\"outlinewidth\":0,\"ticks\":\"\"},\"colorscale\":[[0.0,\"#0d0887\"],[0.1111111111111111,\"#46039f\"],[0.2222222222222222,\"#7201a8\"],[0.3333333333333333,\"#9c179e\"],[0.4444444444444444,\"#bd3786\"],[0.5555555555555556,\"#d8576b\"],[0.6666666666666666,\"#ed7953\"],[0.7777777777777778,\"#fb9f3a\"],[0.8888888888888888,\"#fdca26\"],[1.0,\"#f0f921\"]]}],\"heatmapgl\":[{\"type\":\"heatmapgl\",\"colorbar\":{\"outlinewidth\":0,\"ticks\":\"\"},\"colorscale\":[[0.0,\"#0d0887\"],[0.1111111111111111,\"#46039f\"],[0.2222222222222222,\"#7201a8\"],[0.3333333333333333,\"#9c179e\"],[0.4444444444444444,\"#bd3786\"],[0.5555555555555556,\"#d8576b\"],[0.6666666666666666,\"#ed7953\"],[0.7777777777777778,\"#fb9f3a\"],[0.8888888888888888,\"#fdca26\"],[1.0,\"#f0f921\"]]}],\"contourcarpet\":[{\"type\":\"contourcarpet\",\"colorbar\":{\"outlinewidth\":0,\"ticks\":\"\"}}],\"contour\":[{\"type\":\"contour\",\"colorbar\":{\"outlinewidth\":0,\"ticks\":\"\"},\"colorscale\":[[0.0,\"#0d0887\"],[0.1111111111111111,\"#46039f\"],[0.2222222222222222,\"#7201a8\"],[0.3333333333333333,\"#9c179e\"],[0.4444444444444444,\"#bd3786\"],[0.5555555555555556,\"#d8576b\"],[0.6666666666666666,\"#ed7953\"],[0.7777777777777778,\"#fb9f3a\"],[0.8888888888888888,\"#fdca26\"],[1.0,\"#f0f921\"]]}],\"surface\":[{\"type\":\"surface\",\"colorbar\":{\"outlinewidth\":0,\"ticks\":\"\"},\"colorscale\":[[0.0,\"#0d0887\"],[0.1111111111111111,\"#46039f\"],[0.2222222222222222,\"#7201a8\"],[0.3333333333333333,\"#9c179e\"],[0.4444444444444444,\"#bd3786\"],[0.5555555555555556,\"#d8576b\"],[0.6666666666666666,\"#ed7953\"],[0.7777777777777778,\"#fb9f3a\"],[0.8888888888888888,\"#fdca26\"],[1.0,\"#f0f921\"]]}],\"mesh3d\":[{\"type\":\"mesh3d\",\"colorbar\":{\"outlinewidth\":0,\"ticks\":\"\"}}],\"scatter\":[{\"fillpattern\":{\"fillmode\":\"overlay\",\"size\":10,\"solidity\":0.2},\"type\":\"scatter\"}],\"parcoords\":[{\"type\":\"parcoords\",\"line\":{\"colorbar\":{\"outlinewidth\":0,\"ticks\":\"\"}}}],\"scatterpolargl\":[{\"type\":\"scatterpolargl\",\"marker\":{\"colorbar\":{\"outlinewidth\":0,\"ticks\":\"\"}}}],\"bar\":[{\"error_x\":{\"color\":\"#2a3f5f\"},\"error_y\":{\"color\":\"#2a3f5f\"},\"marker\":{\"line\":{\"color\":\"#E5ECF6\",\"width\":0.5},\"pattern\":{\"fillmode\":\"overlay\",\"size\":10,\"solidity\":0.2}},\"type\":\"bar\"}],\"scattergeo\":[{\"type\":\"scattergeo\",\"marker\":{\"colorbar\":{\"outlinewidth\":0,\"ticks\":\"\"}}}],\"scatterpolar\":[{\"type\":\"scatterpolar\",\"marker\":{\"colorbar\":{\"outlinewidth\":0,\"ticks\":\"\"}}}],\"histogram\":[{\"marker\":{\"pattern\":{\"fillmode\":\"overlay\",\"size\":10,\"solidity\":0.2}},\"type\":\"histogram\"}],\"scattergl\":[{\"type\":\"scattergl\",\"marker\":{\"colorbar\":{\"outlinewidth\":0,\"ticks\":\"\"}}}],\"scatter3d\":[{\"type\":\"scatter3d\",\"line\":{\"colorbar\":{\"outlinewidth\":0,\"ticks\":\"\"}},\"marker\":{\"colorbar\":{\"outlinewidth\":0,\"ticks\":\"\"}}}],\"scattermapbox\":[{\"type\":\"scattermapbox\",\"marker\":{\"colorbar\":{\"outlinewidth\":0,\"ticks\":\"\"}}}],\"scatterternary\":[{\"type\":\"scatterternary\",\"marker\":{\"colorbar\":{\"outlinewidth\":0,\"ticks\":\"\"}}}],\"scattercarpet\":[{\"type\":\"scattercarpet\",\"marker\":{\"colorbar\":{\"outlinewidth\":0,\"ticks\":\"\"}}}],\"carpet\":[{\"aaxis\":{\"endlinecolor\":\"#2a3f5f\",\"gridcolor\":\"white\",\"linecolor\":\"white\",\"minorgridcolor\":\"white\",\"startlinecolor\":\"#2a3f5f\"},\"baxis\":{\"endlinecolor\":\"#2a3f5f\",\"gridcolor\":\"white\",\"linecolor\":\"white\",\"minorgridcolor\":\"white\",\"startlinecolor\":\"#2a3f5f\"},\"type\":\"carpet\"}],\"table\":[{\"cells\":{\"fill\":{\"color\":\"#EBF0F8\"},\"line\":{\"color\":\"white\"}},\"header\":{\"fill\":{\"color\":\"#C8D4E3\"},\"line\":{\"color\":\"white\"}},\"type\":\"table\"}],\"barpolar\":[{\"marker\":{\"line\":{\"color\":\"#E5ECF6\",\"width\":0.5},\"pattern\":{\"fillmode\":\"overlay\",\"size\":10,\"solidity\":0.2}},\"type\":\"barpolar\"}],\"pie\":[{\"automargin\":true,\"type\":\"pie\"}]},\"layout\":{\"autotypenumbers\":\"strict\",\"colorway\":[\"#636efa\",\"#EF553B\",\"#00cc96\",\"#ab63fa\",\"#FFA15A\",\"#19d3f3\",\"#FF6692\",\"#B6E880\",\"#FF97FF\",\"#FECB52\"],\"font\":{\"color\":\"#2a3f5f\"},\"hovermode\":\"closest\",\"hoverlabel\":{\"align\":\"left\"},\"paper_bgcolor\":\"white\",\"plot_bgcolor\":\"#E5ECF6\",\"polar\":{\"bgcolor\":\"#E5ECF6\",\"angularaxis\":{\"gridcolor\":\"white\",\"linecolor\":\"white\",\"ticks\":\"\"},\"radialaxis\":{\"gridcolor\":\"white\",\"linecolor\":\"white\",\"ticks\":\"\"}},\"ternary\":{\"bgcolor\":\"#E5ECF6\",\"aaxis\":{\"gridcolor\":\"white\",\"linecolor\":\"white\",\"ticks\":\"\"},\"baxis\":{\"gridcolor\":\"white\",\"linecolor\":\"white\",\"ticks\":\"\"},\"caxis\":{\"gridcolor\":\"white\",\"linecolor\":\"white\",\"ticks\":\"\"}},\"coloraxis\":{\"colorbar\":{\"outlinewidth\":0,\"ticks\":\"\"}},\"colorscale\":{\"sequential\":[[0.0,\"#0d0887\"],[0.1111111111111111,\"#46039f\"],[0.2222222222222222,\"#7201a8\"],[0.3333333333333333,\"#9c179e\"],[0.4444444444444444,\"#bd3786\"],[0.5555555555555556,\"#d8576b\"],[0.6666666666666666,\"#ed7953\"],[0.7777777777777778,\"#fb9f3a\"],[0.8888888888888888,\"#fdca26\"],[1.0,\"#f0f921\"]],\"sequentialminus\":[[0.0,\"#0d0887\"],[0.1111111111111111,\"#46039f\"],[0.2222222222222222,\"#7201a8\"],[0.3333333333333333,\"#9c179e\"],[0.4444444444444444,\"#bd3786\"],[0.5555555555555556,\"#d8576b\"],[0.6666666666666666,\"#ed7953\"],[0.7777777777777778,\"#fb9f3a\"],[0.8888888888888888,\"#fdca26\"],[1.0,\"#f0f921\"]],\"diverging\":[[0,\"#8e0152\"],[0.1,\"#c51b7d\"],[0.2,\"#de77ae\"],[0.3,\"#f1b6da\"],[0.4,\"#fde0ef\"],[0.5,\"#f7f7f7\"],[0.6,\"#e6f5d0\"],[0.7,\"#b8e186\"],[0.8,\"#7fbc41\"],[0.9,\"#4d9221\"],[1,\"#276419\"]]},\"xaxis\":{\"gridcolor\":\"white\",\"linecolor\":\"white\",\"ticks\":\"\",\"title\":{\"standoff\":15},\"zerolinecolor\":\"white\",\"automargin\":true,\"zerolinewidth\":2},\"yaxis\":{\"gridcolor\":\"white\",\"linecolor\":\"white\",\"ticks\":\"\",\"title\":{\"standoff\":15},\"zerolinecolor\":\"white\",\"automargin\":true,\"zerolinewidth\":2},\"scene\":{\"xaxis\":{\"backgroundcolor\":\"#E5ECF6\",\"gridcolor\":\"white\",\"linecolor\":\"white\",\"showbackground\":true,\"ticks\":\"\",\"zerolinecolor\":\"white\",\"gridwidth\":2},\"yaxis\":{\"backgroundcolor\":\"#E5ECF6\",\"gridcolor\":\"white\",\"linecolor\":\"white\",\"showbackground\":true,\"ticks\":\"\",\"zerolinecolor\":\"white\",\"gridwidth\":2},\"zaxis\":{\"backgroundcolor\":\"#E5ECF6\",\"gridcolor\":\"white\",\"linecolor\":\"white\",\"showbackground\":true,\"ticks\":\"\",\"zerolinecolor\":\"white\",\"gridwidth\":2}},\"shapedefaults\":{\"line\":{\"color\":\"#2a3f5f\"}},\"annotationdefaults\":{\"arrowcolor\":\"#2a3f5f\",\"arrowhead\":0,\"arrowwidth\":1},\"geo\":{\"bgcolor\":\"white\",\"landcolor\":\"#E5ECF6\",\"subunitcolor\":\"white\",\"showland\":true,\"showlakes\":true,\"lakecolor\":\"white\"},\"title\":{\"x\":0.05},\"mapbox\":{\"style\":\"light\"}}},\"title\":{\"text\":\"State Gun Control Score\"},\"geo\":{\"scope\":\"usa\"},\"font\":{\"color\":\"red\",\"size\":10,\"family\":\"Arial Black\"}},                        {\"responsive\": true}                    ).then(function(){\n",
       "                            \n",
       "var gd = document.getElementById('ed8729b3-538f-42d5-ab5e-247253be744d');\n",
       "var x = new MutationObserver(function (mutations, observer) {{\n",
       "        var display = window.getComputedStyle(gd).display;\n",
       "        if (!display || display === 'none') {{\n",
       "            console.log([gd, 'removed!']);\n",
       "            Plotly.purge(gd);\n",
       "            observer.disconnect();\n",
       "        }}\n",
       "}});\n",
       "\n",
       "// Listen for the removal of the full notebook cells\n",
       "var notebookContainer = gd.closest('#notebook-container');\n",
       "if (notebookContainer) {{\n",
       "    x.observe(notebookContainer, {childList: true});\n",
       "}}\n",
       "\n",
       "// Listen for the clearing of the current output cell\n",
       "var outputEl = gd.closest('.output');\n",
       "if (outputEl) {{\n",
       "    x.observe(outputEl, {childList: true});\n",
       "}}\n",
       "\n",
       "                        })                };                });            </script>        </div>"
      ]
     },
     "metadata": {},
     "output_type": "display_data"
    }
   ],
   "source": [
    "#State Gun Control Score plot no text\n",
    "fig = go.Figure(data=go.Choropleth(\n",
    "    locations=state_scores['STUSAB'], # Spatial coordinates\n",
    "    z = state_scores['Control_Score'], # Data to be color-coded\n",
    "    locationmode = 'USA-states', # set of locations match entries in `locations`\n",
    "    colorscale = 'Viridis',\n",
    "    colorbar_title = \"Gun Control Laws Score\"\n",
    "))\n",
    "\n",
    "fig.update_layout(\n",
    "    title_text = 'State Gun Control Score',\n",
    "    geo_scope='usa', # limite map scope to USA\n",
    "    font = dict(color='red',size = 10,family = 'Arial Black')\n",
    ")\n",
    "\n",
    "fig.show()"
   ]
  },
  {
   "cell_type": "code",
   "execution_count": 260,
   "id": "5610f3d7",
   "metadata": {},
   "outputs": [
    {
     "data": {
      "application/vnd.plotly.v1+json": {
       "config": {
        "plotlyServerURL": "https://plot.ly"
       },
       "data": [
        {
         "colorbar": {
          "title": {
           "text": "Gun Control Laws Score"
          }
         },
         "colorscale": [
          [
           0,
           "#440154"
          ],
          [
           0.1111111111111111,
           "#482878"
          ],
          [
           0.2222222222222222,
           "#3e4989"
          ],
          [
           0.3333333333333333,
           "#31688e"
          ],
          [
           0.4444444444444444,
           "#26828e"
          ],
          [
           0.5555555555555556,
           "#1f9e89"
          ],
          [
           0.6666666666666666,
           "#35b779"
          ],
          [
           0.7777777777777778,
           "#6ece58"
          ],
          [
           0.8888888888888888,
           "#b5de2b"
          ],
          [
           1,
           "#fde725"
          ]
         ],
         "locationmode": "USA-states",
         "locations": [
          "HI",
          "IL",
          "CA",
          "MA",
          "NY",
          "GA",
          "WY",
          "ID",
          "AR",
          "MS"
         ],
         "type": "choropleth",
         "z": [
          89,
          87.5,
          86.5,
          86,
          85.5,
          6.5,
          5.5,
          5,
          5,
          3.5
         ]
        },
        {
         "locationmode": "USA-states",
         "locations": [
          "HI",
          "IL",
          "CA",
          "MA",
          "NY",
          "GA",
          "WY",
          "ID",
          "AR",
          "MS"
         ],
         "mode": "text",
         "text": [
          [
           89
          ],
          [
           87.5
          ],
          [
           86.5
          ],
          [
           86
          ],
          [
           85.5
          ],
          [
           6.5
          ],
          [
           5.5
          ],
          [
           5
          ],
          [
           5
          ],
          [
           3.5
          ]
         ],
         "textfont": {
          "color": "red"
         },
         "type": "scattergeo"
        }
       ],
       "layout": {
        "font": {
         "color": "red",
         "family": "Arial Black",
         "size": 10
        },
        "geo": {
         "scope": "usa"
        },
        "template": {
         "data": {
          "bar": [
           {
            "error_x": {
             "color": "#2a3f5f"
            },
            "error_y": {
             "color": "#2a3f5f"
            },
            "marker": {
             "line": {
              "color": "#E5ECF6",
              "width": 0.5
             },
             "pattern": {
              "fillmode": "overlay",
              "size": 10,
              "solidity": 0.2
             }
            },
            "type": "bar"
           }
          ],
          "barpolar": [
           {
            "marker": {
             "line": {
              "color": "#E5ECF6",
              "width": 0.5
             },
             "pattern": {
              "fillmode": "overlay",
              "size": 10,
              "solidity": 0.2
             }
            },
            "type": "barpolar"
           }
          ],
          "carpet": [
           {
            "aaxis": {
             "endlinecolor": "#2a3f5f",
             "gridcolor": "white",
             "linecolor": "white",
             "minorgridcolor": "white",
             "startlinecolor": "#2a3f5f"
            },
            "baxis": {
             "endlinecolor": "#2a3f5f",
             "gridcolor": "white",
             "linecolor": "white",
             "minorgridcolor": "white",
             "startlinecolor": "#2a3f5f"
            },
            "type": "carpet"
           }
          ],
          "choropleth": [
           {
            "colorbar": {
             "outlinewidth": 0,
             "ticks": ""
            },
            "type": "choropleth"
           }
          ],
          "contour": [
           {
            "colorbar": {
             "outlinewidth": 0,
             "ticks": ""
            },
            "colorscale": [
             [
              0,
              "#0d0887"
             ],
             [
              0.1111111111111111,
              "#46039f"
             ],
             [
              0.2222222222222222,
              "#7201a8"
             ],
             [
              0.3333333333333333,
              "#9c179e"
             ],
             [
              0.4444444444444444,
              "#bd3786"
             ],
             [
              0.5555555555555556,
              "#d8576b"
             ],
             [
              0.6666666666666666,
              "#ed7953"
             ],
             [
              0.7777777777777778,
              "#fb9f3a"
             ],
             [
              0.8888888888888888,
              "#fdca26"
             ],
             [
              1,
              "#f0f921"
             ]
            ],
            "type": "contour"
           }
          ],
          "contourcarpet": [
           {
            "colorbar": {
             "outlinewidth": 0,
             "ticks": ""
            },
            "type": "contourcarpet"
           }
          ],
          "heatmap": [
           {
            "colorbar": {
             "outlinewidth": 0,
             "ticks": ""
            },
            "colorscale": [
             [
              0,
              "#0d0887"
             ],
             [
              0.1111111111111111,
              "#46039f"
             ],
             [
              0.2222222222222222,
              "#7201a8"
             ],
             [
              0.3333333333333333,
              "#9c179e"
             ],
             [
              0.4444444444444444,
              "#bd3786"
             ],
             [
              0.5555555555555556,
              "#d8576b"
             ],
             [
              0.6666666666666666,
              "#ed7953"
             ],
             [
              0.7777777777777778,
              "#fb9f3a"
             ],
             [
              0.8888888888888888,
              "#fdca26"
             ],
             [
              1,
              "#f0f921"
             ]
            ],
            "type": "heatmap"
           }
          ],
          "heatmapgl": [
           {
            "colorbar": {
             "outlinewidth": 0,
             "ticks": ""
            },
            "colorscale": [
             [
              0,
              "#0d0887"
             ],
             [
              0.1111111111111111,
              "#46039f"
             ],
             [
              0.2222222222222222,
              "#7201a8"
             ],
             [
              0.3333333333333333,
              "#9c179e"
             ],
             [
              0.4444444444444444,
              "#bd3786"
             ],
             [
              0.5555555555555556,
              "#d8576b"
             ],
             [
              0.6666666666666666,
              "#ed7953"
             ],
             [
              0.7777777777777778,
              "#fb9f3a"
             ],
             [
              0.8888888888888888,
              "#fdca26"
             ],
             [
              1,
              "#f0f921"
             ]
            ],
            "type": "heatmapgl"
           }
          ],
          "histogram": [
           {
            "marker": {
             "pattern": {
              "fillmode": "overlay",
              "size": 10,
              "solidity": 0.2
             }
            },
            "type": "histogram"
           }
          ],
          "histogram2d": [
           {
            "colorbar": {
             "outlinewidth": 0,
             "ticks": ""
            },
            "colorscale": [
             [
              0,
              "#0d0887"
             ],
             [
              0.1111111111111111,
              "#46039f"
             ],
             [
              0.2222222222222222,
              "#7201a8"
             ],
             [
              0.3333333333333333,
              "#9c179e"
             ],
             [
              0.4444444444444444,
              "#bd3786"
             ],
             [
              0.5555555555555556,
              "#d8576b"
             ],
             [
              0.6666666666666666,
              "#ed7953"
             ],
             [
              0.7777777777777778,
              "#fb9f3a"
             ],
             [
              0.8888888888888888,
              "#fdca26"
             ],
             [
              1,
              "#f0f921"
             ]
            ],
            "type": "histogram2d"
           }
          ],
          "histogram2dcontour": [
           {
            "colorbar": {
             "outlinewidth": 0,
             "ticks": ""
            },
            "colorscale": [
             [
              0,
              "#0d0887"
             ],
             [
              0.1111111111111111,
              "#46039f"
             ],
             [
              0.2222222222222222,
              "#7201a8"
             ],
             [
              0.3333333333333333,
              "#9c179e"
             ],
             [
              0.4444444444444444,
              "#bd3786"
             ],
             [
              0.5555555555555556,
              "#d8576b"
             ],
             [
              0.6666666666666666,
              "#ed7953"
             ],
             [
              0.7777777777777778,
              "#fb9f3a"
             ],
             [
              0.8888888888888888,
              "#fdca26"
             ],
             [
              1,
              "#f0f921"
             ]
            ],
            "type": "histogram2dcontour"
           }
          ],
          "mesh3d": [
           {
            "colorbar": {
             "outlinewidth": 0,
             "ticks": ""
            },
            "type": "mesh3d"
           }
          ],
          "parcoords": [
           {
            "line": {
             "colorbar": {
              "outlinewidth": 0,
              "ticks": ""
             }
            },
            "type": "parcoords"
           }
          ],
          "pie": [
           {
            "automargin": true,
            "type": "pie"
           }
          ],
          "scatter": [
           {
            "fillpattern": {
             "fillmode": "overlay",
             "size": 10,
             "solidity": 0.2
            },
            "type": "scatter"
           }
          ],
          "scatter3d": [
           {
            "line": {
             "colorbar": {
              "outlinewidth": 0,
              "ticks": ""
             }
            },
            "marker": {
             "colorbar": {
              "outlinewidth": 0,
              "ticks": ""
             }
            },
            "type": "scatter3d"
           }
          ],
          "scattercarpet": [
           {
            "marker": {
             "colorbar": {
              "outlinewidth": 0,
              "ticks": ""
             }
            },
            "type": "scattercarpet"
           }
          ],
          "scattergeo": [
           {
            "marker": {
             "colorbar": {
              "outlinewidth": 0,
              "ticks": ""
             }
            },
            "type": "scattergeo"
           }
          ],
          "scattergl": [
           {
            "marker": {
             "colorbar": {
              "outlinewidth": 0,
              "ticks": ""
             }
            },
            "type": "scattergl"
           }
          ],
          "scattermapbox": [
           {
            "marker": {
             "colorbar": {
              "outlinewidth": 0,
              "ticks": ""
             }
            },
            "type": "scattermapbox"
           }
          ],
          "scatterpolar": [
           {
            "marker": {
             "colorbar": {
              "outlinewidth": 0,
              "ticks": ""
             }
            },
            "type": "scatterpolar"
           }
          ],
          "scatterpolargl": [
           {
            "marker": {
             "colorbar": {
              "outlinewidth": 0,
              "ticks": ""
             }
            },
            "type": "scatterpolargl"
           }
          ],
          "scatterternary": [
           {
            "marker": {
             "colorbar": {
              "outlinewidth": 0,
              "ticks": ""
             }
            },
            "type": "scatterternary"
           }
          ],
          "surface": [
           {
            "colorbar": {
             "outlinewidth": 0,
             "ticks": ""
            },
            "colorscale": [
             [
              0,
              "#0d0887"
             ],
             [
              0.1111111111111111,
              "#46039f"
             ],
             [
              0.2222222222222222,
              "#7201a8"
             ],
             [
              0.3333333333333333,
              "#9c179e"
             ],
             [
              0.4444444444444444,
              "#bd3786"
             ],
             [
              0.5555555555555556,
              "#d8576b"
             ],
             [
              0.6666666666666666,
              "#ed7953"
             ],
             [
              0.7777777777777778,
              "#fb9f3a"
             ],
             [
              0.8888888888888888,
              "#fdca26"
             ],
             [
              1,
              "#f0f921"
             ]
            ],
            "type": "surface"
           }
          ],
          "table": [
           {
            "cells": {
             "fill": {
              "color": "#EBF0F8"
             },
             "line": {
              "color": "white"
             }
            },
            "header": {
             "fill": {
              "color": "#C8D4E3"
             },
             "line": {
              "color": "white"
             }
            },
            "type": "table"
           }
          ]
         },
         "layout": {
          "annotationdefaults": {
           "arrowcolor": "#2a3f5f",
           "arrowhead": 0,
           "arrowwidth": 1
          },
          "autotypenumbers": "strict",
          "coloraxis": {
           "colorbar": {
            "outlinewidth": 0,
            "ticks": ""
           }
          },
          "colorscale": {
           "diverging": [
            [
             0,
             "#8e0152"
            ],
            [
             0.1,
             "#c51b7d"
            ],
            [
             0.2,
             "#de77ae"
            ],
            [
             0.3,
             "#f1b6da"
            ],
            [
             0.4,
             "#fde0ef"
            ],
            [
             0.5,
             "#f7f7f7"
            ],
            [
             0.6,
             "#e6f5d0"
            ],
            [
             0.7,
             "#b8e186"
            ],
            [
             0.8,
             "#7fbc41"
            ],
            [
             0.9,
             "#4d9221"
            ],
            [
             1,
             "#276419"
            ]
           ],
           "sequential": [
            [
             0,
             "#0d0887"
            ],
            [
             0.1111111111111111,
             "#46039f"
            ],
            [
             0.2222222222222222,
             "#7201a8"
            ],
            [
             0.3333333333333333,
             "#9c179e"
            ],
            [
             0.4444444444444444,
             "#bd3786"
            ],
            [
             0.5555555555555556,
             "#d8576b"
            ],
            [
             0.6666666666666666,
             "#ed7953"
            ],
            [
             0.7777777777777778,
             "#fb9f3a"
            ],
            [
             0.8888888888888888,
             "#fdca26"
            ],
            [
             1,
             "#f0f921"
            ]
           ],
           "sequentialminus": [
            [
             0,
             "#0d0887"
            ],
            [
             0.1111111111111111,
             "#46039f"
            ],
            [
             0.2222222222222222,
             "#7201a8"
            ],
            [
             0.3333333333333333,
             "#9c179e"
            ],
            [
             0.4444444444444444,
             "#bd3786"
            ],
            [
             0.5555555555555556,
             "#d8576b"
            ],
            [
             0.6666666666666666,
             "#ed7953"
            ],
            [
             0.7777777777777778,
             "#fb9f3a"
            ],
            [
             0.8888888888888888,
             "#fdca26"
            ],
            [
             1,
             "#f0f921"
            ]
           ]
          },
          "colorway": [
           "#636efa",
           "#EF553B",
           "#00cc96",
           "#ab63fa",
           "#FFA15A",
           "#19d3f3",
           "#FF6692",
           "#B6E880",
           "#FF97FF",
           "#FECB52"
          ],
          "font": {
           "color": "#2a3f5f"
          },
          "geo": {
           "bgcolor": "white",
           "lakecolor": "white",
           "landcolor": "#E5ECF6",
           "showlakes": true,
           "showland": true,
           "subunitcolor": "white"
          },
          "hoverlabel": {
           "align": "left"
          },
          "hovermode": "closest",
          "mapbox": {
           "style": "light"
          },
          "paper_bgcolor": "white",
          "plot_bgcolor": "#E5ECF6",
          "polar": {
           "angularaxis": {
            "gridcolor": "white",
            "linecolor": "white",
            "ticks": ""
           },
           "bgcolor": "#E5ECF6",
           "radialaxis": {
            "gridcolor": "white",
            "linecolor": "white",
            "ticks": ""
           }
          },
          "scene": {
           "xaxis": {
            "backgroundcolor": "#E5ECF6",
            "gridcolor": "white",
            "gridwidth": 2,
            "linecolor": "white",
            "showbackground": true,
            "ticks": "",
            "zerolinecolor": "white"
           },
           "yaxis": {
            "backgroundcolor": "#E5ECF6",
            "gridcolor": "white",
            "gridwidth": 2,
            "linecolor": "white",
            "showbackground": true,
            "ticks": "",
            "zerolinecolor": "white"
           },
           "zaxis": {
            "backgroundcolor": "#E5ECF6",
            "gridcolor": "white",
            "gridwidth": 2,
            "linecolor": "white",
            "showbackground": true,
            "ticks": "",
            "zerolinecolor": "white"
           }
          },
          "shapedefaults": {
           "line": {
            "color": "#2a3f5f"
           }
          },
          "ternary": {
           "aaxis": {
            "gridcolor": "white",
            "linecolor": "white",
            "ticks": ""
           },
           "baxis": {
            "gridcolor": "white",
            "linecolor": "white",
            "ticks": ""
           },
           "bgcolor": "#E5ECF6",
           "caxis": {
            "gridcolor": "white",
            "linecolor": "white",
            "ticks": ""
           }
          },
          "title": {
           "x": 0.05
          },
          "xaxis": {
           "automargin": true,
           "gridcolor": "white",
           "linecolor": "white",
           "ticks": "",
           "title": {
            "standoff": 15
           },
           "zerolinecolor": "white",
           "zerolinewidth": 2
          },
          "yaxis": {
           "automargin": true,
           "gridcolor": "white",
           "linecolor": "white",
           "ticks": "",
           "title": {
            "standoff": 15
           },
           "zerolinecolor": "white",
           "zerolinewidth": 2
          }
         }
        },
        "title": {
         "text": "State Gun Control Laws Score(Top and Bottom 5)"
        }
       }
      },
      "text/html": [
       "<div>                            <div id=\"14a14d65-5c5f-4afc-93fe-dd1021aa9b60\" class=\"plotly-graph-div\" style=\"height:525px; width:100%;\"></div>            <script type=\"text/javascript\">                require([\"plotly\"], function(Plotly) {                    window.PLOTLYENV=window.PLOTLYENV || {};                                    if (document.getElementById(\"14a14d65-5c5f-4afc-93fe-dd1021aa9b60\")) {                    Plotly.newPlot(                        \"14a14d65-5c5f-4afc-93fe-dd1021aa9b60\",                        [{\"colorbar\":{\"title\":{\"text\":\"Gun Control Laws Score\"}},\"colorscale\":[[0.0,\"#440154\"],[0.1111111111111111,\"#482878\"],[0.2222222222222222,\"#3e4989\"],[0.3333333333333333,\"#31688e\"],[0.4444444444444444,\"#26828e\"],[0.5555555555555556,\"#1f9e89\"],[0.6666666666666666,\"#35b779\"],[0.7777777777777778,\"#6ece58\"],[0.8888888888888888,\"#b5de2b\"],[1.0,\"#fde725\"]],\"locationmode\":\"USA-states\",\"locations\":[\"HI\",\"IL\",\"CA\",\"MA\",\"NY\",\"GA\",\"WY\",\"ID\",\"AR\",\"MS\"],\"z\":[89.0,87.5,86.5,86.0,85.5,6.5,5.5,5.0,5.0,3.5],\"type\":\"choropleth\"},{\"locationmode\":\"USA-states\",\"locations\":[\"HI\",\"IL\",\"CA\",\"MA\",\"NY\",\"GA\",\"WY\",\"ID\",\"AR\",\"MS\"],\"mode\":\"text\",\"text\":[[89.0],[87.5],[86.5],[86.0],[85.5],[6.5],[5.5],[5.0],[5.0],[3.5]],\"textfont\":{\"color\":\"red\"},\"type\":\"scattergeo\"}],                        {\"template\":{\"data\":{\"histogram2dcontour\":[{\"type\":\"histogram2dcontour\",\"colorbar\":{\"outlinewidth\":0,\"ticks\":\"\"},\"colorscale\":[[0.0,\"#0d0887\"],[0.1111111111111111,\"#46039f\"],[0.2222222222222222,\"#7201a8\"],[0.3333333333333333,\"#9c179e\"],[0.4444444444444444,\"#bd3786\"],[0.5555555555555556,\"#d8576b\"],[0.6666666666666666,\"#ed7953\"],[0.7777777777777778,\"#fb9f3a\"],[0.8888888888888888,\"#fdca26\"],[1.0,\"#f0f921\"]]}],\"choropleth\":[{\"type\":\"choropleth\",\"colorbar\":{\"outlinewidth\":0,\"ticks\":\"\"}}],\"histogram2d\":[{\"type\":\"histogram2d\",\"colorbar\":{\"outlinewidth\":0,\"ticks\":\"\"},\"colorscale\":[[0.0,\"#0d0887\"],[0.1111111111111111,\"#46039f\"],[0.2222222222222222,\"#7201a8\"],[0.3333333333333333,\"#9c179e\"],[0.4444444444444444,\"#bd3786\"],[0.5555555555555556,\"#d8576b\"],[0.6666666666666666,\"#ed7953\"],[0.7777777777777778,\"#fb9f3a\"],[0.8888888888888888,\"#fdca26\"],[1.0,\"#f0f921\"]]}],\"heatmap\":[{\"type\":\"heatmap\",\"colorbar\":{\"outlinewidth\":0,\"ticks\":\"\"},\"colorscale\":[[0.0,\"#0d0887\"],[0.1111111111111111,\"#46039f\"],[0.2222222222222222,\"#7201a8\"],[0.3333333333333333,\"#9c179e\"],[0.4444444444444444,\"#bd3786\"],[0.5555555555555556,\"#d8576b\"],[0.6666666666666666,\"#ed7953\"],[0.7777777777777778,\"#fb9f3a\"],[0.8888888888888888,\"#fdca26\"],[1.0,\"#f0f921\"]]}],\"heatmapgl\":[{\"type\":\"heatmapgl\",\"colorbar\":{\"outlinewidth\":0,\"ticks\":\"\"},\"colorscale\":[[0.0,\"#0d0887\"],[0.1111111111111111,\"#46039f\"],[0.2222222222222222,\"#7201a8\"],[0.3333333333333333,\"#9c179e\"],[0.4444444444444444,\"#bd3786\"],[0.5555555555555556,\"#d8576b\"],[0.6666666666666666,\"#ed7953\"],[0.7777777777777778,\"#fb9f3a\"],[0.8888888888888888,\"#fdca26\"],[1.0,\"#f0f921\"]]}],\"contourcarpet\":[{\"type\":\"contourcarpet\",\"colorbar\":{\"outlinewidth\":0,\"ticks\":\"\"}}],\"contour\":[{\"type\":\"contour\",\"colorbar\":{\"outlinewidth\":0,\"ticks\":\"\"},\"colorscale\":[[0.0,\"#0d0887\"],[0.1111111111111111,\"#46039f\"],[0.2222222222222222,\"#7201a8\"],[0.3333333333333333,\"#9c179e\"],[0.4444444444444444,\"#bd3786\"],[0.5555555555555556,\"#d8576b\"],[0.6666666666666666,\"#ed7953\"],[0.7777777777777778,\"#fb9f3a\"],[0.8888888888888888,\"#fdca26\"],[1.0,\"#f0f921\"]]}],\"surface\":[{\"type\":\"surface\",\"colorbar\":{\"outlinewidth\":0,\"ticks\":\"\"},\"colorscale\":[[0.0,\"#0d0887\"],[0.1111111111111111,\"#46039f\"],[0.2222222222222222,\"#7201a8\"],[0.3333333333333333,\"#9c179e\"],[0.4444444444444444,\"#bd3786\"],[0.5555555555555556,\"#d8576b\"],[0.6666666666666666,\"#ed7953\"],[0.7777777777777778,\"#fb9f3a\"],[0.8888888888888888,\"#fdca26\"],[1.0,\"#f0f921\"]]}],\"mesh3d\":[{\"type\":\"mesh3d\",\"colorbar\":{\"outlinewidth\":0,\"ticks\":\"\"}}],\"scatter\":[{\"fillpattern\":{\"fillmode\":\"overlay\",\"size\":10,\"solidity\":0.2},\"type\":\"scatter\"}],\"parcoords\":[{\"type\":\"parcoords\",\"line\":{\"colorbar\":{\"outlinewidth\":0,\"ticks\":\"\"}}}],\"scatterpolargl\":[{\"type\":\"scatterpolargl\",\"marker\":{\"colorbar\":{\"outlinewidth\":0,\"ticks\":\"\"}}}],\"bar\":[{\"error_x\":{\"color\":\"#2a3f5f\"},\"error_y\":{\"color\":\"#2a3f5f\"},\"marker\":{\"line\":{\"color\":\"#E5ECF6\",\"width\":0.5},\"pattern\":{\"fillmode\":\"overlay\",\"size\":10,\"solidity\":0.2}},\"type\":\"bar\"}],\"scattergeo\":[{\"type\":\"scattergeo\",\"marker\":{\"colorbar\":{\"outlinewidth\":0,\"ticks\":\"\"}}}],\"scatterpolar\":[{\"type\":\"scatterpolar\",\"marker\":{\"colorbar\":{\"outlinewidth\":0,\"ticks\":\"\"}}}],\"histogram\":[{\"marker\":{\"pattern\":{\"fillmode\":\"overlay\",\"size\":10,\"solidity\":0.2}},\"type\":\"histogram\"}],\"scattergl\":[{\"type\":\"scattergl\",\"marker\":{\"colorbar\":{\"outlinewidth\":0,\"ticks\":\"\"}}}],\"scatter3d\":[{\"type\":\"scatter3d\",\"line\":{\"colorbar\":{\"outlinewidth\":0,\"ticks\":\"\"}},\"marker\":{\"colorbar\":{\"outlinewidth\":0,\"ticks\":\"\"}}}],\"scattermapbox\":[{\"type\":\"scattermapbox\",\"marker\":{\"colorbar\":{\"outlinewidth\":0,\"ticks\":\"\"}}}],\"scatterternary\":[{\"type\":\"scatterternary\",\"marker\":{\"colorbar\":{\"outlinewidth\":0,\"ticks\":\"\"}}}],\"scattercarpet\":[{\"type\":\"scattercarpet\",\"marker\":{\"colorbar\":{\"outlinewidth\":0,\"ticks\":\"\"}}}],\"carpet\":[{\"aaxis\":{\"endlinecolor\":\"#2a3f5f\",\"gridcolor\":\"white\",\"linecolor\":\"white\",\"minorgridcolor\":\"white\",\"startlinecolor\":\"#2a3f5f\"},\"baxis\":{\"endlinecolor\":\"#2a3f5f\",\"gridcolor\":\"white\",\"linecolor\":\"white\",\"minorgridcolor\":\"white\",\"startlinecolor\":\"#2a3f5f\"},\"type\":\"carpet\"}],\"table\":[{\"cells\":{\"fill\":{\"color\":\"#EBF0F8\"},\"line\":{\"color\":\"white\"}},\"header\":{\"fill\":{\"color\":\"#C8D4E3\"},\"line\":{\"color\":\"white\"}},\"type\":\"table\"}],\"barpolar\":[{\"marker\":{\"line\":{\"color\":\"#E5ECF6\",\"width\":0.5},\"pattern\":{\"fillmode\":\"overlay\",\"size\":10,\"solidity\":0.2}},\"type\":\"barpolar\"}],\"pie\":[{\"automargin\":true,\"type\":\"pie\"}]},\"layout\":{\"autotypenumbers\":\"strict\",\"colorway\":[\"#636efa\",\"#EF553B\",\"#00cc96\",\"#ab63fa\",\"#FFA15A\",\"#19d3f3\",\"#FF6692\",\"#B6E880\",\"#FF97FF\",\"#FECB52\"],\"font\":{\"color\":\"#2a3f5f\"},\"hovermode\":\"closest\",\"hoverlabel\":{\"align\":\"left\"},\"paper_bgcolor\":\"white\",\"plot_bgcolor\":\"#E5ECF6\",\"polar\":{\"bgcolor\":\"#E5ECF6\",\"angularaxis\":{\"gridcolor\":\"white\",\"linecolor\":\"white\",\"ticks\":\"\"},\"radialaxis\":{\"gridcolor\":\"white\",\"linecolor\":\"white\",\"ticks\":\"\"}},\"ternary\":{\"bgcolor\":\"#E5ECF6\",\"aaxis\":{\"gridcolor\":\"white\",\"linecolor\":\"white\",\"ticks\":\"\"},\"baxis\":{\"gridcolor\":\"white\",\"linecolor\":\"white\",\"ticks\":\"\"},\"caxis\":{\"gridcolor\":\"white\",\"linecolor\":\"white\",\"ticks\":\"\"}},\"coloraxis\":{\"colorbar\":{\"outlinewidth\":0,\"ticks\":\"\"}},\"colorscale\":{\"sequential\":[[0.0,\"#0d0887\"],[0.1111111111111111,\"#46039f\"],[0.2222222222222222,\"#7201a8\"],[0.3333333333333333,\"#9c179e\"],[0.4444444444444444,\"#bd3786\"],[0.5555555555555556,\"#d8576b\"],[0.6666666666666666,\"#ed7953\"],[0.7777777777777778,\"#fb9f3a\"],[0.8888888888888888,\"#fdca26\"],[1.0,\"#f0f921\"]],\"sequentialminus\":[[0.0,\"#0d0887\"],[0.1111111111111111,\"#46039f\"],[0.2222222222222222,\"#7201a8\"],[0.3333333333333333,\"#9c179e\"],[0.4444444444444444,\"#bd3786\"],[0.5555555555555556,\"#d8576b\"],[0.6666666666666666,\"#ed7953\"],[0.7777777777777778,\"#fb9f3a\"],[0.8888888888888888,\"#fdca26\"],[1.0,\"#f0f921\"]],\"diverging\":[[0,\"#8e0152\"],[0.1,\"#c51b7d\"],[0.2,\"#de77ae\"],[0.3,\"#f1b6da\"],[0.4,\"#fde0ef\"],[0.5,\"#f7f7f7\"],[0.6,\"#e6f5d0\"],[0.7,\"#b8e186\"],[0.8,\"#7fbc41\"],[0.9,\"#4d9221\"],[1,\"#276419\"]]},\"xaxis\":{\"gridcolor\":\"white\",\"linecolor\":\"white\",\"ticks\":\"\",\"title\":{\"standoff\":15},\"zerolinecolor\":\"white\",\"automargin\":true,\"zerolinewidth\":2},\"yaxis\":{\"gridcolor\":\"white\",\"linecolor\":\"white\",\"ticks\":\"\",\"title\":{\"standoff\":15},\"zerolinecolor\":\"white\",\"automargin\":true,\"zerolinewidth\":2},\"scene\":{\"xaxis\":{\"backgroundcolor\":\"#E5ECF6\",\"gridcolor\":\"white\",\"linecolor\":\"white\",\"showbackground\":true,\"ticks\":\"\",\"zerolinecolor\":\"white\",\"gridwidth\":2},\"yaxis\":{\"backgroundcolor\":\"#E5ECF6\",\"gridcolor\":\"white\",\"linecolor\":\"white\",\"showbackground\":true,\"ticks\":\"\",\"zerolinecolor\":\"white\",\"gridwidth\":2},\"zaxis\":{\"backgroundcolor\":\"#E5ECF6\",\"gridcolor\":\"white\",\"linecolor\":\"white\",\"showbackground\":true,\"ticks\":\"\",\"zerolinecolor\":\"white\",\"gridwidth\":2}},\"shapedefaults\":{\"line\":{\"color\":\"#2a3f5f\"}},\"annotationdefaults\":{\"arrowcolor\":\"#2a3f5f\",\"arrowhead\":0,\"arrowwidth\":1},\"geo\":{\"bgcolor\":\"white\",\"landcolor\":\"#E5ECF6\",\"subunitcolor\":\"white\",\"showland\":true,\"showlakes\":true,\"lakecolor\":\"white\"},\"title\":{\"x\":0.05},\"mapbox\":{\"style\":\"light\"}}},\"title\":{\"text\":\"State Gun Control Laws Score(Top and Bottom 5)\"},\"geo\":{\"scope\":\"usa\"},\"font\":{\"color\":\"red\",\"size\":10,\"family\":\"Arial Black\"}},                        {\"responsive\": true}                    ).then(function(){\n",
       "                            \n",
       "var gd = document.getElementById('14a14d65-5c5f-4afc-93fe-dd1021aa9b60');\n",
       "var x = new MutationObserver(function (mutations, observer) {{\n",
       "        var display = window.getComputedStyle(gd).display;\n",
       "        if (!display || display === 'none') {{\n",
       "            console.log([gd, 'removed!']);\n",
       "            Plotly.purge(gd);\n",
       "            observer.disconnect();\n",
       "        }}\n",
       "}});\n",
       "\n",
       "// Listen for the removal of the full notebook cells\n",
       "var notebookContainer = gd.closest('#notebook-container');\n",
       "if (notebookContainer) {{\n",
       "    x.observe(notebookContainer, {childList: true});\n",
       "}}\n",
       "\n",
       "// Listen for the clearing of the current output cell\n",
       "var outputEl = gd.closest('.output');\n",
       "if (outputEl) {{\n",
       "    x.observe(outputEl, {childList: true});\n",
       "}}\n",
       "\n",
       "                        })                };                });            </script>        </div>"
      ]
     },
     "metadata": {},
     "output_type": "display_data"
    }
   ],
   "source": [
    "#plot gun control\n",
    "\n",
    "\n",
    "fig = go.Figure(data=go.Choropleth(\n",
    "    locations=compress_scores['STUSAB'], # Spatial coordinates\n",
    "    z = compress_scores['Control_Score'], # Data to be color-coded\n",
    "    locationmode = 'USA-states', # set of locations match entries in `locations`\n",
    "    colorscale = 'Viridis',\n",
    "    colorbar_title = \"Gun Control Laws Score\"\n",
    "))\n",
    "\n",
    "fig.add_scattergeo(\n",
    "    locations=compress_scores['STUSAB'],\n",
    "    locationmode=\"USA-states\", \n",
    "    text=compress_scores[['Control_Score']],\n",
    "    mode='text',\n",
    "    textfont=dict(color='red',)\n",
    ")\n",
    "fig.update_layout(\n",
    "    title_text = 'State Gun Control Laws Score(Top and Bottom 5)',\n",
    "    geo_scope='usa', # limite map scope to USA\n",
    "    font = dict(color='red',size = 10,family = 'Arial Black')\n",
    ")\n",
    "\n",
    "fig.show()"
   ]
  },
  {
   "cell_type": "code",
   "execution_count": 251,
   "id": "13bfacc2",
   "metadata": {},
   "outputs": [
    {
     "data": {
      "application/vnd.plotly.v1+json": {
       "config": {
        "plotlyServerURL": "https://plot.ly"
       },
       "data": [
        {
         "colorbar": {
          "title": {
           "text": "Rate of Death per 100k People"
          }
         },
         "colorscale": [
          [
           0,
           "#440154"
          ],
          [
           0.1111111111111111,
           "#482878"
          ],
          [
           0.2222222222222222,
           "#3e4989"
          ],
          [
           0.3333333333333333,
           "#31688e"
          ],
          [
           0.4444444444444444,
           "#26828e"
          ],
          [
           0.5555555555555556,
           "#1f9e89"
          ],
          [
           0.6666666666666666,
           "#35b779"
          ],
          [
           0.7777777777777778,
           "#6ece58"
          ],
          [
           0.8888888888888888,
           "#b5de2b"
          ],
          [
           1,
           "#fde725"
          ]
         ],
         "locationmode": "USA-states",
         "locations": [
          "AK",
          "AL",
          "AR",
          "AZ",
          "CA",
          "CO",
          "CT",
          "DE",
          "FL",
          "GA",
          "HI",
          "IA",
          "ID",
          "IL",
          "IN",
          "KS",
          "KY",
          "LA",
          "MA",
          "MD",
          "ME",
          "MI",
          "MN",
          "MO",
          "MS",
          "MT",
          "NC",
          "ND",
          "NE",
          "NH",
          "NJ",
          "NM",
          "NV",
          "NY",
          "OH",
          "OK",
          "OR",
          "PA",
          "RI",
          "SC",
          "SD",
          "TN",
          "TX",
          "UT",
          "VA",
          "VT",
          "WA",
          "WI",
          "WV",
          "WY"
         ],
         "type": "choropleth",
         "z": [
          24.2,
          25.37,
          22.07,
          20.23,
          9.07,
          17.57,
          7.07,
          14.13,
          14.57,
          20.3,
          4.67,
          11.1,
          16.8,
          15.23,
          18.13,
          17.9,
          19.63,
          28.23,
          3.8,
          14.07,
          12.3,
          15.37,
          10.3,
          23.6,
          30.6,
          24.6,
          17.3,
          16.03,
          11.37,
          9.43,
          5.4,
          27.5,
          19.5,
          5.57,
          16.13,
          20.17,
          15.67,
          15.4,
          4.6,
          21.47,
          15.43,
          22.07,
          16.03,
          12.6,
          15.17,
          13.5,
          12.73,
          14.5,
          17.67,
          25.93
         ]
        },
        {
         "locationmode": "USA-states",
         "locations": [
          "AK",
          "AL",
          "AR",
          "AZ",
          "CA",
          "CO",
          "CT",
          "DE",
          "FL",
          "GA",
          "HI",
          "IA",
          "ID",
          "IL",
          "IN",
          "KS",
          "KY",
          "LA",
          "MA",
          "MD",
          "ME",
          "MI",
          "MN",
          "MO",
          "MS",
          "MT",
          "NC",
          "ND",
          "NE",
          "NH",
          "NJ",
          "NM",
          "NV",
          "NY",
          "OH",
          "OK",
          "OR",
          "PA",
          "RI",
          "SC",
          "SD",
          "TN",
          "TX",
          "UT",
          "VA",
          "VT",
          "WA",
          "WI",
          "WV",
          "WY"
         ],
         "mode": "text",
         "text": [
          [
           "VW"
          ],
          [
           "VW"
          ],
          [
           "VW"
          ],
          [
           "VW"
          ],
          [
           "VS"
          ],
          [
           "Str"
          ],
          [
           "VS"
          ],
          [
           "Str"
          ],
          [
           "Weak"
          ],
          [
           "VW"
          ],
          [
           "VS"
          ],
          [
           "Weak"
          ],
          [
           "VW"
          ],
          [
           "VS"
          ],
          [
           "VW"
          ],
          [
           "VW"
          ],
          [
           "VW"
          ],
          [
           "Weak"
          ],
          [
           "VS"
          ],
          [
           "VS"
          ],
          [
           "Weak"
          ],
          [
           "Weak"
          ],
          [
           "Str"
          ],
          [
           "VW"
          ],
          [
           "VW"
          ],
          [
           "VW"
          ],
          [
           "Weak"
          ],
          [
           "VW"
          ],
          [
           "Weak"
          ],
          [
           "VW"
          ],
          [
           "VS"
          ],
          [
           "Mod"
          ],
          [
           "Mod"
          ],
          [
           "VS"
          ],
          [
           "VW"
          ],
          [
           "VW"
          ],
          [
           "Str"
          ],
          [
           "Mod"
          ],
          [
           "Str"
          ],
          [
           "Weak"
          ],
          [
           "VW"
          ],
          [
           "Weak"
          ],
          [
           "VW"
          ],
          [
           "VW"
          ],
          [
           "Mod"
          ],
          [
           "Weak"
          ],
          [
           "Str"
          ],
          [
           "Weak"
          ],
          [
           "VW"
          ],
          [
           "VW"
          ]
         ],
         "textfont": {
          "color": "red"
         },
         "type": "scattergeo"
        }
       ],
       "layout": {
        "font": {
         "color": "red",
         "family": "Arial Black",
         "size": 10
        },
        "geo": {
         "scope": "usa"
        },
        "template": {
         "data": {
          "bar": [
           {
            "error_x": {
             "color": "#2a3f5f"
            },
            "error_y": {
             "color": "#2a3f5f"
            },
            "marker": {
             "line": {
              "color": "#E5ECF6",
              "width": 0.5
             },
             "pattern": {
              "fillmode": "overlay",
              "size": 10,
              "solidity": 0.2
             }
            },
            "type": "bar"
           }
          ],
          "barpolar": [
           {
            "marker": {
             "line": {
              "color": "#E5ECF6",
              "width": 0.5
             },
             "pattern": {
              "fillmode": "overlay",
              "size": 10,
              "solidity": 0.2
             }
            },
            "type": "barpolar"
           }
          ],
          "carpet": [
           {
            "aaxis": {
             "endlinecolor": "#2a3f5f",
             "gridcolor": "white",
             "linecolor": "white",
             "minorgridcolor": "white",
             "startlinecolor": "#2a3f5f"
            },
            "baxis": {
             "endlinecolor": "#2a3f5f",
             "gridcolor": "white",
             "linecolor": "white",
             "minorgridcolor": "white",
             "startlinecolor": "#2a3f5f"
            },
            "type": "carpet"
           }
          ],
          "choropleth": [
           {
            "colorbar": {
             "outlinewidth": 0,
             "ticks": ""
            },
            "type": "choropleth"
           }
          ],
          "contour": [
           {
            "colorbar": {
             "outlinewidth": 0,
             "ticks": ""
            },
            "colorscale": [
             [
              0,
              "#0d0887"
             ],
             [
              0.1111111111111111,
              "#46039f"
             ],
             [
              0.2222222222222222,
              "#7201a8"
             ],
             [
              0.3333333333333333,
              "#9c179e"
             ],
             [
              0.4444444444444444,
              "#bd3786"
             ],
             [
              0.5555555555555556,
              "#d8576b"
             ],
             [
              0.6666666666666666,
              "#ed7953"
             ],
             [
              0.7777777777777778,
              "#fb9f3a"
             ],
             [
              0.8888888888888888,
              "#fdca26"
             ],
             [
              1,
              "#f0f921"
             ]
            ],
            "type": "contour"
           }
          ],
          "contourcarpet": [
           {
            "colorbar": {
             "outlinewidth": 0,
             "ticks": ""
            },
            "type": "contourcarpet"
           }
          ],
          "heatmap": [
           {
            "colorbar": {
             "outlinewidth": 0,
             "ticks": ""
            },
            "colorscale": [
             [
              0,
              "#0d0887"
             ],
             [
              0.1111111111111111,
              "#46039f"
             ],
             [
              0.2222222222222222,
              "#7201a8"
             ],
             [
              0.3333333333333333,
              "#9c179e"
             ],
             [
              0.4444444444444444,
              "#bd3786"
             ],
             [
              0.5555555555555556,
              "#d8576b"
             ],
             [
              0.6666666666666666,
              "#ed7953"
             ],
             [
              0.7777777777777778,
              "#fb9f3a"
             ],
             [
              0.8888888888888888,
              "#fdca26"
             ],
             [
              1,
              "#f0f921"
             ]
            ],
            "type": "heatmap"
           }
          ],
          "heatmapgl": [
           {
            "colorbar": {
             "outlinewidth": 0,
             "ticks": ""
            },
            "colorscale": [
             [
              0,
              "#0d0887"
             ],
             [
              0.1111111111111111,
              "#46039f"
             ],
             [
              0.2222222222222222,
              "#7201a8"
             ],
             [
              0.3333333333333333,
              "#9c179e"
             ],
             [
              0.4444444444444444,
              "#bd3786"
             ],
             [
              0.5555555555555556,
              "#d8576b"
             ],
             [
              0.6666666666666666,
              "#ed7953"
             ],
             [
              0.7777777777777778,
              "#fb9f3a"
             ],
             [
              0.8888888888888888,
              "#fdca26"
             ],
             [
              1,
              "#f0f921"
             ]
            ],
            "type": "heatmapgl"
           }
          ],
          "histogram": [
           {
            "marker": {
             "pattern": {
              "fillmode": "overlay",
              "size": 10,
              "solidity": 0.2
             }
            },
            "type": "histogram"
           }
          ],
          "histogram2d": [
           {
            "colorbar": {
             "outlinewidth": 0,
             "ticks": ""
            },
            "colorscale": [
             [
              0,
              "#0d0887"
             ],
             [
              0.1111111111111111,
              "#46039f"
             ],
             [
              0.2222222222222222,
              "#7201a8"
             ],
             [
              0.3333333333333333,
              "#9c179e"
             ],
             [
              0.4444444444444444,
              "#bd3786"
             ],
             [
              0.5555555555555556,
              "#d8576b"
             ],
             [
              0.6666666666666666,
              "#ed7953"
             ],
             [
              0.7777777777777778,
              "#fb9f3a"
             ],
             [
              0.8888888888888888,
              "#fdca26"
             ],
             [
              1,
              "#f0f921"
             ]
            ],
            "type": "histogram2d"
           }
          ],
          "histogram2dcontour": [
           {
            "colorbar": {
             "outlinewidth": 0,
             "ticks": ""
            },
            "colorscale": [
             [
              0,
              "#0d0887"
             ],
             [
              0.1111111111111111,
              "#46039f"
             ],
             [
              0.2222222222222222,
              "#7201a8"
             ],
             [
              0.3333333333333333,
              "#9c179e"
             ],
             [
              0.4444444444444444,
              "#bd3786"
             ],
             [
              0.5555555555555556,
              "#d8576b"
             ],
             [
              0.6666666666666666,
              "#ed7953"
             ],
             [
              0.7777777777777778,
              "#fb9f3a"
             ],
             [
              0.8888888888888888,
              "#fdca26"
             ],
             [
              1,
              "#f0f921"
             ]
            ],
            "type": "histogram2dcontour"
           }
          ],
          "mesh3d": [
           {
            "colorbar": {
             "outlinewidth": 0,
             "ticks": ""
            },
            "type": "mesh3d"
           }
          ],
          "parcoords": [
           {
            "line": {
             "colorbar": {
              "outlinewidth": 0,
              "ticks": ""
             }
            },
            "type": "parcoords"
           }
          ],
          "pie": [
           {
            "automargin": true,
            "type": "pie"
           }
          ],
          "scatter": [
           {
            "fillpattern": {
             "fillmode": "overlay",
             "size": 10,
             "solidity": 0.2
            },
            "type": "scatter"
           }
          ],
          "scatter3d": [
           {
            "line": {
             "colorbar": {
              "outlinewidth": 0,
              "ticks": ""
             }
            },
            "marker": {
             "colorbar": {
              "outlinewidth": 0,
              "ticks": ""
             }
            },
            "type": "scatter3d"
           }
          ],
          "scattercarpet": [
           {
            "marker": {
             "colorbar": {
              "outlinewidth": 0,
              "ticks": ""
             }
            },
            "type": "scattercarpet"
           }
          ],
          "scattergeo": [
           {
            "marker": {
             "colorbar": {
              "outlinewidth": 0,
              "ticks": ""
             }
            },
            "type": "scattergeo"
           }
          ],
          "scattergl": [
           {
            "marker": {
             "colorbar": {
              "outlinewidth": 0,
              "ticks": ""
             }
            },
            "type": "scattergl"
           }
          ],
          "scattermapbox": [
           {
            "marker": {
             "colorbar": {
              "outlinewidth": 0,
              "ticks": ""
             }
            },
            "type": "scattermapbox"
           }
          ],
          "scatterpolar": [
           {
            "marker": {
             "colorbar": {
              "outlinewidth": 0,
              "ticks": ""
             }
            },
            "type": "scatterpolar"
           }
          ],
          "scatterpolargl": [
           {
            "marker": {
             "colorbar": {
              "outlinewidth": 0,
              "ticks": ""
             }
            },
            "type": "scatterpolargl"
           }
          ],
          "scatterternary": [
           {
            "marker": {
             "colorbar": {
              "outlinewidth": 0,
              "ticks": ""
             }
            },
            "type": "scatterternary"
           }
          ],
          "surface": [
           {
            "colorbar": {
             "outlinewidth": 0,
             "ticks": ""
            },
            "colorscale": [
             [
              0,
              "#0d0887"
             ],
             [
              0.1111111111111111,
              "#46039f"
             ],
             [
              0.2222222222222222,
              "#7201a8"
             ],
             [
              0.3333333333333333,
              "#9c179e"
             ],
             [
              0.4444444444444444,
              "#bd3786"
             ],
             [
              0.5555555555555556,
              "#d8576b"
             ],
             [
              0.6666666666666666,
              "#ed7953"
             ],
             [
              0.7777777777777778,
              "#fb9f3a"
             ],
             [
              0.8888888888888888,
              "#fdca26"
             ],
             [
              1,
              "#f0f921"
             ]
            ],
            "type": "surface"
           }
          ],
          "table": [
           {
            "cells": {
             "fill": {
              "color": "#EBF0F8"
             },
             "line": {
              "color": "white"
             }
            },
            "header": {
             "fill": {
              "color": "#C8D4E3"
             },
             "line": {
              "color": "white"
             }
            },
            "type": "table"
           }
          ]
         },
         "layout": {
          "annotationdefaults": {
           "arrowcolor": "#2a3f5f",
           "arrowhead": 0,
           "arrowwidth": 1
          },
          "autotypenumbers": "strict",
          "coloraxis": {
           "colorbar": {
            "outlinewidth": 0,
            "ticks": ""
           }
          },
          "colorscale": {
           "diverging": [
            [
             0,
             "#8e0152"
            ],
            [
             0.1,
             "#c51b7d"
            ],
            [
             0.2,
             "#de77ae"
            ],
            [
             0.3,
             "#f1b6da"
            ],
            [
             0.4,
             "#fde0ef"
            ],
            [
             0.5,
             "#f7f7f7"
            ],
            [
             0.6,
             "#e6f5d0"
            ],
            [
             0.7,
             "#b8e186"
            ],
            [
             0.8,
             "#7fbc41"
            ],
            [
             0.9,
             "#4d9221"
            ],
            [
             1,
             "#276419"
            ]
           ],
           "sequential": [
            [
             0,
             "#0d0887"
            ],
            [
             0.1111111111111111,
             "#46039f"
            ],
            [
             0.2222222222222222,
             "#7201a8"
            ],
            [
             0.3333333333333333,
             "#9c179e"
            ],
            [
             0.4444444444444444,
             "#bd3786"
            ],
            [
             0.5555555555555556,
             "#d8576b"
            ],
            [
             0.6666666666666666,
             "#ed7953"
            ],
            [
             0.7777777777777778,
             "#fb9f3a"
            ],
            [
             0.8888888888888888,
             "#fdca26"
            ],
            [
             1,
             "#f0f921"
            ]
           ],
           "sequentialminus": [
            [
             0,
             "#0d0887"
            ],
            [
             0.1111111111111111,
             "#46039f"
            ],
            [
             0.2222222222222222,
             "#7201a8"
            ],
            [
             0.3333333333333333,
             "#9c179e"
            ],
            [
             0.4444444444444444,
             "#bd3786"
            ],
            [
             0.5555555555555556,
             "#d8576b"
            ],
            [
             0.6666666666666666,
             "#ed7953"
            ],
            [
             0.7777777777777778,
             "#fb9f3a"
            ],
            [
             0.8888888888888888,
             "#fdca26"
            ],
            [
             1,
             "#f0f921"
            ]
           ]
          },
          "colorway": [
           "#636efa",
           "#EF553B",
           "#00cc96",
           "#ab63fa",
           "#FFA15A",
           "#19d3f3",
           "#FF6692",
           "#B6E880",
           "#FF97FF",
           "#FECB52"
          ],
          "font": {
           "color": "#2a3f5f"
          },
          "geo": {
           "bgcolor": "white",
           "lakecolor": "white",
           "landcolor": "#E5ECF6",
           "showlakes": true,
           "showland": true,
           "subunitcolor": "white"
          },
          "hoverlabel": {
           "align": "left"
          },
          "hovermode": "closest",
          "mapbox": {
           "style": "light"
          },
          "paper_bgcolor": "white",
          "plot_bgcolor": "#E5ECF6",
          "polar": {
           "angularaxis": {
            "gridcolor": "white",
            "linecolor": "white",
            "ticks": ""
           },
           "bgcolor": "#E5ECF6",
           "radialaxis": {
            "gridcolor": "white",
            "linecolor": "white",
            "ticks": ""
           }
          },
          "scene": {
           "xaxis": {
            "backgroundcolor": "#E5ECF6",
            "gridcolor": "white",
            "gridwidth": 2,
            "linecolor": "white",
            "showbackground": true,
            "ticks": "",
            "zerolinecolor": "white"
           },
           "yaxis": {
            "backgroundcolor": "#E5ECF6",
            "gridcolor": "white",
            "gridwidth": 2,
            "linecolor": "white",
            "showbackground": true,
            "ticks": "",
            "zerolinecolor": "white"
           },
           "zaxis": {
            "backgroundcolor": "#E5ECF6",
            "gridcolor": "white",
            "gridwidth": 2,
            "linecolor": "white",
            "showbackground": true,
            "ticks": "",
            "zerolinecolor": "white"
           }
          },
          "shapedefaults": {
           "line": {
            "color": "#2a3f5f"
           }
          },
          "ternary": {
           "aaxis": {
            "gridcolor": "white",
            "linecolor": "white",
            "ticks": ""
           },
           "baxis": {
            "gridcolor": "white",
            "linecolor": "white",
            "ticks": ""
           },
           "bgcolor": "#E5ECF6",
           "caxis": {
            "gridcolor": "white",
            "linecolor": "white",
            "ticks": ""
           }
          },
          "title": {
           "x": 0.05
          },
          "xaxis": {
           "automargin": true,
           "gridcolor": "white",
           "linecolor": "white",
           "ticks": "",
           "title": {
            "standoff": 15
           },
           "zerolinecolor": "white",
           "zerolinewidth": 2
          },
          "yaxis": {
           "automargin": true,
           "gridcolor": "white",
           "linecolor": "white",
           "ticks": "",
           "title": {
            "standoff": 15
           },
           "zerolinecolor": "white",
           "zerolinewidth": 2
          }
         }
        },
        "title": {
         "text": "Rate of Death by Likert Scale"
        }
       }
      },
      "text/html": [
       "<div>                            <div id=\"86bd89f7-c8ba-47c5-8ed1-50b6af29d6db\" class=\"plotly-graph-div\" style=\"height:525px; width:100%;\"></div>            <script type=\"text/javascript\">                require([\"plotly\"], function(Plotly) {                    window.PLOTLYENV=window.PLOTLYENV || {};                                    if (document.getElementById(\"86bd89f7-c8ba-47c5-8ed1-50b6af29d6db\")) {                    Plotly.newPlot(                        \"86bd89f7-c8ba-47c5-8ed1-50b6af29d6db\",                        [{\"colorbar\":{\"title\":{\"text\":\"Rate of Death per 100k People\"}},\"colorscale\":[[0.0,\"#440154\"],[0.1111111111111111,\"#482878\"],[0.2222222222222222,\"#3e4989\"],[0.3333333333333333,\"#31688e\"],[0.4444444444444444,\"#26828e\"],[0.5555555555555556,\"#1f9e89\"],[0.6666666666666666,\"#35b779\"],[0.7777777777777778,\"#6ece58\"],[0.8888888888888888,\"#b5de2b\"],[1.0,\"#fde725\"]],\"locationmode\":\"USA-states\",\"locations\":[\"AK\",\"AL\",\"AR\",\"AZ\",\"CA\",\"CO\",\"CT\",\"DE\",\"FL\",\"GA\",\"HI\",\"IA\",\"ID\",\"IL\",\"IN\",\"KS\",\"KY\",\"LA\",\"MA\",\"MD\",\"ME\",\"MI\",\"MN\",\"MO\",\"MS\",\"MT\",\"NC\",\"ND\",\"NE\",\"NH\",\"NJ\",\"NM\",\"NV\",\"NY\",\"OH\",\"OK\",\"OR\",\"PA\",\"RI\",\"SC\",\"SD\",\"TN\",\"TX\",\"UT\",\"VA\",\"VT\",\"WA\",\"WI\",\"WV\",\"WY\"],\"z\":[24.2,25.37,22.07,20.23,9.07,17.57,7.07,14.13,14.57,20.3,4.67,11.1,16.8,15.23,18.13,17.9,19.63,28.23,3.8,14.07,12.3,15.37,10.3,23.6,30.6,24.6,17.3,16.03,11.37,9.43,5.4,27.5,19.5,5.57,16.13,20.17,15.67,15.4,4.6,21.47,15.43,22.07,16.03,12.6,15.17,13.5,12.73,14.5,17.67,25.93],\"type\":\"choropleth\"},{\"locationmode\":\"USA-states\",\"locations\":[\"AK\",\"AL\",\"AR\",\"AZ\",\"CA\",\"CO\",\"CT\",\"DE\",\"FL\",\"GA\",\"HI\",\"IA\",\"ID\",\"IL\",\"IN\",\"KS\",\"KY\",\"LA\",\"MA\",\"MD\",\"ME\",\"MI\",\"MN\",\"MO\",\"MS\",\"MT\",\"NC\",\"ND\",\"NE\",\"NH\",\"NJ\",\"NM\",\"NV\",\"NY\",\"OH\",\"OK\",\"OR\",\"PA\",\"RI\",\"SC\",\"SD\",\"TN\",\"TX\",\"UT\",\"VA\",\"VT\",\"WA\",\"WI\",\"WV\",\"WY\"],\"mode\":\"text\",\"text\":[[\"VW\"],[\"VW\"],[\"VW\"],[\"VW\"],[\"VS\"],[\"Str\"],[\"VS\"],[\"Str\"],[\"Weak\"],[\"VW\"],[\"VS\"],[\"Weak\"],[\"VW\"],[\"VS\"],[\"VW\"],[\"VW\"],[\"VW\"],[\"Weak\"],[\"VS\"],[\"VS\"],[\"Weak\"],[\"Weak\"],[\"Str\"],[\"VW\"],[\"VW\"],[\"VW\"],[\"Weak\"],[\"VW\"],[\"Weak\"],[\"VW\"],[\"VS\"],[\"Mod\"],[\"Mod\"],[\"VS\"],[\"VW\"],[\"VW\"],[\"Str\"],[\"Mod\"],[\"Str\"],[\"Weak\"],[\"VW\"],[\"Weak\"],[\"VW\"],[\"VW\"],[\"Mod\"],[\"Weak\"],[\"Str\"],[\"Weak\"],[\"VW\"],[\"VW\"]],\"textfont\":{\"color\":\"red\"},\"type\":\"scattergeo\"}],                        {\"template\":{\"data\":{\"histogram2dcontour\":[{\"type\":\"histogram2dcontour\",\"colorbar\":{\"outlinewidth\":0,\"ticks\":\"\"},\"colorscale\":[[0.0,\"#0d0887\"],[0.1111111111111111,\"#46039f\"],[0.2222222222222222,\"#7201a8\"],[0.3333333333333333,\"#9c179e\"],[0.4444444444444444,\"#bd3786\"],[0.5555555555555556,\"#d8576b\"],[0.6666666666666666,\"#ed7953\"],[0.7777777777777778,\"#fb9f3a\"],[0.8888888888888888,\"#fdca26\"],[1.0,\"#f0f921\"]]}],\"choropleth\":[{\"type\":\"choropleth\",\"colorbar\":{\"outlinewidth\":0,\"ticks\":\"\"}}],\"histogram2d\":[{\"type\":\"histogram2d\",\"colorbar\":{\"outlinewidth\":0,\"ticks\":\"\"},\"colorscale\":[[0.0,\"#0d0887\"],[0.1111111111111111,\"#46039f\"],[0.2222222222222222,\"#7201a8\"],[0.3333333333333333,\"#9c179e\"],[0.4444444444444444,\"#bd3786\"],[0.5555555555555556,\"#d8576b\"],[0.6666666666666666,\"#ed7953\"],[0.7777777777777778,\"#fb9f3a\"],[0.8888888888888888,\"#fdca26\"],[1.0,\"#f0f921\"]]}],\"heatmap\":[{\"type\":\"heatmap\",\"colorbar\":{\"outlinewidth\":0,\"ticks\":\"\"},\"colorscale\":[[0.0,\"#0d0887\"],[0.1111111111111111,\"#46039f\"],[0.2222222222222222,\"#7201a8\"],[0.3333333333333333,\"#9c179e\"],[0.4444444444444444,\"#bd3786\"],[0.5555555555555556,\"#d8576b\"],[0.6666666666666666,\"#ed7953\"],[0.7777777777777778,\"#fb9f3a\"],[0.8888888888888888,\"#fdca26\"],[1.0,\"#f0f921\"]]}],\"heatmapgl\":[{\"type\":\"heatmapgl\",\"colorbar\":{\"outlinewidth\":0,\"ticks\":\"\"},\"colorscale\":[[0.0,\"#0d0887\"],[0.1111111111111111,\"#46039f\"],[0.2222222222222222,\"#7201a8\"],[0.3333333333333333,\"#9c179e\"],[0.4444444444444444,\"#bd3786\"],[0.5555555555555556,\"#d8576b\"],[0.6666666666666666,\"#ed7953\"],[0.7777777777777778,\"#fb9f3a\"],[0.8888888888888888,\"#fdca26\"],[1.0,\"#f0f921\"]]}],\"contourcarpet\":[{\"type\":\"contourcarpet\",\"colorbar\":{\"outlinewidth\":0,\"ticks\":\"\"}}],\"contour\":[{\"type\":\"contour\",\"colorbar\":{\"outlinewidth\":0,\"ticks\":\"\"},\"colorscale\":[[0.0,\"#0d0887\"],[0.1111111111111111,\"#46039f\"],[0.2222222222222222,\"#7201a8\"],[0.3333333333333333,\"#9c179e\"],[0.4444444444444444,\"#bd3786\"],[0.5555555555555556,\"#d8576b\"],[0.6666666666666666,\"#ed7953\"],[0.7777777777777778,\"#fb9f3a\"],[0.8888888888888888,\"#fdca26\"],[1.0,\"#f0f921\"]]}],\"surface\":[{\"type\":\"surface\",\"colorbar\":{\"outlinewidth\":0,\"ticks\":\"\"},\"colorscale\":[[0.0,\"#0d0887\"],[0.1111111111111111,\"#46039f\"],[0.2222222222222222,\"#7201a8\"],[0.3333333333333333,\"#9c179e\"],[0.4444444444444444,\"#bd3786\"],[0.5555555555555556,\"#d8576b\"],[0.6666666666666666,\"#ed7953\"],[0.7777777777777778,\"#fb9f3a\"],[0.8888888888888888,\"#fdca26\"],[1.0,\"#f0f921\"]]}],\"mesh3d\":[{\"type\":\"mesh3d\",\"colorbar\":{\"outlinewidth\":0,\"ticks\":\"\"}}],\"scatter\":[{\"fillpattern\":{\"fillmode\":\"overlay\",\"size\":10,\"solidity\":0.2},\"type\":\"scatter\"}],\"parcoords\":[{\"type\":\"parcoords\",\"line\":{\"colorbar\":{\"outlinewidth\":0,\"ticks\":\"\"}}}],\"scatterpolargl\":[{\"type\":\"scatterpolargl\",\"marker\":{\"colorbar\":{\"outlinewidth\":0,\"ticks\":\"\"}}}],\"bar\":[{\"error_x\":{\"color\":\"#2a3f5f\"},\"error_y\":{\"color\":\"#2a3f5f\"},\"marker\":{\"line\":{\"color\":\"#E5ECF6\",\"width\":0.5},\"pattern\":{\"fillmode\":\"overlay\",\"size\":10,\"solidity\":0.2}},\"type\":\"bar\"}],\"scattergeo\":[{\"type\":\"scattergeo\",\"marker\":{\"colorbar\":{\"outlinewidth\":0,\"ticks\":\"\"}}}],\"scatterpolar\":[{\"type\":\"scatterpolar\",\"marker\":{\"colorbar\":{\"outlinewidth\":0,\"ticks\":\"\"}}}],\"histogram\":[{\"marker\":{\"pattern\":{\"fillmode\":\"overlay\",\"size\":10,\"solidity\":0.2}},\"type\":\"histogram\"}],\"scattergl\":[{\"type\":\"scattergl\",\"marker\":{\"colorbar\":{\"outlinewidth\":0,\"ticks\":\"\"}}}],\"scatter3d\":[{\"type\":\"scatter3d\",\"line\":{\"colorbar\":{\"outlinewidth\":0,\"ticks\":\"\"}},\"marker\":{\"colorbar\":{\"outlinewidth\":0,\"ticks\":\"\"}}}],\"scattermapbox\":[{\"type\":\"scattermapbox\",\"marker\":{\"colorbar\":{\"outlinewidth\":0,\"ticks\":\"\"}}}],\"scatterternary\":[{\"type\":\"scatterternary\",\"marker\":{\"colorbar\":{\"outlinewidth\":0,\"ticks\":\"\"}}}],\"scattercarpet\":[{\"type\":\"scattercarpet\",\"marker\":{\"colorbar\":{\"outlinewidth\":0,\"ticks\":\"\"}}}],\"carpet\":[{\"aaxis\":{\"endlinecolor\":\"#2a3f5f\",\"gridcolor\":\"white\",\"linecolor\":\"white\",\"minorgridcolor\":\"white\",\"startlinecolor\":\"#2a3f5f\"},\"baxis\":{\"endlinecolor\":\"#2a3f5f\",\"gridcolor\":\"white\",\"linecolor\":\"white\",\"minorgridcolor\":\"white\",\"startlinecolor\":\"#2a3f5f\"},\"type\":\"carpet\"}],\"table\":[{\"cells\":{\"fill\":{\"color\":\"#EBF0F8\"},\"line\":{\"color\":\"white\"}},\"header\":{\"fill\":{\"color\":\"#C8D4E3\"},\"line\":{\"color\":\"white\"}},\"type\":\"table\"}],\"barpolar\":[{\"marker\":{\"line\":{\"color\":\"#E5ECF6\",\"width\":0.5},\"pattern\":{\"fillmode\":\"overlay\",\"size\":10,\"solidity\":0.2}},\"type\":\"barpolar\"}],\"pie\":[{\"automargin\":true,\"type\":\"pie\"}]},\"layout\":{\"autotypenumbers\":\"strict\",\"colorway\":[\"#636efa\",\"#EF553B\",\"#00cc96\",\"#ab63fa\",\"#FFA15A\",\"#19d3f3\",\"#FF6692\",\"#B6E880\",\"#FF97FF\",\"#FECB52\"],\"font\":{\"color\":\"#2a3f5f\"},\"hovermode\":\"closest\",\"hoverlabel\":{\"align\":\"left\"},\"paper_bgcolor\":\"white\",\"plot_bgcolor\":\"#E5ECF6\",\"polar\":{\"bgcolor\":\"#E5ECF6\",\"angularaxis\":{\"gridcolor\":\"white\",\"linecolor\":\"white\",\"ticks\":\"\"},\"radialaxis\":{\"gridcolor\":\"white\",\"linecolor\":\"white\",\"ticks\":\"\"}},\"ternary\":{\"bgcolor\":\"#E5ECF6\",\"aaxis\":{\"gridcolor\":\"white\",\"linecolor\":\"white\",\"ticks\":\"\"},\"baxis\":{\"gridcolor\":\"white\",\"linecolor\":\"white\",\"ticks\":\"\"},\"caxis\":{\"gridcolor\":\"white\",\"linecolor\":\"white\",\"ticks\":\"\"}},\"coloraxis\":{\"colorbar\":{\"outlinewidth\":0,\"ticks\":\"\"}},\"colorscale\":{\"sequential\":[[0.0,\"#0d0887\"],[0.1111111111111111,\"#46039f\"],[0.2222222222222222,\"#7201a8\"],[0.3333333333333333,\"#9c179e\"],[0.4444444444444444,\"#bd3786\"],[0.5555555555555556,\"#d8576b\"],[0.6666666666666666,\"#ed7953\"],[0.7777777777777778,\"#fb9f3a\"],[0.8888888888888888,\"#fdca26\"],[1.0,\"#f0f921\"]],\"sequentialminus\":[[0.0,\"#0d0887\"],[0.1111111111111111,\"#46039f\"],[0.2222222222222222,\"#7201a8\"],[0.3333333333333333,\"#9c179e\"],[0.4444444444444444,\"#bd3786\"],[0.5555555555555556,\"#d8576b\"],[0.6666666666666666,\"#ed7953\"],[0.7777777777777778,\"#fb9f3a\"],[0.8888888888888888,\"#fdca26\"],[1.0,\"#f0f921\"]],\"diverging\":[[0,\"#8e0152\"],[0.1,\"#c51b7d\"],[0.2,\"#de77ae\"],[0.3,\"#f1b6da\"],[0.4,\"#fde0ef\"],[0.5,\"#f7f7f7\"],[0.6,\"#e6f5d0\"],[0.7,\"#b8e186\"],[0.8,\"#7fbc41\"],[0.9,\"#4d9221\"],[1,\"#276419\"]]},\"xaxis\":{\"gridcolor\":\"white\",\"linecolor\":\"white\",\"ticks\":\"\",\"title\":{\"standoff\":15},\"zerolinecolor\":\"white\",\"automargin\":true,\"zerolinewidth\":2},\"yaxis\":{\"gridcolor\":\"white\",\"linecolor\":\"white\",\"ticks\":\"\",\"title\":{\"standoff\":15},\"zerolinecolor\":\"white\",\"automargin\":true,\"zerolinewidth\":2},\"scene\":{\"xaxis\":{\"backgroundcolor\":\"#E5ECF6\",\"gridcolor\":\"white\",\"linecolor\":\"white\",\"showbackground\":true,\"ticks\":\"\",\"zerolinecolor\":\"white\",\"gridwidth\":2},\"yaxis\":{\"backgroundcolor\":\"#E5ECF6\",\"gridcolor\":\"white\",\"linecolor\":\"white\",\"showbackground\":true,\"ticks\":\"\",\"zerolinecolor\":\"white\",\"gridwidth\":2},\"zaxis\":{\"backgroundcolor\":\"#E5ECF6\",\"gridcolor\":\"white\",\"linecolor\":\"white\",\"showbackground\":true,\"ticks\":\"\",\"zerolinecolor\":\"white\",\"gridwidth\":2}},\"shapedefaults\":{\"line\":{\"color\":\"#2a3f5f\"}},\"annotationdefaults\":{\"arrowcolor\":\"#2a3f5f\",\"arrowhead\":0,\"arrowwidth\":1},\"geo\":{\"bgcolor\":\"white\",\"landcolor\":\"#E5ECF6\",\"subunitcolor\":\"white\",\"showland\":true,\"showlakes\":true,\"lakecolor\":\"white\"},\"title\":{\"x\":0.05},\"mapbox\":{\"style\":\"light\"}}},\"title\":{\"text\":\"Rate of Death by Likert Scale\"},\"geo\":{\"scope\":\"usa\"},\"font\":{\"color\":\"red\",\"size\":10,\"family\":\"Arial Black\"}},                        {\"responsive\": true}                    ).then(function(){\n",
       "                            \n",
       "var gd = document.getElementById('86bd89f7-c8ba-47c5-8ed1-50b6af29d6db');\n",
       "var x = new MutationObserver(function (mutations, observer) {{\n",
       "        var display = window.getComputedStyle(gd).display;\n",
       "        if (!display || display === 'none') {{\n",
       "            console.log([gd, 'removed!']);\n",
       "            Plotly.purge(gd);\n",
       "            observer.disconnect();\n",
       "        }}\n",
       "}});\n",
       "\n",
       "// Listen for the removal of the full notebook cells\n",
       "var notebookContainer = gd.closest('#notebook-container');\n",
       "if (notebookContainer) {{\n",
       "    x.observe(notebookContainer, {childList: true});\n",
       "}}\n",
       "\n",
       "// Listen for the clearing of the current output cell\n",
       "var outputEl = gd.closest('.output');\n",
       "if (outputEl) {{\n",
       "    x.observe(outputEl, {childList: true});\n",
       "}}\n",
       "\n",
       "                        })                };                });            </script>        </div>"
      ]
     },
     "metadata": {},
     "output_type": "display_data"
    }
   ],
   "source": [
    "#plot with likert\n",
    "fig = go.Figure(data=go.Choropleth(\n",
    "    locations=master_2022['STUSAB'], # Spatial coordinates\n",
    "    z = master_2022['Death_Rate'], # Data to be color-coded\n",
    "    locationmode = 'USA-states', # set of locations match entries in `locations`\n",
    "    colorscale = 'Viridis',\n",
    "    colorbar_title = \"Rate of Death per 100k People\"\n",
    "))\n",
    "\n",
    "fig.add_scattergeo(\n",
    "    locations=master_2022['STUSAB'],\n",
    "    locationmode=\"USA-states\", \n",
    "    text=master_2022[['Likert_Scale']],\n",
    "    mode='text',\n",
    "    textfont=dict(color='red')\n",
    ")\n",
    "fig.update_layout(\n",
    "    title_text = 'Rate of Death by Likert Scale',\n",
    "    geo_scope='usa', # limite map scope to USA\n",
    "    font = dict(color='red',size = 10,family = 'Arial Black')\n",
    ")\n",
    "\n",
    "fig.show()"
   ]
  },
  {
   "cell_type": "code",
   "execution_count": 266,
   "id": "dd3aed08",
   "metadata": {},
   "outputs": [
    {
     "data": {
      "application/vnd.plotly.v1+json": {
       "config": {
        "plotlyServerURL": "https://plot.ly"
       },
       "data": [
        {
         "hovertemplate": "Likert_Scale=VW<br>Control_Score=%{x}<br>Death Rate per 100k=%{y}<br>STUSAB=%{text}<extra></extra>",
         "legendgroup": "VW",
         "marker": {
          "color": "#636efa",
          "symbol": "circle"
         },
         "mode": "markers+text",
         "name": "VW",
         "orientation": "v",
         "showlegend": true,
         "text": [
          "MS",
          "WY",
          "AL",
          "MT",
          "AK",
          "MO",
          "AR",
          "GA",
          "AZ",
          "OK",
          "KY",
          "IN",
          "KS",
          "WV",
          "ID",
          "OH",
          "TX",
          "ND",
          "SD",
          "UT",
          "NH"
         ],
         "textposition": "top center",
         "type": "scatter",
         "x": [
          3.5,
          5.5,
          16.5,
          6.5,
          10.5,
          11.5,
          5,
          6.5,
          9,
          8,
          11,
          19.5,
          12.5,
          19.5,
          5,
          16,
          17,
          15.5,
          6.5,
          15,
          11
         ],
         "xaxis": "x",
         "y": [
          30.6,
          25.93,
          25.37,
          24.6,
          24.2,
          23.6,
          22.07,
          20.3,
          20.23,
          20.17,
          19.63,
          18.13,
          17.9,
          17.67,
          16.8,
          16.13,
          16.03,
          16.03,
          15.43,
          12.6,
          9.43
         ],
         "yaxis": "y"
        },
        {
         "hovertemplate": "Likert_Scale=Weak<br>Control_Score=%{x}<br>Death Rate per 100k=%{y}<br>STUSAB=%{text}<extra></extra>",
         "legendgroup": "Weak",
         "marker": {
          "color": "#EF553B",
          "symbol": "circle"
         },
         "mode": "markers+text",
         "name": "Weak",
         "orientation": "v",
         "showlegend": true,
         "text": [
          "LA",
          "TN",
          "SC",
          "NC",
          "MI",
          "FL",
          "WI",
          "VT",
          "ME",
          "NE",
          "IA"
         ],
         "textposition": "top center",
         "type": "scatter",
         "x": [
          24,
          24.5,
          22.5,
          33.5,
          38,
          34.5,
          33.5,
          40,
          25.5,
          31,
          21.5
         ],
         "xaxis": "x",
         "y": [
          28.23,
          22.07,
          21.47,
          17.3,
          15.37,
          14.57,
          14.5,
          13.5,
          12.3,
          11.37,
          11.1
         ],
         "yaxis": "y"
        },
        {
         "hovertemplate": "Likert_Scale=Mod<br>Control_Score=%{x}<br>Death Rate per 100k=%{y}<br>STUSAB=%{text}<extra></extra>",
         "legendgroup": "Mod",
         "marker": {
          "color": "#00cc96",
          "symbol": "circle"
         },
         "mode": "markers+text",
         "name": "Mod",
         "orientation": "v",
         "showlegend": true,
         "text": [
          "NM",
          "NV",
          "PA",
          "VA"
         ],
         "textposition": "top center",
         "type": "scatter",
         "x": [
          51,
          42.5,
          52,
          53.5
         ],
         "xaxis": "x",
         "y": [
          27.5,
          19.5,
          15.4,
          15.17
         ],
         "yaxis": "y"
        },
        {
         "hovertemplate": "Likert_Scale=Str<br>Control_Score=%{x}<br>Death Rate per 100k=%{y}<br>STUSAB=%{text}<extra></extra>",
         "legendgroup": "Str",
         "marker": {
          "color": "#ab63fa",
          "symbol": "circle"
         },
         "mode": "markers+text",
         "name": "Str",
         "orientation": "v",
         "showlegend": true,
         "text": [
          "CO",
          "OR",
          "DE",
          "WA",
          "MN",
          "RI"
         ],
         "textposition": "top center",
         "type": "scatter",
         "x": [
          63,
          72,
          61,
          67.5,
          61.5,
          67
         ],
         "xaxis": "x",
         "y": [
          17.57,
          15.67,
          14.13,
          12.73,
          10.3,
          4.6
         ],
         "yaxis": "y"
        },
        {
         "hovertemplate": "Likert_Scale=VS<br>Control_Score=%{x}<br>Death Rate per 100k=%{y}<br>STUSAB=%{text}<extra></extra>",
         "legendgroup": "VS",
         "marker": {
          "color": "#FFA15A",
          "symbol": "circle"
         },
         "mode": "markers+text",
         "name": "VS",
         "orientation": "v",
         "showlegend": true,
         "text": [
          "IL",
          "MD",
          "CA",
          "CT",
          "NY",
          "NJ",
          "HI",
          "MA"
         ],
         "textposition": "top center",
         "type": "scatter",
         "x": [
          87.5,
          84.5,
          86.5,
          81,
          85.5,
          83,
          89,
          86
         ],
         "xaxis": "x",
         "y": [
          15.23,
          14.07,
          9.07,
          7.07,
          5.57,
          5.4,
          4.67,
          3.8
         ],
         "yaxis": "y"
        },
        {
         "hovertemplate": "<b>OLS trendline</b><br>Death_Rate = -0.146217 * Control_Score + 21.6034<br>R<sup>2</sup>=0.426442<br><br>Control_Score=%{x}<br>Death Rate per 100k=%{y} <b>(trend)</b><extra></extra>",
         "legendgroup": "Overall Trendline",
         "line": {
          "color": "#19d3f3"
         },
         "mode": "lines",
         "name": "Overall Trendline",
         "showlegend": true,
         "textposition": "top center",
         "type": "scatter",
         "x": [
          3.5,
          5,
          5,
          5.5,
          6.5,
          6.5,
          6.5,
          8,
          9,
          10.5,
          11,
          11,
          11.5,
          12.5,
          15,
          15.5,
          16,
          16.5,
          17,
          19.5,
          19.5,
          21.5,
          22.5,
          24,
          24.5,
          25.5,
          31,
          33.5,
          33.5,
          34.5,
          38,
          40,
          42.5,
          51,
          52,
          53.5,
          61,
          61.5,
          63,
          67,
          67.5,
          72,
          81,
          83,
          84.5,
          85.5,
          86,
          86.5,
          87.5,
          89
         ],
         "xaxis": "x",
         "y": [
          21.091620257636702,
          20.872294650568417,
          20.872294650568417,
          20.79918611487899,
          20.65296904350013,
          20.65296904350013,
          20.65296904350013,
          20.433643436431844,
          20.287426365052987,
          20.0681007579847,
          19.99499222229527,
          19.99499222229527,
          19.92188368660584,
          19.775666615226985,
          19.41012393677984,
          19.33701540109041,
          19.263906865400983,
          19.190798329711555,
          19.117689794022127,
          18.75214711557498,
          18.75214711557498,
          18.459712972817265,
          18.313495901438408,
          18.094170294370123,
          18.021061758680695,
          17.874844687301835,
          17.07065079471812,
          16.705108116270974,
          16.705108116270974,
          16.558891044892118,
          16.047131295066116,
          15.754697152308403,
          15.389154473861257,
          14.146309367140969,
          14.00009229576211,
          13.780766688693824,
          12.684138653352393,
          12.611030117662963,
          12.391704510594678,
          11.806836225079246,
          11.733727689389818,
          11.07575086818496,
          9.759797225775241,
          9.467363083017526,
          9.24803747594924,
          9.101820404570383,
          9.028711868880954,
          8.955603333191524,
          8.809386261812667,
          8.59006065474438
         ],
         "yaxis": "y"
        }
       ],
       "layout": {
        "legend": {
         "title": {
          "text": "Likert_Scale"
         },
         "tracegroupgap": 0
        },
        "template": {
         "data": {
          "bar": [
           {
            "error_x": {
             "color": "#2a3f5f"
            },
            "error_y": {
             "color": "#2a3f5f"
            },
            "marker": {
             "line": {
              "color": "#E5ECF6",
              "width": 0.5
             },
             "pattern": {
              "fillmode": "overlay",
              "size": 10,
              "solidity": 0.2
             }
            },
            "type": "bar"
           }
          ],
          "barpolar": [
           {
            "marker": {
             "line": {
              "color": "#E5ECF6",
              "width": 0.5
             },
             "pattern": {
              "fillmode": "overlay",
              "size": 10,
              "solidity": 0.2
             }
            },
            "type": "barpolar"
           }
          ],
          "carpet": [
           {
            "aaxis": {
             "endlinecolor": "#2a3f5f",
             "gridcolor": "white",
             "linecolor": "white",
             "minorgridcolor": "white",
             "startlinecolor": "#2a3f5f"
            },
            "baxis": {
             "endlinecolor": "#2a3f5f",
             "gridcolor": "white",
             "linecolor": "white",
             "minorgridcolor": "white",
             "startlinecolor": "#2a3f5f"
            },
            "type": "carpet"
           }
          ],
          "choropleth": [
           {
            "colorbar": {
             "outlinewidth": 0,
             "ticks": ""
            },
            "type": "choropleth"
           }
          ],
          "contour": [
           {
            "colorbar": {
             "outlinewidth": 0,
             "ticks": ""
            },
            "colorscale": [
             [
              0,
              "#0d0887"
             ],
             [
              0.1111111111111111,
              "#46039f"
             ],
             [
              0.2222222222222222,
              "#7201a8"
             ],
             [
              0.3333333333333333,
              "#9c179e"
             ],
             [
              0.4444444444444444,
              "#bd3786"
             ],
             [
              0.5555555555555556,
              "#d8576b"
             ],
             [
              0.6666666666666666,
              "#ed7953"
             ],
             [
              0.7777777777777778,
              "#fb9f3a"
             ],
             [
              0.8888888888888888,
              "#fdca26"
             ],
             [
              1,
              "#f0f921"
             ]
            ],
            "type": "contour"
           }
          ],
          "contourcarpet": [
           {
            "colorbar": {
             "outlinewidth": 0,
             "ticks": ""
            },
            "type": "contourcarpet"
           }
          ],
          "heatmap": [
           {
            "colorbar": {
             "outlinewidth": 0,
             "ticks": ""
            },
            "colorscale": [
             [
              0,
              "#0d0887"
             ],
             [
              0.1111111111111111,
              "#46039f"
             ],
             [
              0.2222222222222222,
              "#7201a8"
             ],
             [
              0.3333333333333333,
              "#9c179e"
             ],
             [
              0.4444444444444444,
              "#bd3786"
             ],
             [
              0.5555555555555556,
              "#d8576b"
             ],
             [
              0.6666666666666666,
              "#ed7953"
             ],
             [
              0.7777777777777778,
              "#fb9f3a"
             ],
             [
              0.8888888888888888,
              "#fdca26"
             ],
             [
              1,
              "#f0f921"
             ]
            ],
            "type": "heatmap"
           }
          ],
          "heatmapgl": [
           {
            "colorbar": {
             "outlinewidth": 0,
             "ticks": ""
            },
            "colorscale": [
             [
              0,
              "#0d0887"
             ],
             [
              0.1111111111111111,
              "#46039f"
             ],
             [
              0.2222222222222222,
              "#7201a8"
             ],
             [
              0.3333333333333333,
              "#9c179e"
             ],
             [
              0.4444444444444444,
              "#bd3786"
             ],
             [
              0.5555555555555556,
              "#d8576b"
             ],
             [
              0.6666666666666666,
              "#ed7953"
             ],
             [
              0.7777777777777778,
              "#fb9f3a"
             ],
             [
              0.8888888888888888,
              "#fdca26"
             ],
             [
              1,
              "#f0f921"
             ]
            ],
            "type": "heatmapgl"
           }
          ],
          "histogram": [
           {
            "marker": {
             "pattern": {
              "fillmode": "overlay",
              "size": 10,
              "solidity": 0.2
             }
            },
            "type": "histogram"
           }
          ],
          "histogram2d": [
           {
            "colorbar": {
             "outlinewidth": 0,
             "ticks": ""
            },
            "colorscale": [
             [
              0,
              "#0d0887"
             ],
             [
              0.1111111111111111,
              "#46039f"
             ],
             [
              0.2222222222222222,
              "#7201a8"
             ],
             [
              0.3333333333333333,
              "#9c179e"
             ],
             [
              0.4444444444444444,
              "#bd3786"
             ],
             [
              0.5555555555555556,
              "#d8576b"
             ],
             [
              0.6666666666666666,
              "#ed7953"
             ],
             [
              0.7777777777777778,
              "#fb9f3a"
             ],
             [
              0.8888888888888888,
              "#fdca26"
             ],
             [
              1,
              "#f0f921"
             ]
            ],
            "type": "histogram2d"
           }
          ],
          "histogram2dcontour": [
           {
            "colorbar": {
             "outlinewidth": 0,
             "ticks": ""
            },
            "colorscale": [
             [
              0,
              "#0d0887"
             ],
             [
              0.1111111111111111,
              "#46039f"
             ],
             [
              0.2222222222222222,
              "#7201a8"
             ],
             [
              0.3333333333333333,
              "#9c179e"
             ],
             [
              0.4444444444444444,
              "#bd3786"
             ],
             [
              0.5555555555555556,
              "#d8576b"
             ],
             [
              0.6666666666666666,
              "#ed7953"
             ],
             [
              0.7777777777777778,
              "#fb9f3a"
             ],
             [
              0.8888888888888888,
              "#fdca26"
             ],
             [
              1,
              "#f0f921"
             ]
            ],
            "type": "histogram2dcontour"
           }
          ],
          "mesh3d": [
           {
            "colorbar": {
             "outlinewidth": 0,
             "ticks": ""
            },
            "type": "mesh3d"
           }
          ],
          "parcoords": [
           {
            "line": {
             "colorbar": {
              "outlinewidth": 0,
              "ticks": ""
             }
            },
            "type": "parcoords"
           }
          ],
          "pie": [
           {
            "automargin": true,
            "type": "pie"
           }
          ],
          "scatter": [
           {
            "fillpattern": {
             "fillmode": "overlay",
             "size": 10,
             "solidity": 0.2
            },
            "type": "scatter"
           }
          ],
          "scatter3d": [
           {
            "line": {
             "colorbar": {
              "outlinewidth": 0,
              "ticks": ""
             }
            },
            "marker": {
             "colorbar": {
              "outlinewidth": 0,
              "ticks": ""
             }
            },
            "type": "scatter3d"
           }
          ],
          "scattercarpet": [
           {
            "marker": {
             "colorbar": {
              "outlinewidth": 0,
              "ticks": ""
             }
            },
            "type": "scattercarpet"
           }
          ],
          "scattergeo": [
           {
            "marker": {
             "colorbar": {
              "outlinewidth": 0,
              "ticks": ""
             }
            },
            "type": "scattergeo"
           }
          ],
          "scattergl": [
           {
            "marker": {
             "colorbar": {
              "outlinewidth": 0,
              "ticks": ""
             }
            },
            "type": "scattergl"
           }
          ],
          "scattermapbox": [
           {
            "marker": {
             "colorbar": {
              "outlinewidth": 0,
              "ticks": ""
             }
            },
            "type": "scattermapbox"
           }
          ],
          "scatterpolar": [
           {
            "marker": {
             "colorbar": {
              "outlinewidth": 0,
              "ticks": ""
             }
            },
            "type": "scatterpolar"
           }
          ],
          "scatterpolargl": [
           {
            "marker": {
             "colorbar": {
              "outlinewidth": 0,
              "ticks": ""
             }
            },
            "type": "scatterpolargl"
           }
          ],
          "scatterternary": [
           {
            "marker": {
             "colorbar": {
              "outlinewidth": 0,
              "ticks": ""
             }
            },
            "type": "scatterternary"
           }
          ],
          "surface": [
           {
            "colorbar": {
             "outlinewidth": 0,
             "ticks": ""
            },
            "colorscale": [
             [
              0,
              "#0d0887"
             ],
             [
              0.1111111111111111,
              "#46039f"
             ],
             [
              0.2222222222222222,
              "#7201a8"
             ],
             [
              0.3333333333333333,
              "#9c179e"
             ],
             [
              0.4444444444444444,
              "#bd3786"
             ],
             [
              0.5555555555555556,
              "#d8576b"
             ],
             [
              0.6666666666666666,
              "#ed7953"
             ],
             [
              0.7777777777777778,
              "#fb9f3a"
             ],
             [
              0.8888888888888888,
              "#fdca26"
             ],
             [
              1,
              "#f0f921"
             ]
            ],
            "type": "surface"
           }
          ],
          "table": [
           {
            "cells": {
             "fill": {
              "color": "#EBF0F8"
             },
             "line": {
              "color": "white"
             }
            },
            "header": {
             "fill": {
              "color": "#C8D4E3"
             },
             "line": {
              "color": "white"
             }
            },
            "type": "table"
           }
          ]
         },
         "layout": {
          "annotationdefaults": {
           "arrowcolor": "#2a3f5f",
           "arrowhead": 0,
           "arrowwidth": 1
          },
          "autotypenumbers": "strict",
          "coloraxis": {
           "colorbar": {
            "outlinewidth": 0,
            "ticks": ""
           }
          },
          "colorscale": {
           "diverging": [
            [
             0,
             "#8e0152"
            ],
            [
             0.1,
             "#c51b7d"
            ],
            [
             0.2,
             "#de77ae"
            ],
            [
             0.3,
             "#f1b6da"
            ],
            [
             0.4,
             "#fde0ef"
            ],
            [
             0.5,
             "#f7f7f7"
            ],
            [
             0.6,
             "#e6f5d0"
            ],
            [
             0.7,
             "#b8e186"
            ],
            [
             0.8,
             "#7fbc41"
            ],
            [
             0.9,
             "#4d9221"
            ],
            [
             1,
             "#276419"
            ]
           ],
           "sequential": [
            [
             0,
             "#0d0887"
            ],
            [
             0.1111111111111111,
             "#46039f"
            ],
            [
             0.2222222222222222,
             "#7201a8"
            ],
            [
             0.3333333333333333,
             "#9c179e"
            ],
            [
             0.4444444444444444,
             "#bd3786"
            ],
            [
             0.5555555555555556,
             "#d8576b"
            ],
            [
             0.6666666666666666,
             "#ed7953"
            ],
            [
             0.7777777777777778,
             "#fb9f3a"
            ],
            [
             0.8888888888888888,
             "#fdca26"
            ],
            [
             1,
             "#f0f921"
            ]
           ],
           "sequentialminus": [
            [
             0,
             "#0d0887"
            ],
            [
             0.1111111111111111,
             "#46039f"
            ],
            [
             0.2222222222222222,
             "#7201a8"
            ],
            [
             0.3333333333333333,
             "#9c179e"
            ],
            [
             0.4444444444444444,
             "#bd3786"
            ],
            [
             0.5555555555555556,
             "#d8576b"
            ],
            [
             0.6666666666666666,
             "#ed7953"
            ],
            [
             0.7777777777777778,
             "#fb9f3a"
            ],
            [
             0.8888888888888888,
             "#fdca26"
            ],
            [
             1,
             "#f0f921"
            ]
           ]
          },
          "colorway": [
           "#636efa",
           "#EF553B",
           "#00cc96",
           "#ab63fa",
           "#FFA15A",
           "#19d3f3",
           "#FF6692",
           "#B6E880",
           "#FF97FF",
           "#FECB52"
          ],
          "font": {
           "color": "#2a3f5f"
          },
          "geo": {
           "bgcolor": "white",
           "lakecolor": "white",
           "landcolor": "#E5ECF6",
           "showlakes": true,
           "showland": true,
           "subunitcolor": "white"
          },
          "hoverlabel": {
           "align": "left"
          },
          "hovermode": "closest",
          "mapbox": {
           "style": "light"
          },
          "paper_bgcolor": "white",
          "plot_bgcolor": "#E5ECF6",
          "polar": {
           "angularaxis": {
            "gridcolor": "white",
            "linecolor": "white",
            "ticks": ""
           },
           "bgcolor": "#E5ECF6",
           "radialaxis": {
            "gridcolor": "white",
            "linecolor": "white",
            "ticks": ""
           }
          },
          "scene": {
           "xaxis": {
            "backgroundcolor": "#E5ECF6",
            "gridcolor": "white",
            "gridwidth": 2,
            "linecolor": "white",
            "showbackground": true,
            "ticks": "",
            "zerolinecolor": "white"
           },
           "yaxis": {
            "backgroundcolor": "#E5ECF6",
            "gridcolor": "white",
            "gridwidth": 2,
            "linecolor": "white",
            "showbackground": true,
            "ticks": "",
            "zerolinecolor": "white"
           },
           "zaxis": {
            "backgroundcolor": "#E5ECF6",
            "gridcolor": "white",
            "gridwidth": 2,
            "linecolor": "white",
            "showbackground": true,
            "ticks": "",
            "zerolinecolor": "white"
           }
          },
          "shapedefaults": {
           "line": {
            "color": "#2a3f5f"
           }
          },
          "ternary": {
           "aaxis": {
            "gridcolor": "white",
            "linecolor": "white",
            "ticks": ""
           },
           "baxis": {
            "gridcolor": "white",
            "linecolor": "white",
            "ticks": ""
           },
           "bgcolor": "#E5ECF6",
           "caxis": {
            "gridcolor": "white",
            "linecolor": "white",
            "ticks": ""
           }
          },
          "title": {
           "x": 0.05
          },
          "xaxis": {
           "automargin": true,
           "gridcolor": "white",
           "linecolor": "white",
           "ticks": "",
           "title": {
            "standoff": 15
           },
           "zerolinecolor": "white",
           "zerolinewidth": 2
          },
          "yaxis": {
           "automargin": true,
           "gridcolor": "white",
           "linecolor": "white",
           "ticks": "",
           "title": {
            "standoff": 15
           },
           "zerolinecolor": "white",
           "zerolinewidth": 2
          }
         }
        },
        "title": {
         "text": "Control_Scores vs Death_Rate"
        },
        "xaxis": {
         "anchor": "y",
         "domain": [
          0,
          1
         ],
         "title": {
          "text": "Control_Score"
         }
        },
        "yaxis": {
         "anchor": "x",
         "domain": [
          0,
          1
         ],
         "title": {
          "text": "Death Rate per 100k"
         }
        }
       }
      },
      "text/html": [
       "<div>                            <div id=\"f36693a9-472f-4033-ba30-d4f369f27a35\" class=\"plotly-graph-div\" style=\"height:525px; width:100%;\"></div>            <script type=\"text/javascript\">                require([\"plotly\"], function(Plotly) {                    window.PLOTLYENV=window.PLOTLYENV || {};                                    if (document.getElementById(\"f36693a9-472f-4033-ba30-d4f369f27a35\")) {                    Plotly.newPlot(                        \"f36693a9-472f-4033-ba30-d4f369f27a35\",                        [{\"hovertemplate\":\"Likert_Scale=VW<br>Control_Score=%{x}<br>Death Rate per 100k=%{y}<br>STUSAB=%{text}<extra></extra>\",\"legendgroup\":\"VW\",\"marker\":{\"color\":\"#636efa\",\"symbol\":\"circle\"},\"mode\":\"markers+text\",\"name\":\"VW\",\"orientation\":\"v\",\"showlegend\":true,\"text\":[\"MS\",\"WY\",\"AL\",\"MT\",\"AK\",\"MO\",\"AR\",\"GA\",\"AZ\",\"OK\",\"KY\",\"IN\",\"KS\",\"WV\",\"ID\",\"OH\",\"TX\",\"ND\",\"SD\",\"UT\",\"NH\"],\"x\":[3.5,5.5,16.5,6.5,10.5,11.5,5.0,6.5,9.0,8.0,11.0,19.5,12.5,19.5,5.0,16.0,17.0,15.5,6.5,15.0,11.0],\"xaxis\":\"x\",\"y\":[30.6,25.93,25.37,24.6,24.2,23.6,22.07,20.3,20.23,20.17,19.63,18.13,17.9,17.67,16.8,16.13,16.03,16.03,15.43,12.6,9.43],\"yaxis\":\"y\",\"type\":\"scatter\",\"textposition\":\"top center\"},{\"hovertemplate\":\"Likert_Scale=Weak<br>Control_Score=%{x}<br>Death Rate per 100k=%{y}<br>STUSAB=%{text}<extra></extra>\",\"legendgroup\":\"Weak\",\"marker\":{\"color\":\"#EF553B\",\"symbol\":\"circle\"},\"mode\":\"markers+text\",\"name\":\"Weak\",\"orientation\":\"v\",\"showlegend\":true,\"text\":[\"LA\",\"TN\",\"SC\",\"NC\",\"MI\",\"FL\",\"WI\",\"VT\",\"ME\",\"NE\",\"IA\"],\"x\":[24.0,24.5,22.5,33.5,38.0,34.5,33.5,40.0,25.5,31.0,21.5],\"xaxis\":\"x\",\"y\":[28.23,22.07,21.47,17.3,15.37,14.57,14.5,13.5,12.3,11.37,11.1],\"yaxis\":\"y\",\"type\":\"scatter\",\"textposition\":\"top center\"},{\"hovertemplate\":\"Likert_Scale=Mod<br>Control_Score=%{x}<br>Death Rate per 100k=%{y}<br>STUSAB=%{text}<extra></extra>\",\"legendgroup\":\"Mod\",\"marker\":{\"color\":\"#00cc96\",\"symbol\":\"circle\"},\"mode\":\"markers+text\",\"name\":\"Mod\",\"orientation\":\"v\",\"showlegend\":true,\"text\":[\"NM\",\"NV\",\"PA\",\"VA\"],\"x\":[51.0,42.5,52.0,53.5],\"xaxis\":\"x\",\"y\":[27.5,19.5,15.4,15.17],\"yaxis\":\"y\",\"type\":\"scatter\",\"textposition\":\"top center\"},{\"hovertemplate\":\"Likert_Scale=Str<br>Control_Score=%{x}<br>Death Rate per 100k=%{y}<br>STUSAB=%{text}<extra></extra>\",\"legendgroup\":\"Str\",\"marker\":{\"color\":\"#ab63fa\",\"symbol\":\"circle\"},\"mode\":\"markers+text\",\"name\":\"Str\",\"orientation\":\"v\",\"showlegend\":true,\"text\":[\"CO\",\"OR\",\"DE\",\"WA\",\"MN\",\"RI\"],\"x\":[63.0,72.0,61.0,67.5,61.5,67.0],\"xaxis\":\"x\",\"y\":[17.57,15.67,14.13,12.73,10.3,4.6],\"yaxis\":\"y\",\"type\":\"scatter\",\"textposition\":\"top center\"},{\"hovertemplate\":\"Likert_Scale=VS<br>Control_Score=%{x}<br>Death Rate per 100k=%{y}<br>STUSAB=%{text}<extra></extra>\",\"legendgroup\":\"VS\",\"marker\":{\"color\":\"#FFA15A\",\"symbol\":\"circle\"},\"mode\":\"markers+text\",\"name\":\"VS\",\"orientation\":\"v\",\"showlegend\":true,\"text\":[\"IL\",\"MD\",\"CA\",\"CT\",\"NY\",\"NJ\",\"HI\",\"MA\"],\"x\":[87.5,84.5,86.5,81.0,85.5,83.0,89.0,86.0],\"xaxis\":\"x\",\"y\":[15.23,14.07,9.07,7.07,5.57,5.4,4.67,3.8],\"yaxis\":\"y\",\"type\":\"scatter\",\"textposition\":\"top center\"},{\"hovertemplate\":\"<b>OLS trendline</b><br>Death_Rate = -0.146217 * Control_Score + 21.6034<br>R<sup>2</sup>=0.426442<br><br>Control_Score=%{x}<br>Death Rate per 100k=%{y} <b>(trend)</b><extra></extra>\",\"legendgroup\":\"Overall Trendline\",\"line\":{\"color\":\"#19d3f3\"},\"mode\":\"lines\",\"name\":\"Overall Trendline\",\"showlegend\":true,\"x\":[3.5,5.0,5.0,5.5,6.5,6.5,6.5,8.0,9.0,10.5,11.0,11.0,11.5,12.5,15.0,15.5,16.0,16.5,17.0,19.5,19.5,21.5,22.5,24.0,24.5,25.5,31.0,33.5,33.5,34.5,38.0,40.0,42.5,51.0,52.0,53.5,61.0,61.5,63.0,67.0,67.5,72.0,81.0,83.0,84.5,85.5,86.0,86.5,87.5,89.0],\"y\":[21.091620257636702,20.872294650568417,20.872294650568417,20.79918611487899,20.65296904350013,20.65296904350013,20.65296904350013,20.433643436431844,20.287426365052987,20.0681007579847,19.99499222229527,19.99499222229527,19.92188368660584,19.775666615226985,19.41012393677984,19.33701540109041,19.263906865400983,19.190798329711555,19.117689794022127,18.75214711557498,18.75214711557498,18.459712972817265,18.313495901438408,18.094170294370123,18.021061758680695,17.874844687301835,17.07065079471812,16.705108116270974,16.705108116270974,16.558891044892118,16.047131295066116,15.754697152308403,15.389154473861257,14.146309367140969,14.00009229576211,13.780766688693824,12.684138653352393,12.611030117662963,12.391704510594678,11.806836225079246,11.733727689389818,11.07575086818496,9.759797225775241,9.467363083017526,9.24803747594924,9.101820404570383,9.028711868880954,8.955603333191524,8.809386261812667,8.59006065474438],\"type\":\"scatter\",\"xaxis\":\"x\",\"yaxis\":\"y\",\"textposition\":\"top center\"}],                        {\"template\":{\"data\":{\"histogram2dcontour\":[{\"type\":\"histogram2dcontour\",\"colorbar\":{\"outlinewidth\":0,\"ticks\":\"\"},\"colorscale\":[[0.0,\"#0d0887\"],[0.1111111111111111,\"#46039f\"],[0.2222222222222222,\"#7201a8\"],[0.3333333333333333,\"#9c179e\"],[0.4444444444444444,\"#bd3786\"],[0.5555555555555556,\"#d8576b\"],[0.6666666666666666,\"#ed7953\"],[0.7777777777777778,\"#fb9f3a\"],[0.8888888888888888,\"#fdca26\"],[1.0,\"#f0f921\"]]}],\"choropleth\":[{\"type\":\"choropleth\",\"colorbar\":{\"outlinewidth\":0,\"ticks\":\"\"}}],\"histogram2d\":[{\"type\":\"histogram2d\",\"colorbar\":{\"outlinewidth\":0,\"ticks\":\"\"},\"colorscale\":[[0.0,\"#0d0887\"],[0.1111111111111111,\"#46039f\"],[0.2222222222222222,\"#7201a8\"],[0.3333333333333333,\"#9c179e\"],[0.4444444444444444,\"#bd3786\"],[0.5555555555555556,\"#d8576b\"],[0.6666666666666666,\"#ed7953\"],[0.7777777777777778,\"#fb9f3a\"],[0.8888888888888888,\"#fdca26\"],[1.0,\"#f0f921\"]]}],\"heatmap\":[{\"type\":\"heatmap\",\"colorbar\":{\"outlinewidth\":0,\"ticks\":\"\"},\"colorscale\":[[0.0,\"#0d0887\"],[0.1111111111111111,\"#46039f\"],[0.2222222222222222,\"#7201a8\"],[0.3333333333333333,\"#9c179e\"],[0.4444444444444444,\"#bd3786\"],[0.5555555555555556,\"#d8576b\"],[0.6666666666666666,\"#ed7953\"],[0.7777777777777778,\"#fb9f3a\"],[0.8888888888888888,\"#fdca26\"],[1.0,\"#f0f921\"]]}],\"heatmapgl\":[{\"type\":\"heatmapgl\",\"colorbar\":{\"outlinewidth\":0,\"ticks\":\"\"},\"colorscale\":[[0.0,\"#0d0887\"],[0.1111111111111111,\"#46039f\"],[0.2222222222222222,\"#7201a8\"],[0.3333333333333333,\"#9c179e\"],[0.4444444444444444,\"#bd3786\"],[0.5555555555555556,\"#d8576b\"],[0.6666666666666666,\"#ed7953\"],[0.7777777777777778,\"#fb9f3a\"],[0.8888888888888888,\"#fdca26\"],[1.0,\"#f0f921\"]]}],\"contourcarpet\":[{\"type\":\"contourcarpet\",\"colorbar\":{\"outlinewidth\":0,\"ticks\":\"\"}}],\"contour\":[{\"type\":\"contour\",\"colorbar\":{\"outlinewidth\":0,\"ticks\":\"\"},\"colorscale\":[[0.0,\"#0d0887\"],[0.1111111111111111,\"#46039f\"],[0.2222222222222222,\"#7201a8\"],[0.3333333333333333,\"#9c179e\"],[0.4444444444444444,\"#bd3786\"],[0.5555555555555556,\"#d8576b\"],[0.6666666666666666,\"#ed7953\"],[0.7777777777777778,\"#fb9f3a\"],[0.8888888888888888,\"#fdca26\"],[1.0,\"#f0f921\"]]}],\"surface\":[{\"type\":\"surface\",\"colorbar\":{\"outlinewidth\":0,\"ticks\":\"\"},\"colorscale\":[[0.0,\"#0d0887\"],[0.1111111111111111,\"#46039f\"],[0.2222222222222222,\"#7201a8\"],[0.3333333333333333,\"#9c179e\"],[0.4444444444444444,\"#bd3786\"],[0.5555555555555556,\"#d8576b\"],[0.6666666666666666,\"#ed7953\"],[0.7777777777777778,\"#fb9f3a\"],[0.8888888888888888,\"#fdca26\"],[1.0,\"#f0f921\"]]}],\"mesh3d\":[{\"type\":\"mesh3d\",\"colorbar\":{\"outlinewidth\":0,\"ticks\":\"\"}}],\"scatter\":[{\"fillpattern\":{\"fillmode\":\"overlay\",\"size\":10,\"solidity\":0.2},\"type\":\"scatter\"}],\"parcoords\":[{\"type\":\"parcoords\",\"line\":{\"colorbar\":{\"outlinewidth\":0,\"ticks\":\"\"}}}],\"scatterpolargl\":[{\"type\":\"scatterpolargl\",\"marker\":{\"colorbar\":{\"outlinewidth\":0,\"ticks\":\"\"}}}],\"bar\":[{\"error_x\":{\"color\":\"#2a3f5f\"},\"error_y\":{\"color\":\"#2a3f5f\"},\"marker\":{\"line\":{\"color\":\"#E5ECF6\",\"width\":0.5},\"pattern\":{\"fillmode\":\"overlay\",\"size\":10,\"solidity\":0.2}},\"type\":\"bar\"}],\"scattergeo\":[{\"type\":\"scattergeo\",\"marker\":{\"colorbar\":{\"outlinewidth\":0,\"ticks\":\"\"}}}],\"scatterpolar\":[{\"type\":\"scatterpolar\",\"marker\":{\"colorbar\":{\"outlinewidth\":0,\"ticks\":\"\"}}}],\"histogram\":[{\"marker\":{\"pattern\":{\"fillmode\":\"overlay\",\"size\":10,\"solidity\":0.2}},\"type\":\"histogram\"}],\"scattergl\":[{\"type\":\"scattergl\",\"marker\":{\"colorbar\":{\"outlinewidth\":0,\"ticks\":\"\"}}}],\"scatter3d\":[{\"type\":\"scatter3d\",\"line\":{\"colorbar\":{\"outlinewidth\":0,\"ticks\":\"\"}},\"marker\":{\"colorbar\":{\"outlinewidth\":0,\"ticks\":\"\"}}}],\"scattermapbox\":[{\"type\":\"scattermapbox\",\"marker\":{\"colorbar\":{\"outlinewidth\":0,\"ticks\":\"\"}}}],\"scatterternary\":[{\"type\":\"scatterternary\",\"marker\":{\"colorbar\":{\"outlinewidth\":0,\"ticks\":\"\"}}}],\"scattercarpet\":[{\"type\":\"scattercarpet\",\"marker\":{\"colorbar\":{\"outlinewidth\":0,\"ticks\":\"\"}}}],\"carpet\":[{\"aaxis\":{\"endlinecolor\":\"#2a3f5f\",\"gridcolor\":\"white\",\"linecolor\":\"white\",\"minorgridcolor\":\"white\",\"startlinecolor\":\"#2a3f5f\"},\"baxis\":{\"endlinecolor\":\"#2a3f5f\",\"gridcolor\":\"white\",\"linecolor\":\"white\",\"minorgridcolor\":\"white\",\"startlinecolor\":\"#2a3f5f\"},\"type\":\"carpet\"}],\"table\":[{\"cells\":{\"fill\":{\"color\":\"#EBF0F8\"},\"line\":{\"color\":\"white\"}},\"header\":{\"fill\":{\"color\":\"#C8D4E3\"},\"line\":{\"color\":\"white\"}},\"type\":\"table\"}],\"barpolar\":[{\"marker\":{\"line\":{\"color\":\"#E5ECF6\",\"width\":0.5},\"pattern\":{\"fillmode\":\"overlay\",\"size\":10,\"solidity\":0.2}},\"type\":\"barpolar\"}],\"pie\":[{\"automargin\":true,\"type\":\"pie\"}]},\"layout\":{\"autotypenumbers\":\"strict\",\"colorway\":[\"#636efa\",\"#EF553B\",\"#00cc96\",\"#ab63fa\",\"#FFA15A\",\"#19d3f3\",\"#FF6692\",\"#B6E880\",\"#FF97FF\",\"#FECB52\"],\"font\":{\"color\":\"#2a3f5f\"},\"hovermode\":\"closest\",\"hoverlabel\":{\"align\":\"left\"},\"paper_bgcolor\":\"white\",\"plot_bgcolor\":\"#E5ECF6\",\"polar\":{\"bgcolor\":\"#E5ECF6\",\"angularaxis\":{\"gridcolor\":\"white\",\"linecolor\":\"white\",\"ticks\":\"\"},\"radialaxis\":{\"gridcolor\":\"white\",\"linecolor\":\"white\",\"ticks\":\"\"}},\"ternary\":{\"bgcolor\":\"#E5ECF6\",\"aaxis\":{\"gridcolor\":\"white\",\"linecolor\":\"white\",\"ticks\":\"\"},\"baxis\":{\"gridcolor\":\"white\",\"linecolor\":\"white\",\"ticks\":\"\"},\"caxis\":{\"gridcolor\":\"white\",\"linecolor\":\"white\",\"ticks\":\"\"}},\"coloraxis\":{\"colorbar\":{\"outlinewidth\":0,\"ticks\":\"\"}},\"colorscale\":{\"sequential\":[[0.0,\"#0d0887\"],[0.1111111111111111,\"#46039f\"],[0.2222222222222222,\"#7201a8\"],[0.3333333333333333,\"#9c179e\"],[0.4444444444444444,\"#bd3786\"],[0.5555555555555556,\"#d8576b\"],[0.6666666666666666,\"#ed7953\"],[0.7777777777777778,\"#fb9f3a\"],[0.8888888888888888,\"#fdca26\"],[1.0,\"#f0f921\"]],\"sequentialminus\":[[0.0,\"#0d0887\"],[0.1111111111111111,\"#46039f\"],[0.2222222222222222,\"#7201a8\"],[0.3333333333333333,\"#9c179e\"],[0.4444444444444444,\"#bd3786\"],[0.5555555555555556,\"#d8576b\"],[0.6666666666666666,\"#ed7953\"],[0.7777777777777778,\"#fb9f3a\"],[0.8888888888888888,\"#fdca26\"],[1.0,\"#f0f921\"]],\"diverging\":[[0,\"#8e0152\"],[0.1,\"#c51b7d\"],[0.2,\"#de77ae\"],[0.3,\"#f1b6da\"],[0.4,\"#fde0ef\"],[0.5,\"#f7f7f7\"],[0.6,\"#e6f5d0\"],[0.7,\"#b8e186\"],[0.8,\"#7fbc41\"],[0.9,\"#4d9221\"],[1,\"#276419\"]]},\"xaxis\":{\"gridcolor\":\"white\",\"linecolor\":\"white\",\"ticks\":\"\",\"title\":{\"standoff\":15},\"zerolinecolor\":\"white\",\"automargin\":true,\"zerolinewidth\":2},\"yaxis\":{\"gridcolor\":\"white\",\"linecolor\":\"white\",\"ticks\":\"\",\"title\":{\"standoff\":15},\"zerolinecolor\":\"white\",\"automargin\":true,\"zerolinewidth\":2},\"scene\":{\"xaxis\":{\"backgroundcolor\":\"#E5ECF6\",\"gridcolor\":\"white\",\"linecolor\":\"white\",\"showbackground\":true,\"ticks\":\"\",\"zerolinecolor\":\"white\",\"gridwidth\":2},\"yaxis\":{\"backgroundcolor\":\"#E5ECF6\",\"gridcolor\":\"white\",\"linecolor\":\"white\",\"showbackground\":true,\"ticks\":\"\",\"zerolinecolor\":\"white\",\"gridwidth\":2},\"zaxis\":{\"backgroundcolor\":\"#E5ECF6\",\"gridcolor\":\"white\",\"linecolor\":\"white\",\"showbackground\":true,\"ticks\":\"\",\"zerolinecolor\":\"white\",\"gridwidth\":2}},\"shapedefaults\":{\"line\":{\"color\":\"#2a3f5f\"}},\"annotationdefaults\":{\"arrowcolor\":\"#2a3f5f\",\"arrowhead\":0,\"arrowwidth\":1},\"geo\":{\"bgcolor\":\"white\",\"landcolor\":\"#E5ECF6\",\"subunitcolor\":\"white\",\"showland\":true,\"showlakes\":true,\"lakecolor\":\"white\"},\"title\":{\"x\":0.05},\"mapbox\":{\"style\":\"light\"}}},\"xaxis\":{\"anchor\":\"y\",\"domain\":[0.0,1.0],\"title\":{\"text\":\"Control_Score\"}},\"yaxis\":{\"anchor\":\"x\",\"domain\":[0.0,1.0],\"title\":{\"text\":\"Death Rate per 100k\"}},\"legend\":{\"title\":{\"text\":\"Likert_Scale\"},\"tracegroupgap\":0},\"title\":{\"text\":\"Control_Scores vs Death_Rate\"}},                        {\"responsive\": true}                    ).then(function(){\n",
       "                            \n",
       "var gd = document.getElementById('f36693a9-472f-4033-ba30-d4f369f27a35');\n",
       "var x = new MutationObserver(function (mutations, observer) {{\n",
       "        var display = window.getComputedStyle(gd).display;\n",
       "        if (!display || display === 'none') {{\n",
       "            console.log([gd, 'removed!']);\n",
       "            Plotly.purge(gd);\n",
       "            observer.disconnect();\n",
       "        }}\n",
       "}});\n",
       "\n",
       "// Listen for the removal of the full notebook cells\n",
       "var notebookContainer = gd.closest('#notebook-container');\n",
       "if (notebookContainer) {{\n",
       "    x.observe(notebookContainer, {childList: true});\n",
       "}}\n",
       "\n",
       "// Listen for the clearing of the current output cell\n",
       "var outputEl = gd.closest('.output');\n",
       "if (outputEl) {{\n",
       "    x.observe(outputEl, {childList: true});\n",
       "}}\n",
       "\n",
       "                        })                };                });            </script>        </div>"
      ]
     },
     "metadata": {},
     "output_type": "display_data"
    }
   ],
   "source": [
    "#scatter\n",
    "\n",
    "import plotly.express as px # iris is a pandas DataFrame\n",
    "fig = px.scatter(master_2022, \n",
    "                 x=\"Control_Score\", y=\"Death_Rate\",\n",
    "                 title=\"Control_Scores vs Death_Rate\",\n",
    "                 labels={'Death_Rate':'Death Rate per 100k'},\n",
    "                 text='STUSAB',color = 'Likert_Scale',\n",
    "                 trendline='ols',trendline_scope='overall')\n",
    "fig.update_traces(textposition='top center')\n",
    "\n",
    "\n",
    "fig.show()"
   ]
  },
  {
   "cell_type": "code",
   "execution_count": 269,
   "id": "7fc7dca3",
   "metadata": {},
   "outputs": [
    {
     "data": {
      "text/html": [
       "<div>\n",
       "<style scoped>\n",
       "    .dataframe tbody tr th:only-of-type {\n",
       "        vertical-align: middle;\n",
       "    }\n",
       "\n",
       "    .dataframe tbody tr th {\n",
       "        vertical-align: top;\n",
       "    }\n",
       "\n",
       "    .dataframe thead th {\n",
       "        text-align: right;\n",
       "    }\n",
       "</style>\n",
       "<table border=\"1\" class=\"dataframe\">\n",
       "  <thead>\n",
       "    <tr style=\"text-align: right;\">\n",
       "      <th></th>\n",
       "      <th>state</th>\n",
       "      <th>Death_Rate</th>\n",
       "      <th>STUSAB</th>\n",
       "      <th>Likert_Scale</th>\n",
       "      <th>Control_Score</th>\n",
       "    </tr>\n",
       "  </thead>\n",
       "  <tbody>\n",
       "    <tr>\n",
       "      <th>0</th>\n",
       "      <td>AK</td>\n",
       "      <td>24.20</td>\n",
       "      <td>AK</td>\n",
       "      <td>VW</td>\n",
       "      <td>10.5</td>\n",
       "    </tr>\n",
       "    <tr>\n",
       "      <th>1</th>\n",
       "      <td>AL</td>\n",
       "      <td>25.37</td>\n",
       "      <td>AL</td>\n",
       "      <td>VW</td>\n",
       "      <td>16.5</td>\n",
       "    </tr>\n",
       "    <tr>\n",
       "      <th>2</th>\n",
       "      <td>AR</td>\n",
       "      <td>22.07</td>\n",
       "      <td>AR</td>\n",
       "      <td>VW</td>\n",
       "      <td>5.0</td>\n",
       "    </tr>\n",
       "    <tr>\n",
       "      <th>3</th>\n",
       "      <td>AZ</td>\n",
       "      <td>20.23</td>\n",
       "      <td>AZ</td>\n",
       "      <td>VW</td>\n",
       "      <td>9.0</td>\n",
       "    </tr>\n",
       "    <tr>\n",
       "      <th>4</th>\n",
       "      <td>CA</td>\n",
       "      <td>9.07</td>\n",
       "      <td>CA</td>\n",
       "      <td>VS</td>\n",
       "      <td>86.5</td>\n",
       "    </tr>\n",
       "    <tr>\n",
       "      <th>5</th>\n",
       "      <td>CO</td>\n",
       "      <td>17.57</td>\n",
       "      <td>CO</td>\n",
       "      <td>Str</td>\n",
       "      <td>63.0</td>\n",
       "    </tr>\n",
       "    <tr>\n",
       "      <th>6</th>\n",
       "      <td>CT</td>\n",
       "      <td>7.07</td>\n",
       "      <td>CT</td>\n",
       "      <td>VS</td>\n",
       "      <td>81.0</td>\n",
       "    </tr>\n",
       "    <tr>\n",
       "      <th>8</th>\n",
       "      <td>DE</td>\n",
       "      <td>14.13</td>\n",
       "      <td>DE</td>\n",
       "      <td>Str</td>\n",
       "      <td>61.0</td>\n",
       "    </tr>\n",
       "    <tr>\n",
       "      <th>9</th>\n",
       "      <td>FL</td>\n",
       "      <td>14.57</td>\n",
       "      <td>FL</td>\n",
       "      <td>Weak</td>\n",
       "      <td>34.5</td>\n",
       "    </tr>\n",
       "    <tr>\n",
       "      <th>10</th>\n",
       "      <td>GA</td>\n",
       "      <td>20.30</td>\n",
       "      <td>GA</td>\n",
       "      <td>VW</td>\n",
       "      <td>6.5</td>\n",
       "    </tr>\n",
       "    <tr>\n",
       "      <th>11</th>\n",
       "      <td>HI</td>\n",
       "      <td>4.67</td>\n",
       "      <td>HI</td>\n",
       "      <td>VS</td>\n",
       "      <td>89.0</td>\n",
       "    </tr>\n",
       "    <tr>\n",
       "      <th>12</th>\n",
       "      <td>IA</td>\n",
       "      <td>11.10</td>\n",
       "      <td>IA</td>\n",
       "      <td>Weak</td>\n",
       "      <td>21.5</td>\n",
       "    </tr>\n",
       "    <tr>\n",
       "      <th>13</th>\n",
       "      <td>ID</td>\n",
       "      <td>16.80</td>\n",
       "      <td>ID</td>\n",
       "      <td>VW</td>\n",
       "      <td>5.0</td>\n",
       "    </tr>\n",
       "    <tr>\n",
       "      <th>14</th>\n",
       "      <td>IL</td>\n",
       "      <td>15.23</td>\n",
       "      <td>IL</td>\n",
       "      <td>VS</td>\n",
       "      <td>87.5</td>\n",
       "    </tr>\n",
       "    <tr>\n",
       "      <th>15</th>\n",
       "      <td>IN</td>\n",
       "      <td>18.13</td>\n",
       "      <td>IN</td>\n",
       "      <td>VW</td>\n",
       "      <td>19.5</td>\n",
       "    </tr>\n",
       "    <tr>\n",
       "      <th>16</th>\n",
       "      <td>KS</td>\n",
       "      <td>17.90</td>\n",
       "      <td>KS</td>\n",
       "      <td>VW</td>\n",
       "      <td>12.5</td>\n",
       "    </tr>\n",
       "    <tr>\n",
       "      <th>17</th>\n",
       "      <td>KY</td>\n",
       "      <td>19.63</td>\n",
       "      <td>KY</td>\n",
       "      <td>VW</td>\n",
       "      <td>11.0</td>\n",
       "    </tr>\n",
       "    <tr>\n",
       "      <th>18</th>\n",
       "      <td>LA</td>\n",
       "      <td>28.23</td>\n",
       "      <td>LA</td>\n",
       "      <td>Weak</td>\n",
       "      <td>24.0</td>\n",
       "    </tr>\n",
       "    <tr>\n",
       "      <th>19</th>\n",
       "      <td>MA</td>\n",
       "      <td>3.80</td>\n",
       "      <td>MA</td>\n",
       "      <td>VS</td>\n",
       "      <td>86.0</td>\n",
       "    </tr>\n",
       "    <tr>\n",
       "      <th>20</th>\n",
       "      <td>MD</td>\n",
       "      <td>14.07</td>\n",
       "      <td>MD</td>\n",
       "      <td>VS</td>\n",
       "      <td>84.5</td>\n",
       "    </tr>\n",
       "    <tr>\n",
       "      <th>21</th>\n",
       "      <td>ME</td>\n",
       "      <td>12.30</td>\n",
       "      <td>ME</td>\n",
       "      <td>Weak</td>\n",
       "      <td>25.5</td>\n",
       "    </tr>\n",
       "    <tr>\n",
       "      <th>22</th>\n",
       "      <td>MI</td>\n",
       "      <td>15.37</td>\n",
       "      <td>MI</td>\n",
       "      <td>Weak</td>\n",
       "      <td>38.0</td>\n",
       "    </tr>\n",
       "    <tr>\n",
       "      <th>23</th>\n",
       "      <td>MN</td>\n",
       "      <td>10.30</td>\n",
       "      <td>MN</td>\n",
       "      <td>Str</td>\n",
       "      <td>61.5</td>\n",
       "    </tr>\n",
       "    <tr>\n",
       "      <th>24</th>\n",
       "      <td>MO</td>\n",
       "      <td>23.60</td>\n",
       "      <td>MO</td>\n",
       "      <td>VW</td>\n",
       "      <td>11.5</td>\n",
       "    </tr>\n",
       "    <tr>\n",
       "      <th>25</th>\n",
       "      <td>MS</td>\n",
       "      <td>30.60</td>\n",
       "      <td>MS</td>\n",
       "      <td>VW</td>\n",
       "      <td>3.5</td>\n",
       "    </tr>\n",
       "    <tr>\n",
       "      <th>26</th>\n",
       "      <td>MT</td>\n",
       "      <td>24.60</td>\n",
       "      <td>MT</td>\n",
       "      <td>VW</td>\n",
       "      <td>6.5</td>\n",
       "    </tr>\n",
       "    <tr>\n",
       "      <th>27</th>\n",
       "      <td>NC</td>\n",
       "      <td>17.30</td>\n",
       "      <td>NC</td>\n",
       "      <td>Weak</td>\n",
       "      <td>33.5</td>\n",
       "    </tr>\n",
       "    <tr>\n",
       "      <th>28</th>\n",
       "      <td>ND</td>\n",
       "      <td>16.03</td>\n",
       "      <td>ND</td>\n",
       "      <td>VW</td>\n",
       "      <td>15.5</td>\n",
       "    </tr>\n",
       "    <tr>\n",
       "      <th>29</th>\n",
       "      <td>NE</td>\n",
       "      <td>11.37</td>\n",
       "      <td>NE</td>\n",
       "      <td>Weak</td>\n",
       "      <td>31.0</td>\n",
       "    </tr>\n",
       "    <tr>\n",
       "      <th>30</th>\n",
       "      <td>NH</td>\n",
       "      <td>9.43</td>\n",
       "      <td>NH</td>\n",
       "      <td>VW</td>\n",
       "      <td>11.0</td>\n",
       "    </tr>\n",
       "    <tr>\n",
       "      <th>31</th>\n",
       "      <td>NJ</td>\n",
       "      <td>5.40</td>\n",
       "      <td>NJ</td>\n",
       "      <td>VS</td>\n",
       "      <td>83.0</td>\n",
       "    </tr>\n",
       "    <tr>\n",
       "      <th>32</th>\n",
       "      <td>NM</td>\n",
       "      <td>27.50</td>\n",
       "      <td>NM</td>\n",
       "      <td>Mod</td>\n",
       "      <td>51.0</td>\n",
       "    </tr>\n",
       "    <tr>\n",
       "      <th>33</th>\n",
       "      <td>NV</td>\n",
       "      <td>19.50</td>\n",
       "      <td>NV</td>\n",
       "      <td>Mod</td>\n",
       "      <td>42.5</td>\n",
       "    </tr>\n",
       "    <tr>\n",
       "      <th>34</th>\n",
       "      <td>NY</td>\n",
       "      <td>5.57</td>\n",
       "      <td>NY</td>\n",
       "      <td>VS</td>\n",
       "      <td>85.5</td>\n",
       "    </tr>\n",
       "    <tr>\n",
       "      <th>35</th>\n",
       "      <td>OH</td>\n",
       "      <td>16.13</td>\n",
       "      <td>OH</td>\n",
       "      <td>VW</td>\n",
       "      <td>16.0</td>\n",
       "    </tr>\n",
       "    <tr>\n",
       "      <th>36</th>\n",
       "      <td>OK</td>\n",
       "      <td>20.17</td>\n",
       "      <td>OK</td>\n",
       "      <td>VW</td>\n",
       "      <td>8.0</td>\n",
       "    </tr>\n",
       "    <tr>\n",
       "      <th>37</th>\n",
       "      <td>OR</td>\n",
       "      <td>15.67</td>\n",
       "      <td>OR</td>\n",
       "      <td>Str</td>\n",
       "      <td>72.0</td>\n",
       "    </tr>\n",
       "    <tr>\n",
       "      <th>38</th>\n",
       "      <td>PA</td>\n",
       "      <td>15.40</td>\n",
       "      <td>PA</td>\n",
       "      <td>Mod</td>\n",
       "      <td>52.0</td>\n",
       "    </tr>\n",
       "    <tr>\n",
       "      <th>39</th>\n",
       "      <td>RI</td>\n",
       "      <td>4.60</td>\n",
       "      <td>RI</td>\n",
       "      <td>Str</td>\n",
       "      <td>67.0</td>\n",
       "    </tr>\n",
       "    <tr>\n",
       "      <th>40</th>\n",
       "      <td>SC</td>\n",
       "      <td>21.47</td>\n",
       "      <td>SC</td>\n",
       "      <td>Weak</td>\n",
       "      <td>22.5</td>\n",
       "    </tr>\n",
       "    <tr>\n",
       "      <th>41</th>\n",
       "      <td>SD</td>\n",
       "      <td>15.43</td>\n",
       "      <td>SD</td>\n",
       "      <td>VW</td>\n",
       "      <td>6.5</td>\n",
       "    </tr>\n",
       "    <tr>\n",
       "      <th>42</th>\n",
       "      <td>TN</td>\n",
       "      <td>22.07</td>\n",
       "      <td>TN</td>\n",
       "      <td>Weak</td>\n",
       "      <td>24.5</td>\n",
       "    </tr>\n",
       "    <tr>\n",
       "      <th>43</th>\n",
       "      <td>TX</td>\n",
       "      <td>16.03</td>\n",
       "      <td>TX</td>\n",
       "      <td>VW</td>\n",
       "      <td>17.0</td>\n",
       "    </tr>\n",
       "    <tr>\n",
       "      <th>44</th>\n",
       "      <td>UT</td>\n",
       "      <td>12.60</td>\n",
       "      <td>UT</td>\n",
       "      <td>VW</td>\n",
       "      <td>15.0</td>\n",
       "    </tr>\n",
       "    <tr>\n",
       "      <th>45</th>\n",
       "      <td>VA</td>\n",
       "      <td>15.17</td>\n",
       "      <td>VA</td>\n",
       "      <td>Mod</td>\n",
       "      <td>53.5</td>\n",
       "    </tr>\n",
       "    <tr>\n",
       "      <th>46</th>\n",
       "      <td>VT</td>\n",
       "      <td>13.50</td>\n",
       "      <td>VT</td>\n",
       "      <td>Weak</td>\n",
       "      <td>40.0</td>\n",
       "    </tr>\n",
       "    <tr>\n",
       "      <th>47</th>\n",
       "      <td>WA</td>\n",
       "      <td>12.73</td>\n",
       "      <td>WA</td>\n",
       "      <td>Str</td>\n",
       "      <td>67.5</td>\n",
       "    </tr>\n",
       "    <tr>\n",
       "      <th>48</th>\n",
       "      <td>WI</td>\n",
       "      <td>14.50</td>\n",
       "      <td>WI</td>\n",
       "      <td>Weak</td>\n",
       "      <td>33.5</td>\n",
       "    </tr>\n",
       "    <tr>\n",
       "      <th>49</th>\n",
       "      <td>WV</td>\n",
       "      <td>17.67</td>\n",
       "      <td>WV</td>\n",
       "      <td>VW</td>\n",
       "      <td>19.5</td>\n",
       "    </tr>\n",
       "    <tr>\n",
       "      <th>50</th>\n",
       "      <td>WY</td>\n",
       "      <td>25.93</td>\n",
       "      <td>WY</td>\n",
       "      <td>VW</td>\n",
       "      <td>5.5</td>\n",
       "    </tr>\n",
       "  </tbody>\n",
       "</table>\n",
       "</div>"
      ],
      "text/plain": [
       "   state  Death_Rate STUSAB Likert_Scale  Control_Score\n",
       "0     AK       24.20     AK           VW           10.5\n",
       "1     AL       25.37     AL           VW           16.5\n",
       "2     AR       22.07     AR           VW            5.0\n",
       "3     AZ       20.23     AZ           VW            9.0\n",
       "4     CA        9.07     CA           VS           86.5\n",
       "5     CO       17.57     CO          Str           63.0\n",
       "6     CT        7.07     CT           VS           81.0\n",
       "8     DE       14.13     DE          Str           61.0\n",
       "9     FL       14.57     FL         Weak           34.5\n",
       "10    GA       20.30     GA           VW            6.5\n",
       "11    HI        4.67     HI           VS           89.0\n",
       "12    IA       11.10     IA         Weak           21.5\n",
       "13    ID       16.80     ID           VW            5.0\n",
       "14    IL       15.23     IL           VS           87.5\n",
       "15    IN       18.13     IN           VW           19.5\n",
       "16    KS       17.90     KS           VW           12.5\n",
       "17    KY       19.63     KY           VW           11.0\n",
       "18    LA       28.23     LA         Weak           24.0\n",
       "19    MA        3.80     MA           VS           86.0\n",
       "20    MD       14.07     MD           VS           84.5\n",
       "21    ME       12.30     ME         Weak           25.5\n",
       "22    MI       15.37     MI         Weak           38.0\n",
       "23    MN       10.30     MN          Str           61.5\n",
       "24    MO       23.60     MO           VW           11.5\n",
       "25    MS       30.60     MS           VW            3.5\n",
       "26    MT       24.60     MT           VW            6.5\n",
       "27    NC       17.30     NC         Weak           33.5\n",
       "28    ND       16.03     ND           VW           15.5\n",
       "29    NE       11.37     NE         Weak           31.0\n",
       "30    NH        9.43     NH           VW           11.0\n",
       "31    NJ        5.40     NJ           VS           83.0\n",
       "32    NM       27.50     NM          Mod           51.0\n",
       "33    NV       19.50     NV          Mod           42.5\n",
       "34    NY        5.57     NY           VS           85.5\n",
       "35    OH       16.13     OH           VW           16.0\n",
       "36    OK       20.17     OK           VW            8.0\n",
       "37    OR       15.67     OR          Str           72.0\n",
       "38    PA       15.40     PA          Mod           52.0\n",
       "39    RI        4.60     RI          Str           67.0\n",
       "40    SC       21.47     SC         Weak           22.5\n",
       "41    SD       15.43     SD           VW            6.5\n",
       "42    TN       22.07     TN         Weak           24.5\n",
       "43    TX       16.03     TX           VW           17.0\n",
       "44    UT       12.60     UT           VW           15.0\n",
       "45    VA       15.17     VA          Mod           53.5\n",
       "46    VT       13.50     VT         Weak           40.0\n",
       "47    WA       12.73     WA          Str           67.5\n",
       "48    WI       14.50     WI         Weak           33.5\n",
       "49    WV       17.67     WV           VW           19.5\n",
       "50    WY       25.93     WY           VW            5.5"
      ]
     },
     "execution_count": 269,
     "metadata": {},
     "output_type": "execute_result"
    }
   ],
   "source": [
    "master_index = master_2022.sort_index()\n",
    "master_index"
   ]
  },
  {
   "cell_type": "code",
   "execution_count": 271,
   "id": "697a396a",
   "metadata": {},
   "outputs": [],
   "source": []
  },
  {
   "cell_type": "code",
   "execution_count": 19,
   "id": "b2cc12d8",
   "metadata": {},
   "outputs": [],
   "source": [
    "#playing with geojson\n",
    "#geo data sourced from: https://eric.clst.org/tech/usgeojson/\n",
    "\n",
    "import json\n",
    "file_path = (r\"C:\\Users\\dcrai\\source\\repos\\DATA608\\Major Assignments\\Story 3\\gz_2010_us_040_00_5m.json\")\n",
    "\n",
    "# Open the JSON file for reading\n",
    "with open(file_path, 'r') as json_file:\n",
    "    # Use json.load() to parse the JSON data from the file\n",
    "    geo_states = json.load(json_file)"
   ]
  },
  {
   "cell_type": "code",
   "execution_count": 26,
   "id": "77a7fce2",
   "metadata": {},
   "outputs": [
    {
     "data": {
      "text/html": [
       "<div>\n",
       "<style scoped>\n",
       "    .dataframe tbody tr th:only-of-type {\n",
       "        vertical-align: middle;\n",
       "    }\n",
       "\n",
       "    .dataframe tbody tr th {\n",
       "        vertical-align: top;\n",
       "    }\n",
       "\n",
       "    .dataframe thead th {\n",
       "        text-align: right;\n",
       "    }\n",
       "</style>\n",
       "<table border=\"1\" class=\"dataframe\">\n",
       "  <thead>\n",
       "    <tr style=\"text-align: right;\">\n",
       "      <th></th>\n",
       "      <th>STUSAB</th>\n",
       "      <th>STATENS</th>\n",
       "    </tr>\n",
       "  </thead>\n",
       "  <tbody>\n",
       "    <tr>\n",
       "      <th>0</th>\n",
       "      <td>AL</td>\n",
       "      <td>1779775</td>\n",
       "    </tr>\n",
       "    <tr>\n",
       "      <th>1</th>\n",
       "      <td>AK</td>\n",
       "      <td>1785533</td>\n",
       "    </tr>\n",
       "    <tr>\n",
       "      <th>2</th>\n",
       "      <td>AZ</td>\n",
       "      <td>1779777</td>\n",
       "    </tr>\n",
       "    <tr>\n",
       "      <th>3</th>\n",
       "      <td>AR</td>\n",
       "      <td>68085</td>\n",
       "    </tr>\n",
       "    <tr>\n",
       "      <th>4</th>\n",
       "      <td>CA</td>\n",
       "      <td>1779778</td>\n",
       "    </tr>\n",
       "  </tbody>\n",
       "</table>\n",
       "</div>"
      ],
      "text/plain": [
       "  STUSAB  STATENS\n",
       "0     AL  1779775\n",
       "1     AK  1785533\n",
       "2     AZ  1779777\n",
       "3     AR    68085\n",
       "4     CA  1779778"
      ]
     },
     "execution_count": 26,
     "metadata": {},
     "output_type": "execute_result"
    }
   ],
   "source": [
    "state_fips = pd.read_csv(r\"C:\\Users\\dcrai\\source\\repos\\DATA608\\Major Assignments\\Story 3\\FIPS Codes.txt\",sep = \"|\")\n",
    "state_fips = state_fips[['STUSAB','STATENS']]\n",
    "state_fips.head(5)"
   ]
  },
  {
   "cell_type": "code",
   "execution_count": 28,
   "id": "08cd66cf",
   "metadata": {},
   "outputs": [
    {
     "data": {
      "text/html": [
       "<div>\n",
       "<style scoped>\n",
       "    .dataframe tbody tr th:only-of-type {\n",
       "        vertical-align: middle;\n",
       "    }\n",
       "\n",
       "    .dataframe tbody tr th {\n",
       "        vertical-align: top;\n",
       "    }\n",
       "\n",
       "    .dataframe thead th {\n",
       "        text-align: right;\n",
       "    }\n",
       "</style>\n",
       "<table border=\"1\" class=\"dataframe\">\n",
       "  <thead>\n",
       "    <tr style=\"text-align: right;\">\n",
       "      <th></th>\n",
       "      <th>year_and_quarter</th>\n",
       "      <th>state</th>\n",
       "      <th>rate</th>\n",
       "      <th>STUSAB</th>\n",
       "      <th>STATENS</th>\n",
       "    </tr>\n",
       "  </thead>\n",
       "  <tbody>\n",
       "    <tr>\n",
       "      <th>0</th>\n",
       "      <td>2020 Q1</td>\n",
       "      <td>AK</td>\n",
       "      <td>23.4</td>\n",
       "      <td>AK</td>\n",
       "      <td>1785533</td>\n",
       "    </tr>\n",
       "    <tr>\n",
       "      <th>1</th>\n",
       "      <td>2020 Q2</td>\n",
       "      <td>AK</td>\n",
       "      <td>23.3</td>\n",
       "      <td>AK</td>\n",
       "      <td>1785533</td>\n",
       "    </tr>\n",
       "    <tr>\n",
       "      <th>2</th>\n",
       "      <td>2020 Q3</td>\n",
       "      <td>AK</td>\n",
       "      <td>25.3</td>\n",
       "      <td>AK</td>\n",
       "      <td>1785533</td>\n",
       "    </tr>\n",
       "    <tr>\n",
       "      <th>3</th>\n",
       "      <td>2020 Q4</td>\n",
       "      <td>AK</td>\n",
       "      <td>23.9</td>\n",
       "      <td>AK</td>\n",
       "      <td>1785533</td>\n",
       "    </tr>\n",
       "    <tr>\n",
       "      <th>4</th>\n",
       "      <td>2021 Q1</td>\n",
       "      <td>AK</td>\n",
       "      <td>23.1</td>\n",
       "      <td>AK</td>\n",
       "      <td>1785533</td>\n",
       "    </tr>\n",
       "  </tbody>\n",
       "</table>\n",
       "</div>"
      ],
      "text/plain": [
       "  year_and_quarter state  rate STUSAB  STATENS\n",
       "0          2020 Q1    AK  23.4     AK  1785533\n",
       "1          2020 Q2    AK  23.3     AK  1785533\n",
       "2          2020 Q3    AK  25.3     AK  1785533\n",
       "3          2020 Q4    AK  23.9     AK  1785533\n",
       "4          2021 Q1    AK  23.1     AK  1785533"
      ]
     },
     "execution_count": 28,
     "metadata": {},
     "output_type": "execute_result"
    }
   ],
   "source": [
    "merged_df = melted_df.merge(state_fips, left_on=['state'], right_on=['STUSAB'], how='left')\n",
    "merged_df.head(5)"
   ]
  },
  {
   "cell_type": "code",
   "execution_count": 31,
   "id": "06fc4ecc",
   "metadata": {},
   "outputs": [],
   "source": [
    "#fig = px.choropleth_mapbox(merged_df, geojson=geo_states, locations='STATENS', color='rate',\n",
    "#                           color_continuous_scale=\"Viridis\",\n",
    "#                           range_color=(0, 12),\n",
    "#                           mapbox_style=\"carto-positron\",\n",
    "#                           zoom=3, center = {\"lat\": 37.0902, \"lon\": -95.7129},\n",
    "#                           opacity=0.5,\n",
    "#                           labels={'rate':'Firearm-Related Injury Rate'}\n",
    "                          )\n",
    "#fig.update_layout(margin={\"r\":0,\"t\":0,\"l\":0,\"b\":0})\n",
    "#fig.show()"
   ]
  },
  {
   "cell_type": "markdown",
   "id": "fbacba46",
   "metadata": {},
   "source": [
    "## NCHS Weekly Counts of Death\n",
    "Endpoint: https://data.cdc.gov/resource/u6jv-9ijr.json\n",
    "https://data.cdc.gov/NCHS/Weekly-Counts-of-Death-by-Jurisdiction-and-Select-/u6jv-9ijr\n",
    "u6jv-9ijr.json\n"
   ]
  },
  {
   "cell_type": "code",
   "execution_count": 40,
   "id": "3665b115",
   "metadata": {},
   "outputs": [
    {
     "data": {
      "text/html": [
       "<div>\n",
       "<style scoped>\n",
       "    .dataframe tbody tr th:only-of-type {\n",
       "        vertical-align: middle;\n",
       "    }\n",
       "\n",
       "    .dataframe tbody tr th {\n",
       "        vertical-align: top;\n",
       "    }\n",
       "\n",
       "    .dataframe thead th {\n",
       "        text-align: right;\n",
       "    }\n",
       "</style>\n",
       "<table border=\"1\" class=\"dataframe\">\n",
       "  <thead>\n",
       "    <tr style=\"text-align: right;\">\n",
       "      <th></th>\n",
       "      <th>jurisdiction</th>\n",
       "      <th>week_ending_date</th>\n",
       "      <th>state_abbreviation</th>\n",
       "      <th>mmwryear</th>\n",
       "      <th>mmwrweek</th>\n",
       "      <th>cause_group</th>\n",
       "      <th>number_of_deaths</th>\n",
       "      <th>cause_subgroup</th>\n",
       "      <th>time_period</th>\n",
       "      <th>average_number_of_deaths</th>\n",
       "      <th>type</th>\n",
       "      <th>note</th>\n",
       "      <th>difference_from_2015_2019_to_2020</th>\n",
       "      <th>percent_difference_from_15_19_to_20</th>\n",
       "    </tr>\n",
       "  </thead>\n",
       "  <tbody>\n",
       "  </tbody>\n",
       "</table>\n",
       "</div>"
      ],
      "text/plain": [
       "Empty DataFrame\n",
       "Columns: [jurisdiction, week_ending_date, state_abbreviation, mmwryear, mmwrweek, cause_group, number_of_deaths, cause_subgroup, time_period, average_number_of_deaths, type, note, difference_from_2015_2019_to_2020, percent_difference_from_15_19_to_20]\n",
       "Index: []"
      ]
     },
     "execution_count": 40,
     "metadata": {},
     "output_type": "execute_result"
    }
   ],
   "source": [
    "results_u6 = client.get(\"u6jv-9ijr\")\n",
    "\n",
    "#does not seem to contain firearm related deaths\n",
    "\n",
    "# Convert to pandas DataFrame\n",
    "results_df = pd.DataFrame.from_records(results_u6)\n",
    "results_df\n",
    "\n",
    "\n",
    "#df = pd.json_normalize(results_u6)\n",
    "results_df[results_df['cause_group'].str.contains(\"fire\")]\n"
   ]
  },
  {
   "cell_type": "code",
   "execution_count": 42,
   "id": "9780bfc4",
   "metadata": {},
   "outputs": [
    {
     "data": {
      "text/html": [
       "<div>\n",
       "<style scoped>\n",
       "    .dataframe tbody tr th:only-of-type {\n",
       "        vertical-align: middle;\n",
       "    }\n",
       "\n",
       "    .dataframe tbody tr th {\n",
       "        vertical-align: top;\n",
       "    }\n",
       "\n",
       "    .dataframe thead th {\n",
       "        text-align: right;\n",
       "    }\n",
       "</style>\n",
       "<table border=\"1\" class=\"dataframe\">\n",
       "  <thead>\n",
       "    <tr style=\"text-align: right;\">\n",
       "      <th></th>\n",
       "      <th>year</th>\n",
       "      <th>sex</th>\n",
       "      <th>age_years</th>\n",
       "      <th>race</th>\n",
       "      <th>injury_mechanism</th>\n",
       "      <th>injury_intent</th>\n",
       "      <th>deaths</th>\n",
       "      <th>population</th>\n",
       "      <th>age_specific_rate</th>\n",
       "      <th>age_specific_rate_standard_error</th>\n",
       "      <th>age_specific_rate_lower_confidence_limit</th>\n",
       "      <th>age_specific_rate_upper_confidence_limit</th>\n",
       "      <th>unit</th>\n",
       "    </tr>\n",
       "  </thead>\n",
       "  <tbody>\n",
       "    <tr>\n",
       "      <th>0</th>\n",
       "      <td>2016</td>\n",
       "      <td>Both sexes</td>\n",
       "      <td>&lt; 15</td>\n",
       "      <td>All races</td>\n",
       "      <td>All Mechanisms</td>\n",
       "      <td>All Intentions</td>\n",
       "      <td>5704</td>\n",
       "      <td>60975069</td>\n",
       "      <td>9.354643</td>\n",
       "      <td>0.1238618</td>\n",
       "      <td>9.1118738</td>\n",
       "      <td>9.5974121</td>\n",
       "      <td>per 100,000 population</td>\n",
       "    </tr>\n",
       "    <tr>\n",
       "      <th>1</th>\n",
       "      <td>2015</td>\n",
       "      <td>Both sexes</td>\n",
       "      <td>&lt; 15</td>\n",
       "      <td>All races</td>\n",
       "      <td>All Mechanisms</td>\n",
       "      <td>All Intentions</td>\n",
       "      <td>5595</td>\n",
       "      <td>61016787</td>\n",
       "      <td>9.1696077</td>\n",
       "      <td>0.1225888</td>\n",
       "      <td>8.9293337</td>\n",
       "      <td>9.4098817</td>\n",
       "      <td>per 100,000 population</td>\n",
       "    </tr>\n",
       "    <tr>\n",
       "      <th>2</th>\n",
       "      <td>2014</td>\n",
       "      <td>Both sexes</td>\n",
       "      <td>&lt; 15</td>\n",
       "      <td>All races</td>\n",
       "      <td>All Mechanisms</td>\n",
       "      <td>All Intentions</td>\n",
       "      <td>5369</td>\n",
       "      <td>61067955</td>\n",
       "      <td>8.7918451</td>\n",
       "      <td>0.1199868</td>\n",
       "      <td>8.556671</td>\n",
       "      <td>9.0270191</td>\n",
       "      <td>per 100,000 population</td>\n",
       "    </tr>\n",
       "    <tr>\n",
       "      <th>3</th>\n",
       "      <td>2013</td>\n",
       "      <td>Both sexes</td>\n",
       "      <td>&lt; 15</td>\n",
       "      <td>All races</td>\n",
       "      <td>All Mechanisms</td>\n",
       "      <td>All Intentions</td>\n",
       "      <td>5501</td>\n",
       "      <td>61089123</td>\n",
       "      <td>9.0048764</td>\n",
       "      <td>0.1214107</td>\n",
       "      <td>8.7669114</td>\n",
       "      <td>9.2428413</td>\n",
       "      <td>per 100,000 population</td>\n",
       "    </tr>\n",
       "    <tr>\n",
       "      <th>4</th>\n",
       "      <td>2012</td>\n",
       "      <td>Both sexes</td>\n",
       "      <td>&lt; 15</td>\n",
       "      <td>All races</td>\n",
       "      <td>All Mechanisms</td>\n",
       "      <td>All Intentions</td>\n",
       "      <td>5542</td>\n",
       "      <td>61144098</td>\n",
       "      <td>9.0638347</td>\n",
       "      <td>0.1217527</td>\n",
       "      <td>8.8251994</td>\n",
       "      <td>9.3024701</td>\n",
       "      <td>per 100,000 population</td>\n",
       "    </tr>\n",
       "    <tr>\n",
       "      <th>...</th>\n",
       "      <td>...</td>\n",
       "      <td>...</td>\n",
       "      <td>...</td>\n",
       "      <td>...</td>\n",
       "      <td>...</td>\n",
       "      <td>...</td>\n",
       "      <td>...</td>\n",
       "      <td>...</td>\n",
       "      <td>...</td>\n",
       "      <td>...</td>\n",
       "      <td>...</td>\n",
       "      <td>...</td>\n",
       "      <td>...</td>\n",
       "    </tr>\n",
       "    <tr>\n",
       "      <th>995</th>\n",
       "      <td>2005</td>\n",
       "      <td>Male</td>\n",
       "      <td>&lt; 15</td>\n",
       "      <td>Non-Hispanic black</td>\n",
       "      <td>All Mechanisms</td>\n",
       "      <td>Undetermined</td>\n",
       "      <td>40</td>\n",
       "      <td>4722644</td>\n",
       "      <td>0.8469832</td>\n",
       "      <td>0.1339198</td>\n",
       "      <td>0.6050972</td>\n",
       "      <td>1.1533507</td>\n",
       "      <td>per 100,000 population</td>\n",
       "    </tr>\n",
       "    <tr>\n",
       "      <th>996</th>\n",
       "      <td>2004</td>\n",
       "      <td>Male</td>\n",
       "      <td>&lt; 15</td>\n",
       "      <td>Non-Hispanic black</td>\n",
       "      <td>All Mechanisms</td>\n",
       "      <td>Undetermined</td>\n",
       "      <td>45</td>\n",
       "      <td>4761825</td>\n",
       "      <td>0.9450158</td>\n",
       "      <td>0.1408746</td>\n",
       "      <td>0.689301</td>\n",
       "      <td>1.2645055</td>\n",
       "      <td>per 100,000 population</td>\n",
       "    </tr>\n",
       "    <tr>\n",
       "      <th>997</th>\n",
       "      <td>2003</td>\n",
       "      <td>Male</td>\n",
       "      <td>&lt; 15</td>\n",
       "      <td>Non-Hispanic black</td>\n",
       "      <td>All Mechanisms</td>\n",
       "      <td>Undetermined</td>\n",
       "      <td>32</td>\n",
       "      <td>4784479</td>\n",
       "      <td>0.6688294</td>\n",
       "      <td>0.1182334</td>\n",
       "      <td>0.4574788</td>\n",
       "      <td>0.9441875</td>\n",
       "      <td>per 100,000 population</td>\n",
       "    </tr>\n",
       "    <tr>\n",
       "      <th>998</th>\n",
       "      <td>2002</td>\n",
       "      <td>Male</td>\n",
       "      <td>&lt; 15</td>\n",
       "      <td>Non-Hispanic black</td>\n",
       "      <td>All Mechanisms</td>\n",
       "      <td>Undetermined</td>\n",
       "      <td>32</td>\n",
       "      <td>4795544</td>\n",
       "      <td>0.6672861</td>\n",
       "      <td>0.1179606</td>\n",
       "      <td>0.4564232</td>\n",
       "      <td>0.9420089</td>\n",
       "      <td>per 100,000 population</td>\n",
       "    </tr>\n",
       "    <tr>\n",
       "      <th>999</th>\n",
       "      <td>2001</td>\n",
       "      <td>Male</td>\n",
       "      <td>&lt; 15</td>\n",
       "      <td>Non-Hispanic black</td>\n",
       "      <td>All Mechanisms</td>\n",
       "      <td>Undetermined</td>\n",
       "      <td>34</td>\n",
       "      <td>4793608</td>\n",
       "      <td>0.7092779</td>\n",
       "      <td>0.1216401</td>\n",
       "      <td>0.4911955</td>\n",
       "      <td>0.9911447</td>\n",
       "      <td>per 100,000 population</td>\n",
       "    </tr>\n",
       "  </tbody>\n",
       "</table>\n",
       "<p>1000 rows × 13 columns</p>\n",
       "</div>"
      ],
      "text/plain": [
       "     year         sex age_years                race injury_mechanism  \\\n",
       "0    2016  Both sexes      < 15           All races   All Mechanisms   \n",
       "1    2015  Both sexes      < 15           All races   All Mechanisms   \n",
       "2    2014  Both sexes      < 15           All races   All Mechanisms   \n",
       "3    2013  Both sexes      < 15           All races   All Mechanisms   \n",
       "4    2012  Both sexes      < 15           All races   All Mechanisms   \n",
       "..    ...         ...       ...                 ...              ...   \n",
       "995  2005        Male      < 15  Non-Hispanic black   All Mechanisms   \n",
       "996  2004        Male      < 15  Non-Hispanic black   All Mechanisms   \n",
       "997  2003        Male      < 15  Non-Hispanic black   All Mechanisms   \n",
       "998  2002        Male      < 15  Non-Hispanic black   All Mechanisms   \n",
       "999  2001        Male      < 15  Non-Hispanic black   All Mechanisms   \n",
       "\n",
       "      injury_intent deaths population age_specific_rate  \\\n",
       "0    All Intentions   5704   60975069          9.354643   \n",
       "1    All Intentions   5595   61016787         9.1696077   \n",
       "2    All Intentions   5369   61067955         8.7918451   \n",
       "3    All Intentions   5501   61089123         9.0048764   \n",
       "4    All Intentions   5542   61144098         9.0638347   \n",
       "..              ...    ...        ...               ...   \n",
       "995    Undetermined     40    4722644         0.8469832   \n",
       "996    Undetermined     45    4761825         0.9450158   \n",
       "997    Undetermined     32    4784479         0.6688294   \n",
       "998    Undetermined     32    4795544         0.6672861   \n",
       "999    Undetermined     34    4793608         0.7092779   \n",
       "\n",
       "    age_specific_rate_standard_error age_specific_rate_lower_confidence_limit  \\\n",
       "0                          0.1238618                                9.1118738   \n",
       "1                          0.1225888                                8.9293337   \n",
       "2                          0.1199868                                 8.556671   \n",
       "3                          0.1214107                                8.7669114   \n",
       "4                          0.1217527                                8.8251994   \n",
       "..                               ...                                      ...   \n",
       "995                        0.1339198                                0.6050972   \n",
       "996                        0.1408746                                 0.689301   \n",
       "997                        0.1182334                                0.4574788   \n",
       "998                        0.1179606                                0.4564232   \n",
       "999                        0.1216401                                0.4911955   \n",
       "\n",
       "    age_specific_rate_upper_confidence_limit                    unit  \n",
       "0                                  9.5974121  per 100,000 population  \n",
       "1                                  9.4098817  per 100,000 population  \n",
       "2                                  9.0270191  per 100,000 population  \n",
       "3                                  9.2428413  per 100,000 population  \n",
       "4                                  9.3024701  per 100,000 population  \n",
       "..                                       ...                     ...  \n",
       "995                                1.1533507  per 100,000 population  \n",
       "996                                1.2645055  per 100,000 population  \n",
       "997                                0.9441875  per 100,000 population  \n",
       "998                                0.9420089  per 100,000 population  \n",
       "999                                0.9911447  per 100,000 population  \n",
       "\n",
       "[1000 rows x 13 columns]"
      ]
     },
     "execution_count": 42,
     "metadata": {},
     "output_type": "execute_result"
    }
   ],
   "source": [
    "#nt65-c7a7\n",
    "#https://data.cdc.gov/NCHS/NCHS-Injury-Mortality-United-States/nt65-c7a7\n",
    "\n",
    "\n",
    "results_nt = client.get(\"nt65-c7a7\")\n",
    "\n",
    "#SEEMS PROMISING\n",
    "\n",
    "# Convert to pandas DataFrame\n",
    "results_df = pd.DataFrame.from_records(results_nt)\n",
    "results_df\n",
    "\n",
    "\n",
    "#df = pd.json_normalize(results_u6)\n",
    "#results_df[results_df['cause_group'].str.contains(\"fire\")]"
   ]
  },
  {
   "cell_type": "code",
   "execution_count": 43,
   "id": "38e8daf5",
   "metadata": {},
   "outputs": [
    {
     "data": {
      "text/html": [
       "<div>\n",
       "<style scoped>\n",
       "    .dataframe tbody tr th:only-of-type {\n",
       "        vertical-align: middle;\n",
       "    }\n",
       "\n",
       "    .dataframe tbody tr th {\n",
       "        vertical-align: top;\n",
       "    }\n",
       "\n",
       "    .dataframe thead th {\n",
       "        text-align: right;\n",
       "    }\n",
       "</style>\n",
       "<table border=\"1\" class=\"dataframe\">\n",
       "  <thead>\n",
       "    <tr style=\"text-align: right;\">\n",
       "      <th></th>\n",
       "      <th>year</th>\n",
       "      <th>sex</th>\n",
       "      <th>age_group_years</th>\n",
       "      <th>race</th>\n",
       "      <th>injury_mechanism</th>\n",
       "      <th>injury_intent</th>\n",
       "      <th>deaths</th>\n",
       "      <th>population</th>\n",
       "      <th>age_specific_rate</th>\n",
       "      <th>age_specific_rate_standard_error</th>\n",
       "      <th>age_specific_rate_lower_confidence_limit</th>\n",
       "      <th>age_specific_rate_upper_confidence_limit</th>\n",
       "      <th>age_adjusted_rate</th>\n",
       "      <th>age_adjusted_rate_standard_error</th>\n",
       "      <th>age_adjusted_rate_lower_confidence_limit</th>\n",
       "      <th>age_adjusted_rate_upper_confidence_limit</th>\n",
       "    </tr>\n",
       "  </thead>\n",
       "  <tbody>\n",
       "    <tr>\n",
       "      <th>0</th>\n",
       "      <td>2016</td>\n",
       "      <td>Both sexes</td>\n",
       "      <td>All Ages</td>\n",
       "      <td>All races</td>\n",
       "      <td>All Mechanisms</td>\n",
       "      <td>All Intentions</td>\n",
       "      <td>231991</td>\n",
       "      <td>323127513</td>\n",
       "      <td>71.795496</td>\n",
       "      <td>0.1490602</td>\n",
       "      <td>71.503338</td>\n",
       "      <td>72.087654</td>\n",
       "      <td>68.982236</td>\n",
       "      <td>0.1460097</td>\n",
       "      <td>68.696057</td>\n",
       "      <td>69.268415</td>\n",
       "    </tr>\n",
       "    <tr>\n",
       "      <th>1</th>\n",
       "      <td>2015</td>\n",
       "      <td>Both sexes</td>\n",
       "      <td>All Ages</td>\n",
       "      <td>All races</td>\n",
       "      <td>All Mechanisms</td>\n",
       "      <td>All Intentions</td>\n",
       "      <td>214008</td>\n",
       "      <td>321418820</td>\n",
       "      <td>66.582287</td>\n",
       "      <td>0.1439275</td>\n",
       "      <td>66.300189</td>\n",
       "      <td>66.864384</td>\n",
       "      <td>63.866114</td>\n",
       "      <td>0.140507</td>\n",
       "      <td>63.59072</td>\n",
       "      <td>64.141508</td>\n",
       "    </tr>\n",
       "    <tr>\n",
       "      <th>2</th>\n",
       "      <td>2014</td>\n",
       "      <td>Both sexes</td>\n",
       "      <td>All Ages</td>\n",
       "      <td>All races</td>\n",
       "      <td>All Mechanisms</td>\n",
       "      <td>All Intentions</td>\n",
       "      <td>199752</td>\n",
       "      <td>318857056</td>\n",
       "      <td>62.646254</td>\n",
       "      <td>0.1401682</td>\n",
       "      <td>62.371524</td>\n",
       "      <td>62.920983</td>\n",
       "      <td>60.127242</td>\n",
       "      <td>0.136713</td>\n",
       "      <td>59.859285</td>\n",
       "      <td>60.3952</td>\n",
       "    </tr>\n",
       "    <tr>\n",
       "      <th>3</th>\n",
       "      <td>2013</td>\n",
       "      <td>Both sexes</td>\n",
       "      <td>All Ages</td>\n",
       "      <td>All races</td>\n",
       "      <td>All Mechanisms</td>\n",
       "      <td>All Intentions</td>\n",
       "      <td>192945</td>\n",
       "      <td>316128839</td>\n",
       "      <td>61.03366</td>\n",
       "      <td>0.1389481</td>\n",
       "      <td>60.761321</td>\n",
       "      <td>61.305998</td>\n",
       "      <td>58.771709</td>\n",
       "      <td>0.1357892</td>\n",
       "      <td>58.505562</td>\n",
       "      <td>59.037856</td>\n",
       "    </tr>\n",
       "    <tr>\n",
       "      <th>4</th>\n",
       "      <td>2012</td>\n",
       "      <td>Both sexes</td>\n",
       "      <td>All Ages</td>\n",
       "      <td>All races</td>\n",
       "      <td>All Mechanisms</td>\n",
       "      <td>All Intentions</td>\n",
       "      <td>190385</td>\n",
       "      <td>313914040</td>\n",
       "      <td>60.648769</td>\n",
       "      <td>0.1389971</td>\n",
       "      <td>60.376334</td>\n",
       "      <td>60.921203</td>\n",
       "      <td>58.696255</td>\n",
       "      <td>0.1362913</td>\n",
       "      <td>58.429124</td>\n",
       "      <td>58.963386</td>\n",
       "    </tr>\n",
       "    <tr>\n",
       "      <th>...</th>\n",
       "      <td>...</td>\n",
       "      <td>...</td>\n",
       "      <td>...</td>\n",
       "      <td>...</td>\n",
       "      <td>...</td>\n",
       "      <td>...</td>\n",
       "      <td>...</td>\n",
       "      <td>...</td>\n",
       "      <td>...</td>\n",
       "      <td>...</td>\n",
       "      <td>...</td>\n",
       "      <td>...</td>\n",
       "      <td>...</td>\n",
       "      <td>...</td>\n",
       "      <td>...</td>\n",
       "      <td>...</td>\n",
       "    </tr>\n",
       "    <tr>\n",
       "      <th>995</th>\n",
       "      <td>1999</td>\n",
       "      <td>Male</td>\n",
       "      <td>65–74</td>\n",
       "      <td>Hispanic</td>\n",
       "      <td>All Mechanisms</td>\n",
       "      <td>All Intentions</td>\n",
       "      <td>380</td>\n",
       "      <td>455199</td>\n",
       "      <td>83.479972</td>\n",
       "      <td>4.2824322</td>\n",
       "      <td>75.086405</td>\n",
       "      <td>91.87354</td>\n",
       "      <td></td>\n",
       "      <td></td>\n",
       "      <td></td>\n",
       "      <td></td>\n",
       "    </tr>\n",
       "    <tr>\n",
       "      <th>996</th>\n",
       "      <td>2016</td>\n",
       "      <td>Male</td>\n",
       "      <td>75+</td>\n",
       "      <td>Hispanic</td>\n",
       "      <td>All Mechanisms</td>\n",
       "      <td>All Intentions</td>\n",
       "      <td>951</td>\n",
       "      <td>626922</td>\n",
       "      <td>151.69351</td>\n",
       "      <td>4.9189992</td>\n",
       "      <td>142.05227</td>\n",
       "      <td>161.33475</td>\n",
       "      <td></td>\n",
       "      <td></td>\n",
       "      <td></td>\n",
       "      <td></td>\n",
       "    </tr>\n",
       "    <tr>\n",
       "      <th>997</th>\n",
       "      <td>2015</td>\n",
       "      <td>Male</td>\n",
       "      <td>75+</td>\n",
       "      <td>Hispanic</td>\n",
       "      <td>All Mechanisms</td>\n",
       "      <td>All Intentions</td>\n",
       "      <td>923</td>\n",
       "      <td>599905</td>\n",
       "      <td>153.85769</td>\n",
       "      <td>5.0642877</td>\n",
       "      <td>143.93169</td>\n",
       "      <td>163.7837</td>\n",
       "      <td></td>\n",
       "      <td></td>\n",
       "      <td></td>\n",
       "      <td></td>\n",
       "    </tr>\n",
       "    <tr>\n",
       "      <th>998</th>\n",
       "      <td>2014</td>\n",
       "      <td>Male</td>\n",
       "      <td>75+</td>\n",
       "      <td>Hispanic</td>\n",
       "      <td>All Mechanisms</td>\n",
       "      <td>All Intentions</td>\n",
       "      <td>864</td>\n",
       "      <td>567073</td>\n",
       "      <td>152.36134</td>\n",
       "      <td>5.1834379</td>\n",
       "      <td>142.2018</td>\n",
       "      <td>162.52087</td>\n",
       "      <td></td>\n",
       "      <td></td>\n",
       "      <td></td>\n",
       "      <td></td>\n",
       "    </tr>\n",
       "    <tr>\n",
       "      <th>999</th>\n",
       "      <td>2013</td>\n",
       "      <td>Male</td>\n",
       "      <td>75+</td>\n",
       "      <td>Hispanic</td>\n",
       "      <td>All Mechanisms</td>\n",
       "      <td>All Intentions</td>\n",
       "      <td>827</td>\n",
       "      <td>533791</td>\n",
       "      <td>154.92955</td>\n",
       "      <td>5.3874284</td>\n",
       "      <td>144.37019</td>\n",
       "      <td>165.48891</td>\n",
       "      <td></td>\n",
       "      <td></td>\n",
       "      <td></td>\n",
       "      <td></td>\n",
       "    </tr>\n",
       "  </tbody>\n",
       "</table>\n",
       "<p>1000 rows × 16 columns</p>\n",
       "</div>"
      ],
      "text/plain": [
       "     year         sex age_group_years       race injury_mechanism  \\\n",
       "0    2016  Both sexes        All Ages  All races   All Mechanisms   \n",
       "1    2015  Both sexes        All Ages  All races   All Mechanisms   \n",
       "2    2014  Both sexes        All Ages  All races   All Mechanisms   \n",
       "3    2013  Both sexes        All Ages  All races   All Mechanisms   \n",
       "4    2012  Both sexes        All Ages  All races   All Mechanisms   \n",
       "..    ...         ...             ...        ...              ...   \n",
       "995  1999        Male           65–74   Hispanic   All Mechanisms   \n",
       "996  2016        Male             75+   Hispanic   All Mechanisms   \n",
       "997  2015        Male             75+   Hispanic   All Mechanisms   \n",
       "998  2014        Male             75+   Hispanic   All Mechanisms   \n",
       "999  2013        Male             75+   Hispanic   All Mechanisms   \n",
       "\n",
       "      injury_intent  deaths population age_specific_rate  \\\n",
       "0    All Intentions  231991  323127513         71.795496   \n",
       "1    All Intentions  214008  321418820         66.582287   \n",
       "2    All Intentions  199752  318857056         62.646254   \n",
       "3    All Intentions  192945  316128839          61.03366   \n",
       "4    All Intentions  190385  313914040         60.648769   \n",
       "..              ...     ...        ...               ...   \n",
       "995  All Intentions     380     455199         83.479972   \n",
       "996  All Intentions     951     626922         151.69351   \n",
       "997  All Intentions     923     599905         153.85769   \n",
       "998  All Intentions     864     567073         152.36134   \n",
       "999  All Intentions     827     533791         154.92955   \n",
       "\n",
       "    age_specific_rate_standard_error age_specific_rate_lower_confidence_limit  \\\n",
       "0                          0.1490602                                71.503338   \n",
       "1                          0.1439275                                66.300189   \n",
       "2                          0.1401682                                62.371524   \n",
       "3                          0.1389481                                60.761321   \n",
       "4                          0.1389971                                60.376334   \n",
       "..                               ...                                      ...   \n",
       "995                        4.2824322                                75.086405   \n",
       "996                        4.9189992                                142.05227   \n",
       "997                        5.0642877                                143.93169   \n",
       "998                        5.1834379                                 142.2018   \n",
       "999                        5.3874284                                144.37019   \n",
       "\n",
       "    age_specific_rate_upper_confidence_limit age_adjusted_rate  \\\n",
       "0                                  72.087654         68.982236   \n",
       "1                                  66.864384         63.866114   \n",
       "2                                  62.920983         60.127242   \n",
       "3                                  61.305998         58.771709   \n",
       "4                                  60.921203         58.696255   \n",
       "..                                       ...               ...   \n",
       "995                                 91.87354                     \n",
       "996                                161.33475                     \n",
       "997                                 163.7837                     \n",
       "998                                162.52087                     \n",
       "999                                165.48891                     \n",
       "\n",
       "    age_adjusted_rate_standard_error age_adjusted_rate_lower_confidence_limit  \\\n",
       "0                          0.1460097                                68.696057   \n",
       "1                           0.140507                                 63.59072   \n",
       "2                           0.136713                                59.859285   \n",
       "3                          0.1357892                                58.505562   \n",
       "4                          0.1362913                                58.429124   \n",
       "..                               ...                                      ...   \n",
       "995                                                                             \n",
       "996                                                                             \n",
       "997                                                                             \n",
       "998                                                                             \n",
       "999                                                                             \n",
       "\n",
       "    age_adjusted_rate_upper_confidence_limit  \n",
       "0                                  69.268415  \n",
       "1                                  64.141508  \n",
       "2                                    60.3952  \n",
       "3                                  59.037856  \n",
       "4                                  58.963386  \n",
       "..                                       ...  \n",
       "995                                           \n",
       "996                                           \n",
       "997                                           \n",
       "998                                           \n",
       "999                                           \n",
       "\n",
       "[1000 rows x 16 columns]"
      ]
     },
     "execution_count": 43,
     "metadata": {},
     "output_type": "execute_result"
    }
   ],
   "source": [
    "#vc9m-u7tv\n",
    "#https://data.cdc.gov/NCHS/NCHS-Injury-Mortality-United-States/vc9m-u7tv\n",
    "\n",
    "results_nt = client.get(\"vc9m-u7tv\")\n",
    "\n",
    "#SEEMS PROMISING\n",
    "\n",
    "# Convert to pandas DataFrame\n",
    "results_df = pd.DataFrame.from_records(results_nt)\n",
    "results_df\n",
    "\n",
    "\n",
    "#df = pd.json_normalize(results_u6)\n",
    "#results_df[results_df['cause_group'].str.contains(\"fire\")]"
   ]
  },
  {
   "cell_type": "markdown",
   "id": "22461bd7",
   "metadata": {},
   "source": [
    "## Compressed Mortality 1998 - 2016\n",
    "XML Request String Creation:"
   ]
  },
  {
   "cell_type": "code",
   "execution_count": 31,
   "id": "e71670b4",
   "metadata": {},
   "outputs": [],
   "source": [
    "b_parameters = { #DONE\n",
    "    \"B_1\": \"D140.V9-level1\", \n",
    "    \"B_2\": \"D140.V2-level3\", \n",
    "    \"B_3\": \"*D140.V1*\", \n",
    "    \"B_4\": \"*None*\", \n",
    "    \"B_5\": \"*None*\"\n",
    "}\n",
    "m_parameters = { #DONE\n",
    "    \"M_1\": \"D140.M1\",   # DONE Deaths, must be included\n",
    "    \"M_2\": \"D140.M2\",   #DONE  Population, must be included\n",
    "    \"M_3\": \"D140.M3\",   #DONE Crude rate, must be included\n",
    "     #\"M_31\": \"D140.M31\",        # Standard error (crude rate)\n",
    "    \"M_32\": \"D140.M32\",  #DONE 95% confidence interval (crude rate)\n",
    "    \"M_9\": \"D140.M9\"    #DONE 95% confidence interval (age-adjusted rate)\n",
    "}\n",
    "f_parameters = { #DONE - maybe W32 codes\n",
    "    \"F_D140.V10\": [\"*All*\"], # year/month\n",
    "    \"F_D140.V18\": [\"*All*\"], # Census Regions - dont change\n",
    "    \"F_D140.V2\": [\"W32\",\"W33\",\"W34\"], # ICD-10 Codes\n",
    "    \"F_D140.V4\": [\"*All*\"], # HHS Regions - dont change\n",
    "    \"F_D140.V9\": [\"*All*\"] # State County - dont change\n",
    "}\n",
    "i_parameters = { #DONE - maybe W32 codes\n",
    "    \"I_D140.V10\": \"*All* (The United States)\", # Census Regions - dont change\n",
    "    \"I_D140.V2\": \"W32 (Handgun discharge) W33 (Rifle, shotgun and larger firearm discharge) W34 (Discharge from other and unspecified firearms)\", # ICD-10 Codes\n",
    "    \"I_D140.V18\": \"*All* (The United States)\", # HHS Regions - dont change\n",
    "    \"I_D140.V9\": \"*All* (The United States)\",\n",
    "    \"I_D140.V4\": \"*All* (All Causes of Death)\"# State County - dont change\n",
    "}\n",
    "v_parameters = {\n",
    "    \"V_D140.V1\": \"*All*)\",         # Year/Month\n",
    "    \"V_D140.V10\": \"\",        # Census Regions\n",
    "    \"V_D140.V11\": \"*All*\",   # 2006 Urbanization\n",
    "    \"V_D140.V12\": \"*All*\",   # ICD-10 130 Cause List (Infants)\n",
    "    \"V_D140.V13\": \"*All*\",\n",
    "    \"V_D140.V17\": \"*All*\",   # Hispanic Origin\n",
    "    \"V_D140.V18\": \"\",  \n",
    "    \"V_D140.V19\": \"*All*\",   # 2013 Urbanization\n",
    "    \"V_D140.V2\": \"\",         # ICD-10 Codes\n",
    "    \"V_D140.V20\": \"*All*\",   # Autopsy\n",
    "    \"V_D140.V21\": \"*All*\",   # Place of Death\n",
    "    \"V_D140.V22\": \"*All*\",   # Injury Intent\n",
    "    \"V_D140.V23\": \"*All*\",   # Injury Mechanism and All Other Leading Causes\n",
    "    \"V_D140.V4\": \"\",    # ICD-10 113 Cause List\n",
    "    \"V_D140.V5\": \"*All*\", # Ten-Year Age Groups\n",
    "    \"V_D140.V6\": \"00\",       # Infant Age Groups\n",
    "    \"V_D140.V7\": \"*All*\",    # Gender\n",
    "    \"V_D140.V8\": \"*All*\",    # Race\n",
    "    \"V_D140.V9\": \"\"          # State/County\n",
    "}\n",
    "\n",
    "o_parameters = {\n",
    "    \"O_V10_fmode\": \"freg\",    #DONE Use regular finder and ignore v parameter value\n",
    "    \"O_V18_fmode\": \"freg\",    #DONE\n",
    "    \"O_V2_fmode\": \"freg\",     #DONE\n",
    "    \"O_V4_fmode\":\"freg\",      #DONE\n",
    "    \"O_V9_fmode\": \"freg\",     #DONE  Use regular finder and ignore v parameter value\n",
    "    \"O_aar\": \"aar_std\",       # DONE age-adjusted rates\n",
    "    \"O_aar_enable\": \"true\",     #DONE\n",
    "    \"O_aar_pop\": \"0000\",      #DONE population selection for age-adjusted rates\n",
    "    \"O_age\": \"D140.V5\",       #DONE select age-group (e.g. ten-year, five-year, single-year, infant groups)\n",
    "    \"O_cbsa\": \"D140.V20\",      #DONE\n",
    "    \"O_county\": \"D140.V100\",   #DONE\n",
    "    \"O_icd\":\"D140.V2\",         #DONE\n",
    "    \"O_javascript\": \"on\",     #DONE Set to on by default\n",
    "    \"O_location\": \"D140.V9\",  #DONE select location variable to use (e.g. state/county, census, hhs regions)\n",
    "    \"O_oc-sect1-request\": \"close\", #DONE\n",
    "    \"O_precision\": \"1\",       #DONE decimal places\n",
    "    \"O_rate_per\": \"100000\",   #DONE rates calculated per X persons\n",
    "    \"O_show_totals\": \"true\",  #DONE Show totals for \n",
    "    \"O_timeout\": \"600\",       #DONE\n",
    "    \"O_title\": \"\",    # DONE title for data run\n",
    "    \"O_urban\": \"D140.V22\"      #DONE select urbanization category\n",
    "}\n",
    "\n",
    "vm_parameters = {\n",
    "    \"VM_D140.M6_D140.V10\": \"\",        # DONE Location\n",
    "    \"VM_D140.M6_D140.V17\": \"*All*\",   # DONE Hispanic-Origin\n",
    "    \"VM_D140.M6_D140.V1\": \"*All*\",  # DONE Year\n",
    "    \"VM_D140.M6_D140.V7\": \"*All*\",    # DONE Gender\n",
    "    \"VM_D140.M6_D140.V8\": \"*All*\"     # DONE Race\n",
    "}\n",
    "\n",
    "misc_parameters = {\n",
    "    \"action-Send\": \"Send\", #DONE\n",
    "    \"dataset_code\": \"D140\", #DONE\n",
    "    \"dataset_label\": \"Compressed Mortality, 1999-2016\", #DONE\n",
    "    \"dataset_vintage_latest\": \"CMF-ICD10\", #DONE\n",
    "    \"finder-stage-D140.V18\": \"codeset\", #DONE\n",
    "    \"finder-stage-D140.V10\": \"codeset\", #DONE\n",
    "    \"finder-stage-D140.V2\": \"codeset\", #DONE\n",
    "    \"finder-stage-D140.V27\": \"codeset\",\n",
    "    \"finder-stage-D140.V9\": \"codeset\", #DONE\n",
    "    \"finder-stage-D140.V4\": \"codeset\", #DONE\n",
    "    \"stage\": \"request\"                 #DONE\n",
    "}"
   ]
  },
  {
   "cell_type": "code",
   "execution_count": 32,
   "id": "f96f6c5d",
   "metadata": {},
   "outputs": [],
   "source": [
    "def createParameterList(parameterList):\n",
    "    \"\"\"Helper function to create a parameter list from a dictionary object\"\"\"\n",
    "    \n",
    "    parameterString = \"\"\n",
    "    \n",
    "    for key in parameterList:\n",
    "        parameterString += \"<parameter>\\n\"\n",
    "        parameterString += \"<name>\" + key + \"</name>\\n\"\n",
    "        \n",
    "        if isinstance(parameterList[key], list):\n",
    "            for value in parameterList[key]:\n",
    "                parameterString += \"<value>\" + value + \"</value>\\n\"\n",
    "        else:\n",
    "            parameterString += \"<value>\" + parameterList[key] + \"</value>\\n\"\n",
    "        \n",
    "        parameterString += \"</parameter>\\n\"\n",
    "        \n",
    "    return parameterString\n"
   ]
  },
  {
   "cell_type": "code",
   "execution_count": 33,
   "id": "acd432e9",
   "metadata": {},
   "outputs": [],
   "source": [
    "xml_request = \"<request-parameters>\\n\"\n",
    "xml_request += createParameterList(b_parameters)\n",
    "xml_request += createParameterList(m_parameters)\n",
    "xml_request += createParameterList(f_parameters)\n",
    "xml_request += createParameterList(i_parameters)\n",
    "xml_request += createParameterList(o_parameters)\n",
    "xml_request += createParameterList(vm_parameters)\n",
    "xml_request += createParameterList(v_parameters)\n",
    "xml_request += createParameterList(misc_parameters)\n",
    "xml_request += \"</request-parameters>\""
   ]
  },
  {
   "cell_type": "code",
   "execution_count": 35,
   "id": "b06f3068",
   "metadata": {},
   "outputs": [
    {
     "data": {
      "text/plain": [
       "'<request-parameters>\\n<parameter>\\n<name>B_1</name>\\n<value>D140.V9-level1</value>\\n</parameter>\\n<parameter>\\n<name>B_2</name>\\n<value>D140.V2-level3</value>\\n</parameter>\\n<parameter>\\n<name>B_3</name>\\n<value>*D140.V1*</value>\\n</parameter>\\n<parameter>\\n<name>B_4</name>\\n<value>*None*</value>\\n</parameter>\\n<parameter>\\n<name>B_5</name>\\n<value>*None*</value>\\n</parameter>\\n<parameter>\\n<name>M_1</name>\\n<value>D140.M1</value>\\n</parameter>\\n<parameter>\\n<name>M_2</name>\\n<value>D140.M2</value>\\n</parameter>\\n<parameter>\\n<name>M_3</name>\\n<value>D140.M3</value>\\n</parameter>\\n<parameter>\\n<name>M_32</name>\\n<value>D140.M32</value>\\n</parameter>\\n<parameter>\\n<name>M_9</name>\\n<value>D140.M9</value>\\n</parameter>\\n<parameter>\\n<name>F_D140.V10</name>\\n<value>*All*</value>\\n</parameter>\\n<parameter>\\n<name>F_D140.V18</name>\\n<value>*All*</value>\\n</parameter>\\n<parameter>\\n<name>F_D140.V2</name>\\n<value>W32</value>\\n<value>W33</value>\\n<value>W34</value>\\n</parameter>\\n<parameter>\\n<name>F_D140.V4</name>\\n<value>*All*</value>\\n</parameter>\\n<parameter>\\n<name>F_D140.V9</name>\\n<value>*All*</value>\\n</parameter>\\n<parameter>\\n<name>I_D140.V10</name>\\n<value>*All* (The United States)</value>\\n</parameter>\\n<parameter>\\n<name>I_D140.V2</name>\\n<value>W32 (Handgun discharge) W33 (Rifle, shotgun and larger firearm discharge) W34 (Discharge from other and unspecified firearms)</value>\\n</parameter>\\n<parameter>\\n<name>I_D140.V18</name>\\n<value>*All* (The United States)</value>\\n</parameter>\\n<parameter>\\n<name>I_D140.V9</name>\\n<value>*All* (The United States)</value>\\n</parameter>\\n<parameter>\\n<name>I_D140.V4</name>\\n<value>*All* (All Causes of Death)</value>\\n</parameter>\\n<parameter>\\n<name>O_V10_fmode</name>\\n<value>freg</value>\\n</parameter>\\n<parameter>\\n<name>O_V18_fmode</name>\\n<value>freg</value>\\n</parameter>\\n<parameter>\\n<name>O_V2_fmode</name>\\n<value>freg</value>\\n</parameter>\\n<parameter>\\n<name>O_V4_fmode</name>\\n<value>freg</value>\\n</parameter>\\n<parameter>\\n<name>O_V9_fmode</name>\\n<value>freg</value>\\n</parameter>\\n<parameter>\\n<name>O_aar</name>\\n<value>aar_std</value>\\n</parameter>\\n<parameter>\\n<name>O_aar_enable</name>\\n<value>true</value>\\n</parameter>\\n<parameter>\\n<name>O_aar_pop</name>\\n<value>0000</value>\\n</parameter>\\n<parameter>\\n<name>O_age</name>\\n<value>D140.V5</value>\\n</parameter>\\n<parameter>\\n<name>O_cbsa</name>\\n<value>D140.V20</value>\\n</parameter>\\n<parameter>\\n<name>O_county</name>\\n<value>D140.V100</value>\\n</parameter>\\n<parameter>\\n<name>O_icd</name>\\n<value>D140.V2</value>\\n</parameter>\\n<parameter>\\n<name>O_javascript</name>\\n<value>on</value>\\n</parameter>\\n<parameter>\\n<name>O_location</name>\\n<value>D140.V9</value>\\n</parameter>\\n<parameter>\\n<name>O_oc-sect1-request</name>\\n<value>close</value>\\n</parameter>\\n<parameter>\\n<name>O_precision</name>\\n<value>1</value>\\n</parameter>\\n<parameter>\\n<name>O_rate_per</name>\\n<value>100000</value>\\n</parameter>\\n<parameter>\\n<name>O_show_totals</name>\\n<value>true</value>\\n</parameter>\\n<parameter>\\n<name>O_timeout</name>\\n<value>600</value>\\n</parameter>\\n<parameter>\\n<name>O_title</name>\\n<value></value>\\n</parameter>\\n<parameter>\\n<name>O_urban</name>\\n<value>D140.V22</value>\\n</parameter>\\n<parameter>\\n<name>VM_D140.M6_D140.V10</name>\\n<value></value>\\n</parameter>\\n<parameter>\\n<name>VM_D140.M6_D140.V17</name>\\n<value>*All*</value>\\n</parameter>\\n<parameter>\\n<name>VM_D140.M6_D140.V1</name>\\n<value>*All*</value>\\n</parameter>\\n<parameter>\\n<name>VM_D140.M6_D140.V7</name>\\n<value>*All*</value>\\n</parameter>\\n<parameter>\\n<name>VM_D140.M6_D140.V8</name>\\n<value>*All*</value>\\n</parameter>\\n<parameter>\\n<name>V_D140.V1</name>\\n<value>*All*)</value>\\n</parameter>\\n<parameter>\\n<name>V_D140.V10</name>\\n<value></value>\\n</parameter>\\n<parameter>\\n<name>V_D140.V11</name>\\n<value>*All*</value>\\n</parameter>\\n<parameter>\\n<name>V_D140.V12</name>\\n<value>*All*</value>\\n</parameter>\\n<parameter>\\n<name>V_D140.V13</name>\\n<value>*All*</value>\\n</parameter>\\n<parameter>\\n<name>V_D140.V17</name>\\n<value>*All*</value>\\n</parameter>\\n<parameter>\\n<name>V_D140.V18</name>\\n<value></value>\\n</parameter>\\n<parameter>\\n<name>V_D140.V19</name>\\n<value>*All*</value>\\n</parameter>\\n<parameter>\\n<name>V_D140.V2</name>\\n<value></value>\\n</parameter>\\n<parameter>\\n<name>V_D140.V20</name>\\n<value>*All*</value>\\n</parameter>\\n<parameter>\\n<name>V_D140.V21</name>\\n<value>*All*</value>\\n</parameter>\\n<parameter>\\n<name>V_D140.V22</name>\\n<value>*All*</value>\\n</parameter>\\n<parameter>\\n<name>V_D140.V23</name>\\n<value>*All*</value>\\n</parameter>\\n<parameter>\\n<name>V_D140.V4</name>\\n<value></value>\\n</parameter>\\n<parameter>\\n<name>V_D140.V5</name>\\n<value>*All*</value>\\n</parameter>\\n<parameter>\\n<name>V_D140.V6</name>\\n<value>00</value>\\n</parameter>\\n<parameter>\\n<name>V_D140.V7</name>\\n<value>*All*</value>\\n</parameter>\\n<parameter>\\n<name>V_D140.V8</name>\\n<value>*All*</value>\\n</parameter>\\n<parameter>\\n<name>V_D140.V9</name>\\n<value></value>\\n</parameter>\\n<parameter>\\n<name>action-Send</name>\\n<value>Send</value>\\n</parameter>\\n<parameter>\\n<name>dataset_code</name>\\n<value>D140</value>\\n</parameter>\\n<parameter>\\n<name>dataset_label</name>\\n<value>Compressed Mortality, 1999-2016</value>\\n</parameter>\\n<parameter>\\n<name>dataset_vintage_latest</name>\\n<value>CMF-ICD10</value>\\n</parameter>\\n<parameter>\\n<name>finder-stage-D140.V18</name>\\n<value>codeset</value>\\n</parameter>\\n<parameter>\\n<name>finder-stage-D140.V10</name>\\n<value>codeset</value>\\n</parameter>\\n<parameter>\\n<name>finder-stage-D140.V2</name>\\n<value>codeset</value>\\n</parameter>\\n<parameter>\\n<name>finder-stage-D140.V27</name>\\n<value>codeset</value>\\n</parameter>\\n<parameter>\\n<name>finder-stage-D140.V9</name>\\n<value>codeset</value>\\n</parameter>\\n<parameter>\\n<name>finder-stage-D140.V4</name>\\n<value>codeset</value>\\n</parameter>\\n<parameter>\\n<name>stage</name>\\n<value>request</value>\\n</parameter>\\n</request-parameters>'"
      ]
     },
     "execution_count": 35,
     "metadata": {},
     "output_type": "execute_result"
    }
   ],
   "source": [
    "xml_request"
   ]
  },
  {
   "cell_type": "code",
   "execution_count": 34,
   "id": "1ffc8fbb",
   "metadata": {},
   "outputs": [
    {
     "name": "stdout",
     "output_type": "stream",
     "text": [
      "something went wrong\n"
     ]
    }
   ],
   "source": [
    "import requests\n",
    "\n",
    "url = \"https://wonder.cdc.gov/controller/datarequest/D140\"\n",
    "response = requests.post(url, data={\"request_xml\": xml_request, \"accept_datause_restrictions\": \"true\"})\n",
    "\n",
    "if response.status_code == 200:\n",
    "    data = response.text\n",
    "else:\n",
    "    print(\"something went wrong\")"
   ]
  },
  {
   "cell_type": "code",
   "execution_count": null,
   "id": "04e1ed47",
   "metadata": {},
   "outputs": [],
   "source": [
    "#alternative attempt\n",
    "import requests\n",
    "\n",
    "# Define the API URL\n",
    "url = \"https://wonder.cdc.gov/controller/datarequest/D140\"\n",
    "\n",
    "# Prepare the request data as a dictionary\n",
    "request_data = {\n",
    "    \"request_xml\": parameters,\n",
    "    \"accept_datause_restrictions\": \"true\"\n",
    "}\n",
    "\n",
    "# Make the API request\n",
    "response = requests.post(url, data=request_data)\n",
    "\n",
    "if response.status_code == 200:\n",
    "    data = response.text\n",
    "    # Process the response data as needed\n",
    "    print(data)\n",
    "else:\n",
    "    print(\"Something went wrong with the API request.\")\n",
    "\n",
    "    "
   ]
  },
  {
   "cell_type": "code",
   "execution_count": 26,
   "id": "2274d3a2",
   "metadata": {},
   "outputs": [
    {
     "name": "stdout",
     "output_type": "stream",
     "text": [
      "{'B_1': 'D140.V9-level1', 'B_2': 'D140.V2-level3', 'B_3': 'D140.V1', 'B_4': '*None*', 'B_5': '*None*', 'F_D140.V10': '*All*', 'F_D140.V18': '*All*', 'F_D140.V2': 'W32', 'F_D140.V4': '*All*', 'F_D140.V9': '*All*', 'I_D140.V10': '*All* (The United States)\\n', 'I_D140.V18': '*All* (The United States)\\n', 'I_D140.V2': 'W32 (Handgun discharge)\\nW33 (Rifle, shotgun and larger firearm discharge)\\nW34 (Discharge from other and unspecified firearms)\\n', 'I_D140.V4': '*All* (All Causes of Death)\\n', 'I_D140.V9': '*All* (The United States)\\n', 'M_1': 'D140.M1', 'M_2': 'D140.M2', 'M_3': 'D140.M3', 'M_32': 'D140.M32', 'M_9': 'D140.M9', 'O_V10_fmode': 'freg', 'O_V18_fmode': 'freg', 'O_V2_fmode': 'freg', 'O_V4_fmode': 'freg', 'O_V9_fmode': 'freg', 'O_aar': 'aar_std', 'O_aar_enable': 'true', 'O_aar_pop': '0000', 'O_age': 'D140.V5', 'O_cbsa': 'D140.V20', 'O_county': 'D140.V100', 'O_icd': 'D140.V2', 'O_javascript': 'on', 'O_location': 'D140.V9', 'O_oc-sect1-request': 'close', 'O_precision': '1', 'O_rate_per': '100000', 'O_show_totals': 'true', 'O_timeout': '600', 'O_title': None, 'O_urban': 'D140.V22', 'VM_D140.M6_D140.V1': '*All*', 'VM_D140.M6_D140.V10': None, 'VM_D140.M6_D140.V17': '*All*', 'VM_D140.M6_D140.V7': '*All*', 'VM_D140.M6_D140.V8': '*All*', 'V_D140.V1': '*All*', 'V_D140.V10': None, 'V_D140.V11': '*All*', 'V_D140.V12': '*All*', 'V_D140.V13': '*All*', 'V_D140.V17': '*All*', 'V_D140.V18': None, 'V_D140.V19': '*All*', 'V_D140.V2': None, 'V_D140.V20': '*All*', 'V_D140.V21': '*All*', 'V_D140.V22': '*All*', 'V_D140.V23': '*All*', 'V_D140.V4': None, 'V_D140.V5': '*All*', 'V_D140.V6': '00', 'V_D140.V7': '*All*', 'V_D140.V8': '*All*', 'V_D140.V9': None, 'action-Send': 'Send', 'dataset_code': 'D140', 'dataset_label': 'Compressed Mortality, 1999-2016', 'dataset_vintage_latest': 'CMF-ICD10', 'finder-stage-D140.V10': 'codeset', 'finder-stage-D140.V18': 'codeset', 'finder-stage-D140.V2': 'codeset', 'finder-stage-D140.V4': 'codeset', 'finder-stage-D140.V9': 'codeset', 'saved_id': None, 'stage': 'request'}\n"
     ]
    }
   ],
   "source": [
    "#copy/paste from the github\n",
    "\n",
    "# by-variables\" or those parameters selected in the \"Group Results By\" and the \"And By\" drop-down lists \n",
    "# in the \"Request Form.\" These \"by-variables\" are the cross-tabulations, stratifications or indexes \n",
    "# to the query results. Expect the results data table to show a row for each category in the by-variables, \n",
    "# and a column for each measure. For example, if you wish to compare data by sex, then \"group results by\" gender, \n",
    "# to get a row for females and a row for males in the output.\n",
    "# M_ are measures to return, the default measures plus any optional measures.\n",
    "\n",
    "# For this example, will group by year and race\n",
    "\n",
    "b_parameters = {\n",
    "    \"B_1\": \"D76.V1-level1\", \n",
    "    \"B_2\": \"D76.V8\", \n",
    "    \"B_3\": \"*None*\", \n",
    "    \"B_4\": \"*None*\", \n",
    "    \"B_5\": \"*None*\"\n",
    "}\n",
    "# measures to return, the default measures plus any optional measures\n",
    "\n",
    "# For this example, include deaths, population, and crude rate\n",
    "\n",
    "m_parameters = {\n",
    "    \"M_1\": \"D76.M1\",   # Deaths, must be included\n",
    "    \"M_2\": \"D76.M2\",   # Population, must be included\n",
    "    \"M_3\": \"D76.M3\",   # Crude rate, must be included\n",
    "    #\"M_31\": \"D76.M31\",        # Standard error (crude rate)\n",
    "    #\"M_32\": \"D76.M32\"         # 95% confidence interval (crude rate)\n",
    "    \"M_41\": \"D76.M41\", # Standard error (age-adjusted rate)\n",
    "    \"M_42\": \"D76.M42\"  # 95% confidence interval (age-adjusted rate)\n",
    "}\n",
    "# values highlighted in a \"Finder\" control for hierarchical lists, \n",
    "# such as the \"Regions/Divisions/States/Counties hierarchical\" list.\n",
    "\n",
    "# For this example, include all years, months, census regions, hhs regions, states. Only include ICD-10 K00-K92\n",
    "# for disease of the digestive system\n",
    "\n",
    "f_parameters = {\n",
    "    \"F_D76.V1\": [\"*All*\"], # year/month\n",
    "    \"F_D76.V10\": [\"*All*\"], # Census Regions - dont change\n",
    "    \"F_D76.V2\": [\"K00-K92\"], # ICD-10 Codes\n",
    "    \"F_D76.V27\": [\"*All*\"], # HHS Regions - dont change\n",
    "    \"F_D76.V9\": [\"*All*\"] # State County - dont change\n",
    "}\n",
    "# contents of the \"Currently selected\" information areas next to \"Finder\" controls in the \"Request Form.\"\n",
    "\n",
    "# For this example, include all dates, census regions, hhs regions, and states.\n",
    "# Only include ICD-10 code K00-K92 for disease of the digestive system\n",
    "\n",
    "i_parameters = {\n",
    "    \"I_D76.V1\": \"*All* (All Dates)\",  # year/month\n",
    "    \"I_D76.V10\": \"*All* (The United States)\", # Census Regions - dont change\n",
    "    \"I_D76.V2\": \"K00-K92 (Diseases of the digestive system)\", # ICD-10 Codes\n",
    "    \"I_D76.V27\": \"*All* (The United States)\", # HHS Regions - dont change\n",
    "    \"I_D76.V9\": \"*All* (The United States)\" # State County - dont change\n",
    "}\n",
    "# variable values to limit in the \"where\" clause of the query, found in multiple select \n",
    "# list boxes and advanced finder text entry boxes in the \"Request Form.\"\n",
    "\n",
    "# For this example, we want to include ten-year age groups for ages 15-44.\n",
    "# For all other categories, include all values\n",
    "\n",
    "v_parameters = {\n",
    "    \"V_D76.V1\": \"\",         # Year/Month\n",
    "    \"V_D76.V10\": \"\",        # Census Regions\n",
    "    \"V_D76.V11\": \"*All*\",   # 2006 Urbanization\n",
    "    \"V_D76.V12\": \"*All*\",   # ICD-10 130 Cause List (Infants)\n",
    "    \"V_D76.V17\": \"*All*\",   # Hispanic Origin\n",
    "    \"V_D76.V19\": \"*All*\",   # 2013 Urbanization\n",
    "    \"V_D76.V2\": \"\",         # ICD-10 Codes\n",
    "    \"V_D76.V20\": \"*All*\",   # Autopsy\n",
    "    \"V_D76.V21\": \"*All*\",   # Place of Death\n",
    "    \"V_D76.V22\": \"*All*\",   # Injury Intent\n",
    "    \"V_D76.V23\": \"*All*\",   # Injury Mechanism and All Other Leading Causes\n",
    "    \"V_D76.V24\": \"*All*\",   # Weekday\n",
    "    \"V_D76.V25\": \"*All*\",   # Drug/Alcohol Induced Causes\n",
    "    \"V_D76.V27\": \"\",        # HHS Regions\n",
    "    \"V_D76.V4\": \"*All*\",    # ICD-10 113 Cause List\n",
    "    \"V_D76.V5\": [\"15-24\", \"25-34\", \"35-44\"], # Ten-Year Age Groups\n",
    "    \"V_D76.V51\": \"*All*\",   # Five-Year Age Groups\n",
    "    \"V_D76.V52\": \"*All*\",   # Single-Year Ages\n",
    "    \"V_D76.V6\": \"00\",       # Infant Age Groups\n",
    "    \"V_D76.V7\": \"*All*\",    # Gender\n",
    "    \"V_D76.V8\": \"*All*\",    # Race\n",
    "    \"V_D76.V9\": \"\"          # State/County\n",
    "}\n",
    "# other parameters, such as radio buttons, checkboxes, and lists that are not data categories\n",
    "\n",
    "# For this example, include age-adjusted rates, use ten-year age groups (D76.V5), use state location by default, \n",
    "# show rates per 100,000, use 2013 urbanization and use ICD-10 Codes (D76.V2) for cause of death category\n",
    "\n",
    "o_parameters = {\n",
    "    \"O_V10_fmode\": \"freg\",    # Use regular finder and ignore v parameter value\n",
    "    \"O_V1_fmode\": \"freg\",     # Use regular finder and ignore v parameter value\n",
    "    \"O_V27_fmode\": \"freg\",    # Use regular finder and ignore v parameter value\n",
    "    \"O_V2_fmode\": \"freg\",     # Use regular finder and ignore v parameter value\n",
    "    \"O_V9_fmode\": \"freg\",     # Use regular finder and ignore v parameter value\n",
    "    \"O_aar\": \"aar_std\",       # age-adjusted rates\n",
    "    \"O_aar_pop\": \"0000\",      # population selection for age-adjusted rates\n",
    "    \"O_age\": \"D76.V5\",        # select age-group (e.g. ten-year, five-year, single-year, infant groups)\n",
    "    \"O_javascript\": \"on\",     # Set to on by default\n",
    "    \"O_location\": \"D76.V9\",   # select location variable to use (e.g. state/county, census, hhs regions)\n",
    "    \"O_precision\": \"1\",       # decimal places\n",
    "    \"O_rate_per\": \"100000\",   # rates calculated per X persons\n",
    "    \"O_show_totals\": \"false\",  # Show totals for \n",
    "    \"O_timeout\": \"300\",\n",
    "    \"O_title\": \"Digestive Disease Deaths, by Age Group\",    # title for data run\n",
    "    \"O_ucd\": \"D76.V2\",        # select underlying cause of death category\n",
    "    \"O_urban\": \"D76.V19\"      # select urbanization category\n",
    "}\n",
    "# values for non-standard age adjusted rates (see mortality online databases).\n",
    "\n",
    "# For this example, these parameters are ignored as standard age adjusted rates are used\n",
    "\n",
    "vm_parameters = {\n",
    "    \"VM_D76.M6_D76.V10\": \"\",        # Location\n",
    "    \"VM_D76.M6_D76.V17\": \"*All*\",   # Hispanic-Origin\n",
    "    \"VM_D76.M6_D76.V1_S\": \"*All*\",  # Year\n",
    "    \"VM_D76.M6_D76.V7\": \"*All*\",    # Gender\n",
    "    \"VM_D76.M6_D76.V8\": \"*All*\"     # Race\n",
    "}\n",
    "# Miscellaneous hidden inputs/parameters usually passed by web form. These do not change.\n",
    "misc_parameters = {\n",
    "    \"action-Send\": \"Send\",\n",
    "    \"finder-stage-D76.V1\": \"codeset\",\n",
    "    \"finder-stage-D76.V1\": \"codeset\",\n",
    "    \"finder-stage-D76.V2\": \"codeset\",\n",
    "    \"finder-stage-D76.V27\": \"codeset\",\n",
    "    \"finder-stage-D76.V9\": \"codeset\",\n",
    "    \"stage\": \"request\"\n",
    "}"
   ]
  },
  {
   "cell_type": "code",
   "execution_count": 36,
   "id": "bfb0a65c",
   "metadata": {},
   "outputs": [
    {
     "name": "stdout",
     "output_type": "stream",
     "text": [
      "something went wrong\n"
     ]
    }
   ],
   "source": [
    "def createParameterList(parameterList):\n",
    "    \"\"\"Helper function to create a parameter list from a dictionary object\"\"\"\n",
    "    \n",
    "    parameterString = \"\"\n",
    "    \n",
    "    for key in parameterList:\n",
    "        parameterString += \"<parameter>\\n\"\n",
    "        parameterString += \"<name>\" + key + \"</name>\\n\"\n",
    "        \n",
    "        if isinstance(parameterList[key], list):\n",
    "            for value in parameterList[key]:\n",
    "                parameterString += \"<value>\" + value + \"</value>\\n\"\n",
    "        else:\n",
    "            parameterString += \"<value>\" + parameterList[key] + \"</value>\\n\"\n",
    "        \n",
    "        parameterString += \"</parameter>\\n\"\n",
    "        \n",
    "    return parameterString\n",
    "\n",
    "xml_request = \"<request-parameters>\\n\"\n",
    "xml_request += createParameterList(b_parameters)\n",
    "xml_request += createParameterList(m_parameters)\n",
    "xml_request += createParameterList(f_parameters)\n",
    "xml_request += createParameterList(i_parameters)\n",
    "xml_request += createParameterList(o_parameters)\n",
    "xml_request += createParameterList(vm_parameters)\n",
    "xml_request += createParameterList(v_parameters)\n",
    "xml_request += createParameterList(misc_parameters)\n",
    "xml_request += \"</request-parameters>\"\n",
    "\n",
    "import requests\n",
    "\n",
    "url = \"https://wonder.cdc.gov/controller/datarequest/D76\"\n",
    "response = requests.post(url, data={\"request_xml\": xml_request, \"accept_datause_restrictions\": \"true\"})\n",
    "\n",
    "if response.status_code == 200:\n",
    "    data = response.text\n",
    "else:\n",
    "    print(\"something went wrong\")"
   ]
  },
  {
   "cell_type": "code",
   "execution_count": 27,
   "id": "8e26dc97",
   "metadata": {},
   "outputs": [
    {
     "name": "stdout",
     "output_type": "stream",
     "text": [
      "Something went wrong with the API request.\n"
     ]
    }
   ],
   "source": [
    "#alternative attempt\n",
    "import requests\n",
    "\n",
    "# Define the API URL\n",
    "url = \"https://wonder.cdc.gov/controller/datarequest/D140\"\n",
    "\n",
    "# Prepare the request data as a dictionary\n",
    "request_data = {\n",
    "    \"request_xml\": parameters,\n",
    "    \"accept_datause_restrictions\": \"true\"\n",
    "}\n",
    "\n",
    "# Make the API request\n",
    "response = requests.post(url, data=request_data)\n",
    "\n",
    "if response.status_code == 200:\n",
    "    data = response.text\n",
    "    # Process the response data as needed\n",
    "    print(data)\n",
    "else:\n",
    "    print(\"Something went wrong with the API request.\")\n",
    "\n",
    "    "
   ]
  },
  {
   "cell_type": "code",
   "execution_count": 21,
   "id": "c1bce1e4",
   "metadata": {},
   "outputs": [
    {
     "name": "stdout",
     "output_type": "stream",
     "text": [
      "something went wrong\n"
     ]
    }
   ],
   "source": [
    "import requests\n",
    "url = \"https://wonder.cdc.gov/controller/datarequest/cmf-icd10\"\n",
    "response = requests.post(url, data={\"request_xml\": default, \"accept_datause_restrictions\": \"true\"})\n",
    "\n",
    "if response.status_code == 200:\n",
    "    data = response.text\n",
    "else:\n",
    "    print(\"something went wrong\")\n"
   ]
  },
  {
   "cell_type": "code",
   "execution_count": null,
   "id": "6b8ebc68",
   "metadata": {},
   "outputs": [],
   "source": [
    "\n",
    "results_comp_mort = wonder_client.get(\"cmf-icd10\")\n",
    "\n",
    "df_comp = pd.json_normalize(results_comp_mort)\n",
    "df_comp[df_comp['cause_group'].str.contains(\"fire\")]"
   ]
  }
 ],
 "metadata": {
  "kernelspec": {
   "display_name": "Python 3 (ipykernel)",
   "language": "python",
   "name": "python3"
  },
  "language_info": {
   "codemirror_mode": {
    "name": "ipython",
    "version": 3
   },
   "file_extension": ".py",
   "mimetype": "text/x-python",
   "name": "python",
   "nbconvert_exporter": "python",
   "pygments_lexer": "ipython3",
   "version": "3.10.9"
  }
 },
 "nbformat": 4,
 "nbformat_minor": 5
}
